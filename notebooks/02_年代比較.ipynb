{
 "cells": [
  {
   "cell_type": "code",
   "execution_count": 1,
   "id": "242c2c79-1342-4b77-8846-d3582afd0e74",
   "metadata": {},
   "outputs": [],
   "source": [
    "%load_ext autoreload\n",
    "%autoreload 2"
   ]
  },
  {
   "cell_type": "code",
   "execution_count": 28,
   "id": "4ff2d688-fade-4bde-bb06-f54da28b3054",
   "metadata": {},
   "outputs": [
    {
     "data": {
      "text/plain": [
       "True"
      ]
     },
     "execution_count": 28,
     "metadata": {},
     "output_type": "execute_result"
    }
   ],
   "source": [
    "import os\n",
    "import time\n",
    "from dataclasses import dataclass\n",
    "\n",
    "import matplotlib as mpl\n",
    "import matplotlib.pyplot as plt\n",
    "import numpy as np\n",
    "import pandas as pd\n",
    "import plotly.express as px\n",
    "import plotly.graph_objects as go\n",
    "import seaborn as sns\n",
    "import spotipy\n",
    "from dotenv import load_dotenv\n",
    "from sklearn.decomposition import PCA\n",
    "from sklearn.manifold import TSNE\n",
    "from sklearn.preprocessing import StandardScaler\n",
    "from spotipy.oauth2 import SpotifyClientCredentials\n",
    "\n",
    "from music_analysis import REPO_ROOT\n",
    "\n",
    "# 日本語フォントの設定\n",
    "mpl.rcParams[\"font.family\"] = \"Hiragino Sans\"\n",
    "\n",
    "load_dotenv(REPO_ROOT / \".env\")"
   ]
  },
  {
   "cell_type": "code",
   "execution_count": 6,
   "id": "862a6d8e-1e53-457a-b56c-97f9c47bd4d4",
   "metadata": {},
   "outputs": [],
   "source": [
    "from music_analysis.preprocess.retrieve import TrackRetriever\n",
    "from music_analysis.preprocess.tables import TrackInfoTable"
   ]
  },
  {
   "cell_type": "code",
   "execution_count": 7,
   "id": "19fc3f76-2531-48d9-9a87-294824dd05a8",
   "metadata": {},
   "outputs": [],
   "source": [
    "client_credentials_manager = SpotifyClientCredentials(\n",
    "    os.environ[\"SPOTIPY_CLIENT_ID\"], os.environ[\"SPOTIPY_CLIENT_SECRET\"]\n",
    ")\n",
    "sp = spotipy.Spotify(client_credentials_manager=client_credentials_manager)"
   ]
  },
  {
   "cell_type": "code",
   "execution_count": 20,
   "id": "2c9ae7a1-0825-4194-a516-8591023872cc",
   "metadata": {},
   "outputs": [],
   "source": [
    "@dataclass\n",
    "class PlayList:\n",
    "    name: str\n",
    "    id: str\n",
    "\n",
    "\n",
    "pl_ids = [\n",
    "    \"37i9dQZF1DXdYLx5nkfC6h\",  # 1990\n",
    "    \"37i9dQZF1DXe7O2FbHCVV7\",  # 1995\n",
    "    \"37i9dQZF1DXbfiVy8TtVAi\",  # 2000\n",
    "    \"37i9dQZF1DWTJ4WvMdD3FU\",  # 2005\n",
    "    \"37i9dQZF1DX3sNFTJOmXxv\",  # 2010\n",
    "    \"37i9dQZF1DWTMk3G0nyzbA\",  # 2015\n",
    "]\n",
    "pl_names = [\"1990\", \"1995\", \"2000\", \"2005\", \"2010\", \"2015\"]\n",
    "for name, id in zip(pl_names, pl_ids):\n",
    "    play_list = PlayList(name=name, id=id)"
   ]
  },
  {
   "cell_type": "code",
   "execution_count": 22,
   "id": "9e3a83b8-81a9-42f5-a2fe-59e9c25235a5",
   "metadata": {},
   "outputs": [
    {
     "name": "stdout",
     "output_type": "stream",
     "text": [
      "2024-03-19 12:02:30 - music_analysis.preprocess.retrieve - \u001b[34mINFO - retrieve:92 - This playlist inclues 99 tracks\u001b[0m\n",
      "99\n",
      "2024-03-19 12:02:31 - music_analysis.preprocess.retrieve - \u001b[34mINFO - retrieve:92 - This playlist inclues 98 tracks\u001b[0m\n",
      "98\n",
      "2024-03-19 12:02:32 - music_analysis.preprocess.retrieve - \u001b[34mINFO - retrieve:92 - This playlist inclues 98 tracks\u001b[0m\n",
      "98\n",
      "2024-03-19 12:02:33 - music_analysis.preprocess.retrieve - \u001b[34mINFO - retrieve:92 - This playlist inclues 98 tracks\u001b[0m\n",
      "98\n",
      "2024-03-19 12:02:35 - music_analysis.preprocess.retrieve - \u001b[34mINFO - retrieve:92 - This playlist inclues 99 tracks\u001b[0m\n",
      "99\n",
      "2024-03-19 12:02:36 - music_analysis.preprocess.retrieve - \u001b[34mINFO - retrieve:92 - This playlist inclues 99 tracks\u001b[0m\n",
      "99\n"
     ]
    },
    {
     "data": {
      "text/html": [
       "<div>\n",
       "<style scoped>\n",
       "    .dataframe tbody tr th:only-of-type {\n",
       "        vertical-align: middle;\n",
       "    }\n",
       "\n",
       "    .dataframe tbody tr th {\n",
       "        vertical-align: top;\n",
       "    }\n",
       "\n",
       "    .dataframe thead th {\n",
       "        text-align: right;\n",
       "    }\n",
       "</style>\n",
       "<table border=\"1\" class=\"dataframe\">\n",
       "  <thead>\n",
       "    <tr style=\"text-align: right;\">\n",
       "      <th></th>\n",
       "      <th>トラックID</th>\n",
       "      <th>アーティストID</th>\n",
       "      <th>アルバムID</th>\n",
       "      <th>トラック名</th>\n",
       "      <th>アーティスト名</th>\n",
       "      <th>アルバム名</th>\n",
       "      <th>アルバム種別</th>\n",
       "      <th>リリース日</th>\n",
       "      <th>リリース日の精度</th>\n",
       "      <th>人気度</th>\n",
       "      <th>...</th>\n",
       "      <th>speechiness</th>\n",
       "      <th>acousticness</th>\n",
       "      <th>instrumentalness</th>\n",
       "      <th>liveness</th>\n",
       "      <th>valence</th>\n",
       "      <th>拍子</th>\n",
       "      <th>キー</th>\n",
       "      <th>長短長</th>\n",
       "      <th>曲長[s]</th>\n",
       "      <th>年代</th>\n",
       "    </tr>\n",
       "  </thead>\n",
       "  <tbody>\n",
       "    <tr>\n",
       "      <th>0</th>\n",
       "      <td>5kdfBuQRbMUhQ6zATCFoTm</td>\n",
       "      <td>7lVG50DbbnbI4i1DgLxrLk</td>\n",
       "      <td>5mmIzGXrK9bwirdfSfPTqB</td>\n",
       "      <td>さよなら人類 ～シングルヴァージョン～</td>\n",
       "      <td>Tama</td>\n",
       "      <td>まちあわせ ベストアルバム</td>\n",
       "      <td>album</td>\n",
       "      <td>2009-03-04</td>\n",
       "      <td>day</td>\n",
       "      <td>34</td>\n",
       "      <td>...</td>\n",
       "      <td>0.035</td>\n",
       "      <td>0.295</td>\n",
       "      <td>0.0</td>\n",
       "      <td>0.0989</td>\n",
       "      <td>0.632</td>\n",
       "      <td>4</td>\n",
       "      <td>C</td>\n",
       "      <td>Major</td>\n",
       "      <td>280.160004</td>\n",
       "      <td>1990</td>\n",
       "    </tr>\n",
       "    <tr>\n",
       "      <th>1</th>\n",
       "      <td>4lPEdvGVptFXUMk8DKMLnF</td>\n",
       "      <td>5lTGqFmlTng9jPrs7c2dRA</td>\n",
       "      <td>2AIZoi7Zgw4IJimdZvTVRd</td>\n",
       "      <td>浪漫飛行</td>\n",
       "      <td>Kome Kome Club</td>\n",
       "      <td>KOMEGUNY</td>\n",
       "      <td>album</td>\n",
       "      <td>1987-01-01</td>\n",
       "      <td>year</td>\n",
       "      <td>59</td>\n",
       "      <td>...</td>\n",
       "      <td>0.0312</td>\n",
       "      <td>0.117</td>\n",
       "      <td>0.00515</td>\n",
       "      <td>0.145</td>\n",
       "      <td>0.969</td>\n",
       "      <td>4</td>\n",
       "      <td>B</td>\n",
       "      <td>Major</td>\n",
       "      <td>246.839996</td>\n",
       "      <td>1990</td>\n",
       "    </tr>\n",
       "    <tr>\n",
       "      <th>2</th>\n",
       "      <td>0VautPaGJuzwHMo945JvLa</td>\n",
       "      <td>7i9bNUSGORP5MIgrii3cJc</td>\n",
       "      <td>349qpNnHWWjueoSXQqjXJJ</td>\n",
       "      <td>太陽のKomachi Angel</td>\n",
       "      <td>B'z</td>\n",
       "      <td>太陽のKomachi Angel</td>\n",
       "      <td>single</td>\n",
       "      <td>1990-06-13</td>\n",
       "      <td>day</td>\n",
       "      <td>49</td>\n",
       "      <td>...</td>\n",
       "      <td>0.0404</td>\n",
       "      <td>0.000219</td>\n",
       "      <td>0.000002</td>\n",
       "      <td>0.135</td>\n",
       "      <td>0.79</td>\n",
       "      <td>4</td>\n",
       "      <td>G</td>\n",
       "      <td>Major</td>\n",
       "      <td>249.272995</td>\n",
       "      <td>1990</td>\n",
       "    </tr>\n",
       "    <tr>\n",
       "      <th>3</th>\n",
       "      <td>5Nc3OwtzaQdeyEFMb31YCW</td>\n",
       "      <td>1fwyrDSLYLNCWHRv3Siyd7</td>\n",
       "      <td>2QOZZX4ry5jRenZLprreQK</td>\n",
       "      <td>今すぐＫｉｓｓ　Ｍｅ</td>\n",
       "      <td>LINDBERG</td>\n",
       "      <td>ＬＩＮＤＢＥＲＧ ＩＩＩ</td>\n",
       "      <td>album</td>\n",
       "      <td>2016-05-18</td>\n",
       "      <td>day</td>\n",
       "      <td>28</td>\n",
       "      <td>...</td>\n",
       "      <td>0.0496</td>\n",
       "      <td>0.013</td>\n",
       "      <td>0.0</td>\n",
       "      <td>0.113</td>\n",
       "      <td>0.918</td>\n",
       "      <td>4</td>\n",
       "      <td>E</td>\n",
       "      <td>Major</td>\n",
       "      <td>237.039993</td>\n",
       "      <td>1990</td>\n",
       "    </tr>\n",
       "    <tr>\n",
       "      <th>4</th>\n",
       "      <td>4GAAXyEODRSDdtLHwe6A5s</td>\n",
       "      <td>2fpbR8VQWHUivTaeLTR5MJ</td>\n",
       "      <td>5PNLfyJBUcZFuV3GQUExbf</td>\n",
       "      <td>OH YEAH !</td>\n",
       "      <td>PRINCESS PRINCESS</td>\n",
       "      <td>The Greatest Princess</td>\n",
       "      <td>album</td>\n",
       "      <td>1988-01-01</td>\n",
       "      <td>year</td>\n",
       "      <td>37</td>\n",
       "      <td>...</td>\n",
       "      <td>0.0459</td>\n",
       "      <td>0.0759</td>\n",
       "      <td>0.0</td>\n",
       "      <td>0.08</td>\n",
       "      <td>0.582</td>\n",
       "      <td>4</td>\n",
       "      <td>A</td>\n",
       "      <td>Major</td>\n",
       "      <td>249.106995</td>\n",
       "      <td>1990</td>\n",
       "    </tr>\n",
       "    <tr>\n",
       "      <th>...</th>\n",
       "      <td>...</td>\n",
       "      <td>...</td>\n",
       "      <td>...</td>\n",
       "      <td>...</td>\n",
       "      <td>...</td>\n",
       "      <td>...</td>\n",
       "      <td>...</td>\n",
       "      <td>...</td>\n",
       "      <td>...</td>\n",
       "      <td>...</td>\n",
       "      <td>...</td>\n",
       "      <td>...</td>\n",
       "      <td>...</td>\n",
       "      <td>...</td>\n",
       "      <td>...</td>\n",
       "      <td>...</td>\n",
       "      <td>...</td>\n",
       "      <td>...</td>\n",
       "      <td>...</td>\n",
       "      <td>...</td>\n",
       "      <td>...</td>\n",
       "    </tr>\n",
       "    <tr>\n",
       "      <th>94</th>\n",
       "      <td>1FV0rV6GEDsQd3sM8risYX</td>\n",
       "      <td>6nS5roXSAGhTGr34W6n7Et</td>\n",
       "      <td>24VA5YQ9PiDb5L3ZkoIj04</td>\n",
       "      <td>Holding On - Radio Edit</td>\n",
       "      <td>Disclosure</td>\n",
       "      <td>Holding On (Radio Edit)</td>\n",
       "      <td>single</td>\n",
       "      <td>2015-07-05</td>\n",
       "      <td>day</td>\n",
       "      <td>33</td>\n",
       "      <td>...</td>\n",
       "      <td>0.212</td>\n",
       "      <td>0.114</td>\n",
       "      <td>0.000124</td>\n",
       "      <td>0.135</td>\n",
       "      <td>0.854</td>\n",
       "      <td>4</td>\n",
       "      <td>D</td>\n",
       "      <td>Minor</td>\n",
       "      <td>211.080002</td>\n",
       "      <td>2015</td>\n",
       "    </tr>\n",
       "    <tr>\n",
       "      <th>95</th>\n",
       "      <td>1KcnJTiXJXAqW5bB7zpkBC</td>\n",
       "      <td>4D75GcNG95ebPtNvoNVXhz</td>\n",
       "      <td>0MRRBtUQH6706AqLBYHkZI</td>\n",
       "      <td>SummerThing!</td>\n",
       "      <td>AFROJACK</td>\n",
       "      <td>SummerThing!</td>\n",
       "      <td>single</td>\n",
       "      <td>2015-06-21</td>\n",
       "      <td>day</td>\n",
       "      <td>48</td>\n",
       "      <td>...</td>\n",
       "      <td>0.0613</td>\n",
       "      <td>0.0541</td>\n",
       "      <td>0.0</td>\n",
       "      <td>0.297</td>\n",
       "      <td>0.79</td>\n",
       "      <td>4</td>\n",
       "      <td>C</td>\n",
       "      <td>Major</td>\n",
       "      <td>235.343994</td>\n",
       "      <td>2015</td>\n",
       "    </tr>\n",
       "    <tr>\n",
       "      <th>96</th>\n",
       "      <td>2vzn8usBcuNL93DnTjEK0z</td>\n",
       "      <td>4Kxlr1PRlDKEB0ekOCyHgX</td>\n",
       "      <td>2SPrl8C8pgSM5gXbAiyJHY</td>\n",
       "      <td>LOSER</td>\n",
       "      <td>BIGBANG</td>\n",
       "      <td>MADE</td>\n",
       "      <td>album</td>\n",
       "      <td>2016-12-13</td>\n",
       "      <td>day</td>\n",
       "      <td>62</td>\n",
       "      <td>...</td>\n",
       "      <td>0.107</td>\n",
       "      <td>0.338</td>\n",
       "      <td>0.0</td>\n",
       "      <td>0.356</td>\n",
       "      <td>0.488</td>\n",
       "      <td>4</td>\n",
       "      <td>D♯/E♭</td>\n",
       "      <td>Major</td>\n",
       "      <td>219.371002</td>\n",
       "      <td>2015</td>\n",
       "    </tr>\n",
       "    <tr>\n",
       "      <th>97</th>\n",
       "      <td>5CchV8Rh5s2sJ377bUP52Y</td>\n",
       "      <td>0bAsR2unSRpn6BQPEnNlZm</td>\n",
       "      <td>284IHmODFtKRCwM3WRnwOW</td>\n",
       "      <td>Brave Shine</td>\n",
       "      <td>Aimer</td>\n",
       "      <td>Brave Shine</td>\n",
       "      <td>single</td>\n",
       "      <td>2015-06-03</td>\n",
       "      <td>day</td>\n",
       "      <td>34</td>\n",
       "      <td>...</td>\n",
       "      <td>0.0828</td>\n",
       "      <td>0.000711</td>\n",
       "      <td>0.000003</td>\n",
       "      <td>0.173</td>\n",
       "      <td>0.525</td>\n",
       "      <td>4</td>\n",
       "      <td>G♯/A♭</td>\n",
       "      <td>Major</td>\n",
       "      <td>233.973007</td>\n",
       "      <td>2015</td>\n",
       "    </tr>\n",
       "    <tr>\n",
       "      <th>98</th>\n",
       "      <td>6jKjGOrFbemTuN7GKQnQvt</td>\n",
       "      <td>3Dt9iGDIxkbcHaGYSd4yiU</td>\n",
       "      <td>5JNqyo4GY8XhKEGl5GcLvx</td>\n",
       "      <td>ラッスンゴレライ</td>\n",
       "      <td>8.6秒バズーカー</td>\n",
       "      <td>ラッスンゴレライ</td>\n",
       "      <td>single</td>\n",
       "      <td>2015-02-25</td>\n",
       "      <td>day</td>\n",
       "      <td>24</td>\n",
       "      <td>...</td>\n",
       "      <td>0.359</td>\n",
       "      <td>0.216</td>\n",
       "      <td>0.0</td>\n",
       "      <td>0.39</td>\n",
       "      <td>0.617</td>\n",
       "      <td>4</td>\n",
       "      <td>B</td>\n",
       "      <td>Minor</td>\n",
       "      <td>243.951996</td>\n",
       "      <td>2015</td>\n",
       "    </tr>\n",
       "  </tbody>\n",
       "</table>\n",
       "<p>591 rows × 24 columns</p>\n",
       "</div>"
      ],
      "text/plain": [
       "                    トラックID                アーティストID                  アルバムID  \\\n",
       "0   5kdfBuQRbMUhQ6zATCFoTm  7lVG50DbbnbI4i1DgLxrLk  5mmIzGXrK9bwirdfSfPTqB   \n",
       "1   4lPEdvGVptFXUMk8DKMLnF  5lTGqFmlTng9jPrs7c2dRA  2AIZoi7Zgw4IJimdZvTVRd   \n",
       "2   0VautPaGJuzwHMo945JvLa  7i9bNUSGORP5MIgrii3cJc  349qpNnHWWjueoSXQqjXJJ   \n",
       "3   5Nc3OwtzaQdeyEFMb31YCW  1fwyrDSLYLNCWHRv3Siyd7  2QOZZX4ry5jRenZLprreQK   \n",
       "4   4GAAXyEODRSDdtLHwe6A5s  2fpbR8VQWHUivTaeLTR5MJ  5PNLfyJBUcZFuV3GQUExbf   \n",
       "..                     ...                     ...                     ...   \n",
       "94  1FV0rV6GEDsQd3sM8risYX  6nS5roXSAGhTGr34W6n7Et  24VA5YQ9PiDb5L3ZkoIj04   \n",
       "95  1KcnJTiXJXAqW5bB7zpkBC  4D75GcNG95ebPtNvoNVXhz  0MRRBtUQH6706AqLBYHkZI   \n",
       "96  2vzn8usBcuNL93DnTjEK0z  4Kxlr1PRlDKEB0ekOCyHgX  2SPrl8C8pgSM5gXbAiyJHY   \n",
       "97  5CchV8Rh5s2sJ377bUP52Y  0bAsR2unSRpn6BQPEnNlZm  284IHmODFtKRCwM3WRnwOW   \n",
       "98  6jKjGOrFbemTuN7GKQnQvt  3Dt9iGDIxkbcHaGYSd4yiU  5JNqyo4GY8XhKEGl5GcLvx   \n",
       "\n",
       "                      トラック名            アーティスト名                    アルバム名  \\\n",
       "0       さよなら人類 ～シングルヴァージョン～               Tama            まちあわせ ベストアルバム   \n",
       "1                      浪漫飛行     Kome Kome Club                 KOMEGUNY   \n",
       "2          太陽のKomachi Angel                B'z         太陽のKomachi Angel   \n",
       "3                今すぐＫｉｓｓ　Ｍｅ           LINDBERG             ＬＩＮＤＢＥＲＧ ＩＩＩ   \n",
       "4                 OH YEAH !  PRINCESS PRINCESS    The Greatest Princess   \n",
       "..                      ...                ...                      ...   \n",
       "94  Holding On - Radio Edit         Disclosure  Holding On (Radio Edit)   \n",
       "95             SummerThing!           AFROJACK             SummerThing!   \n",
       "96                    LOSER            BIGBANG                     MADE   \n",
       "97              Brave Shine              Aimer              Brave Shine   \n",
       "98                 ラッスンゴレライ          8.6秒バズーカー                 ラッスンゴレライ   \n",
       "\n",
       "    アルバム種別      リリース日 リリース日の精度  人気度  ...  speechiness  acousticness  \\\n",
       "0    album 2009-03-04      day   34  ...        0.035         0.295   \n",
       "1    album 1987-01-01     year   59  ...       0.0312         0.117   \n",
       "2   single 1990-06-13      day   49  ...       0.0404      0.000219   \n",
       "3    album 2016-05-18      day   28  ...       0.0496         0.013   \n",
       "4    album 1988-01-01     year   37  ...       0.0459        0.0759   \n",
       "..     ...        ...      ...  ...  ...          ...           ...   \n",
       "94  single 2015-07-05      day   33  ...        0.212         0.114   \n",
       "95  single 2015-06-21      day   48  ...       0.0613        0.0541   \n",
       "96   album 2016-12-13      day   62  ...        0.107         0.338   \n",
       "97  single 2015-06-03      day   34  ...       0.0828      0.000711   \n",
       "98  single 2015-02-25      day   24  ...        0.359         0.216   \n",
       "\n",
       "    instrumentalness  liveness  valence  拍子     キー    長短長       曲長[s]    年代  \n",
       "0                0.0    0.0989    0.632   4      C  Major  280.160004  1990  \n",
       "1            0.00515     0.145    0.969   4      B  Major  246.839996  1990  \n",
       "2           0.000002     0.135     0.79   4      G  Major  249.272995  1990  \n",
       "3                0.0     0.113    0.918   4      E  Major  237.039993  1990  \n",
       "4                0.0      0.08    0.582   4      A  Major  249.106995  1990  \n",
       "..               ...       ...      ...  ..    ...    ...         ...   ...  \n",
       "94          0.000124     0.135    0.854   4      D  Minor  211.080002  2015  \n",
       "95               0.0     0.297     0.79   4      C  Major  235.343994  2015  \n",
       "96               0.0     0.356    0.488   4  D♯/E♭  Major  219.371002  2015  \n",
       "97          0.000003     0.173    0.525   4  G♯/A♭  Major  233.973007  2015  \n",
       "98               0.0      0.39    0.617   4      B  Minor  243.951996  2015  \n",
       "\n",
       "[591 rows x 24 columns]"
      ]
     },
     "execution_count": 22,
     "metadata": {},
     "output_type": "execute_result"
    }
   ],
   "source": [
    "track_retriever = TrackRetriever(sp)\n",
    "\n",
    "track_info_df = []\n",
    "for name, id in zip(pl_names, pl_ids):\n",
    "    pl = PlayList(name=name, id=id)\n",
    "    pl_trks = track_retriever.glob_playlist_tracks(pl.id)\n",
    "\n",
    "    track_info_table = TrackInfoTable(sp=sp, tracks=pl_trks)\n",
    "    df = track_info_table.get_track_info_df()\n",
    "    df[\"年代\"] = pl.name\n",
    "    print(len(df))\n",
    "    track_info_df.append(df)\n",
    "\n",
    "track_info_df = pd.concat(track_info_df)\n",
    "track_info_df"
   ]
  },
  {
   "cell_type": "code",
   "execution_count": 23,
   "id": "4d3e062a-25ab-4919-a502-4cf3bc3e6845",
   "metadata": {},
   "outputs": [
    {
     "data": {
      "text/plain": [
       "<Axes: xlabel='年代'>"
      ]
     },
     "execution_count": 23,
     "metadata": {},
     "output_type": "execute_result"
    },
    {
     "data": {
      "image/png": "[encoded data removed]",
      "text/plain": [
       "<Figure size 640x480 with 1 Axes>"
      ]
     },
     "metadata": {},
     "output_type": "display_data"
    }
   ],
   "source": [
    "track_info_df.groupby(\"年代\")[\"曲長[s]\"].mean().plot.bar()"
   ]
  },
  {
   "cell_type": "code",
   "execution_count": null,
   "id": "b8125acf-7a31-4f6a-88ca-6d954b1aa874",
   "metadata": {},
   "outputs": [],
   "source": []
  },
  {
   "cell_type": "code",
   "execution_count": null,
   "id": "d053b6d1-b1ef-4a4d-bbeb-162f64727698",
   "metadata": {},
   "outputs": [],
   "source": []
  },
  {
   "cell_type": "code",
   "execution_count": 50,
   "id": "bc73bffe-6b42-4cc5-8cca-0df9c1360a40",
   "metadata": {},
   "outputs": [],
   "source": [
    "cols = [\n",
    "    \"曲長[s]\",\n",
    "    \"平均ラウドネス[dB]\",\n",
    "    \"テンポ(BPM)\",\n",
    "    \"拍子\",\n",
    "    # \"キー\",\n",
    "    \"長短長\",\n",
    "    \"danceability\",\n",
    "    \"energy\",\n",
    "    \"speechiness\",\n",
    "    \"acousticness\",\n",
    "    \"instrumentalness\",\n",
    "    \"liveness\",\n",
    "    \"valence\",\n",
    "]"
   ]
  },
  {
   "cell_type": "code",
   "execution_count": 51,
   "id": "28d17765-4be5-4cca-9838-6e7950d398a0",
   "metadata": {},
   "outputs": [
    {
     "name": "stdout",
     "output_type": "stream",
     "text": [
      "(591, 5)\n"
     ]
    }
   ],
   "source": [
    "X = pd.get_dummies(track_info_df[cols], drop_first=True).values\n",
    "\n",
    "scaler = StandardScaler()\n",
    "scaler.fit(X)\n",
    "X_scaler = scaler.transform(X)\n",
    "\n",
    "# X_reduced = PCA(n_components=2).fit_transform(X_scaler)\n",
    "X_reduced = TSNE(n_components=2).fit_transform(X_scaler)\n",
    "\n",
    "feat_df = pd.DataFrame(X_reduced, columns=[\"第一主成分\", \"第二主成分\"])\n",
    "feat_df[\"アルバム名\"] = track_info_df[\"アルバム名\"].values\n",
    "feat_df[\"トラック名\"] = track_info_df[\"トラック名\"].values\n",
    "feat_df[\"曲長[s]\"] = track_info_df[\"曲長[s]\"].values\n",
    "print(feat_df.shape)"
   ]
  },
  {
   "cell_type": "code",
   "execution_count": 52,
   "id": "9271f86c-1d9c-4e55-83e8-05ffbe1118ac",
   "metadata": {},
   "outputs": [
    {
     "data": {
      "text/html": [
       "<div>\n",
       "<style scoped>\n",
       "    .dataframe tbody tr th:only-of-type {\n",
       "        vertical-align: middle;\n",
       "    }\n",
       "\n",
       "    .dataframe tbody tr th {\n",
       "        vertical-align: top;\n",
       "    }\n",
       "\n",
       "    .dataframe thead th {\n",
       "        text-align: right;\n",
       "    }\n",
       "</style>\n",
       "<table border=\"1\" class=\"dataframe\">\n",
       "  <thead>\n",
       "    <tr style=\"text-align: right;\">\n",
       "      <th></th>\n",
       "      <th>第一主成分</th>\n",
       "      <th>第二主成分</th>\n",
       "      <th>アルバム名</th>\n",
       "      <th>トラック名</th>\n",
       "      <th>曲長[s]</th>\n",
       "      <th>年代</th>\n",
       "      <th>アーティスト名</th>\n",
       "    </tr>\n",
       "  </thead>\n",
       "  <tbody>\n",
       "    <tr>\n",
       "      <th>0</th>\n",
       "      <td>14.559705</td>\n",
       "      <td>-1.193267</td>\n",
       "      <td>まちあわせ ベストアルバム</td>\n",
       "      <td>さよなら人類 ～シングルヴァージョン～</td>\n",
       "      <td>280.160004</td>\n",
       "      <td>1990</td>\n",
       "      <td>Tama</td>\n",
       "    </tr>\n",
       "    <tr>\n",
       "      <th>1</th>\n",
       "      <td>0.433504</td>\n",
       "      <td>-9.339297</td>\n",
       "      <td>KOMEGUNY</td>\n",
       "      <td>浪漫飛行</td>\n",
       "      <td>246.839996</td>\n",
       "      <td>1990</td>\n",
       "      <td>Kome Kome Club</td>\n",
       "    </tr>\n",
       "    <tr>\n",
       "      <th>2</th>\n",
       "      <td>0.500212</td>\n",
       "      <td>9.037671</td>\n",
       "      <td>太陽のKomachi Angel</td>\n",
       "      <td>太陽のKomachi Angel</td>\n",
       "      <td>249.272995</td>\n",
       "      <td>1990</td>\n",
       "      <td>B'z</td>\n",
       "    </tr>\n",
       "    <tr>\n",
       "      <th>3</th>\n",
       "      <td>9.075654</td>\n",
       "      <td>-0.235745</td>\n",
       "      <td>ＬＩＮＤＢＥＲＧ ＩＩＩ</td>\n",
       "      <td>今すぐＫｉｓｓ　Ｍｅ</td>\n",
       "      <td>237.039993</td>\n",
       "      <td>1990</td>\n",
       "      <td>LINDBERG</td>\n",
       "    </tr>\n",
       "    <tr>\n",
       "      <th>4</th>\n",
       "      <td>2.858462</td>\n",
       "      <td>8.974185</td>\n",
       "      <td>The Greatest Princess</td>\n",
       "      <td>OH YEAH !</td>\n",
       "      <td>249.106995</td>\n",
       "      <td>1990</td>\n",
       "      <td>PRINCESS PRINCESS</td>\n",
       "    </tr>\n",
       "    <tr>\n",
       "      <th>...</th>\n",
       "      <td>...</td>\n",
       "      <td>...</td>\n",
       "      <td>...</td>\n",
       "      <td>...</td>\n",
       "      <td>...</td>\n",
       "      <td>...</td>\n",
       "      <td>...</td>\n",
       "    </tr>\n",
       "    <tr>\n",
       "      <th>586</th>\n",
       "      <td>-12.735057</td>\n",
       "      <td>-6.571206</td>\n",
       "      <td>Holding On (Radio Edit)</td>\n",
       "      <td>Holding On - Radio Edit</td>\n",
       "      <td>211.080002</td>\n",
       "      <td>2015</td>\n",
       "      <td>Disclosure</td>\n",
       "    </tr>\n",
       "    <tr>\n",
       "      <th>587</th>\n",
       "      <td>-8.427649</td>\n",
       "      <td>8.301356</td>\n",
       "      <td>SummerThing!</td>\n",
       "      <td>SummerThing!</td>\n",
       "      <td>235.343994</td>\n",
       "      <td>2015</td>\n",
       "      <td>AFROJACK</td>\n",
       "    </tr>\n",
       "    <tr>\n",
       "      <th>588</th>\n",
       "      <td>-12.671720</td>\n",
       "      <td>8.892474</td>\n",
       "      <td>MADE</td>\n",
       "      <td>LOSER</td>\n",
       "      <td>219.371002</td>\n",
       "      <td>2015</td>\n",
       "      <td>BIGBANG</td>\n",
       "    </tr>\n",
       "    <tr>\n",
       "      <th>589</th>\n",
       "      <td>11.642724</td>\n",
       "      <td>18.330189</td>\n",
       "      <td>Brave Shine</td>\n",
       "      <td>Brave Shine</td>\n",
       "      <td>233.973007</td>\n",
       "      <td>2015</td>\n",
       "      <td>Aimer</td>\n",
       "    </tr>\n",
       "    <tr>\n",
       "      <th>590</th>\n",
       "      <td>-15.707814</td>\n",
       "      <td>-4.790794</td>\n",
       "      <td>ラッスンゴレライ</td>\n",
       "      <td>ラッスンゴレライ</td>\n",
       "      <td>243.951996</td>\n",
       "      <td>2015</td>\n",
       "      <td>8.6秒バズーカー</td>\n",
       "    </tr>\n",
       "  </tbody>\n",
       "</table>\n",
       "<p>591 rows × 7 columns</p>\n",
       "</div>"
      ],
      "text/plain": [
       "         第一主成分      第二主成分                    アルバム名                    トラック名  \\\n",
       "0    14.559705  -1.193267            まちあわせ ベストアルバム      さよなら人類 ～シングルヴァージョン～   \n",
       "1     0.433504  -9.339297                 KOMEGUNY                     浪漫飛行   \n",
       "2     0.500212   9.037671         太陽のKomachi Angel         太陽のKomachi Angel   \n",
       "3     9.075654  -0.235745             ＬＩＮＤＢＥＲＧ ＩＩＩ               今すぐＫｉｓｓ　Ｍｅ   \n",
       "4     2.858462   8.974185    The Greatest Princess                OH YEAH !   \n",
       "..         ...        ...                      ...                      ...   \n",
       "586 -12.735057  -6.571206  Holding On (Radio Edit)  Holding On - Radio Edit   \n",
       "587  -8.427649   8.301356             SummerThing!             SummerThing!   \n",
       "588 -12.671720   8.892474                     MADE                    LOSER   \n",
       "589  11.642724  18.330189              Brave Shine              Brave Shine   \n",
       "590 -15.707814  -4.790794                 ラッスンゴレライ                 ラッスンゴレライ   \n",
       "\n",
       "          曲長[s]    年代            アーティスト名  \n",
       "0    280.160004  1990               Tama  \n",
       "1    246.839996  1990     Kome Kome Club  \n",
       "2    249.272995  1990                B'z  \n",
       "3    237.039993  1990           LINDBERG  \n",
       "4    249.106995  1990  PRINCESS PRINCESS  \n",
       "..          ...   ...                ...  \n",
       "586  211.080002  2015         Disclosure  \n",
       "587  235.343994  2015           AFROJACK  \n",
       "588  219.371002  2015            BIGBANG  \n",
       "589  233.973007  2015              Aimer  \n",
       "590  243.951996  2015          8.6秒バズーカー  \n",
       "\n",
       "[591 rows x 7 columns]"
      ]
     },
     "execution_count": 52,
     "metadata": {},
     "output_type": "execute_result"
    }
   ],
   "source": [
    "feat_df[\"年代\"] = track_info_df[\"年代\"].values\n",
    "feat_df[\"アーティスト名\"] = track_info_df[\"アーティスト名\"].values\n",
    "feat_df[\"トラック名\"] = track_info_df[\"トラック名\"].values\n",
    "feat_df"
   ]
  },
  {
   "cell_type": "code",
   "execution_count": 53,
   "id": "f773a61b-b008-42ab-9929-7461fee6ff7f",
   "metadata": {},
   "outputs": [
    {
     "data": {
      "application/vnd.plotly.v1+json": {
       "config": {
        "plotlyServerURL": "https://plot.ly"
       },
       "data": [
        {
         "customdata": [
          [
           "Tama",
           "さよなら人類 ～シングルヴァージョン～",
           "1990"
          ],
          [
           "Kome Kome Club",
           "浪漫飛行",
           "1990"
          ],
          [
           "B'z",
           "太陽のKomachi Angel",
           "1990"
          ],
          [
           "LINDBERG",
           "今すぐＫｉｓｓ　Ｍｅ",
           "1990"
          ],
          [
           "PRINCESS PRINCESS",
           "OH YEAH !",
           "1990"
          ],
          [
           "サザンオールスターズ",
           "真夏の果実",
           "1990"
          ],
          [
           "DREAMS COME TRUE",
           "笑顔の行方 (ORIGINAL VERSION)",
           "1990"
          ],
          [
           "B'z",
           "Easy Come, Easy Go!",
           "1990"
          ],
          [
           "Madonna",
           "Vogue",
           "1990"
          ],
          [
           "Wilson Phillips",
           "Hold On",
           "1990"
          ],
          [
           "New Kids On The Block",
           "Step by Step",
           "1990"
          ],
          [
           "Bell Biv DeVoe",
           "Do Me!",
           "1990"
          ],
          [
           "Shizuka Kudo",
           "Kuchibiru Kara Biyaku",
           "1990"
          ],
          [
           "Akina Nakamori",
           "Dear Friend - 2024 Lacquer Master Sound",
           "1990"
          ],
          [
           "Kyoko Koizumi",
           "見逃してくれよ！",
           "1990"
          ],
          [
           "Yosui Inoue",
           "少年時代 - Remastered 2018",
           "1990"
          ],
          [
           "Roxette",
           "It Must Have Been Love - From the Film \"Pretty Woman\"",
           "1990"
          ],
          [
           "Sinéad O'Connor",
           "Nothing Compares 2 U",
           "1990"
          ],
          [
           "Diana Ross",
           "If We Hold On Together",
           "1990"
          ],
          [
           "中島みゆき",
           "with",
           "1990"
          ],
          [
           "Kyosuke Himuro",
           "JEALOUSY",
           "1990"
          ],
          [
           "Hideaki Tokunaga",
           "壊れかけのRadio",
           "1990"
          ],
          [
           "PINK SAPPHIRE",
           "P.S. I LOVE YOU - Single Version; 2019 Remaster",
           "1990"
          ],
          [
           "Depeche Mode",
           "Enjoy the Silence - 2006 Remaster",
           "1990"
          ],
          [
           "George Michael",
           "Freedom! '90",
           "1990"
          ],
          [
           "UB40",
           "Kingston Town",
           "1990"
          ],
          [
           "オヨネーズ",
           "麦畑",
           "1990"
          ],
          [
           "Jitterin' Jinn",
           "プレゼント",
           "1990"
          ],
          [
           "牛若丸三郎太",
           "勇気のしるし~リゲインのテーマ~",
           "1990"
          ],
          [
           "Yasuyuki Okamura",
           "カルアミルク",
           "1990"
          ],
          [
           "Mariah Carey",
           "Vision of Love",
           "1990"
          ],
          [
           "Phil Collins",
           "Another Day in Paradise - 2016 Remaster",
           "1990"
          ],
          [
           "Kaoma",
           "Lambada - Original Version 1989",
           "1990"
          ],
          [
           "En Vogue",
           "Hold On",
           "1990"
          ],
          [
           "Technotronic",
           "Pump Up The Jam",
           "1990"
          ],
          [
           "Billy Idol",
           "Cradle Of Love",
           "1990"
          ],
          [
           "Jon Bon Jovi",
           "Blaze Of Glory - From \"Young Guns II\" Soundtrack",
           "1990"
          ],
          [
           "Michael Bolton",
           "How Am I Supposed to Live Without You",
           "1990"
          ],
          [
           "Janet Jackson",
           "Escapade",
           "1990"
          ],
          [
           "PRINCESS PRINCESS",
           "DIAMONDS (ダイアモンド)",
           "1990"
          ],
          [
           "サザンオールスターズ",
           "フリフリ '65",
           "1990"
          ],
          [
           "DREAMS COME TRUE",
           "Ring! Ring! Ring! (S・H・H VERSION)",
           "1990"
          ],
          [
           "GO-BANG'S",
           "Ai ni Kite I Need You!",
           "1990"
          ],
          [
           "B'z",
           "愛しい人よGood Night…",
           "1990"
          ],
          [
           "X JAPAN",
           "ENDLESS RAIN - Remaster",
           "1990"
          ],
          [
           "Tsuyoshi Nagabuchi",
           "しょっぱい三日月の夜",
           "1990"
          ],
          [
           "Wink",
           "Sexy Music",
           "1990"
          ],
          [
           "TM NETWORK",
           "THE POINT OF LOVERS' NIGHT",
           "1990"
          ],
          [
           "Toshinobu Kubota",
           "GIVE YOU MY LOVE",
           "1990"
          ],
          [
           "Hideaki Tokunaga",
           "夢を信じて",
           "1990"
          ],
          [
           "Jitterin' Jinn",
           "夏祭り",
           "1990"
          ],
          [
           "The Rolling Stones",
           "Rock And A Hard Place",
           "1990"
          ],
          [
           "Heart",
           "All I Wanna Do Is Make Love To You",
           "1990"
          ],
          [
           "Quincy Jones",
           "Tomorrow (A Better You, Better Me)",
           "1990"
          ],
          [
           "Boyz II Men",
           "End Of The Road",
           "1990"
          ],
          [
           "Bette Midler",
           "From a Distance",
           "1990"
          ],
          [
           "a-ha",
           "Crying in the Rain",
           "1990"
          ],
          [
           "JUN SKY WALKER(S)",
           "白いクリスマス",
           "1990"
          ],
          [
           "The Checkers",
           "Yoake no Breath",
           "1990"
          ],
          [
           "Hiroshi Takano",
           "虹の都へ",
           "1990"
          ],
          [
           "UNICORN",
           "働く男",
           "1990"
          ],
          [
           "Tsuyoshi Nagabuchi",
           "JEEP",
           "1990"
          ],
          [
           "Maxi Priest",
           "Close To You",
           "1990"
          ],
          [
           "The Charlatans",
           "The Only One I Know",
           "1990"
          ],
          [
           "Misato Watanabe",
           "サマータイム ブルース",
           "1990"
          ],
          [
           "Kyoko Koizumi",
           "学園天国",
           "1990"
          ],
          [
           "TUBE",
           "あー夏休み",
           "1990"
          ],
          [
           "Mariya Takeuchi",
           "シングル・アゲイン - 2022 Remaster",
           "1990"
          ],
          [
           "Midori Karashima",
           "サイレント・イヴ",
           "1990"
          ],
          [
           "C & C Music Factory",
           "Gonna Make You Sweat (Everybody Dance Now) (feat. Freedom Williams)",
           "1990"
          ],
          [
           "LL COOL J",
           "Mama Said Knock You Out",
           "1990"
          ],
          [
           "MC Hammer",
           "U Can't Touch This",
           "1990"
          ],
          [
           "Vanilla Ice",
           "Ice Ice Baby",
           "1990"
          ],
          [
           "COMPLEX",
           "1990",
           "1990"
          ],
          [
           "X JAPAN",
           "WEEK END - Remaster",
           "1990"
          ],
          [
           "BUCK-TICK",
           "悪の華",
           "1990"
          ],
          [
           "Extreme",
           "More Than Words",
           "1990"
          ],
          [
           "The Black Crowes",
           "Hard To Handle",
           "1990"
          ],
          [
           "Flipper's Guitar",
           "恋とマシンガン -Young,Alive,in Love-",
           "1990"
          ],
          [
           "DREAMS COME TRUE",
           "さよならを待ってる",
           "1990"
          ],
          [
           "Hiroshi Takano",
           "ベステン ダンク",
           "1990"
          ],
          [
           "Jitterin' Jinn",
           "にちようび",
           "1990"
          ],
          [
           "BEGIN",
           "恋しくて",
           "1990"
          ],
          [
           "B'z",
           "BE THERE",
           "1990"
          ],
          [
           "Senri Oe",
           "dear",
           "1990"
          ],
          [
           "Noriyuki Makihara",
           "ANSWER - 2012 Remaster",
           "1990"
          ],
          [
           "Bobby Brown",
           "Every Little Step",
           "1990"
          ],
          [
           "Bell Biv DeVoe",
           "Poison",
           "1990"
          ],
          [
           "Billy Joel",
           "We Didn't Start the Fire",
           "1990"
          ],
          [
           "Linda Ronstadt",
           "Don't Know Much (with Aaron Neville)",
           "1990"
          ],
          [
           "Chisato Moritaka",
           "雨 - 2012 Remaster",
           "1990"
          ],
          [
           "Shizuka Kudo",
           "Senryu no Shizuku",
           "1990"
          ],
          [
           "Akina Nakamori",
           "水に挿した花 - 30th anniversary mix",
           "1990"
          ],
          [
           "Miki Imai",
           "瞳がほほえむから",
           "1990"
          ],
          [
           "Mariya Takeuchi",
           "告白 - 2022 Remaster",
           "1990"
          ],
          [
           "Hibari Misora",
           "川の流れのように",
           "1990"
          ],
          [
           "A Tribe Called Quest",
           "Bonita Applebum - includes 'Can I Kick It' Intro",
           "1990"
          ],
          [
           "Deee-Lite",
           "Groove Is in the Heart",
           "1990"
          ],
          [
           "Soul II Soul",
           "Get A Life",
           "1990"
          ]
         ],
         "hovertemplate": "<b>%{hovertext}</b><br><br>年代=%{customdata[2]}<br>第一主成分=%{x}<br>第二主成分=%{y}<br>アーティスト名=%{customdata[0]}<br>トラック名=%{customdata[1]}<extra></extra>",
         "hovertext": [
          "Tama",
          "Kome Kome Club",
          "B'z",
          "LINDBERG",
          "PRINCESS PRINCESS",
          "サザンオールスターズ",
          "DREAMS COME TRUE",
          "B'z",
          "Madonna",
          "Wilson Phillips",
          "New Kids On The Block",
          "Bell Biv DeVoe",
          "Shizuka Kudo",
          "Akina Nakamori",
          "Kyoko Koizumi",
          "Yosui Inoue",
          "Roxette",
          "Sinéad O'Connor",
          "Diana Ross",
          "中島みゆき",
          "Kyosuke Himuro",
          "Hideaki Tokunaga",
          "PINK SAPPHIRE",
          "Depeche Mode",
          "George Michael",
          "UB40",
          "オヨネーズ",
          "Jitterin' Jinn",
          "牛若丸三郎太",
          "Yasuyuki Okamura",
          "Mariah Carey",
          "Phil Collins",
          "Kaoma",
          "En Vogue",
          "Technotronic",
          "Billy Idol",
          "Jon Bon Jovi",
          "Michael Bolton",
          "Janet Jackson",
          "PRINCESS PRINCESS",
          "サザンオールスターズ",
          "DREAMS COME TRUE",
          "GO-BANG'S",
          "B'z",
          "X JAPAN",
          "Tsuyoshi Nagabuchi",
          "Wink",
          "TM NETWORK",
          "Toshinobu Kubota",
          "Hideaki Tokunaga",
          "Jitterin' Jinn",
          "The Rolling Stones",
          "Heart",
          "Quincy Jones",
          "Boyz II Men",
          "Bette Midler",
          "a-ha",
          "JUN SKY WALKER(S)",
          "The Checkers",
          "Hiroshi Takano",
          "UNICORN",
          "Tsuyoshi Nagabuchi",
          "Maxi Priest",
          "The Charlatans",
          "Misato Watanabe",
          "Kyoko Koizumi",
          "TUBE",
          "Mariya Takeuchi",
          "Midori Karashima",
          "C & C Music Factory",
          "LL COOL J",
          "MC Hammer",
          "Vanilla Ice",
          "COMPLEX",
          "X JAPAN",
          "BUCK-TICK",
          "Extreme",
          "The Black Crowes",
          "Flipper's Guitar",
          "DREAMS COME TRUE",
          "Hiroshi Takano",
          "Jitterin' Jinn",
          "BEGIN",
          "B'z",
          "Senri Oe",
          "Noriyuki Makihara",
          "Bobby Brown",
          "Bell Biv DeVoe",
          "Billy Joel",
          "Linda Ronstadt",
          "Chisato Moritaka",
          "Shizuka Kudo",
          "Akina Nakamori",
          "Miki Imai",
          "Mariya Takeuchi",
          "Hibari Misora",
          "A Tribe Called Quest",
          "Deee-Lite",
          "Soul II Soul"
         ],
         "legendgroup": "1990",
         "marker": {
          "color": "#636efa",
          "symbol": "circle"
         },
         "mode": "markers",
         "name": "1990",
         "orientation": "v",
         "showlegend": true,
         "type": "scatter",
         "x": [
          14.559704780578613,
          0.4335036873817444,
          0.5002122521400452,
          9.075654029846191,
          2.85846209526062,
          27.635038375854492,
          2.811103582382202,
          -18.403322219848633,
          -4.809030055999756,
          17.92184066772461,
          0.17665265500545502,
          -19.964859008789062,
          -23.298057556152344,
          -4.708714962005615,
          -0.6608332395553589,
          27.668729782104492,
          12.69813060760498,
          16.896114349365234,
          27.9239444732666,
          19.961538314819336,
          -22.77635955810547,
          23.37565803527832,
          4.269769668579102,
          25.32982635498047,
          5.691277027130127,
          -1.0866024494171143,
          20.001209259033203,
          -1.2695096731185913,
          14.737778663635254,
          10.015653610229492,
          30.12859344482422,
          -4.27921199798584,
          -1.5794260501861572,
          17.50326156616211,
          -10.200493812561035,
          2.2374773025512695,
          16.5985107421875,
          21.884479522705078,
          -4.971134662628174,
          -5.596426010131836,
          -21.14180564880371,
          8.494696617126465,
          -26.231517791748047,
          -2.437998056411743,
          15.364970207214355,
          24.757307052612305,
          -15.195256233215332,
          -14.751506805419922,
          -7.86788272857666,
          3.815333366394043,
          -24.274150848388672,
          -20.49276351928711,
          4.631717205047607,
          24.537986755371094,
          28.397945404052734,
          26.892230987548828,
          23.254613876342773,
          15.489480018615723,
          20.417043685913086,
          -3.417051076889038,
          -3.2424542903900146,
          17.910566329956055,
          0.05280793085694313,
          18.84640121459961,
          4.003303050994873,
          -11.944765090942383,
          -22.248794555664062,
          -8.102103233337402,
          29.23798370361328,
          -24.388168334960938,
          -27.100507736206055,
          -5.509138107299805,
          -0.5766064524650574,
          2.7138779163360596,
          -14.929487228393555,
          7.54241943359375,
          27.909442901611328,
          -9.568889617919922,
          16.873722076416016,
          16.639997482299805,
          -5.888352394104004,
          0.491895467042923,
          21.318340301513672,
          -18.330991744995117,
          1.0824682712554932,
          24.407155990600586,
          -0.3207652270793915,
          -13.252978324890137,
          -6.218369007110596,
          27.48607635498047,
          25.33769989013672,
          -24.65578269958496,
          29.537784576416016,
          23.992387771606445,
          -5.471627712249756,
          22.382869720458984,
          -14.224686622619629,
          -19.423545837402344,
          -6.609529972076416
         ],
         "xaxis": "x",
         "y": [
          -1.1932674646377563,
          -9.3392972946167,
          9.037671089172363,
          -0.23574529588222504,
          8.9741849899292,
          8.521451950073242,
          -7.709364891052246,
          -21.603105545043945,
          20.499692916870117,
          -0.37492507696151733,
          -9.943418502807617,
          -26.816715240478516,
          -24.43245506286621,
          15.770977020263672,
          6.564784049987793,
          -0.9856894612312317,
          0.20896011590957642,
          8.651841163635254,
          4.609963893890381,
          4.551949977874756,
          -16.5395565032959,
          2.9333274364471436,
          17.422283172607422,
          -5.244104385375977,
          -6.67006778717041,
          -11.771944999694824,
          3.5975351333618164,
          -7.817808628082275,
          -7.954864501953125,
          3.095960855484009,
          -12.603460311889648,
          -23.900436401367188,
          -2.2079415321350098,
          2.636613130569458,
          -17.861635208129883,
          10.786689758300781,
          4.835733890533447,
          5.461669445037842,
          1.9124096632003784,
          5.119103908538818,
          -18.934581756591797,
          -0.824423611164093,
          9.096179008483887,
          -25.883682250976562,
          5.395267009735107,
          1.2468540668487549,
          -27.864524841308594,
          -12.139750480651855,
          -17.0587215423584,
          8.106356620788574,
          7.516760349273682,
          -17.26935386657715,
          -5.904613971710205,
          -2.2989611625671387,
          -11.465740203857422,
          4.0024542808532715,
          11.163226127624512,
          5.939545631408691,
          4.852298736572266,
          6.914883613586426,
          5.6198859214782715,
          -7.041022777557373,
          -11.331282615661621,
          0.982679009437561,
          -6.353513717651367,
          19.697519302368164,
          -24.937965393066406,
          -23.80709457397461,
          1.7967379093170166,
          8.23249340057373,
          8.384244918823242,
          -15.355751991271973,
          -11.689607620239258,
          -6.303426742553711,
          -12.57979679107666,
          9.452970504760742,
          5.325568199157715,
          9.947908401489258,
          -7.051724433898926,
          -7.5698676109313965,
          8.928632736206055,
          -8.047572135925293,
          1.188349962234497,
          -19.303287506103516,
          -6.939440727233887,
          -0.9124887585639954,
          -9.949867248535156,
          3.6091935634613037,
          9.38827896118164,
          3.2575979232788086,
          3.748892307281494,
          -11.645480155944824,
          -10.766756057739258,
          3.8572123050689697,
          -20.08997917175293,
          11.960150718688965,
          3.5190651416778564,
          -20.183277130126953,
          -16.07989501953125
         ],
         "yaxis": "y"
        },
        {
         "customdata": [
          [
           "DREAMS COME TRUE",
           "LOVE LOVE LOVE",
           "1995"
          ],
          [
           "H Jungle With t",
           "WOW WAR TONIGHT〜時には起こせよムーヴメント〜 - TWO MILLION MIX",
           "1995"
          ],
          [
           "Mr.Children",
           "Tomorrow never knows",
           "1995"
          ],
          [
           "SPITZ",
           "ロビンソン",
           "1995"
          ],
          [
           "My Little Lover",
           "Man&Woman",
           "1995"
          ],
          [
           "Yumi Matsutoya",
           "春よ、来い",
           "1995"
          ],
          [
           "Masaharu Fukuyama",
           "HELLO",
           "1995"
          ],
          [
           "Alanis Morissette",
           "You Oughta Know - 2015 Remaster",
           "1995"
          ],
          [
           "Oasis",
           "Wonderwall - Remastered",
           "1995"
          ],
          [
           "The Cardigans",
           "Carnival",
           "1995"
          ],
          [
           "Mariah Carey",
           "All I Want for Christmas Is You",
           "1995"
          ],
          [
           "Lenny Kravitz",
           "Rock And Roll Is Dead",
           "1995"
          ],
          [
           "Backstreet Boys",
           "I Want It That Way",
           "1995"
          ],
          [
           "Scatman John",
           "Scatman (ski-ba-bop-ba-dop-bop)",
           "1995"
          ],
          [
           "My Little Lover",
           "Hello,Again~昔からある場所~",
           "1995"
          ],
          [
           "Magokoro Brothers",
           "サマーヌード",
           "1995"
          ],
          [
           "桑田 佳祐 ＆ Mr.Children",
           "奇跡の地球",
           "1995"
          ],
          [
           "B'z",
           "LOVE PHANTOM",
           "1995"
          ],
          [
           "Maki Ohguro",
           "ら・ら・ら (2019 Remastered)",
           "1995"
          ],
          [
           "JUDY AND MARY",
           "Over Drive",
           "1995"
          ],
          [
           "Radiohead",
           "High and Dry",
           "1995"
          ],
          [
           "The Smashing Pumpkins",
           "1979 - Remastered 2012",
           "1995"
          ],
          [
           "The Offspring",
           "Self Esteem",
           "1995"
          ],
          [
           "globe",
           "Feel Like dance - Original Mix",
           "1995"
          ],
          [
           "H Jungle With t",
           "GOING GOING HOME",
           "1995"
          ],
          [
           "Tomomi Kahara",
           "I BELIEVE - Radio Edit",
           "1995"
          ],
          [
           "Red Hot Chili Peppers",
           "My Friends",
           "1995"
          ],
          [
           "Björk",
           "Army of Me",
           "1995"
          ],
          [
           "Mr.Children",
           "everybody goes~秩序のない現代にドロップキック~",
           "1995"
          ],
          [
           "Tamio Okuda",
           "愛のために",
           "1995"
          ],
          [
           "B'z",
           "ねがい",
           "1995"
          ],
          [
           "サザンオールスターズ",
           "あなただけを ~Summer Heartbreak~",
           "1995"
          ],
          [
           "Kyosuke Himuro",
           "Tamashii wo daitekure",
           "1995"
          ],
          [
           "HOTEI",
           "POISON",
           "1995"
          ],
          [
           "TRF",
           "Overnight Sensation 〜時代はあなたに委ねてる〜",
           "1995"
          ],
          [
           "Ryoko Shinohara",
           "Lady Generation (Original Mix)",
           "1995"
          ],
          [
           "DREAMS COME TRUE",
           "サンキュ.",
           "1995"
          ],
          [
           "My Little Lover",
           "白いカイト",
           "1995"
          ],
          [
           "中島みゆき",
           "旅人のうた",
           "1995"
          ],
          [
           "SCHA DARA PARR",
           "サマージャム'95",
           "1995"
          ],
          [
           "EAST END",
           "DA.YO.NE",
           "1995"
          ],
          [
           "TLC",
           "Waterfalls",
           "1995"
          ],
          [
           "Mariah Carey",
           "Always Be My Baby",
           "1995"
          ],
          [
           "Boyz II Men",
           "On Bended Knee",
           "1995"
          ],
          [
           "Incognito",
           "Everyday",
           "1995"
          ],
          [
           "Snow",
           "Sexy Girl",
           "1995"
          ],
          [
           "hitomi",
           "CANDY GIRL",
           "1995"
          ],
          [
           "globe",
           "Joy to the love",
           "1995"
          ],
          [
           "TRF",
           "CRAZY GONNA CRAZY",
           "1995"
          ],
          [
           "Ryoko Shinohara",
           "恋しさと せつなさと 心強さと",
           "1995"
          ],
          [
           "FUNK THE PEANUTS",
           "恋の罠しかけましょ 〜FUNK THE PEANUTSのテーマ〜",
           "1995"
          ],
          [
           "Nanase Aikawa",
           "夢見る少女じゃいられない",
           "1995"
          ],
          [
           "Maki Ohguro",
           "いちばん近くにいてね",
           "1995"
          ],
          [
           "Sharam Q",
           "シングルベッド",
           "1995"
          ],
          [
           "Michael Jackson",
           "You Are Not Alone",
           "1995"
          ],
          [
           "Diana King",
           "Shy Guy",
           "1995"
          ],
          [
           "Madonna",
           "Take a Bow",
           "1995"
          ],
          [
           "Noriko Sakai",
           "碧いうさぎ",
           "1995"
          ],
          [
           "Mariya Takeuchi",
           "Konya Ha Hearty Party - Single Mix",
           "1995"
          ],
          [
           "Masayuki Suzuki",
           "もう涙はいらない (Sentimental Version)",
           "1995"
          ],
          [
           "ZARD",
           "あなたを感じていたい",
           "1995"
          ],
          [
           "L⇔R",
           "KNOCKIN' ON YOUR DOOR",
           "1995"
          ],
          [
           "Mayo Okamoto",
           "TOMORROW",
           "1995"
          ],
          [
           "Baha Men",
           "Dancing in the Moonlight",
           "1995"
          ],
          [
           "Montell Jordan",
           "This Is How We Do It",
           "1995"
          ],
          [
           "D'Angelo",
           "Brown Sugar",
           "1995"
          ],
          [
           "Seal",
           "Kiss from a Rose",
           "1995"
          ],
          [
           "Michael Jackson",
           "Scream",
           "1995"
          ],
          [
           "2Pac",
           "Me Against The World",
           "1995"
          ],
          [
           "Mr.Children",
           "シーソーゲーム~勇敢な恋の歌~",
           "1995"
          ],
          [
           "サザンオールスターズ",
           "マンピーのG★SPOT",
           "1995"
          ],
          [
           "Sharam Q",
           "空を見なよ",
           "1995"
          ],
          [
           "B'z",
           "love me, I love you",
           "1995"
          ],
          [
           "TRF",
           "masquerade",
           "1995"
          ],
          [
           "Tomomi Kahara",
           "keep yourself alive - Radio Edit Mix",
           "1995"
          ],
          [
           "hitomi",
           "GO TO THE TOP",
           "1995"
          ],
          [
           "Mariah Carey",
           "Fantasy",
           "1995"
          ],
          [
           "Des'ree",
           "You Gotta Be",
           "1995"
          ],
          [
           "Duran Duran",
           "White Lines (Don't Do It) [feat. Melle Mel & Grandmaster Flash & the Furious Five]",
           "1995"
          ],
          [
           "Jamiroquai",
           "Stillness in Time",
           "1995"
          ],
          [
           "Blur",
           "Country House - 2012 Remaster",
           "1995"
          ],
          [
           "The Smashing Pumpkins",
           "Tonight, Tonight - Remastered 2012",
           "1995"
          ],
          [
           "Oasis",
           "Don't Look Back In Anger - Remastered",
           "1995"
          ],
          [
           "SPITZ",
           "涙がキラリ☆",
           "1995"
          ],
          [
           "Sharam Q",
           "ズルい女",
           "1995"
          ],
          [
           "Kuroyume",
           "BEAMS",
           "1995"
          ],
          [
           "Yoko Takahashi",
           "残酷な天使のテーゼ",
           "1995"
          ],
          [
           "Naomi Tamura",
           "Unyielding Wish - Complete ver",
           "1995"
          ],
          [
           "Mr.Children",
           "【es】~Theme of es~",
           "1995"
          ],
          [
           "Original Love",
           "Yume wo Miru Hito",
           "1995"
          ],
          [
           "Sing Like Talking",
           "Spirit Of Love (Sanctified Version)",
           "1995"
          ],
          [
           "Simply Red",
           "Fairground",
           "1995"
          ],
          [
           "Coolio",
           "Gangsta's Paradise",
           "1995"
          ],
          [
           "DEEN",
           "未来のために",
           "1995"
          ],
          [
           "Hiromi Go",
           "逢いたくてしかたない",
           "1995"
          ],
          [
           "Midori Karashima",
           "愛すること",
           "1995"
          ],
          [
           "Shaggy",
           "Boombastic",
           "1995"
          ],
          [
           "Stevie Wonder",
           "For Your Love",
           "1995"
          ]
         ],
         "hovertemplate": "<b>%{hovertext}</b><br><br>年代=%{customdata[2]}<br>第一主成分=%{x}<br>第二主成分=%{y}<br>アーティスト名=%{customdata[0]}<br>トラック名=%{customdata[1]}<extra></extra>",
         "hovertext": [
          "DREAMS COME TRUE",
          "H Jungle With t",
          "Mr.Children",
          "SPITZ",
          "My Little Lover",
          "Yumi Matsutoya",
          "Masaharu Fukuyama",
          "Alanis Morissette",
          "Oasis",
          "The Cardigans",
          "Mariah Carey",
          "Lenny Kravitz",
          "Backstreet Boys",
          "Scatman John",
          "My Little Lover",
          "Magokoro Brothers",
          "桑田 佳祐 ＆ Mr.Children",
          "B'z",
          "Maki Ohguro",
          "JUDY AND MARY",
          "Radiohead",
          "The Smashing Pumpkins",
          "The Offspring",
          "globe",
          "H Jungle With t",
          "Tomomi Kahara",
          "Red Hot Chili Peppers",
          "Björk",
          "Mr.Children",
          "Tamio Okuda",
          "B'z",
          "サザンオールスターズ",
          "Kyosuke Himuro",
          "HOTEI",
          "TRF",
          "Ryoko Shinohara",
          "DREAMS COME TRUE",
          "My Little Lover",
          "中島みゆき",
          "SCHA DARA PARR",
          "EAST END",
          "TLC",
          "Mariah Carey",
          "Boyz II Men",
          "Incognito",
          "Snow",
          "hitomi",
          "globe",
          "TRF",
          "Ryoko Shinohara",
          "FUNK THE PEANUTS",
          "Nanase Aikawa",
          "Maki Ohguro",
          "Sharam Q",
          "Michael Jackson",
          "Diana King",
          "Madonna",
          "Noriko Sakai",
          "Mariya Takeuchi",
          "Masayuki Suzuki",
          "ZARD",
          "L⇔R",
          "Mayo Okamoto",
          "Baha Men",
          "Montell Jordan",
          "D'Angelo",
          "Seal",
          "Michael Jackson",
          "2Pac",
          "Mr.Children",
          "サザンオールスターズ",
          "Sharam Q",
          "B'z",
          "TRF",
          "Tomomi Kahara",
          "hitomi",
          "Mariah Carey",
          "Des'ree",
          "Duran Duran",
          "Jamiroquai",
          "Blur",
          "The Smashing Pumpkins",
          "Oasis",
          "SPITZ",
          "Sharam Q",
          "Kuroyume",
          "Yoko Takahashi",
          "Naomi Tamura",
          "Mr.Children",
          "Original Love",
          "Sing Like Talking",
          "Simply Red",
          "Coolio",
          "DEEN",
          "Hiromi Go",
          "Midori Karashima",
          "Shaggy",
          "Stevie Wonder"
         ],
         "legendgroup": "1995",
         "marker": {
          "color": "#EF553B",
          "symbol": "circle"
         },
         "mode": "markers",
         "name": "1995",
         "orientation": "v",
         "showlegend": true,
         "type": "scatter",
         "x": [
          27.63660430908203,
          -3.0443801879882812,
          19.212663650512695,
          -8.95082950592041,
          8.89173412322998,
          26.211957931518555,
          -6.613746643066406,
          -6.4923014640808105,
          12.822851181030273,
          2.617908477783203,
          20.278079986572266,
          9.65621566772461,
          -9.982556343078613,
          -7.087306976318359,
          -9.633912086486816,
          -20.9825496673584,
          3.1312217712402344,
          -16.59388542175293,
          -5.2380452156066895,
          2.7208192348480225,
          19.873981475830078,
          -25.253103256225586,
          -7.286531925201416,
          6.0155029296875,
          -24.438825607299805,
          -20.83657455444336,
          12.332361221313477,
          18.852294921875,
          7.456654071807861,
          8.84076976776123,
          5.533736705780029,
          -1.6330713033676147,
          17.664264678955078,
          2.969412326812744,
          -6.267923355102539,
          2.018430471420288,
          27.170001983642578,
          9.438474655151367,
          12.534433364868164,
          -7.131110668182373,
          -11.117226600646973,
          4.137059688568115,
          18.392505645751953,
          23.299545288085938,
          -8.91550064086914,
          -13.776089668273926,
          -16.78736686706543,
          -24.665563583374023,
          -4.597254276275635,
          5.773065090179443,
          -8.133586883544922,
          -22.5535831451416,
          -18.78346824645996,
          23.42352294921875,
          24.32407569885254,
          -15.725728034973145,
          23.506221771240234,
          -6.911951065063477,
          -18.063051223754883,
          6.053538799285889,
          6.661342144012451,
          -8.351529121398926,
          -18.722074508666992,
          -7.234243392944336,
          -11.470576286315918,
          -6.767475605010986,
          29.393503189086914,
          -12.749763488769531,
          -14.394586563110352,
          -4.145791053771973,
          7.0917816162109375,
          1.8817373514175415,
          29.048072814941406,
          8.019495010375977,
          -16.11761474609375,
          -6.188371658325195,
          1.3945738077163696,
          17.95762062072754,
          -4.75555944442749,
          -25.977949142456055,
          11.13315486907959,
          -27.10873794555664,
          13.381563186645508,
          4.340603828430176,
          -17.640230178833008,
          8.149733543395996,
          -6.776743412017822,
          -11.031094551086426,
          16.10243797302246,
          -8.99058723449707,
          15.895424842834473,
          6.170024394989014,
          17.133718490600586,
          -3.743533134460449,
          24.98920440673828,
          25.582399368286133,
          -13.16735553741455,
          20.67002296447754
         ],
         "xaxis": "x",
         "y": [
          0.5364744663238525,
          14.80902099609375,
          3.1878271102905273,
          -24.293659210205078,
          4.296432018280029,
          -4.278873443603516,
          12.700972557067871,
          18.292211532592773,
          18.379547119140625,
          4.966192245483398,
          12.5175142288208,
          0.569101870059967,
          -23.0150089263916,
          -17.055727005004883,
          -15.753963470458984,
          -25.714052200317383,
          -5.535274505615234,
          -5.459392547607422,
          11.829943656921387,
          13.834439277648926,
          1.4758278131484985,
          8.179788589477539,
          16.179994583129883,
          12.363081932067871,
          -15.420710563659668,
          -17.13031578063965,
          9.018354415893555,
          12.875761032104492,
          11.426458358764648,
          3.7457315921783447,
          5.246233940124512,
          10.817361831665039,
          16.254928588867188,
          7.754508972167969,
          4.051814556121826,
          -7.23635721206665,
          1.9223355054855347,
          6.6153564453125,
          5.913018226623535,
          -2.392930269241333,
          4.194591045379639,
          -9.248291015625,
          -2.7912373542785645,
          3.5490095615386963,
          -3.7288269996643066,
          -16.62078285217285,
          -26.089807510375977,
          -16.926918029785156,
          20.72314453125,
          15.193584442138672,
          7.249861717224121,
          -16.07086753845215,
          -17.658166885375977,
          -1.25847589969635,
          2.6381120681762695,
          -19.94527244567871,
          0.8260968327522278,
          -23.213823318481445,
          -20.476058959960938,
          -3.3880672454833984,
          14.07805347442627,
          11.124058723449707,
          -25.99631118774414,
          4.007721900939941,
          4.310540676116943,
          -5.461935997009277,
          -11.02216625213623,
          13.206531524658203,
          5.146507740020752,
          6.218695640563965,
          19.63303565979004,
          -5.419297695159912,
          -13.833091735839844,
          14.022625923156738,
          -14.48187255859375,
          17.584077835083008,
          -4.4644083976745605,
          -0.021962400525808334,
          19.352245330810547,
          8.472895622253418,
          17.68496322631836,
          11.007259368896484,
          18.873300552368164,
          1.820652961730957,
          -16.864810943603516,
          9.942769050598145,
          -16.42744255065918,
          18.31465721130371,
          5.527491569519043,
          -17.126066207885742,
          -2.3381218910217285,
          -2.1939306259155273,
          2.420031785964966,
          10.273128509521484,
          5.583222389221191,
          10.0922212600708,
          -0.8227882981300354,
          6.47138786315918
         ],
         "yaxis": "y"
        },
        {
         "customdata": [
          [
           "Masaharu Fukuyama",
           "桜坂",
           "2000"
          ],
          [
           "サザンオールスターズ",
           "TSUNAMI",
           "2000"
          ],
          [
           "Hikaru Utada",
           "Wait & See ～リスク～",
           "2000"
          ],
          [
           "Takashi Fujii",
           "ナンダカンダ",
           "2000"
          ],
          [
           "Hitomi Yaida",
           "My Sweet Darlin' - Remastered 2004",
           "2000"
          ],
          [
           "Janet Jackson",
           "Doesn't Really Matter",
           "2000"
          ],
          [
           "Destiny's Child",
           "Say My Name",
           "2000"
          ],
          [
           "Santana",
           "Smooth (feat. Rob Thomas)",
           "2000"
          ],
          [
           "B'z",
           "今夜月の見える丘に",
           "2000"
          ],
          [
           "中島みゆき",
           "地上の星",
           "2000"
          ],
          [
           "MISIA",
           "Everything",
           "2000"
          ],
          [
           "Ayumi Hamasaki",
           "SEASONS",
           "2000"
          ],
          [
           "Mai Kuraki",
           "Secret of my heart",
           "2000"
          ],
          [
           "Madonna",
           "American Pie",
           "2000"
          ],
          [
           "Faith Hill",
           "Breathe",
           "2000"
          ],
          [
           "Joe",
           "I Wanna Know",
           "2000"
          ],
          [
           "Vertical Horizon",
           "Everything You Want",
           "2000"
          ],
          [
           "Sheena Ringo",
           "ギブス",
           "2000"
          ],
          [
           "SPITZ",
           "メモリーズ",
           "2000"
          ],
          [
           "BUMP OF CHICKEN",
           "ランプ",
           "2000"
          ],
          [
           "Mr.Children",
           "口笛",
           "2000"
          ],
          [
           "L'Arc-en-Ciel",
           "NEO UNIVERSE",
           "2000"
          ],
          [
           "GLAY",
           "とまどい",
           "2000"
          ],
          [
           "aiko",
           "Sakura no Toki",
           "2000"
          ],
          [
           "PornoGraffitti",
           "サウダージ",
           "2000"
          ],
          [
           "The Dandy Warhols",
           "Bohemian Like You",
           "2000"
          ],
          [
           "Oasis",
           "Go Let It Out",
           "2000"
          ],
          [
           "blink-182",
           "All The Small Things",
           "2000"
          ],
          [
           "Green Day",
           "Minority",
           "2000"
          ],
          [
           "Savage Garden",
           "I Knew I Loved You",
           "2000"
          ],
          [
           "Yuki Koyanagi",
           "あなたのキスを数えましょう 〜You were mine〜",
           "2000"
          ],
          [
           "DA PUMP",
           "if...",
           "2000"
          ],
          [
           "Ayumi Hamasaki",
           "vogue",
           "2000"
          ],
          [
           "hana*hana",
           "あ〜よかった - setagaya-mix",
           "2000"
          ],
          [
           "Whiteberry",
           "夏祭り",
           "2000"
          ],
          [
           "ARASHI",
           "感謝カンゲキ雨嵐",
           "2000"
          ],
          [
           "蓮井 朱夏",
           "ZOO 〜愛をください〜",
           "2000"
          ],
          [
           "Bluem of Youth",
           "ラストツアー〜約束の場所へ〜（ウラジオストックrecording)",
           "2000"
          ],
          [
           "Ken Hirai",
           "楽園",
           "2000"
          ],
          [
           "BUMP OF CHICKEN",
           "ダイヤモンド",
           "2000"
          ],
          [
           "Radiohead",
           "The National Anthem",
           "2000"
          ],
          [
           "Coldplay",
           "Yellow",
           "2000"
          ],
          [
           "Tahiti 80",
           "Heartbeat",
           "2000"
          ],
          [
           "Madonna",
           "Music",
           "2000"
          ],
          [
           "Britney Spears",
           "Oops!...I Did It Again",
           "2000"
          ],
          [
           "Toni Braxton",
           "He Wasn't Man Enough",
           "2000"
          ],
          [
           "Backstreet Boys",
           "Shape of My Heart",
           "2000"
          ],
          [
           "Fiona Apple",
           "Fast As You Can - Radio Edit",
           "2000"
          ],
          [
           "Hikaru Utada",
           "For You",
           "2000"
          ],
          [
           "aiko",
           "Boyfriend",
           "2000"
          ],
          [
           "Cocco",
           "けもの道",
           "2000"
          ],
          [
           "LOVE PSYCHEDELICO",
           "Last Smile",
           "2000"
          ],
          [
           "Quruli",
           "ワンダーフォーゲル",
           "2000"
          ],
          [
           "Kazuyoshi Saito",
           "アゲハ",
           "2000"
          ],
          [
           "U2",
           "Beautiful Day",
           "2000"
          ],
          [
           "Linkin Park",
           "In the End",
           "2000"
          ],
          [
           "Limp Bizkit",
           "Take A Look Around",
           "2000"
          ],
          [
           "Bon Jovi",
           "It's My Life",
           "2000"
          ],
          [
           "Hi-STANDARD",
           "MY FIRST KISS",
           "2000"
          ],
          [
           "Mondo Grosso",
           "LIFE",
           "2000"
          ],
          [
           "m-flo",
           "How You Like Me Now?",
           "2000"
          ],
          [
           "D'Angelo",
           "Spanish Joint",
           "2000"
          ],
          [
           "Eminem",
           "The Real Slim Shady",
           "2000"
          ],
          [
           "Cypress Hill",
           "(Rock) Superstar (feat. Chino Moreno & Everlast)",
           "2000"
          ],
          [
           "Brian McKnight",
           "Back At One",
           "2000"
          ],
          [
           "KIRINJI",
           "エイリアンズ - 2018 Remaster",
           "2000"
          ],
          [
           "DREAMS COME TRUE",
           "SNOW DANCE",
           "2000"
          ],
          [
           "Sheena Ringo",
           "罪と罰",
           "2000"
          ],
          [
           "PornoGraffitti",
           "ミュージック・アワー",
           "2000"
          ],
          [
           "Masaharu Fukuyama",
           "HEAVEN (Original Version)",
           "2000"
          ],
          [
           "サザンオールスターズ",
           "HOTEL PACIFIC",
           "2000"
          ],
          [
           "YUZU",
           "Ah Seishun No Hibi",
           "2000"
          ],
          [
           "Westlife",
           "My Love",
           "2000"
          ],
          [
           "*NSYNC",
           "It's Gonna Be Me",
           "2000"
          ],
          [
           "Kylie Minogue",
           "Spinning Around",
           "2000"
          ],
          [
           "GLAY",
           "MERMAID",
           "2000"
          ],
          [
           "The Gospellers",
           "永遠に",
           "2000"
          ],
          [
           "Chihiro Onitsuka",
           "月光",
           "2000"
          ],
          [
           "中島みゆき",
           "ヘッドライト・テールライト",
           "2000"
          ],
          [
           "Kazumasa Oda",
           "woh woh",
           "2000"
          ],
          [
           "Takako Matsu",
           "桜の雨、いつか",
           "2000"
          ],
          [
           "hana*hana",
           "さよなら大好きな人 - 2020 Remaster",
           "2000"
          ],
          [
           "Aaliyah",
           "Try Again",
           "2000"
          ],
          [
           "Christina Aguilera",
           "What a Girl Wants",
           "2000"
          ],
          [
           "Sisqo",
           "Thong Song",
           "2000"
          ],
          [
           "hitomi",
           "LOVE 2000",
           "2000"
          ],
          [
           "Mr.Children",
           "NOT FOUND",
           "2000"
          ],
          [
           "SPITZ",
           "ホタル",
           "2000"
          ],
          [
           "SUPER BUTTER DOG",
           "コミュニケーション・ブレイクダンス",
           "2000"
          ],
          [
           "Dragon Ash",
           "Deep Impact feat. Rappagariya",
           "2000"
          ],
          [
           "RHYMESTER",
           "ブラザーズ DJ WATARAI Remix",
           "2000"
          ],
          [
           "Matchbox Twenty",
           "Bent",
           "2000"
          ],
          [
           "Creed",
           "Higher",
           "2000"
          ],
          [
           "MONGOL800",
           "DON'T WORRY BE HAPPY",
           "2000"
          ],
          [
           "Kazuyoshi Nakamura",
           "君ノ声",
           "2000"
          ],
          [
           "WINO",
           "太陽は夜も輝く",
           "2000"
          ],
          [
           "Sunny Day Service",
           "Yoru no Melody",
           "2000"
          ],
          [
           "大泉逸郎",
           "孫",
           "2000"
          ]
         ],
         "hovertemplate": "<b>%{hovertext}</b><br><br>年代=%{customdata[2]}<br>第一主成分=%{x}<br>第二主成分=%{y}<br>アーティスト名=%{customdata[0]}<br>トラック名=%{customdata[1]}<extra></extra>",
         "hovertext": [
          "Masaharu Fukuyama",
          "サザンオールスターズ",
          "Hikaru Utada",
          "Takashi Fujii",
          "Hitomi Yaida",
          "Janet Jackson",
          "Destiny's Child",
          "Santana",
          "B'z",
          "中島みゆき",
          "MISIA",
          "Ayumi Hamasaki",
          "Mai Kuraki",
          "Madonna",
          "Faith Hill",
          "Joe",
          "Vertical Horizon",
          "Sheena Ringo",
          "SPITZ",
          "BUMP OF CHICKEN",
          "Mr.Children",
          "L'Arc-en-Ciel",
          "GLAY",
          "aiko",
          "PornoGraffitti",
          "The Dandy Warhols",
          "Oasis",
          "blink-182",
          "Green Day",
          "Savage Garden",
          "Yuki Koyanagi",
          "DA PUMP",
          "Ayumi Hamasaki",
          "hana*hana",
          "Whiteberry",
          "ARASHI",
          "蓮井 朱夏",
          "Bluem of Youth",
          "Ken Hirai",
          "BUMP OF CHICKEN",
          "Radiohead",
          "Coldplay",
          "Tahiti 80",
          "Madonna",
          "Britney Spears",
          "Toni Braxton",
          "Backstreet Boys",
          "Fiona Apple",
          "Hikaru Utada",
          "aiko",
          "Cocco",
          "LOVE PSYCHEDELICO",
          "Quruli",
          "Kazuyoshi Saito",
          "U2",
          "Linkin Park",
          "Limp Bizkit",
          "Bon Jovi",
          "Hi-STANDARD",
          "Mondo Grosso",
          "m-flo",
          "D'Angelo",
          "Eminem",
          "Cypress Hill",
          "Brian McKnight",
          "KIRINJI",
          "DREAMS COME TRUE",
          "Sheena Ringo",
          "PornoGraffitti",
          "Masaharu Fukuyama",
          "サザンオールスターズ",
          "YUZU",
          "Westlife",
          "*NSYNC",
          "Kylie Minogue",
          "GLAY",
          "The Gospellers",
          "Chihiro Onitsuka",
          "中島みゆき",
          "Kazumasa Oda",
          "Takako Matsu",
          "hana*hana",
          "Aaliyah",
          "Christina Aguilera",
          "Sisqo",
          "hitomi",
          "Mr.Children",
          "SPITZ",
          "SUPER BUTTER DOG",
          "Dragon Ash",
          "RHYMESTER",
          "Matchbox Twenty",
          "Creed",
          "MONGOL800",
          "Kazuyoshi Nakamura",
          "WINO",
          "Sunny Day Service",
          "大泉逸郎"
         ],
         "legendgroup": "2000",
         "marker": {
          "color": "#00cc96",
          "symbol": "circle"
         },
         "mode": "markers",
         "name": "2000",
         "orientation": "v",
         "showlegend": true,
         "type": "scatter",
         "x": [
          18.85268211364746,
          11.312848091125488,
          -19.16754722595215,
          -8.368401527404785,
          0.29972347617149353,
          -16.598230361938477,
          -15.206748008728027,
          -5.143515110015869,
          -24.644428253173828,
          -14.932167053222656,
          21.95946502685547,
          27.131755828857422,
          -23.942825317382812,
          -8.406611442565918,
          21.150094985961914,
          -21.43523597717285,
          -15.012382507324219,
          17.821224212646484,
          -25.617403030395508,
          9.927450180053711,
          11.422724723815918,
          -6.349536418914795,
          10.709990501403809,
          -3.2546164989471436,
          -17.925403594970703,
          -27.2950496673584,
          -8.353009223937988,
          -11.445423126220703,
          0.013312899507582188,
          17.796112060546875,
          19.25620460510254,
          -23.653623580932617,
          -18.082902908325195,
          12.640682220458984,
          -16.919130325317383,
          -0.03962311893701553,
          6.622446537017822,
          17.633323669433594,
          -18.938745498657227,
          -5.430672645568848,
          -26.744964599609375,
          18.692707061767578,
          2.5641212463378906,
          -0.004460340365767479,
          -15.956871032714844,
          -17.67630958557129,
          5.530627250671387,
          15.581953048706055,
          -17.099594116210938,
          -6.244534492492676,
          -27.652069091796875,
          -3.46547532081604,
          -20.97007942199707,
          -5.248176097869873,
          -5.275807857513428,
          -14.462422370910645,
          -22.187170028686523,
          -16.084375381469727,
          0.9387397170066833,
          -9.543757438659668,
          -6.09242582321167,
          -2.5526211261749268,
          -13.266745567321777,
          -10.6110258102417,
          24.59193992614746,
          26.404029846191406,
          -25.324752807617188,
          8.081039428710938,
          -5.922893524169922,
          -8.596879959106445,
          -22.62013053894043,
          28.687023162841797,
          17.26953125,
          -23.388511657714844,
          -11.68299388885498,
          11.785201072692871,
          19.643375396728516,
          26.502342224121094,
          25.605188369750977,
          26.519994735717773,
          23.05691909790039,
          15.607464790344238,
          -12.038495063781738,
          -9.585463523864746,
          1.4521681070327759,
          3.381690502166748,
          28.580312728881836,
          -3.79236102104187,
          -7.180530548095703,
          -11.019342422485352,
          -14.454934120178223,
          -13.566073417663574,
          16.314006805419922,
          -12.544466972351074,
          9.150656700134277,
          15.523452758789062,
          5.308262348175049,
          -7.055116176605225
         ],
         "xaxis": "x",
         "y": [
          2.826054096221924,
          4.733232498168945,
          -18.80164337158203,
          9.844246864318848,
          17.89268684387207,
          -20.815067291259766,
          -18.44891357421875,
          9.682733535766602,
          -10.661130905151367,
          -13.406645774841309,
          8.641341209411621,
          7.913541793823242,
          -16.002899169921875,
          -23.3853816986084,
          6.608713150024414,
          -27.498245239257812,
          -20.137073516845703,
          19.402616500854492,
          10.045151710510254,
          11.842320442199707,
          5.882862091064453,
          16.645959854125977,
          11.000754356384277,
          8.051191329956055,
          -27.29306983947754,
          9.32068920135498,
          17.451059341430664,
          18.484577178955078,
          15.802595138549805,
          -0.9573256373405457,
          8.48813533782959,
          -17.700942993164062,
          -18.69111442565918,
          15.653314590454102,
          -29.253616333007812,
          10.847821235656738,
          -3.2718992233276367,
          14.75522232055664,
          -22.762062072753906,
          14.839664459228516,
          10.625383377075195,
          13.637548446655273,
          3.546027898788452,
          -5.556770324707031,
          -24.758838653564453,
          -24.978004455566406,
          2.495680093765259,
          1.0582408905029297,
          -21.481090545654297,
          8.086079597473145,
          10.205877304077148,
          -24.583452224731445,
          -15.189024925231934,
          6.427907466888428,
          16.444894790649414,
          -28.226686477661133,
          10.490578651428223,
          -28.5377254486084,
          15.787332534790039,
          -11.957493782043457,
          0.3445054888725281,
          -20.67038345336914,
          -19.669227600097656,
          -4.015615463256836,
          4.3400115966796875,
          10.361968994140625,
          -12.6683988571167,
          22.153451919555664,
          11.276153564453125,
          14.965373992919922,
          -15.06252670288086,
          -13.195605278015137,
          12.083612442016602,
          -18.4899959564209,
          -22.223875045776367,
          20.462385177612305,
          15.331531524658203,
          -3.439304828643799,
          4.686213970184326,
          0.732242226600647,
          0.7907372713088989,
          13.261414527893066,
          -5.149170398712158,
          7.480292320251465,
          -3.5969271659851074,
          18.18158721923828,
          -12.712017059326172,
          17.10572624206543,
          13.409016609191895,
          -3.672740936279297,
          1.9655870199203491,
          -29.339107513427734,
          16.957828521728516,
          18.574880599975586,
          9.177056312561035,
          17.84934425354004,
          9.628170013427734,
          -25.231725692749023
         ],
         "yaxis": "y"
        },
        {
         "customdata": [
          [
           "Def Tech",
           "My Way",
           "2005"
          ],
          [
           "Ketsumeishi",
           "sakura",
           "2005"
          ],
          [
           "ORANGE RANGE",
           "花",
           "2005"
          ],
          [
           "DREAMS COME TRUE",
           "何度でも",
           "2005"
          ],
          [
           "aiko",
           "Kira Kira",
           "2005"
          ],
          [
           "SPITZ",
           "春の歌",
           "2005"
          ],
          [
           "Daniel Powter",
           "Bad Day",
           "2005"
          ],
          [
           "O-Zone",
           "Dragostea Din Tei - Original Romanian Version",
           "2005"
          ],
          [
           "Mariah Carey",
           "We Belong Together",
           "2005"
          ],
          [
           "Madonna",
           "Hung Up",
           "2005"
          ],
          [
           "Gwen Stefani",
           "Hollaback Girl",
           "2005"
          ],
          [
           "Mario",
           "Let Me Love You",
           "2005"
          ],
          [
           "ORANGE RANGE",
           "＊〜アスタリスク〜",
           "2005"
          ],
          [
           "GLAY",
           "SCREAM",
           "2005"
          ],
          [
           "ELLEGARDEN",
           "Space Sonic",
           "2005"
          ],
          [
           "GING NANG BOYZ",
           "BABY BABY",
           "2005"
          ],
          [
           "B'z",
           "OCEAN",
           "2005"
          ],
          [
           "U2",
           "Vertigo",
           "2005"
          ],
          [
           "Green Day",
           "American Idiot",
           "2005"
          ],
          [
           "Coldplay",
           "Speed of Sound",
           "2005"
          ],
          [
           "Maroon 5",
           "Sunday Morning",
           "2005"
          ],
          [
           "Mr.Children",
           "and I love you",
           "2005"
          ],
          [
           "Ken Hirai",
           "POP STAR",
           "2005"
          ],
          [
           "BENNIE K",
           "Dreamland",
           "2005"
          ],
          [
           "Ai Otsuka",
           "SMILY",
           "2005"
          ],
          [
           "サザンオールスターズ",
           "雨上がりにもう一度キスをして",
           "2005"
          ],
          [
           "Remioromen",
           "南風",
           "2005"
          ],
          [
           "Sukima Switch",
           "全力少年",
           "2005"
          ],
          [
           "SINGER SONGER",
           "初花凜々（しょかりんりん）",
           "2005"
          ],
          [
           "BUMP OF CHICKEN",
           "車輪の唄 (Single Edit)",
           "2005"
          ],
          [
           "YUKI",
           "JOY",
           "2005"
          ],
          [
           "Ayumi Hamasaki",
           "STEP you",
           "2005"
          ],
          [
           "Black Eyed Peas",
           "Don't Phunk With My Heart",
           "2005"
          ],
          [
           "50 Cent",
           "Candy Shop",
           "2005"
          ],
          [
           "The Pussycat Dolls",
           "Don't Cha",
           "2005"
          ],
          [
           "Craig David",
           "All the Way",
           "2005"
          ],
          [
           "ORANGE RANGE",
           "お願い！セニョリータ",
           "2005"
          ],
          [
           "Group Tamashii",
           "君にジュースを買ってあげる＿＿",
           "2005"
          ],
          [
           "Ken Matsudaira",
           "マツケンサンバⅡ",
           "2005"
          ],
          [
           "Yoku Hata",
           "ギター侍のうた - 有名人斬りバージョン",
           "2005"
          ],
          [
           "Destiny's Child",
           "Lose My Breath",
           "2005"
          ],
          [
           "Missy Elliott",
           "Lose Control (feat. Ciara & Fat Man Scoop)",
           "2005"
          ],
          [
           "Rihanna",
           "Pon de Replay",
           "2005"
          ],
          [
           "Nana",
           "GLAMOROUS SKY",
           "2005"
          ],
          [
           "L'Arc-en-Ciel",
           "Link",
           "2005"
          ],
          [
           "ARASHI",
           "WISH",
           "2005"
          ],
          [
           "D-51",
           "No More Cry",
           "2005"
          ],
          [
           "Sasuke",
           "青いベンチ",
           "2005"
          ],
          [
           "UNDER GRAPH",
           "ツバサ",
           "2005"
          ],
          [
           "KOBUKURO",
           "ここにしか咲かない花",
           "2005"
          ],
          [
           "Janne Da Arc",
           "月光花",
           "2005"
          ],
          [
           "Ayaka Hirahara",
           "明日",
           "2005"
          ],
          [
           "Kumi Koda",
           "Butterfly",
           "2005"
          ],
          [
           "Oasis",
           "Lyla",
           "2005"
          ],
          [
           "Franz Ferdinand",
           "Do You Want To",
           "2005"
          ],
          [
           "Green Day",
           "Boulevard of Broken Dreams",
           "2005"
          ],
          [
           "Weezer",
           "Beverly Hills",
           "2005"
          ],
          [
           "The Killers",
           "Mr. Brightside",
           "2005"
          ],
          [
           "Mr.Children",
           "未来",
           "2005"
          ],
          [
           "Quruli",
           "BIRTHDAY",
           "2005"
          ],
          [
           "BUMP OF CHICKEN",
           "プラネタリウム",
           "2005"
          ],
          [
           "サザンオールスターズ",
           "BOHBO No.5",
           "2005"
          ],
          [
           "Sambomaster",
           "世界はそれを愛と呼ぶんだぜ",
           "2005"
          ],
          [
           "Tokyo Incidents",
           "修羅場 - シングル",
           "2005"
          ],
          [
           "Ulfuls",
           "暴れだす - full version",
           "2005"
          ],
          [
           "New Order",
           "Krafty - Single Edit; 2015 Remaster",
           "2005"
          ],
          [
           "B'z",
           "愛のバクダン",
           "2005"
          ],
          [
           "YUI",
           "feel my soul",
           "2005"
          ],
          [
           "K",
           "over...",
           "2005"
          ],
          [
           "Kaela Kimura",
           "リルラ リルハ",
           "2005"
          ],
          [
           "Chris Brown",
           "Run It! (feat. Juelz Santana)",
           "2005"
          ],
          [
           "Kanye West",
           "Gold Digger",
           "2005"
          ],
          [
           "Kings of Leon",
           "The Bucket",
           "2005"
          ],
          [
           "John Legend",
           "Used to Love U",
           "2005"
          ],
          [
           "James Blunt",
           "You're Beautiful",
           "2005"
          ],
          [
           "Crystal Kay",
           "恋におちたら",
           "2005"
          ],
          [
           "Yo Hitoto",
           "ハナミズキ",
           "2005"
          ],
          [
           "Ai Otsuka",
           "プラネタリウム",
           "2005"
          ],
          [
           "Gorillaz",
           "Feel Good Inc.",
           "2005"
          ],
          [
           "JAY-Z",
           "Numb / Encore",
           "2005"
          ],
          [
           "Eminem",
           "Just Lose It",
           "2005"
          ],
          [
           "Snoop Dogg",
           "Drop It Like It's Hot",
           "2005"
          ],
          [
           "KREVA",
           "イッサイガッサイ",
           "2005"
          ],
          [
           "AI",
           "Story",
           "2005"
          ],
          [
           "BoA",
           "メリクリ",
           "2005"
          ],
          [
           "Every Little Thing",
           "恋文",
           "2005"
          ],
          [
           "Masaharu Fukuyama",
           "泣いたりしないで",
           "2005"
          ],
          [
           "KOBUKURO",
           "桜",
           "2005"
          ],
          [
           "YUZU",
           "Choutokkyuu",
           "2005"
          ],
          [
           "REIRA starring Yuna Ito",
           "ENDLESS STORY",
           "2005"
          ],
          [
           "Hikaru Utada",
           "Be My Last",
           "2005"
          ],
          [
           "Tristan Prettyman",
           "Love Love Love",
           "2005"
          ],
          [
           "Kelly Clarkson",
           "Since U Been Gone",
           "2005"
          ],
          [
           "Lifehouse",
           "You And Me",
           "2005"
          ],
          [
           "ASIAN KUNG-FU GENERATION",
           "ブルートレイン",
           "2005"
          ],
          [
           "YUI",
           "Tomorrow's way",
           "2005"
          ],
          [
           "UVERworld",
           "D-tecnoLife",
           "2005"
          ],
          [
           "Hitomi Takahashi",
           "僕たちの行方",
           "2005"
          ]
         ],
         "hovertemplate": "<b>%{hovertext}</b><br><br>年代=%{customdata[2]}<br>第一主成分=%{x}<br>第二主成分=%{y}<br>アーティスト名=%{customdata[0]}<br>トラック名=%{customdata[1]}<extra></extra>",
         "hovertext": [
          "Def Tech",
          "Ketsumeishi",
          "ORANGE RANGE",
          "DREAMS COME TRUE",
          "aiko",
          "SPITZ",
          "Daniel Powter",
          "O-Zone",
          "Mariah Carey",
          "Madonna",
          "Gwen Stefani",
          "Mario",
          "ORANGE RANGE",
          "GLAY",
          "ELLEGARDEN",
          "GING NANG BOYZ",
          "B'z",
          "U2",
          "Green Day",
          "Coldplay",
          "Maroon 5",
          "Mr.Children",
          "Ken Hirai",
          "BENNIE K",
          "Ai Otsuka",
          "サザンオールスターズ",
          "Remioromen",
          "Sukima Switch",
          "SINGER SONGER",
          "BUMP OF CHICKEN",
          "YUKI",
          "Ayumi Hamasaki",
          "Black Eyed Peas",
          "50 Cent",
          "The Pussycat Dolls",
          "Craig David",
          "ORANGE RANGE",
          "Group Tamashii",
          "Ken Matsudaira",
          "Yoku Hata",
          "Destiny's Child",
          "Missy Elliott",
          "Rihanna",
          "Nana",
          "L'Arc-en-Ciel",
          "ARASHI",
          "D-51",
          "Sasuke",
          "UNDER GRAPH",
          "KOBUKURO",
          "Janne Da Arc",
          "Ayaka Hirahara",
          "Kumi Koda",
          "Oasis",
          "Franz Ferdinand",
          "Green Day",
          "Weezer",
          "The Killers",
          "Mr.Children",
          "Quruli",
          "BUMP OF CHICKEN",
          "サザンオールスターズ",
          "Sambomaster",
          "Tokyo Incidents",
          "Ulfuls",
          "New Order",
          "B'z",
          "YUI",
          "K",
          "Kaela Kimura",
          "Chris Brown",
          "Kanye West",
          "Kings of Leon",
          "John Legend",
          "James Blunt",
          "Crystal Kay",
          "Yo Hitoto",
          "Ai Otsuka",
          "Gorillaz",
          "JAY-Z",
          "Eminem",
          "Snoop Dogg",
          "KREVA",
          "AI",
          "BoA",
          "Every Little Thing",
          "Masaharu Fukuyama",
          "KOBUKURO",
          "YUZU",
          "REIRA starring Yuna Ito",
          "Hikaru Utada",
          "Tristan Prettyman",
          "Kelly Clarkson",
          "Lifehouse",
          "ASIAN KUNG-FU GENERATION",
          "YUI",
          "UVERworld",
          "Hitomi Takahashi"
         ],
         "legendgroup": "2005",
         "marker": {
          "color": "#ab63fa",
          "symbol": "circle"
         },
         "mode": "markers",
         "name": "2005",
         "orientation": "v",
         "showlegend": true,
         "type": "scatter",
         "x": [
          -6.452000141143799,
          -4.887109279632568,
          12.098974227905273,
          5.89463996887207,
          9.142011642456055,
          4.864277362823486,
          11.52784252166748,
          -2.0374011993408203,
          -2.220384359359741,
          -11.006856918334961,
          -22.368913650512695,
          -7.8324408531188965,
          -5.458715915679932,
          5.267542362213135,
          -15.432181358337402,
          9.152915000915527,
          14.323507308959961,
          1.1290795803070068,
          -0.07789547741413116,
          -15.141683578491211,
          2.770134687423706,
          16.198999404907227,
          -0.429378867149353,
          -0.8230047225952148,
          1.9166061878204346,
          -3.516702651977539,
          4.64364767074585,
          -4.041360378265381,
          3.6169121265411377,
          6.112648010253906,
          0.5849860310554504,
          6.30153226852417,
          -19.8369140625,
          -18.702299118041992,
          -12.665767669677734,
          2.1801071166992188,
          -20.874807357788086,
          -16.35074806213379,
          7.441402435302734,
          -11.993988037109375,
          -1.9384206533432007,
          -11.762384414672852,
          -8.775185585021973,
          -28.07713508605957,
          2.046654224395752,
          -4.497430801391602,
          0.32033848762512207,
          4.083903789520264,
          2.8510773181915283,
          22.707942962646484,
          -14.230106353759766,
          28.61775779724121,
          -24.187902450561523,
          8.026505470275879,
          -11.646384239196777,
          13.928752899169922,
          -10.995973587036133,
          11.311518669128418,
          8.175952911376953,
          -9.053032875061035,
          13.402809143066406,
          -23.237201690673828,
          7.831061363220215,
          3.120161294937134,
          6.775454521179199,
          -24.23198890686035,
          5.055220603942871,
          12.31698989868164,
          18.04376792907715,
          2.403895139694214,
          -11.303252220153809,
          -12.979194641113281,
          16.605188369750977,
          -11.495085716247559,
          -5.771246910095215,
          6.004878520965576,
          25.90163230895996,
          -26.004241943359375,
          -13.059500694274902,
          -13.60864543914795,
          -3.2838478088378906,
          -10.36354923248291,
          -19.81998062133789,
          15.652365684509277,
          28.481779098510742,
          24.829240798950195,
          23.018203735351562,
          23.045000076293945,
          14.800361633300781,
          17.52113151550293,
          16.696775436401367,
          5.400546073913574,
          1.4707082509994507,
          29.381916046142578,
          -25.298158645629883,
          14.537198066711426,
          -20.977516174316406,
          8.465447425842285
         ],
         "xaxis": "x",
         "y": [
          -3.467357635498047,
          7.556631565093994,
          16.457338333129883,
          3.4438765048980713,
          5.596613883972168,
          10.079071044921875,
          -3.013021469116211,
          1.7462180852890015,
          -4.773202896118164,
          -15.047650337219238,
          -21.437015533447266,
          -19.2343807220459,
          13.094165802001953,
          11.50931167602539,
          -30.315509796142578,
          20.629365921020508,
          6.92124605178833,
          16.358245849609375,
          18.57802391052246,
          -14.45695686340332,
          -2.3542308807373047,
          7.191863536834717,
          10.132160186767578,
          8.27017879486084,
          16.345069885253906,
          10.880718231201172,
          8.90396499633789,
          8.090206146240234,
          6.138143539428711,
          7.709639549255371,
          9.12095832824707,
          6.5978851318359375,
          -30.02030372619629,
          -0.33397191762924194,
          -20.0553035736084,
          -1.2315616607666016,
          -12.11805248260498,
          -2.687035322189331,
          -3.2555463314056396,
          -1.3905916213989258,
          3.337566375732422,
          -19.018177032470703,
          -4.322941303253174,
          10.00750732421875,
          12.52006721496582,
          8.694802284240723,
          11.34012222290039,
          -2.1886510848999023,
          -4.03519344329834,
          0.1487431675195694,
          -13.904258728027344,
          2.930490016937256,
          9.020435333251953,
          15.787468910217285,
          18.193702697753906,
          15.428906440734863,
          9.709933280944824,
          19.803403854370117,
          6.705860614776611,
          -16.016002655029297,
          4.286999702453613,
          -14.366680145263672,
          18.35872459411621,
          10.058036804199219,
          13.529934883117676,
          9.206692695617676,
          18.030433654785156,
          16.896400451660156,
          14.918469429016113,
          14.733399391174316,
          -27.124866485595703,
          -4.615431785583496,
          11.482894897460938,
          9.757272720336914,
          -22.319467544555664,
          8.952763557434082,
          7.392492294311523,
          -12.514963150024414,
          5.759528636932373,
          6.229796886444092,
          -3.133363962173462,
          -4.702001094818115,
          -0.17225927114486694,
          -1.619315505027771,
          -12.179097175598145,
          -0.8878671526908875,
          5.811947345733643,
          0.04007910192012787,
          19.964956283569336,
          8.862700462341309,
          -12.942129135131836,
          2.320117473602295,
          3.2244913578033447,
          -12.594388008117676,
          9.511222839355469,
          17.223886489868164,
          -12.033723831176758,
          11.801383972167969
         ],
         "yaxis": "y"
        },
        {
         "customdata": [
          [
           "KAN",
           "Yokereba Issyoni",
           "2010"
          ],
          [
           "Ikimonogakari",
           "ありがとう",
           "2010"
          ],
          [
           "AKB48",
           "Beginner",
           "2010"
          ],
          [
           "ARASHI",
           "Monster",
           "2010"
          ],
          [
           "Hikaru Utada",
           "Goodbye Happiness",
           "2010"
          ],
          [
           "Tokyo Incidents",
           "能動的三分間",
           "2010"
          ],
          [
           "Katy Perry",
           "California Gurls",
           "2010"
          ],
          [
           "Lady Gaga",
           "Bad Romance",
           "2010"
          ],
          [
           "P!nk",
           "Raise Your Glass",
           "2010"
          ],
          [
           "Shota Shimizu",
           "FOREVER LOVE",
           "2010"
          ],
          [
           "Kana Nishino",
           "君って",
           "2010"
          ],
          [
           "andymori",
           "1984",
           "2010"
          ],
          [
           "ONE OK ROCK",
           "Wherever you are",
           "2010"
          ],
          [
           "RADWIMPS",
           "Manifesto",
           "2010"
          ],
          [
           "Eminem",
           "Love The Way You Lie",
           "2010"
          ],
          [
           "Bruno Mars",
           "Just the Way You Are",
           "2010"
          ],
          [
           "Kesha",
           "TiK ToK",
           "2010"
          ],
          [
           "Keisuke Kuwata",
           "本当は怖い愛とロマンス",
           "2010"
          ],
          [
           "Masaharu Fukuyama",
           "はつ恋",
           "2010"
          ],
          [
           "AKB48",
           "ヘビーローテーション",
           "2010"
          ],
          [
           "Kana Nishino",
           "会いたくて 会いたくて",
           "2010"
          ],
          [
           "Superfly",
           "タマシイレボリューション",
           "2010"
          ],
          [
           "K'NAAN",
           "Wavin' Flag - Celebration Mix",
           "2010"
          ],
          [
           "Taylor Swift",
           "Mine",
           "2010"
          ],
          [
           "ARASHI",
           "果てない空",
           "2010"
          ],
          [
           "BUMP OF CHICKEN",
           "宇宙飛行士への手紙",
           "2010"
          ],
          [
           "YUI",
           "GLORIA",
           "2010"
          ],
          [
           "Perfume",
           "VOICE",
           "2010"
          ],
          [
           "Maroon 5",
           "Misery",
           "2010"
          ],
          [
           "Taio Cruz",
           "Dynamite",
           "2010"
          ],
          [
           "INFINITY16",
           "伝えたい事がこんなあるのに",
           "2010"
          ],
          [
           "Yusuke",
           "ライオン",
           "2010"
          ],
          [
           "SEKAI NO OWARI",
           "虹色の戦争",
           "2010"
          ],
          [
           "Toshinobu Kubota",
           "LOVE RAIN ～恋の雨～",
           "2010"
          ],
          [
           "RIP SLYME",
           "Good Times",
           "2010"
          ],
          [
           "Michael Jackson",
           "This Is It",
           "2010"
          ],
          [
           "Mark Ronson",
           "Bang Bang Bang (feat. MNDR)",
           "2010"
          ],
          [
           "KT Tunstall",
           "Fade Like A Shadow",
           "2010"
          ],
          [
           "Fujifabric",
           "夜明けのBEAT",
           "2010"
          ],
          [
           "sakanaction",
           "アルクアラウンド",
           "2010"
          ],
          [
           "ASIAN KUNG-FU GENERATION",
           "ソラニン",
           "2010"
          ],
          [
           "ONE OK ROCK",
           "Kanzen kankaku Dreamer",
           "2010"
          ],
          [
           "L'Arc-en-Ciel",
           "BLESS",
           "2010"
          ],
          [
           "Kylie Minogue",
           "All the Lovers",
           "2010"
          ],
          [
           "Jamiroquai",
           "White Knuckle Ride",
           "2010"
          ],
          [
           "USHER",
           "DJ Got Us Fallin' In Love (feat. Pitbull)",
           "2010"
          ],
          [
           "KOBUKURO",
           "流星",
           "2010"
          ],
          [
           "Kazuyoshi Saito",
           "ずっと好きだった",
           "2010"
          ],
          [
           "Justin Bieber",
           "Baby",
           "2010"
          ],
          [
           "Alicia Keys",
           "Try Sleeping with a Broken Heart",
           "2010"
          ],
          [
           "Black Eyed Peas",
           "Imma Be",
           "2010"
          ],
          [
           "J SOUL BROTHERS III",
           "Best Friend's Girl",
           "2010"
          ],
          [
           "KARA",
           "ミスター",
           "2010"
          ],
          [
           "Girls' Generation",
           "Gee",
           "2010"
          ],
          [
           "Rihanna",
           "Only Girl (In The World)",
           "2010"
          ],
          [
           "B.o.B",
           "Nothin' on You (feat. Bruno Mars)",
           "2010"
          ],
          [
           "David Guetta",
           "Memories (feat. Kid Cudi)",
           "2010"
          ],
          [
           "FUNKY MONKEY BABYS",
           "あとひとつ",
           "2010"
          ],
          [
           "Superfly",
           "Wildflower",
           "2010"
          ],
          [
           "Creep Hyp",
           "He Is Mine",
           "2010"
          ],
          [
           "Jack Johnson",
           "You And Your Heart",
           "2010"
          ],
          [
           "Gorillaz",
           "Stylo (feat. Mos Def and Bobby Womack)",
           "2010"
          ],
          [
           "The Chemical Brothers",
           "Swoon - Radio Edit",
           "2010"
          ],
          [
           "SPITZ",
           "つぐみ",
           "2010"
          ],
          [
           "Ketsumeishi",
           "ofutariSummer",
           "2010"
          ],
          [
           "JUJU",
           "この夜を止めてよ",
           "2010"
          ],
          [
           "Kanye West",
           "POWER",
           "2010"
          ],
          [
           "Drake",
           "Over",
           "2010"
          ],
          [
           "Dr. Dre",
           "Kush - Main",
           "2010"
          ],
          [
           "Yui Aragaki",
           "小さな恋のうた",
           "2010"
          ],
          [
           "Motohiro Hata",
           "アイ",
           "2010"
          ],
          [
           "Gen Hoshino",
           "Kuse no Uta",
           "2010"
          ],
          [
           "Lady Gaga",
           "Telephone",
           "2010"
          ],
          [
           "Kesha",
           "Blah Blah Blah (feat. 3OH!3)",
           "2010"
          ],
          [
           "Katy Perry",
           "Teenage Dream",
           "2010"
          ],
          [
           "Kana Uemura",
           "トイレの神様",
           "2010"
          ],
          [
           "Monkey Majik",
           "SAKURA",
           "2010"
          ],
          [
           "EXILE",
           "I Wish For You",
           "2010"
          ],
          [
           "Lady A",
           "Need You Now",
           "2010"
          ],
          [
           "Nelly",
           "Just A Dream",
           "2010"
          ],
          [
           "Mr.Children",
           "365日",
           "2010"
          ],
          [
           "Tokyo Incidents",
           "勝ち戦",
           "2010"
          ],
          [
           "RADWIMPS",
           "Keitaidenwa - Cat Version",
           "2010"
          ],
          [
           "Train",
           "Hey, Soul Sister",
           "2010"
          ],
          [
           "USHER",
           "OMG (feat. will.i.am) - Disco Fries Extended Mix",
           "2010"
          ],
          [
           "Taio Cruz",
           "Break Your Heart",
           "2010"
          ],
          [
           "Meisa Kuroki",
           "LOL!",
           "2010"
          ],
          [
           "Momoiro Clover Z",
           "行くぜっ!怪盗少女",
           "2010"
          ],
          [
           "KREVA",
           "かも",
           "2010"
          ],
          [
           "Kumi Koda",
           "好きで、好きで、好きで。",
           "2010"
          ],
          [
           "Kaela Kimura",
           "Ring a Ding Dong",
           "2010"
          ],
          [
           "Jason Derulo",
           "In My Head",
           "2010"
          ],
          [
           "Mike Posner",
           "Cooler Than Me - Single Mix",
           "2010"
          ],
          [
           "Mao Abe",
           "いつの日も",
           "2010"
          ],
          [
           "lecca",
           "TSUBOMI",
           "2010"
          ],
          [
           "DOES",
           "バクチ・ダンサー",
           "2010"
          ],
          [
           "物語シリーズ",
           "恋愛サーキュレーション",
           "2010"
          ],
          [
           "GOLDEN BOMBER",
           "女々しくて",
           "2010"
          ],
          [
           "Fuyumi Sakamoto",
           "また君に恋してる",
           "2010"
          ]
         ],
         "hovertemplate": "<b>%{hovertext}</b><br><br>年代=%{customdata[2]}<br>第一主成分=%{x}<br>第二主成分=%{y}<br>アーティスト名=%{customdata[0]}<br>トラック名=%{customdata[1]}<extra></extra>",
         "hovertext": [
          "KAN",
          "Ikimonogakari",
          "AKB48",
          "ARASHI",
          "Hikaru Utada",
          "Tokyo Incidents",
          "Katy Perry",
          "Lady Gaga",
          "P!nk",
          "Shota Shimizu",
          "Kana Nishino",
          "andymori",
          "ONE OK ROCK",
          "RADWIMPS",
          "Eminem",
          "Bruno Mars",
          "Kesha",
          "Keisuke Kuwata",
          "Masaharu Fukuyama",
          "AKB48",
          "Kana Nishino",
          "Superfly",
          "K'NAAN",
          "Taylor Swift",
          "ARASHI",
          "BUMP OF CHICKEN",
          "YUI",
          "Perfume",
          "Maroon 5",
          "Taio Cruz",
          "INFINITY16",
          "Yusuke",
          "SEKAI NO OWARI",
          "Toshinobu Kubota",
          "RIP SLYME",
          "Michael Jackson",
          "Mark Ronson",
          "KT Tunstall",
          "Fujifabric",
          "sakanaction",
          "ASIAN KUNG-FU GENERATION",
          "ONE OK ROCK",
          "L'Arc-en-Ciel",
          "Kylie Minogue",
          "Jamiroquai",
          "USHER",
          "KOBUKURO",
          "Kazuyoshi Saito",
          "Justin Bieber",
          "Alicia Keys",
          "Black Eyed Peas",
          "J SOUL BROTHERS III",
          "KARA",
          "Girls' Generation",
          "Rihanna",
          "B.o.B",
          "David Guetta",
          "FUNKY MONKEY BABYS",
          "Superfly",
          "Creep Hyp",
          "Jack Johnson",
          "Gorillaz",
          "The Chemical Brothers",
          "SPITZ",
          "Ketsumeishi",
          "JUJU",
          "Kanye West",
          "Drake",
          "Dr. Dre",
          "Yui Aragaki",
          "Motohiro Hata",
          "Gen Hoshino",
          "Lady Gaga",
          "Kesha",
          "Katy Perry",
          "Kana Uemura",
          "Monkey Majik",
          "EXILE",
          "Lady A",
          "Nelly",
          "Mr.Children",
          "Tokyo Incidents",
          "RADWIMPS",
          "Train",
          "USHER",
          "Taio Cruz",
          "Meisa Kuroki",
          "Momoiro Clover Z",
          "KREVA",
          "Kumi Koda",
          "Kaela Kimura",
          "Jason Derulo",
          "Mike Posner",
          "Mao Abe",
          "lecca",
          "DOES",
          "物語シリーズ",
          "GOLDEN BOMBER",
          "Fuyumi Sakamoto"
         ],
         "legendgroup": "2010",
         "marker": {
          "color": "#FFA15A",
          "symbol": "circle"
         },
         "mode": "markers",
         "name": "2010",
         "orientation": "v",
         "showlegend": true,
         "type": "scatter",
         "x": [
          -3.104571580886841,
          12.593683242797852,
          10.538004875183105,
          -18.718034744262695,
          7.1988115310668945,
          -15.33418083190918,
          -0.05293983221054077,
          1.1154149770736694,
          -0.6871527433395386,
          -18.899194717407227,
          16.976558685302734,
          3.1159849166870117,
          17.85389518737793,
          -9.0145902633667,
          -14.485410690307617,
          3.9513027667999268,
          -13.825613975524902,
          -9.161541938781738,
          -11.377616882324219,
          -24.61174201965332,
          -8.158646583557129,
          -16.00646209716797,
          11.433440208435059,
          -0.1068858653306961,
          5.2997965812683105,
          8.797213554382324,
          -8.51034164428711,
          -18.131860733032227,
          -15.269922256469727,
          -1.2502561807632446,
          -9.097599029541016,
          3.633648633956909,
          -23.632980346679688,
          -17.586444854736328,
          -6.4301438331604,
          15.534232139587402,
          -16.997072219848633,
          0.6812640428543091,
          -17.755861282348633,
          -19.601476669311523,
          17.44628143310547,
          -17.436073303222656,
          8.864473342895508,
          1.412421464920044,
          -9.664207458496094,
          -17.086666107177734,
          25.248973846435547,
          -11.47138500213623,
          -14.035651206970215,
          -20.06847381591797,
          -13.167577743530273,
          10.436507225036621,
          -20.558269500732422,
          -21.573932647705078,
          -12.842991828918457,
          5.246792793273926,
          -13.924180030822754,
          11.110769271850586,
          -17.91187858581543,
          -16.422155380249023,
          1.2369025945663452,
          -15.577224731445312,
          -27.99296760559082,
          7.017877101898193,
          -19.202350616455078,
          -20.14048194885254,
          -21.033559799194336,
          -19.987871170043945,
          7.4618964195251465,
          21.691043853759766,
          24.32404899597168,
          25.535093307495117,
          -13.841288566589355,
          -12.760303497314453,
          0.5858787894248962,
          27.56993293762207,
          -24.37922477722168,
          -20.071332931518555,
          16.03680992126465,
          14.688005447387695,
          24.610828399658203,
          2.957979202270508,
          5.350453853607178,
          -16.995601654052734,
          6.695065498352051,
          -9.25985336303711,
          -12.342384338378906,
          -15.675361633300781,
          -10.17664909362793,
          15.448684692382812,
          0.7302486300468445,
          -15.68236255645752,
          -19.95846176147461,
          18.46143913269043,
          6.947967052459717,
          28.456098556518555,
          -15.241120338439941,
          -17.676332473754883,
          26.558700561523438
         ],
         "xaxis": "x",
         "y": [
          -24.479440689086914,
          6.417448043823242,
          17.274499893188477,
          -27.453113555908203,
          -3.5738766193389893,
          -26.566543579101562,
          2.160618782043457,
          9.812315940856934,
          0.3920707404613495,
          -23.177000045776367,
          15.513246536254883,
          -4.8554511070251465,
          17.69723129272461,
          15.998724937438965,
          5.20370626449585,
          3.9825997352600098,
          -24.95614242553711,
          10.613160133361816,
          -29.739501953125,
          -10.361396789550781,
          -24.2322940826416,
          -30.783493041992188,
          -2.787214756011963,
          3.860369920730591,
          1.1898969411849976,
          13.546103477478027,
          10.416844367980957,
          -26.565914154052734,
          -23.68222999572754,
          -0.17341628670692444,
          18.53804588317871,
          -1.5490256547927856,
          -13.567234992980957,
          -22.064504623413086,
          8.666886329650879,
          -3.5636165142059326,
          -24.498008728027344,
          14.515070915222168,
          -29.800424575805664,
          -13.867475509643555,
          17.95500373840332,
          -18.02510643005371,
          9.010610580444336,
          4.132396697998047,
          -2.843641757965088,
          -17.364755630493164,
          8.279500007629395,
          13.300289154052734,
          -17.560110092163086,
          0.37472981214523315,
          -2.5513601303100586,
          5.994242191314697,
          -20.747453689575195,
          -21.199535369873047,
          -21.28431510925293,
          -2.9880309104919434,
          -3.3825125694274902,
          4.930865287780762,
          -28.508607864379883,
          -2.543656349182129,
          -2.1386358737945557,
          -20.565752029418945,
          9.369744300842285,
          8.589163780212402,
          -24.510461807250977,
          -25.9399471282959,
          -30.361120223999023,
          0.3369864821434021,
          10.125565528869629,
          -1.9766322374343872,
          0.5410799980163574,
          0.11174040287733078,
          -21.7546443939209,
          10.373764991760254,
          2.279435157775879,
          -10.306853294372559,
          -15.717598915100098,
          -28.23227882385254,
          8.46070384979248,
          9.383858680725098,
          8.231406211853027,
          2.918792963027954,
          7.996939182281494,
          -19.86406707763672,
          -7.359282493591309,
          11.524859428405762,
          -20.785303115844727,
          -4.782220363616943,
          0.4293118417263031,
          15.98790168762207,
          6.662600040435791,
          -24.933574676513672,
          -30.633197784423828,
          15.574881553649902,
          -4.5186357498168945,
          -13.9058256149292,
          -21.565732955932617,
          -29.216548919677734,
          -3.907604694366455
         ],
         "yaxis": "y"
        },
        {
         "customdata": [
          [
           "sakanaction",
           "新宝島",
           "2015"
          ],
          [
           "[Alexandros]",
           "ワタリドリ",
           "2015"
          ],
          [
           "Gesu No Kiwami Otome",
           "私以外私じゃないの",
           "2015"
          ],
          [
           "back number",
           "クリスマスソング",
           "2015"
          ],
          [
           "Kana Nishino",
           "トリセツ",
           "2015"
          ],
          [
           "Leo Ieiri",
           "君がくれた夏",
           "2015"
          ],
          [
           "Mark Ronson",
           "Uptown Funk (feat. Bruno Mars)",
           "2015"
          ],
          [
           "Ed Sheeran",
           "Thinking out Loud",
           "2015"
          ],
          [
           "Justin Bieber",
           "What Do You Mean?",
           "2015"
          ],
          [
           "Ariana Grande",
           "One Last Time",
           "2015"
          ],
          [
           "Carly Rae Jepsen",
           "I Really Like You",
           "2015"
          ],
          [
           "SEKAI NO OWARI",
           "Dragon Night",
           "2015"
          ],
          [
           "BUMP OF CHICKEN",
           "Hello,world!",
           "2015"
          ],
          [
           "UNISON SQUARE GARDEN",
           "シュガーソングとビターステップ",
           "2015"
          ],
          [
           "Gen Hoshino",
           "SUN",
           "2015"
          ],
          [
           "ARASHI",
           "Sakura",
           "2015"
          ],
          [
           "J SOUL BROTHERS III",
           "Summer Madness",
           "2015"
          ],
          [
           "Yu Takahashi",
           "明日はきっといい日になる",
           "2015"
          ],
          [
           "back number",
           "ヒロイン",
           "2015"
          ],
          [
           "Adele",
           "Hello",
           "2015"
          ],
          [
           "Wiz Khalifa",
           "See You Again (feat. Charlie Puth)",
           "2015"
          ],
          [
           "Justin Bieber",
           "Love Yourself",
           "2015"
          ],
          [
           "Coldplay",
           "Hymn for the Weekend",
           "2015"
          ],
          [
           "Zedd",
           "I Want You To Know",
           "2015"
          ],
          [
           "Kyary Pamyu Pamyu",
           "もんだいガール",
           "2015"
          ],
          [
           "Perfume",
           "STAR TRAIN",
           "2015"
          ],
          [
           "chay",
           "あなたに恋をしてみました",
           "2015"
          ],
          [
           "Che'Nelle",
           "Happiness",
           "2015"
          ],
          [
           "BTS",
           "For You",
           "2015"
          ],
          [
           "The Weeknd",
           "Earned It (Fifty Shades Of Grey) - From The \"Fifty Shades Of Grey\" Soundtrack",
           "2015"
          ],
          [
           "Shawn Mendes",
           "Stitches",
           "2015"
          ],
          [
           "Charlie Puth",
           "We Don't Talk Anymore (feat. Selena Gomez)",
           "2015"
          ],
          [
           "Mr.Children",
           "Starting Over",
           "2015"
          ],
          [
           "サザンオールスターズ",
           "栄光の男",
           "2015"
          ],
          [
           "Sheena Ringo",
           "長く短い祭",
           "2015"
          ],
          [
           "SEKAI NO OWARI",
           "ANTI-HERO",
           "2015"
          ],
          [
           "HIRAIDAI",
           "Slow & Easy",
           "2015"
          ],
          [
           "Lucky Kilimanjaro",
           "Burning Friday Night",
           "2015"
          ],
          [
           "Avicii",
           "Waiting For Love",
           "2015"
          ],
          [
           "Ellie Goulding",
           "Love Me Like You Do - From \"Fifty Shades Of Grey\"",
           "2015"
          ],
          [
           "Rachel Platten",
           "Fight Song",
           "2015"
          ],
          [
           "ONE OK ROCK",
           "Cry Out",
           "2015"
          ],
          [
           "Suchmos",
           "Miree",
           "2015"
          ],
          [
           "SHISHAMO",
           "熱帯夜",
           "2015"
          ],
          [
           "KOBUKURO",
           "未来",
           "2015"
          ],
          [
           "AKB48",
           "僕たちは戦わない",
           "2015"
          ],
          [
           "B'z",
           "有頂天",
           "2015"
          ],
          [
           "Taylor Swift",
           "Blank Space",
           "2015"
          ],
          [
           "Little Mix",
           "Black Magic",
           "2015"
          ],
          [
           "One Direction",
           "Perfect",
           "2015"
          ],
          [
           "J SOUL BROTHERS III",
           "O.R.I.O.N.",
           "2015"
          ],
          [
           "Superfly",
           "Beautiful",
           "2015"
          ],
          [
           "Crystal Kay",
           "REVOLUTION",
           "2015"
          ],
          [
           "Meghan Trainor",
           "Lips Are Movin",
           "2015"
          ],
          [
           "Justin Bieber",
           "Sorry",
           "2015"
          ],
          [
           "Avicii",
           "The Nights",
           "2015"
          ],
          [
           "Kumamushi",
           "あったかいんだからぁ♪",
           "2015"
          ],
          [
           "Taro Urashima",
           "海の声",
           "2015"
          ],
          [
           "Naoto Inti Raymi",
           "いつかきっと",
           "2015"
          ],
          [
           "Kenshi Yonezu",
           "Flowerwall",
           "2015"
          ],
          [
           "Major Lazer",
           "Lean On",
           "2015"
          ],
          [
           "Coldplay",
           "Adventure of a Lifetime",
           "2015"
          ],
          [
           "OMI",
           "Cheerleader - Felix Jaehn Remix Radio Edit",
           "2015"
          ],
          [
           "Kana Nishino",
           "もしも運命の人がいるのなら",
           "2015"
          ],
          [
           "Chatmonchy",
           "きみがその気なら",
           "2015"
          ],
          [
           "The Birthday",
           "I KNOW",
           "2015"
          ],
          [
           "Olly Alexander (Years & Years)",
           "King",
           "2015"
          ],
          [
           "Sam Smith",
           "Stay With Me",
           "2015"
          ],
          [
           "Chris Brown",
           "Ayo",
           "2015"
          ],
          [
           "Maroon 5",
           "Sugar",
           "2015"
          ],
          [
           "Flo Rida",
           "My House",
           "2015"
          ],
          [
           "Nogizaka46",
           "命は美しい",
           "2015"
          ],
          [
           "Masaharu Fukuyama",
           "I am a HERO",
           "2015"
          ],
          [
           "PornoGraffitti",
           "オー!リバル",
           "2015"
          ],
          [
           "Hozier",
           "Take Me to Church",
           "2015"
          ],
          [
           "Muse",
           "Mercy",
           "2015"
          ],
          [
           "Jonas Blue",
           "Fast Car",
           "2015"
          ],
          [
           "Troye Sivan",
           "YOUTH",
           "2015"
          ],
          [
           "YEN TOWN BAND",
           "アイノネ",
           "2015"
          ],
          [
           "Kenshi Yonezu",
           "メトロノーム",
           "2015"
          ],
          [
           "cero",
           "Summer Soul",
           "2015"
          ],
          [
           "Drake",
           "Right Hand",
           "2015"
          ],
          [
           "Fetty Wap",
           "My Way (feat. Monty)",
           "2015"
          ],
          [
           "Rihanna",
           "FourFiveSeconds",
           "2015"
          ],
          [
           "The Chemical Brothers",
           "Go",
           "2015"
          ],
          [
           "Gesu No Kiwami Otome",
           "ロマンスがありあまる",
           "2015"
          ],
          [
           "MAN WITH A MISSION",
           "Raise your flag",
           "2015"
          ],
          [
           "04 Limited Sazabys",
           "swim",
           "2015"
          ],
          [
           "Suchmos",
           "YMM",
           "2015"
          ],
          [
           "Ykiki Beat",
           "Forever",
           "2015"
          ],
          [
           "androp",
           "Yeah! Yeah! Yeah!",
           "2015"
          ],
          [
           "Pharrell Williams",
           "Freedom",
           "2015"
          ],
          [
           "Jason Derulo",
           "Want to Want Me",
           "2015"
          ],
          [
           "Tuxedo",
           "Do It",
           "2015"
          ],
          [
           "Disclosure",
           "Holding On - Radio Edit",
           "2015"
          ],
          [
           "AFROJACK",
           "SummerThing!",
           "2015"
          ],
          [
           "BIGBANG",
           "LOSER",
           "2015"
          ],
          [
           "Aimer",
           "Brave Shine",
           "2015"
          ],
          [
           "8.6秒バズーカー",
           "ラッスンゴレライ",
           "2015"
          ]
         ],
         "hovertemplate": "<b>%{hovertext}</b><br><br>年代=%{customdata[2]}<br>第一主成分=%{x}<br>第二主成分=%{y}<br>アーティスト名=%{customdata[0]}<br>トラック名=%{customdata[1]}<extra></extra>",
         "hovertext": [
          "sakanaction",
          "[Alexandros]",
          "Gesu No Kiwami Otome",
          "back number",
          "Kana Nishino",
          "Leo Ieiri",
          "Mark Ronson",
          "Ed Sheeran",
          "Justin Bieber",
          "Ariana Grande",
          "Carly Rae Jepsen",
          "SEKAI NO OWARI",
          "BUMP OF CHICKEN",
          "UNISON SQUARE GARDEN",
          "Gen Hoshino",
          "ARASHI",
          "J SOUL BROTHERS III",
          "Yu Takahashi",
          "back number",
          "Adele",
          "Wiz Khalifa",
          "Justin Bieber",
          "Coldplay",
          "Zedd",
          "Kyary Pamyu Pamyu",
          "Perfume",
          "chay",
          "Che'Nelle",
          "BTS",
          "The Weeknd",
          "Shawn Mendes",
          "Charlie Puth",
          "Mr.Children",
          "サザンオールスターズ",
          "Sheena Ringo",
          "SEKAI NO OWARI",
          "HIRAIDAI",
          "Lucky Kilimanjaro",
          "Avicii",
          "Ellie Goulding",
          "Rachel Platten",
          "ONE OK ROCK",
          "Suchmos",
          "SHISHAMO",
          "KOBUKURO",
          "AKB48",
          "B'z",
          "Taylor Swift",
          "Little Mix",
          "One Direction",
          "J SOUL BROTHERS III",
          "Superfly",
          "Crystal Kay",
          "Meghan Trainor",
          "Justin Bieber",
          "Avicii",
          "Kumamushi",
          "Taro Urashima",
          "Naoto Inti Raymi",
          "Kenshi Yonezu",
          "Major Lazer",
          "Coldplay",
          "OMI",
          "Kana Nishino",
          "Chatmonchy",
          "The Birthday",
          "Olly Alexander (Years & Years)",
          "Sam Smith",
          "Chris Brown",
          "Maroon 5",
          "Flo Rida",
          "Nogizaka46",
          "Masaharu Fukuyama",
          "PornoGraffitti",
          "Hozier",
          "Muse",
          "Jonas Blue",
          "Troye Sivan",
          "YEN TOWN BAND",
          "Kenshi Yonezu",
          "cero",
          "Drake",
          "Fetty Wap",
          "Rihanna",
          "The Chemical Brothers",
          "Gesu No Kiwami Otome",
          "MAN WITH A MISSION",
          "04 Limited Sazabys",
          "Suchmos",
          "Ykiki Beat",
          "androp",
          "Pharrell Williams",
          "Jason Derulo",
          "Tuxedo",
          "Disclosure",
          "AFROJACK",
          "BIGBANG",
          "Aimer",
          "8.6秒バズーカー"
         ],
         "legendgroup": "2015",
         "marker": {
          "color": "#19d3f3",
          "symbol": "circle"
         },
         "mode": "markers",
         "name": "2015",
         "orientation": "v",
         "showlegend": true,
         "type": "scatter",
         "x": [
          -22.525218963623047,
          7.0108513832092285,
          -20.51017189025879,
          16.06981086730957,
          -6.060256004333496,
          14.534774780273438,
          -1.1273865699768066,
          18.369478225708008,
          -7.687352180480957,
          15.971087455749512,
          -9.296130180358887,
          -12.43502426147461,
          -4.523684501647949,
          -0.13557691872119904,
          -0.36368295550346375,
          -19.57222557067871,
          11.74006462097168,
          -0.8264167308807373,
          12.503743171691895,
          -5.162228107452393,
          19.40058135986328,
          -13.340849876403809,
          -12.536243438720703,
          -17.64702033996582,
          4.429451942443848,
          6.584376335144043,
          12.353585243225098,
          11.414057731628418,
          -10.62548828125,
          29.125993728637695,
          -2.250800132751465,
          -6.464956283569336,
          14.851922988891602,
          11.336180686950684,
          -16.31876564025879,
          0.25516414642333984,
          14.614767074584961,
          -0.40077340602874756,
          -10.005675315856934,
          21.43692398071289,
          11.865761756896973,
          11.471199989318848,
          -13.846606254577637,
          8.77808666229248,
          25.680347442626953,
          -1.997619867324829,
          -18.853923797607422,
          1.2298585176467896,
          -9.19681167602539,
          4.406714916229248,
          5.377758979797363,
          7.956014156341553,
          -19.497447967529297,
          -2.257331132888794,
          -14.011283874511719,
          -8.790083885192871,
          12.212076187133789,
          26.193382263183594,
          -1.0270718336105347,
          10.953544616699219,
          -18.452577590942383,
          5.494224548339844,
          1.006606101989746,
          13.015419960021973,
          2.9249935150146484,
          7.796539306640625,
          -15.54109001159668,
          27.871789932250977,
          0.17087343335151672,
          0.32421737909317017,
          -14.184911727905273,
          -15.772272109985352,
          -23.077360153198242,
          -19.177927017211914,
          -7.179539203643799,
          -4.368494033813477,
          16.754884719848633,
          3.0810160636901855,
          13.870711326599121,
          15.788206100463867,
          9.68249225616455,
          -9.009187698364258,
          0.07692153006792068,
          28.30872344970703,
          -11.82124137878418,
          11.163938522338867,
          3.81937313079834,
          -8.963603019714355,
          -0.17502328753471375,
          -16.57838249206543,
          2.437187910079956,
          -9.302170753479004,
          -13.130979537963867,
          -20.641231536865234,
          -12.73505687713623,
          -8.427648544311523,
          -12.671719551086426,
          11.64272403717041,
          -15.70781421661377
         ],
         "xaxis": "x",
         "y": [
          -13.241015434265137,
          19.457178115844727,
          -19.330276489257812,
          16.01025390625,
          6.403634548187256,
          13.764801979064941,
          -4.411827087402344,
          -3.246258497238159,
          -21.415340423583984,
          10.855281829833984,
          12.10850715637207,
          10.916053771972656,
          12.549781799316406,
          9.180736541748047,
          -3.451439142227173,
          -15.901623725891113,
          -4.579143047332764,
          12.388622283935547,
          8.480706214904785,
          -20.283035278320312,
          -2.217695951461792,
          -1.9419201612472534,
          -29.422616958618164,
          -15.141833305358887,
          16.53087043762207,
          6.720829010009766,
          -7.369318962097168,
          -4.884499549865723,
          0.0610257051885128,
          -11.498241424560547,
          -0.9206259846687317,
          -22.375215530395508,
          16.257951736450195,
          12.289395332336426,
          -17.917858123779297,
          -0.049048151820898056,
          -4.130630016326904,
          -2.526721477508545,
          -24.54493522644043,
          12.529704093933105,
          14.960862159729004,
          19.809659957885742,
          -21.287311553955078,
          -0.04184132069349289,
          7.723042011260986,
          12.18942928314209,
          -14.066344261169434,
          -0.21513892710208893,
          8.599690437316895,
          4.080618858337402,
          14.076289176940918,
          14.94706916809082,
          -17.802268981933594,
          -1.5606530904769897,
          -27.600139617919922,
          12.398765563964844,
          -4.910772323608398,
          -1.1314688920974731,
          12.023418426513672,
          7.40403413772583,
          -31.680580139160156,
          6.986407279968262,
          0.7910469770431519,
          4.506815433502197,
          15.59333610534668,
          17.30667495727539,
          -28.979055404663086,
          -0.45376282930374146,
          -1.51284658908844,
          -4.558996200561523,
          -22.930875778198242,
          -14.176301956176758,
          -16.96977424621582,
          -16.54210090637207,
          -24.455190658569336,
          16.812801361083984,
          -5.665233612060547,
          1.9010121822357178,
          5.614635467529297,
          -3.387820243835449,
          -8.153361320495605,
          -5.581035137176514,
          2.174840211868286,
          8.568485260009766,
          13.334547996520996,
          16.28206443786621,
          17.095611572265625,
          14.842867851257324,
          -3.442614793777466,
          -27.863018035888672,
          15.869089126586914,
          -21.920724868774414,
          -22.00935935974121,
          -22.961994171142578,
          -6.5712056159973145,
          8.301356315612793,
          8.892474174499512,
          18.330188751220703,
          -4.7907938957214355
         ],
         "yaxis": "y"
        }
       ],
       "layout": {
        "autosize": true,
        "legend": {
         "title": {
          "text": "年代"
         },
         "tracegroupgap": 0
        },
        "margin": {
         "t": 60
        },
        "template": {
         "data": {
          "bar": [
           {
            "error_x": {
             "color": "#2a3f5f"
            },
            "error_y": {
             "color": "#2a3f5f"
            },
            "marker": {
             "line": {
              "color": "#E5ECF6",
              "width": 0.5
             },
             "pattern": {
              "fillmode": "overlay",
              "size": 10,
              "solidity": 0.2
             }
            },
            "type": "bar"
           }
          ],
          "barpolar": [
           {
            "marker": {
             "line": {
              "color": "#E5ECF6",
              "width": 0.5
             },
             "pattern": {
              "fillmode": "overlay",
              "size": 10,
              "solidity": 0.2
             }
            },
            "type": "barpolar"
           }
          ],
          "carpet": [
           {
            "aaxis": {
             "endlinecolor": "#2a3f5f",
             "gridcolor": "white",
             "linecolor": "white",
             "minorgridcolor": "white",
             "startlinecolor": "#2a3f5f"
            },
            "baxis": {
             "endlinecolor": "#2a3f5f",
             "gridcolor": "white",
             "linecolor": "white",
             "minorgridcolor": "white",
             "startlinecolor": "#2a3f5f"
            },
            "type": "carpet"
           }
          ],
          "choropleth": [
           {
            "colorbar": {
             "outlinewidth": 0,
             "ticks": ""
            },
            "type": "choropleth"
           }
          ],
          "contour": [
           {
            "colorbar": {
             "outlinewidth": 0,
             "ticks": ""
            },
            "colorscale": [
             [
              0,
              "#0d0887"
             ],
             [
              0.1111111111111111,
              "#46039f"
             ],
             [
              0.2222222222222222,
              "#7201a8"
             ],
             [
              0.3333333333333333,
              "#9c179e"
             ],
             [
              0.4444444444444444,
              "#bd3786"
             ],
             [
              0.5555555555555556,
              "#d8576b"
             ],
             [
              0.6666666666666666,
              "#ed7953"
             ],
             [
              0.7777777777777778,
              "#fb9f3a"
             ],
             [
              0.8888888888888888,
              "#fdca26"
             ],
             [
              1,
              "#f0f921"
             ]
            ],
            "type": "contour"
           }
          ],
          "contourcarpet": [
           {
            "colorbar": {
             "outlinewidth": 0,
             "ticks": ""
            },
            "type": "contourcarpet"
           }
          ],
          "heatmap": [
           {
            "colorbar": {
             "outlinewidth": 0,
             "ticks": ""
            },
            "colorscale": [
             [
              0,
              "#0d0887"
             ],
             [
              0.1111111111111111,
              "#46039f"
             ],
             [
              0.2222222222222222,
              "#7201a8"
             ],
             [
              0.3333333333333333,
              "#9c179e"
             ],
             [
              0.4444444444444444,
              "#bd3786"
             ],
             [
              0.5555555555555556,
              "#d8576b"
             ],
             [
              0.6666666666666666,
              "#ed7953"
             ],
             [
              0.7777777777777778,
              "#fb9f3a"
             ],
             [
              0.8888888888888888,
              "#fdca26"
             ],
             [
              1,
              "#f0f921"
             ]
            ],
            "type": "heatmap"
           }
          ],
          "heatmapgl": [
           {
            "colorbar": {
             "outlinewidth": 0,
             "ticks": ""
            },
            "colorscale": [
             [
              0,
              "#0d0887"
             ],
             [
              0.1111111111111111,
              "#46039f"
             ],
             [
              0.2222222222222222,
              "#7201a8"
             ],
             [
              0.3333333333333333,
              "#9c179e"
             ],
             [
              0.4444444444444444,
              "#bd3786"
             ],
             [
              0.5555555555555556,
              "#d8576b"
             ],
             [
              0.6666666666666666,
              "#ed7953"
             ],
             [
              0.7777777777777778,
              "#fb9f3a"
             ],
             [
              0.8888888888888888,
              "#fdca26"
             ],
             [
              1,
              "#f0f921"
             ]
            ],
            "type": "heatmapgl"
           }
          ],
          "histogram": [
           {
            "marker": {
             "pattern": {
              "fillmode": "overlay",
              "size": 10,
              "solidity": 0.2
             }
            },
            "type": "histogram"
           }
          ],
          "histogram2d": [
           {
            "colorbar": {
             "outlinewidth": 0,
             "ticks": ""
            },
            "colorscale": [
             [
              0,
              "#0d0887"
             ],
             [
              0.1111111111111111,
              "#46039f"
             ],
             [
              0.2222222222222222,
              "#7201a8"
             ],
             [
              0.3333333333333333,
              "#9c179e"
             ],
             [
              0.4444444444444444,
              "#bd3786"
             ],
             [
              0.5555555555555556,
              "#d8576b"
             ],
             [
              0.6666666666666666,
              "#ed7953"
             ],
             [
              0.7777777777777778,
              "#fb9f3a"
             ],
             [
              0.8888888888888888,
              "#fdca26"
             ],
             [
              1,
              "#f0f921"
             ]
            ],
            "type": "histogram2d"
           }
          ],
          "histogram2dcontour": [
           {
            "colorbar": {
             "outlinewidth": 0,
             "ticks": ""
            },
            "colorscale": [
             [
              0,
              "#0d0887"
             ],
             [
              0.1111111111111111,
              "#46039f"
             ],
             [
              0.2222222222222222,
              "#7201a8"
             ],
             [
              0.3333333333333333,
              "#9c179e"
             ],
             [
              0.4444444444444444,
              "#bd3786"
             ],
             [
              0.5555555555555556,
              "#d8576b"
             ],
             [
              0.6666666666666666,
              "#ed7953"
             ],
             [
              0.7777777777777778,
              "#fb9f3a"
             ],
             [
              0.8888888888888888,
              "#fdca26"
             ],
             [
              1,
              "#f0f921"
             ]
            ],
            "type": "histogram2dcontour"
           }
          ],
          "mesh3d": [
           {
            "colorbar": {
             "outlinewidth": 0,
             "ticks": ""
            },
            "type": "mesh3d"
           }
          ],
          "parcoords": [
           {
            "line": {
             "colorbar": {
              "outlinewidth": 0,
              "ticks": ""
             }
            },
            "type": "parcoords"
           }
          ],
          "pie": [
           {
            "automargin": true,
            "type": "pie"
           }
          ],
          "scatter": [
           {
            "fillpattern": {
             "fillmode": "overlay",
             "size": 10,
             "solidity": 0.2
            },
            "type": "scatter"
           }
          ],
          "scatter3d": [
           {
            "line": {
             "colorbar": {
              "outlinewidth": 0,
              "ticks": ""
             }
            },
            "marker": {
             "colorbar": {
              "outlinewidth": 0,
              "ticks": ""
             }
            },
            "type": "scatter3d"
           }
          ],
          "scattercarpet": [
           {
            "marker": {
             "colorbar": {
              "outlinewidth": 0,
              "ticks": ""
             }
            },
            "type": "scattercarpet"
           }
          ],
          "scattergeo": [
           {
            "marker": {
             "colorbar": {
              "outlinewidth": 0,
              "ticks": ""
             }
            },
            "type": "scattergeo"
           }
          ],
          "scattergl": [
           {
            "marker": {
             "colorbar": {
              "outlinewidth": 0,
              "ticks": ""
             }
            },
            "type": "scattergl"
           }
          ],
          "scattermapbox": [
           {
            "marker": {
             "colorbar": {
              "outlinewidth": 0,
              "ticks": ""
             }
            },
            "type": "scattermapbox"
           }
          ],
          "scatterpolar": [
           {
            "marker": {
             "colorbar": {
              "outlinewidth": 0,
              "ticks": ""
             }
            },
            "type": "scatterpolar"
           }
          ],
          "scatterpolargl": [
           {
            "marker": {
             "colorbar": {
              "outlinewidth": 0,
              "ticks": ""
             }
            },
            "type": "scatterpolargl"
           }
          ],
          "scatterternary": [
           {
            "marker": {
             "colorbar": {
              "outlinewidth": 0,
              "ticks": ""
             }
            },
            "type": "scatterternary"
           }
          ],
          "surface": [
           {
            "colorbar": {
             "outlinewidth": 0,
             "ticks": ""
            },
            "colorscale": [
             [
              0,
              "#0d0887"
             ],
             [
              0.1111111111111111,
              "#46039f"
             ],
             [
              0.2222222222222222,
              "#7201a8"
             ],
             [
              0.3333333333333333,
              "#9c179e"
             ],
             [
              0.4444444444444444,
              "#bd3786"
             ],
             [
              0.5555555555555556,
              "#d8576b"
             ],
             [
              0.6666666666666666,
              "#ed7953"
             ],
             [
              0.7777777777777778,
              "#fb9f3a"
             ],
             [
              0.8888888888888888,
              "#fdca26"
             ],
             [
              1,
              "#f0f921"
             ]
            ],
            "type": "surface"
           }
          ],
          "table": [
           {
            "cells": {
             "fill": {
              "color": "#EBF0F8"
             },
             "line": {
              "color": "white"
             }
            },
            "header": {
             "fill": {
              "color": "#C8D4E3"
             },
             "line": {
              "color": "white"
             }
            },
            "type": "table"
           }
          ]
         },
         "layout": {
          "annotationdefaults": {
           "arrowcolor": "#2a3f5f",
           "arrowhead": 0,
           "arrowwidth": 1
          },
          "autotypenumbers": "strict",
          "coloraxis": {
           "colorbar": {
            "outlinewidth": 0,
            "ticks": ""
           }
          },
          "colorscale": {
           "diverging": [
            [
             0,
             "#8e0152"
            ],
            [
             0.1,
             "#c51b7d"
            ],
            [
             0.2,
             "#de77ae"
            ],
            [
             0.3,
             "#f1b6da"
            ],
            [
             0.4,
             "#fde0ef"
            ],
            [
             0.5,
             "#f7f7f7"
            ],
            [
             0.6,
             "#e6f5d0"
            ],
            [
             0.7,
             "#b8e186"
            ],
            [
             0.8,
             "#7fbc41"
            ],
            [
             0.9,
             "#4d9221"
            ],
            [
             1,
             "#276419"
            ]
           ],
           "sequential": [
            [
             0,
             "#0d0887"
            ],
            [
             0.1111111111111111,
             "#46039f"
            ],
            [
             0.2222222222222222,
             "#7201a8"
            ],
            [
             0.3333333333333333,
             "#9c179e"
            ],
            [
             0.4444444444444444,
             "#bd3786"
            ],
            [
             0.5555555555555556,
             "#d8576b"
            ],
            [
             0.6666666666666666,
             "#ed7953"
            ],
            [
             0.7777777777777778,
             "#fb9f3a"
            ],
            [
             0.8888888888888888,
             "#fdca26"
            ],
            [
             1,
             "#f0f921"
            ]
           ],
           "sequentialminus": [
            [
             0,
             "#0d0887"
            ],
            [
             0.1111111111111111,
             "#46039f"
            ],
            [
             0.2222222222222222,
             "#7201a8"
            ],
            [
             0.3333333333333333,
             "#9c179e"
            ],
            [
             0.4444444444444444,
             "#bd3786"
            ],
            [
             0.5555555555555556,
             "#d8576b"
            ],
            [
             0.6666666666666666,
             "#ed7953"
            ],
            [
             0.7777777777777778,
             "#fb9f3a"
            ],
            [
             0.8888888888888888,
             "#fdca26"
            ],
            [
             1,
             "#f0f921"
            ]
           ]
          },
          "colorway": [
           "#636efa",
           "#EF553B",
           "#00cc96",
           "#ab63fa",
           "#FFA15A",
           "#19d3f3",
           "#FF6692",
           "#B6E880",
           "#FF97FF",
           "#FECB52"
          ],
          "font": {
           "color": "#2a3f5f"
          },
          "geo": {
           "bgcolor": "white",
           "lakecolor": "white",
           "landcolor": "#E5ECF6",
           "showlakes": true,
           "showland": true,
           "subunitcolor": "white"
          },
          "hoverlabel": {
           "align": "left"
          },
          "hovermode": "closest",
          "mapbox": {
           "style": "light"
          },
          "paper_bgcolor": "white",
          "plot_bgcolor": "#E5ECF6",
          "polar": {
           "angularaxis": {
            "gridcolor": "white",
            "linecolor": "white",
            "ticks": ""
           },
           "bgcolor": "#E5ECF6",
           "radialaxis": {
            "gridcolor": "white",
            "linecolor": "white",
            "ticks": ""
           }
          },
          "scene": {
           "xaxis": {
            "backgroundcolor": "#E5ECF6",
            "gridcolor": "white",
            "gridwidth": 2,
            "linecolor": "white",
            "showbackground": true,
            "ticks": "",
            "zerolinecolor": "white"
           },
           "yaxis": {
            "backgroundcolor": "#E5ECF6",
            "gridcolor": "white",
            "gridwidth": 2,
            "linecolor": "white",
            "showbackground": true,
            "ticks": "",
            "zerolinecolor": "white"
           },
           "zaxis": {
            "backgroundcolor": "#E5ECF6",
            "gridcolor": "white",
            "gridwidth": 2,
            "linecolor": "white",
            "showbackground": true,
            "ticks": "",
            "zerolinecolor": "white"
           }
          },
          "shapedefaults": {
           "line": {
            "color": "#2a3f5f"
           }
          },
          "ternary": {
           "aaxis": {
            "gridcolor": "white",
            "linecolor": "white",
            "ticks": ""
           },
           "baxis": {
            "gridcolor": "white",
            "linecolor": "white",
            "ticks": ""
           },
           "bgcolor": "#E5ECF6",
           "caxis": {
            "gridcolor": "white",
            "linecolor": "white",
            "ticks": ""
           }
          },
          "title": {
           "x": 0.05
          },
          "xaxis": {
           "automargin": true,
           "gridcolor": "white",
           "linecolor": "white",
           "ticks": "",
           "title": {
            "standoff": 15
           },
           "zerolinecolor": "white",
           "zerolinewidth": 2
          },
          "yaxis": {
           "automargin": true,
           "gridcolor": "white",
           "linecolor": "white",
           "ticks": "",
           "title": {
            "standoff": 15
           },
           "zerolinecolor": "white",
           "zerolinewidth": 2
          }
         }
        },
        "xaxis": {
         "anchor": "y",
         "autorange": true,
         "domain": [
          0,
          1
         ],
         "range": [
          -31.676088476920814,
          33.72754683568546
         ],
         "title": {
          "text": "第一主成分"
         },
         "type": "linear"
        },
        "yaxis": {
         "anchor": "x",
         "autorange": true,
         "domain": [
          0,
          1
         ],
         "range": [
          -35.848831965228705,
          26.321703745624212
         ],
         "title": {
          "text": "第二主成分"
         },
         "type": "linear"
        }
       }
      },
      "image/png": "[encoded data removed]",
      "text/html": [
       "<div>                            <div id=\"0d919efd-2b10-4c39-a1fb-b0ff7ae598c9\" class=\"plotly-graph-div\" style=\"height:525px; width:100%;\"></div>            <script type=\"text/javascript\">                require([\"plotly\"], function(Plotly) {                    window.PLOTLYENV=window.PLOTLYENV || {};                                    if (document.getElementById(\"0d919efd-2b10-4c39-a1fb-b0ff7ae598c9\")) {                    Plotly.newPlot(                        \"0d919efd-2b10-4c39-a1fb-b0ff7ae598c9\",                        [{\"customdata\":[[\"Tama\",\"\\u3055\\u3088\\u306a\\u3089\\u4eba\\u985e\\u00a0\\uff5e\\u30b7\\u30f3\\u30b0\\u30eb\\u30f4\\u30a1\\u30fc\\u30b8\\u30e7\\u30f3\\uff5e\",\"1990\"],[\"Kome Kome Club\",\"\\u6d6a\\u6f2b\\u98db\\u884c\",\"1990\"],[\"B'z\",\"\\u592a\\u967d\\u306eKomachi Angel\",\"1990\"],[\"LINDBERG\",\"\\u4eca\\u3059\\u3050\\uff2b\\uff49\\uff53\\uff53\\u3000\\uff2d\\uff45\",\"1990\"],[\"PRINCESS PRINCESS\",\"OH YEAH !\",\"1990\"],[\"\\u30b5\\u30b6\\u30f3\\u30aa\\u30fc\\u30eb\\u30b9\\u30bf\\u30fc\\u30ba\",\"\\u771f\\u590f\\u306e\\u679c\\u5b9f\",\"1990\"],[\"DREAMS COME TRUE\",\"\\u7b11\\u9854\\u306e\\u884c\\u65b9 (ORIGINAL VERSION)\",\"1990\"],[\"B'z\",\"Easy Come, Easy Go!\",\"1990\"],[\"Madonna\",\"Vogue\",\"1990\"],[\"Wilson Phillips\",\"Hold On\",\"1990\"],[\"New Kids On The Block\",\"Step by Step\",\"1990\"],[\"Bell Biv DeVoe\",\"Do Me!\",\"1990\"],[\"Shizuka Kudo\",\"Kuchibiru Kara Biyaku\",\"1990\"],[\"Akina Nakamori\",\"Dear Friend - 2024 Lacquer Master Sound\",\"1990\"],[\"Kyoko Koizumi\",\"\\u898b\\u9003\\u3057\\u3066\\u304f\\u308c\\u3088\\uff01\",\"1990\"],[\"Yosui Inoue\",\"\\u5c11\\u5e74\\u6642\\u4ee3 - Remastered 2018\",\"1990\"],[\"Roxette\",\"It Must Have Been Love - From the Film \\\"Pretty Woman\\\"\",\"1990\"],[\"Sin\\u00e9ad O'Connor\",\"Nothing Compares 2 U\",\"1990\"],[\"Diana Ross\",\"If We Hold On Together\",\"1990\"],[\"\\u4e2d\\u5cf6\\u307f\\u3086\\u304d\",\"with\",\"1990\"],[\"Kyosuke Himuro\",\"JEALOUSY\",\"1990\"],[\"Hideaki Tokunaga\",\"\\u58ca\\u308c\\u304b\\u3051\\u306eRadio\",\"1990\"],[\"PINK SAPPHIRE\",\"P.S. I LOVE YOU - Single Version; 2019 Remaster\",\"1990\"],[\"Depeche Mode\",\"Enjoy the Silence - 2006 Remaster\",\"1990\"],[\"George Michael\",\"Freedom! '90\",\"1990\"],[\"UB40\",\"Kingston Town\",\"1990\"],[\"\\u30aa\\u30e8\\u30cd\\u30fc\\u30ba\",\"\\u9ea6\\u7551\",\"1990\"],[\"Jitterin' Jinn\",\"\\u30d7\\u30ec\\u30bc\\u30f3\\u30c8\",\"1990\"],[\"\\u725b\\u82e5\\u4e38\\u4e09\\u90ce\\u592a\",\"\\u52c7\\u6c17\\u306e\\u3057\\u308b\\u3057~\\u30ea\\u30b2\\u30a4\\u30f3\\u306e\\u30c6\\u30fc\\u30de~\",\"1990\"],[\"Yasuyuki Okamura\",\"\\u30ab\\u30eb\\u30a2\\u30df\\u30eb\\u30af\",\"1990\"],[\"Mariah Carey\",\"Vision of Love\",\"1990\"],[\"Phil Collins\",\"Another Day in Paradise - 2016 Remaster\",\"1990\"],[\"Kaoma\",\"Lambada - Original Version 1989\",\"1990\"],[\"En Vogue\",\"Hold On\",\"1990\"],[\"Technotronic\",\"Pump Up The Jam\",\"1990\"],[\"Billy Idol\",\"Cradle Of Love\",\"1990\"],[\"Jon Bon Jovi\",\"Blaze Of Glory - From \\\"Young Guns II\\\" Soundtrack\",\"1990\"],[\"Michael Bolton\",\"How Am I Supposed to Live Without You\",\"1990\"],[\"Janet Jackson\",\"Escapade\",\"1990\"],[\"PRINCESS PRINCESS\",\"DIAMONDS (\\u30c0\\u30a4\\u30a2\\u30e2\\u30f3\\u30c9)\",\"1990\"],[\"\\u30b5\\u30b6\\u30f3\\u30aa\\u30fc\\u30eb\\u30b9\\u30bf\\u30fc\\u30ba\",\"\\u30d5\\u30ea\\u30d5\\u30ea '65\",\"1990\"],[\"DREAMS COME TRUE\",\"Ring! Ring! Ring! (S\\u30fbH\\u30fbH VERSION)\",\"1990\"],[\"GO-BANG'S\",\"Ai ni Kite I Need You!\",\"1990\"],[\"B'z\",\"\\u611b\\u3057\\u3044\\u4eba\\u3088Good Night\\u2026\",\"1990\"],[\"X JAPAN\",\"ENDLESS RAIN - Remaster\",\"1990\"],[\"Tsuyoshi Nagabuchi\",\"\\u3057\\u3087\\u3063\\u3071\\u3044\\u4e09\\u65e5\\u6708\\u306e\\u591c\",\"1990\"],[\"Wink\",\"Sexy Music\",\"1990\"],[\"TM NETWORK\",\"THE POINT OF LOVERS' NIGHT\",\"1990\"],[\"Toshinobu Kubota\",\"GIVE YOU MY LOVE\",\"1990\"],[\"Hideaki Tokunaga\",\"\\u5922\\u3092\\u4fe1\\u3058\\u3066\",\"1990\"],[\"Jitterin' Jinn\",\"\\u590f\\u796d\\u308a\",\"1990\"],[\"The Rolling Stones\",\"Rock And A Hard Place\",\"1990\"],[\"Heart\",\"All I Wanna Do Is Make Love To You\",\"1990\"],[\"Quincy Jones\",\"Tomorrow (A Better You, Better Me)\",\"1990\"],[\"Boyz II Men\",\"End Of The Road\",\"1990\"],[\"Bette Midler\",\"From a Distance\",\"1990\"],[\"a-ha\",\"Crying in the Rain\",\"1990\"],[\"JUN SKY WALKER(S)\",\"\\u767d\\u3044\\u30af\\u30ea\\u30b9\\u30de\\u30b9\",\"1990\"],[\"The Checkers\",\"Yoake no Breath\",\"1990\"],[\"Hiroshi Takano\",\"\\u8679\\u306e\\u90fd\\u3078\",\"1990\"],[\"UNICORN\",\"\\u50cd\\u304f\\u7537\",\"1990\"],[\"Tsuyoshi Nagabuchi\",\"JEEP\",\"1990\"],[\"Maxi Priest\",\"Close To You\",\"1990\"],[\"The Charlatans\",\"The Only One I Know\",\"1990\"],[\"Misato Watanabe\",\"\\u30b5\\u30de\\u30fc\\u30bf\\u30a4\\u30e0 \\u30d6\\u30eb\\u30fc\\u30b9\",\"1990\"],[\"Kyoko Koizumi\",\"\\u5b66\\u5712\\u5929\\u56fd\",\"1990\"],[\"TUBE\",\"\\u3042\\u30fc\\u590f\\u4f11\\u307f\",\"1990\"],[\"Mariya Takeuchi\",\"\\u30b7\\u30f3\\u30b0\\u30eb\\u30fb\\u30a2\\u30b2\\u30a4\\u30f3 - 2022 Remaster\",\"1990\"],[\"Midori Karashima\",\"\\u30b5\\u30a4\\u30ec\\u30f3\\u30c8\\u30fb\\u30a4\\u30f4\",\"1990\"],[\"C & C Music Factory\",\"Gonna Make You Sweat (Everybody Dance Now) (feat. Freedom Williams)\",\"1990\"],[\"LL COOL J\",\"Mama Said Knock You Out\",\"1990\"],[\"MC Hammer\",\"U Can't Touch This\",\"1990\"],[\"Vanilla Ice\",\"Ice Ice Baby\",\"1990\"],[\"COMPLEX\",\"1990\",\"1990\"],[\"X JAPAN\",\"WEEK END - Remaster\",\"1990\"],[\"BUCK-TICK\",\"\\u60aa\\u306e\\u83ef\",\"1990\"],[\"Extreme\",\"More Than Words\",\"1990\"],[\"The Black Crowes\",\"Hard To Handle\",\"1990\"],[\"Flipper's Guitar\",\"\\u604b\\u3068\\u30de\\u30b7\\u30f3\\u30ac\\u30f3 -Young,Alive,in Love-\",\"1990\"],[\"DREAMS COME TRUE\",\"\\u3055\\u3088\\u306a\\u3089\\u3092\\u5f85\\u3063\\u3066\\u308b\",\"1990\"],[\"Hiroshi Takano\",\"\\u30d9\\u30b9\\u30c6\\u30f3 \\u30c0\\u30f3\\u30af\",\"1990\"],[\"Jitterin' Jinn\",\"\\u306b\\u3061\\u3088\\u3046\\u3073\",\"1990\"],[\"BEGIN\",\"\\u604b\\u3057\\u304f\\u3066\",\"1990\"],[\"B'z\",\"BE THERE\",\"1990\"],[\"Senri Oe\",\"dear\",\"1990\"],[\"Noriyuki Makihara\",\"ANSWER - 2012 Remaster\",\"1990\"],[\"Bobby Brown\",\"Every Little Step\",\"1990\"],[\"Bell Biv DeVoe\",\"Poison\",\"1990\"],[\"Billy Joel\",\"We Didn't Start the Fire\",\"1990\"],[\"Linda Ronstadt\",\"Don't Know Much (with Aaron Neville)\",\"1990\"],[\"Chisato Moritaka\",\"\\u96e8 - 2012 Remaster\",\"1990\"],[\"Shizuka Kudo\",\"Senryu no Shizuku\",\"1990\"],[\"Akina Nakamori\",\"\\u6c34\\u306b\\u633f\\u3057\\u305f\\u82b1 - 30th anniversary mix\",\"1990\"],[\"Miki Imai\",\"\\u77b3\\u304c\\u307b\\u307b\\u3048\\u3080\\u304b\\u3089\",\"1990\"],[\"Mariya Takeuchi\",\"\\u544a\\u767d - 2022 Remaster\",\"1990\"],[\"Hibari Misora\",\"\\u5ddd\\u306e\\u6d41\\u308c\\u306e\\u3088\\u3046\\u306b\",\"1990\"],[\"A Tribe Called Quest\",\"Bonita Applebum - includes 'Can I Kick It' Intro\",\"1990\"],[\"Deee-Lite\",\"Groove Is in the Heart\",\"1990\"],[\"Soul II Soul\",\"Get A Life\",\"1990\"]],\"hovertemplate\":\"\\u003cb\\u003e%{hovertext}\\u003c\\u002fb\\u003e\\u003cbr\\u003e\\u003cbr\\u003e\\u5e74\\u4ee3=%{customdata[2]}\\u003cbr\\u003e\\u7b2c\\u4e00\\u4e3b\\u6210\\u5206=%{x}\\u003cbr\\u003e\\u7b2c\\u4e8c\\u4e3b\\u6210\\u5206=%{y}\\u003cbr\\u003e\\u30a2\\u30fc\\u30c6\\u30a3\\u30b9\\u30c8\\u540d=%{customdata[0]}\\u003cbr\\u003e\\u30c8\\u30e9\\u30c3\\u30af\\u540d=%{customdata[1]}\\u003cextra\\u003e\\u003c\\u002fextra\\u003e\",\"hovertext\":[\"Tama\",\"Kome Kome Club\",\"B'z\",\"LINDBERG\",\"PRINCESS PRINCESS\",\"\\u30b5\\u30b6\\u30f3\\u30aa\\u30fc\\u30eb\\u30b9\\u30bf\\u30fc\\u30ba\",\"DREAMS COME TRUE\",\"B'z\",\"Madonna\",\"Wilson Phillips\",\"New Kids On The Block\",\"Bell Biv DeVoe\",\"Shizuka Kudo\",\"Akina Nakamori\",\"Kyoko Koizumi\",\"Yosui Inoue\",\"Roxette\",\"Sin\\u00e9ad O'Connor\",\"Diana Ross\",\"\\u4e2d\\u5cf6\\u307f\\u3086\\u304d\",\"Kyosuke Himuro\",\"Hideaki Tokunaga\",\"PINK SAPPHIRE\",\"Depeche Mode\",\"George Michael\",\"UB40\",\"\\u30aa\\u30e8\\u30cd\\u30fc\\u30ba\",\"Jitterin' Jinn\",\"\\u725b\\u82e5\\u4e38\\u4e09\\u90ce\\u592a\",\"Yasuyuki Okamura\",\"Mariah Carey\",\"Phil Collins\",\"Kaoma\",\"En Vogue\",\"Technotronic\",\"Billy Idol\",\"Jon Bon Jovi\",\"Michael Bolton\",\"Janet Jackson\",\"PRINCESS PRINCESS\",\"\\u30b5\\u30b6\\u30f3\\u30aa\\u30fc\\u30eb\\u30b9\\u30bf\\u30fc\\u30ba\",\"DREAMS COME TRUE\",\"GO-BANG'S\",\"B'z\",\"X JAPAN\",\"Tsuyoshi Nagabuchi\",\"Wink\",\"TM NETWORK\",\"Toshinobu Kubota\",\"Hideaki Tokunaga\",\"Jitterin' Jinn\",\"The Rolling Stones\",\"Heart\",\"Quincy Jones\",\"Boyz II Men\",\"Bette Midler\",\"a-ha\",\"JUN SKY WALKER(S)\",\"The Checkers\",\"Hiroshi Takano\",\"UNICORN\",\"Tsuyoshi Nagabuchi\",\"Maxi Priest\",\"The Charlatans\",\"Misato Watanabe\",\"Kyoko Koizumi\",\"TUBE\",\"Mariya Takeuchi\",\"Midori Karashima\",\"C & C Music Factory\",\"LL COOL J\",\"MC Hammer\",\"Vanilla Ice\",\"COMPLEX\",\"X JAPAN\",\"BUCK-TICK\",\"Extreme\",\"The Black Crowes\",\"Flipper's Guitar\",\"DREAMS COME TRUE\",\"Hiroshi Takano\",\"Jitterin' Jinn\",\"BEGIN\",\"B'z\",\"Senri Oe\",\"Noriyuki Makihara\",\"Bobby Brown\",\"Bell Biv DeVoe\",\"Billy Joel\",\"Linda Ronstadt\",\"Chisato Moritaka\",\"Shizuka Kudo\",\"Akina Nakamori\",\"Miki Imai\",\"Mariya Takeuchi\",\"Hibari Misora\",\"A Tribe Called Quest\",\"Deee-Lite\",\"Soul II Soul\"],\"legendgroup\":\"1990\",\"marker\":{\"color\":\"#636efa\",\"symbol\":\"circle\"},\"mode\":\"markers\",\"name\":\"1990\",\"orientation\":\"v\",\"showlegend\":true,\"x\":[14.559704780578613,0.4335036873817444,0.5002122521400452,9.075654029846191,2.85846209526062,27.635038375854492,2.811103582382202,-18.403322219848633,-4.809030055999756,17.92184066772461,0.17665265500545502,-19.964859008789062,-23.298057556152344,-4.708714962005615,-0.6608332395553589,27.668729782104492,12.69813060760498,16.896114349365234,27.9239444732666,19.961538314819336,-22.77635955810547,23.37565803527832,4.269769668579102,25.32982635498047,5.691277027130127,-1.0866024494171143,20.001209259033203,-1.2695096731185913,14.737778663635254,10.015653610229492,30.12859344482422,-4.27921199798584,-1.5794260501861572,17.50326156616211,-10.200493812561035,2.2374773025512695,16.5985107421875,21.884479522705078,-4.971134662628174,-5.596426010131836,-21.14180564880371,8.494696617126465,-26.231517791748047,-2.437998056411743,15.364970207214355,24.757307052612305,-15.195256233215332,-14.751506805419922,-7.86788272857666,3.815333366394043,-24.274150848388672,-20.49276351928711,4.631717205047607,24.537986755371094,28.397945404052734,26.892230987548828,23.254613876342773,15.489480018615723,20.417043685913086,-3.417051076889038,-3.2424542903900146,17.910566329956055,0.05280793085694313,18.84640121459961,4.003303050994873,-11.944765090942383,-22.248794555664062,-8.102103233337402,29.23798370361328,-24.388168334960938,-27.100507736206055,-5.509138107299805,-0.5766064524650574,2.7138779163360596,-14.929487228393555,7.54241943359375,27.909442901611328,-9.568889617919922,16.873722076416016,16.639997482299805,-5.888352394104004,0.491895467042923,21.318340301513672,-18.330991744995117,1.0824682712554932,24.407155990600586,-0.3207652270793915,-13.252978324890137,-6.218369007110596,27.48607635498047,25.33769989013672,-24.65578269958496,29.537784576416016,23.992387771606445,-5.471627712249756,22.382869720458984,-14.224686622619629,-19.423545837402344,-6.609529972076416],\"xaxis\":\"x\",\"y\":[-1.1932674646377563,-9.3392972946167,9.037671089172363,-0.23574529588222504,8.9741849899292,8.521451950073242,-7.709364891052246,-21.603105545043945,20.499692916870117,-0.37492507696151733,-9.943418502807617,-26.816715240478516,-24.43245506286621,15.770977020263672,6.564784049987793,-0.9856894612312317,0.20896011590957642,8.651841163635254,4.609963893890381,4.551949977874756,-16.5395565032959,2.9333274364471436,17.422283172607422,-5.244104385375977,-6.67006778717041,-11.771944999694824,3.5975351333618164,-7.817808628082275,-7.954864501953125,3.095960855484009,-12.603460311889648,-23.900436401367188,-2.2079415321350098,2.636613130569458,-17.861635208129883,10.786689758300781,4.835733890533447,5.461669445037842,1.9124096632003784,5.119103908538818,-18.934581756591797,-0.824423611164093,9.096179008483887,-25.883682250976562,5.395267009735107,1.2468540668487549,-27.864524841308594,-12.139750480651855,-17.0587215423584,8.106356620788574,7.516760349273682,-17.26935386657715,-5.904613971710205,-2.2989611625671387,-11.465740203857422,4.0024542808532715,11.163226127624512,5.939545631408691,4.852298736572266,6.914883613586426,5.6198859214782715,-7.041022777557373,-11.331282615661621,0.982679009437561,-6.353513717651367,19.697519302368164,-24.937965393066406,-23.80709457397461,1.7967379093170166,8.23249340057373,8.384244918823242,-15.355751991271973,-11.689607620239258,-6.303426742553711,-12.57979679107666,9.452970504760742,5.325568199157715,9.947908401489258,-7.051724433898926,-7.5698676109313965,8.928632736206055,-8.047572135925293,1.188349962234497,-19.303287506103516,-6.939440727233887,-0.9124887585639954,-9.949867248535156,3.6091935634613037,9.38827896118164,3.2575979232788086,3.748892307281494,-11.645480155944824,-10.766756057739258,3.8572123050689697,-20.08997917175293,11.960150718688965,3.5190651416778564,-20.183277130126953,-16.07989501953125],\"yaxis\":\"y\",\"type\":\"scatter\"},{\"customdata\":[[\"DREAMS COME TRUE\",\"LOVE LOVE LOVE\",\"1995\"],[\"H Jungle With t\",\"WOW WAR TONIGHT\\u301c\\u6642\\u306b\\u306f\\u8d77\\u3053\\u305b\\u3088\\u30e0\\u30fc\\u30f4\\u30e1\\u30f3\\u30c8\\u301c - TWO MILLION MIX\",\"1995\"],[\"Mr.Children\",\"Tomorrow never knows\",\"1995\"],[\"SPITZ\",\"\\u30ed\\u30d3\\u30f3\\u30bd\\u30f3\",\"1995\"],[\"My Little Lover\",\"Man&Woman\",\"1995\"],[\"Yumi Matsutoya\",\"\\u6625\\u3088\\u3001\\u6765\\u3044\",\"1995\"],[\"Masaharu Fukuyama\",\"HELLO\",\"1995\"],[\"Alanis Morissette\",\"You Oughta Know - 2015 Remaster\",\"1995\"],[\"Oasis\",\"Wonderwall - Remastered\",\"1995\"],[\"The Cardigans\",\"Carnival\",\"1995\"],[\"Mariah Carey\",\"All I Want for Christmas Is You\",\"1995\"],[\"Lenny Kravitz\",\"Rock And Roll Is Dead\",\"1995\"],[\"Backstreet Boys\",\"I Want It That Way\",\"1995\"],[\"Scatman John\",\"Scatman (ski-ba-bop-ba-dop-bop)\",\"1995\"],[\"My Little Lover\",\"Hello,Again~\\u6614\\u304b\\u3089\\u3042\\u308b\\u5834\\u6240~\",\"1995\"],[\"Magokoro Brothers\",\"\\u30b5\\u30de\\u30fc\\u30cc\\u30fc\\u30c9\",\"1995\"],[\"\\u6851\\u7530 \\u4f73\\u7950 \\uff06 Mr.Children\",\"\\u5947\\u8de1\\u306e\\u5730\\u7403\",\"1995\"],[\"B'z\",\"LOVE PHANTOM\",\"1995\"],[\"Maki Ohguro\",\"\\u3089\\u30fb\\u3089\\u30fb\\u3089 (2019 Remastered)\",\"1995\"],[\"JUDY AND MARY\",\"Over Drive\",\"1995\"],[\"Radiohead\",\"High and Dry\",\"1995\"],[\"The Smashing Pumpkins\",\"1979 - Remastered 2012\",\"1995\"],[\"The Offspring\",\"Self Esteem\",\"1995\"],[\"globe\",\"Feel Like dance - Original Mix\",\"1995\"],[\"H Jungle With t\",\"GOING GOING HOME\",\"1995\"],[\"Tomomi Kahara\",\"I BELIEVE - Radio Edit\",\"1995\"],[\"Red Hot Chili Peppers\",\"My Friends\",\"1995\"],[\"Bj\\u00f6rk\",\"Army of Me\",\"1995\"],[\"Mr.Children\",\"everybody goes~\\u79e9\\u5e8f\\u306e\\u306a\\u3044\\u73fe\\u4ee3\\u306b\\u30c8\\u3099\\u30ed\\u30c3\\u30d5\\u309a\\u30ad\\u30c3\\u30af~\",\"1995\"],[\"Tamio Okuda\",\"\\u611b\\u306e\\u305f\\u3081\\u306b\",\"1995\"],[\"B'z\",\"\\u306d\\u304c\\u3044\",\"1995\"],[\"\\u30b5\\u30b6\\u30f3\\u30aa\\u30fc\\u30eb\\u30b9\\u30bf\\u30fc\\u30ba\",\"\\u3042\\u306a\\u305f\\u305f\\u3099\\u3051\\u3092 ~Summer Heartbreak~\",\"1995\"],[\"Kyosuke Himuro\",\"Tamashii wo daitekure\",\"1995\"],[\"HOTEI\",\"POISON\",\"1995\"],[\"TRF\",\"Overnight Sensation \\u301c\\u6642\\u4ee3\\u306f\\u3042\\u306a\\u305f\\u306b\\u59d4\\u306d\\u3066\\u308b\\u301c\",\"1995\"],[\"Ryoko Shinohara\",\"Lady Generation (Original Mix)\",\"1995\"],[\"DREAMS COME TRUE\",\"\\u30b5\\u30f3\\u30ad\\u30e5.\",\"1995\"],[\"My Little Lover\",\"\\u767d\\u3044\\u30ab\\u30a4\\u30c8\",\"1995\"],[\"\\u4e2d\\u5cf6\\u307f\\u3086\\u304d\",\"\\u65c5\\u4eba\\u306e\\u3046\\u305f\",\"1995\"],[\"SCHA DARA PARR\",\"\\u30b5\\u30de\\u30fc\\u30b8\\u30e3\\u30e0'95\",\"1995\"],[\"EAST END\",\"DA.YO.NE\",\"1995\"],[\"TLC\",\"Waterfalls\",\"1995\"],[\"Mariah Carey\",\"Always Be My Baby\",\"1995\"],[\"Boyz II Men\",\"On Bended Knee\",\"1995\"],[\"Incognito\",\"Everyday\",\"1995\"],[\"Snow\",\"Sexy Girl\",\"1995\"],[\"hitomi\",\"CANDY GIRL\",\"1995\"],[\"globe\",\"Joy to the love\",\"1995\"],[\"TRF\",\"CRAZY GONNA CRAZY\",\"1995\"],[\"Ryoko Shinohara\",\"\\u604b\\u3057\\u3055\\u3068 \\u305b\\u3064\\u306a\\u3055\\u3068 \\u5fc3\\u5f37\\u3055\\u3068\",\"1995\"],[\"FUNK THE PEANUTS\",\"\\u604b\\u306e\\u7f60\\u3057\\u304b\\u3051\\u307e\\u3057\\u3087 \\u301cFUNK THE PEANUTS\\u306e\\u30c6\\u30fc\\u30de\\u301c\",\"1995\"],[\"Nanase Aikawa\",\"\\u5922\\u898b\\u308b\\u5c11\\u5973\\u3058\\u3083\\u3044\\u3089\\u308c\\u306a\\u3044\",\"1995\"],[\"Maki Ohguro\",\"\\u3044\\u3061\\u3070\\u3093\\u8fd1\\u304f\\u306b\\u3044\\u3066\\u306d\",\"1995\"],[\"Sharam Q\",\"\\u30b7\\u30f3\\u30b0\\u30eb\\u30d9\\u30c3\\u30c9\",\"1995\"],[\"Michael Jackson\",\"You Are Not Alone\",\"1995\"],[\"Diana King\",\"Shy Guy\",\"1995\"],[\"Madonna\",\"Take a Bow\",\"1995\"],[\"Noriko Sakai\",\"\\u78a7\\u3044\\u3046\\u3055\\u304e\",\"1995\"],[\"Mariya Takeuchi\",\"Konya Ha Hearty Party - Single Mix\",\"1995\"],[\"Masayuki Suzuki\",\"\\u3082\\u3046\\u6d99\\u306f\\u3044\\u3089\\u306a\\u3044 (Sentimental Version)\",\"1995\"],[\"ZARD\",\"\\u3042\\u306a\\u305f\\u3092\\u611f\\u3058\\u3066\\u3044\\u305f\\u3044\",\"1995\"],[\"L\\u21d4R\",\"KNOCKIN' ON YOUR DOOR\",\"1995\"],[\"Mayo Okamoto\",\"TOMORROW\",\"1995\"],[\"Baha Men\",\"Dancing in the Moonlight\",\"1995\"],[\"Montell Jordan\",\"This Is How We Do It\",\"1995\"],[\"D'Angelo\",\"Brown Sugar\",\"1995\"],[\"Seal\",\"Kiss from a Rose\",\"1995\"],[\"Michael Jackson\",\"Scream\",\"1995\"],[\"2Pac\",\"Me Against The World\",\"1995\"],[\"Mr.Children\",\"\\u30b7\\u30fc\\u30bd\\u30fc\\u30b1\\u3099\\u30fc\\u30e0~\\u52c7\\u6562\\u306a\\u604b\\u306e\\u6b4c~\",\"1995\"],[\"\\u30b5\\u30b6\\u30f3\\u30aa\\u30fc\\u30eb\\u30b9\\u30bf\\u30fc\\u30ba\",\"\\u30de\\u30f3\\u30d4\\u30fc\\u306eG\\u2605SPOT\",\"1995\"],[\"Sharam Q\",\"\\u7a7a\\u3092\\u898b\\u306a\\u3088\",\"1995\"],[\"B'z\",\"love me, I love you\",\"1995\"],[\"TRF\",\"masquerade\",\"1995\"],[\"Tomomi Kahara\",\"keep yourself alive - Radio Edit Mix\",\"1995\"],[\"hitomi\",\"GO TO THE TOP\",\"1995\"],[\"Mariah Carey\",\"Fantasy\",\"1995\"],[\"Des'ree\",\"You Gotta Be\",\"1995\"],[\"Duran Duran\",\"White Lines (Don't Do It) [feat. Melle Mel & Grandmaster Flash & the Furious Five]\",\"1995\"],[\"Jamiroquai\",\"Stillness in Time\",\"1995\"],[\"Blur\",\"Country House - 2012 Remaster\",\"1995\"],[\"The Smashing Pumpkins\",\"Tonight, Tonight - Remastered 2012\",\"1995\"],[\"Oasis\",\"Don't Look Back In Anger - Remastered\",\"1995\"],[\"SPITZ\",\"\\u6d99\\u304c\\u30ad\\u30e9\\u30ea\\u2606\",\"1995\"],[\"Sharam Q\",\"\\u30ba\\u30eb\\u3044\\u5973\",\"1995\"],[\"Kuroyume\",\"BEAMS\",\"1995\"],[\"Yoko Takahashi\",\"\\u6b8b\\u9177\\u306a\\u5929\\u4f7f\\u306e\\u30c6\\u30fc\\u30bc\",\"1995\"],[\"Naomi Tamura\",\"Unyielding Wish - Complete ver\",\"1995\"],[\"Mr.Children\",\"\\u3010es\\u3011~Theme of es~\",\"1995\"],[\"Original Love\",\"Yume wo Miru Hito\",\"1995\"],[\"Sing Like Talking\",\"Spirit Of Love (Sanctified Version)\",\"1995\"],[\"Simply Red\",\"Fairground\",\"1995\"],[\"Coolio\",\"Gangsta's Paradise\",\"1995\"],[\"DEEN\",\"\\u672a\\u6765\\u306e\\u305f\\u3081\\u306b\",\"1995\"],[\"Hiromi Go\",\"\\u9022\\u3044\\u305f\\u304f\\u3066\\u3057\\u304b\\u305f\\u306a\\u3044\",\"1995\"],[\"Midori Karashima\",\"\\u611b\\u3059\\u308b\\u3053\\u3068\",\"1995\"],[\"Shaggy\",\"Boombastic\",\"1995\"],[\"Stevie Wonder\",\"For Your Love\",\"1995\"]],\"hovertemplate\":\"\\u003cb\\u003e%{hovertext}\\u003c\\u002fb\\u003e\\u003cbr\\u003e\\u003cbr\\u003e\\u5e74\\u4ee3=%{customdata[2]}\\u003cbr\\u003e\\u7b2c\\u4e00\\u4e3b\\u6210\\u5206=%{x}\\u003cbr\\u003e\\u7b2c\\u4e8c\\u4e3b\\u6210\\u5206=%{y}\\u003cbr\\u003e\\u30a2\\u30fc\\u30c6\\u30a3\\u30b9\\u30c8\\u540d=%{customdata[0]}\\u003cbr\\u003e\\u30c8\\u30e9\\u30c3\\u30af\\u540d=%{customdata[1]}\\u003cextra\\u003e\\u003c\\u002fextra\\u003e\",\"hovertext\":[\"DREAMS COME TRUE\",\"H Jungle With t\",\"Mr.Children\",\"SPITZ\",\"My Little Lover\",\"Yumi Matsutoya\",\"Masaharu Fukuyama\",\"Alanis Morissette\",\"Oasis\",\"The Cardigans\",\"Mariah Carey\",\"Lenny Kravitz\",\"Backstreet Boys\",\"Scatman John\",\"My Little Lover\",\"Magokoro Brothers\",\"\\u6851\\u7530 \\u4f73\\u7950 \\uff06 Mr.Children\",\"B'z\",\"Maki Ohguro\",\"JUDY AND MARY\",\"Radiohead\",\"The Smashing Pumpkins\",\"The Offspring\",\"globe\",\"H Jungle With t\",\"Tomomi Kahara\",\"Red Hot Chili Peppers\",\"Bj\\u00f6rk\",\"Mr.Children\",\"Tamio Okuda\",\"B'z\",\"\\u30b5\\u30b6\\u30f3\\u30aa\\u30fc\\u30eb\\u30b9\\u30bf\\u30fc\\u30ba\",\"Kyosuke Himuro\",\"HOTEI\",\"TRF\",\"Ryoko Shinohara\",\"DREAMS COME TRUE\",\"My Little Lover\",\"\\u4e2d\\u5cf6\\u307f\\u3086\\u304d\",\"SCHA DARA PARR\",\"EAST END\",\"TLC\",\"Mariah Carey\",\"Boyz II Men\",\"Incognito\",\"Snow\",\"hitomi\",\"globe\",\"TRF\",\"Ryoko Shinohara\",\"FUNK THE PEANUTS\",\"Nanase Aikawa\",\"Maki Ohguro\",\"Sharam Q\",\"Michael Jackson\",\"Diana King\",\"Madonna\",\"Noriko Sakai\",\"Mariya Takeuchi\",\"Masayuki Suzuki\",\"ZARD\",\"L\\u21d4R\",\"Mayo Okamoto\",\"Baha Men\",\"Montell Jordan\",\"D'Angelo\",\"Seal\",\"Michael Jackson\",\"2Pac\",\"Mr.Children\",\"\\u30b5\\u30b6\\u30f3\\u30aa\\u30fc\\u30eb\\u30b9\\u30bf\\u30fc\\u30ba\",\"Sharam Q\",\"B'z\",\"TRF\",\"Tomomi Kahara\",\"hitomi\",\"Mariah Carey\",\"Des'ree\",\"Duran Duran\",\"Jamiroquai\",\"Blur\",\"The Smashing Pumpkins\",\"Oasis\",\"SPITZ\",\"Sharam Q\",\"Kuroyume\",\"Yoko Takahashi\",\"Naomi Tamura\",\"Mr.Children\",\"Original Love\",\"Sing Like Talking\",\"Simply Red\",\"Coolio\",\"DEEN\",\"Hiromi Go\",\"Midori Karashima\",\"Shaggy\",\"Stevie Wonder\"],\"legendgroup\":\"1995\",\"marker\":{\"color\":\"#EF553B\",\"symbol\":\"circle\"},\"mode\":\"markers\",\"name\":\"1995\",\"orientation\":\"v\",\"showlegend\":true,\"x\":[27.63660430908203,-3.0443801879882812,19.212663650512695,-8.95082950592041,8.89173412322998,26.211957931518555,-6.613746643066406,-6.4923014640808105,12.822851181030273,2.617908477783203,20.278079986572266,9.65621566772461,-9.982556343078613,-7.087306976318359,-9.633912086486816,-20.9825496673584,3.1312217712402344,-16.59388542175293,-5.2380452156066895,2.7208192348480225,19.873981475830078,-25.253103256225586,-7.286531925201416,6.0155029296875,-24.438825607299805,-20.83657455444336,12.332361221313477,18.852294921875,7.456654071807861,8.84076976776123,5.533736705780029,-1.6330713033676147,17.664264678955078,2.969412326812744,-6.267923355102539,2.018430471420288,27.170001983642578,9.438474655151367,12.534433364868164,-7.131110668182373,-11.117226600646973,4.137059688568115,18.392505645751953,23.299545288085938,-8.91550064086914,-13.776089668273926,-16.78736686706543,-24.665563583374023,-4.597254276275635,5.773065090179443,-8.133586883544922,-22.5535831451416,-18.78346824645996,23.42352294921875,24.32407569885254,-15.725728034973145,23.506221771240234,-6.911951065063477,-18.063051223754883,6.053538799285889,6.661342144012451,-8.351529121398926,-18.722074508666992,-7.234243392944336,-11.470576286315918,-6.767475605010986,29.393503189086914,-12.749763488769531,-14.394586563110352,-4.145791053771973,7.0917816162109375,1.8817373514175415,29.048072814941406,8.019495010375977,-16.11761474609375,-6.188371658325195,1.3945738077163696,17.95762062072754,-4.75555944442749,-25.977949142456055,11.13315486907959,-27.10873794555664,13.381563186645508,4.340603828430176,-17.640230178833008,8.149733543395996,-6.776743412017822,-11.031094551086426,16.10243797302246,-8.99058723449707,15.895424842834473,6.170024394989014,17.133718490600586,-3.743533134460449,24.98920440673828,25.582399368286133,-13.16735553741455,20.67002296447754],\"xaxis\":\"x\",\"y\":[0.5364744663238525,14.80902099609375,3.1878271102905273,-24.293659210205078,4.296432018280029,-4.278873443603516,12.700972557067871,18.292211532592773,18.379547119140625,4.966192245483398,12.5175142288208,0.569101870059967,-23.0150089263916,-17.055727005004883,-15.753963470458984,-25.714052200317383,-5.535274505615234,-5.459392547607422,11.829943656921387,13.834439277648926,1.4758278131484985,8.179788589477539,16.179994583129883,12.363081932067871,-15.420710563659668,-17.13031578063965,9.018354415893555,12.875761032104492,11.426458358764648,3.7457315921783447,5.246233940124512,10.817361831665039,16.254928588867188,7.754508972167969,4.051814556121826,-7.23635721206665,1.9223355054855347,6.6153564453125,5.913018226623535,-2.392930269241333,4.194591045379639,-9.248291015625,-2.7912373542785645,3.5490095615386963,-3.7288269996643066,-16.62078285217285,-26.089807510375977,-16.926918029785156,20.72314453125,15.193584442138672,7.249861717224121,-16.07086753845215,-17.658166885375977,-1.25847589969635,2.6381120681762695,-19.94527244567871,0.8260968327522278,-23.213823318481445,-20.476058959960938,-3.3880672454833984,14.07805347442627,11.124058723449707,-25.99631118774414,4.007721900939941,4.310540676116943,-5.461935997009277,-11.02216625213623,13.206531524658203,5.146507740020752,6.218695640563965,19.63303565979004,-5.419297695159912,-13.833091735839844,14.022625923156738,-14.48187255859375,17.584077835083008,-4.4644083976745605,-0.021962400525808334,19.352245330810547,8.472895622253418,17.68496322631836,11.007259368896484,18.873300552368164,1.820652961730957,-16.864810943603516,9.942769050598145,-16.42744255065918,18.31465721130371,5.527491569519043,-17.126066207885742,-2.3381218910217285,-2.1939306259155273,2.420031785964966,10.273128509521484,5.583222389221191,10.0922212600708,-0.8227882981300354,6.47138786315918],\"yaxis\":\"y\",\"type\":\"scatter\"},{\"customdata\":[[\"Masaharu Fukuyama\",\"\\u685c\\u5742\",\"2000\"],[\"\\u30b5\\u30b6\\u30f3\\u30aa\\u30fc\\u30eb\\u30b9\\u30bf\\u30fc\\u30ba\",\"TSUNAMI\",\"2000\"],[\"Hikaru Utada\",\"Wait & See \\uff5e\\u30ea\\u30b9\\u30af\\uff5e\",\"2000\"],[\"Takashi Fujii\",\"\\u30ca\\u30f3\\u30c0\\u30ab\\u30f3\\u30c0\",\"2000\"],[\"Hitomi Yaida\",\"My Sweet Darlin' - Remastered 2004\",\"2000\"],[\"Janet Jackson\",\"Doesn't Really Matter\",\"2000\"],[\"Destiny's Child\",\"Say My Name\",\"2000\"],[\"Santana\",\"Smooth (feat. Rob Thomas)\",\"2000\"],[\"B'z\",\"\\u4eca\\u591c\\u6708\\u306e\\u898b\\u3048\\u308b\\u4e18\\u306b\",\"2000\"],[\"\\u4e2d\\u5cf6\\u307f\\u3086\\u304d\",\"\\u5730\\u4e0a\\u306e\\u661f\",\"2000\"],[\"MISIA\",\"Everything\",\"2000\"],[\"Ayumi Hamasaki\",\"SEASONS\",\"2000\"],[\"Mai Kuraki\",\"Secret of my heart\",\"2000\"],[\"Madonna\",\"American Pie\",\"2000\"],[\"Faith Hill\",\"Breathe\",\"2000\"],[\"Joe\",\"I Wanna Know\",\"2000\"],[\"Vertical Horizon\",\"Everything You Want\",\"2000\"],[\"Sheena Ringo\",\"\\u30ae\\u30d6\\u30b9\",\"2000\"],[\"SPITZ\",\"\\u30e1\\u30e2\\u30ea\\u30fc\\u30ba\",\"2000\"],[\"BUMP OF CHICKEN\",\"\\u30e9\\u30f3\\u30d7\",\"2000\"],[\"Mr.Children\",\"\\u53e3\\u7b1b\",\"2000\"],[\"L'Arc-en-Ciel\",\"NEO UNIVERSE\",\"2000\"],[\"GLAY\",\"\\u3068\\u307e\\u3069\\u3044\",\"2000\"],[\"aiko\",\"Sakura no Toki\",\"2000\"],[\"PornoGraffitti\",\"\\u30b5\\u30a6\\u30c0\\u30fc\\u30b8\",\"2000\"],[\"The Dandy Warhols\",\"Bohemian Like You\",\"2000\"],[\"Oasis\",\"Go Let It Out\",\"2000\"],[\"blink-182\",\"All The Small Things\",\"2000\"],[\"Green Day\",\"Minority\",\"2000\"],[\"Savage Garden\",\"I Knew I Loved You\",\"2000\"],[\"Yuki Koyanagi\",\"\\u3042\\u306a\\u305f\\u306e\\u30ad\\u30b9\\u3092\\u6570\\u3048\\u307e\\u3057\\u3087\\u3046 \\u301cYou were mine\\u301c\",\"2000\"],[\"DA PUMP\",\"if...\",\"2000\"],[\"Ayumi Hamasaki\",\"vogue\",\"2000\"],[\"hana*hana\",\"\\u3042\\u301c\\u3088\\u304b\\u3063\\u305f - setagaya-mix\",\"2000\"],[\"Whiteberry\",\"\\u590f\\u796d\\u308a\",\"2000\"],[\"ARASHI\",\"\\u611f\\u8b1d\\u30ab\\u30f3\\u30b2\\u30ad\\u96e8\\u5d50\",\"2000\"],[\"\\u84ee\\u4e95 \\u6731\\u590f\",\"ZOO \\u301c\\u611b\\u3092\\u304f\\u3060\\u3055\\u3044\\u301c\",\"2000\"],[\"Bluem of Youth\",\"\\u30e9\\u30b9\\u30c8\\u30c4\\u30a2\\u30fc\\u301c\\u7d04\\u675f\\u306e\\u5834\\u6240\\u3078\\u301c\\uff08\\u30a6\\u30e9\\u30b8\\u30aa\\u30b9\\u30c8\\u30c3\\u30afrecording)\",\"2000\"],[\"Ken Hirai\",\"\\u697d\\u5712\",\"2000\"],[\"BUMP OF CHICKEN\",\"\\u30c0\\u30a4\\u30e4\\u30e2\\u30f3\\u30c9\",\"2000\"],[\"Radiohead\",\"The National Anthem\",\"2000\"],[\"Coldplay\",\"Yellow\",\"2000\"],[\"Tahiti 80\",\"Heartbeat\",\"2000\"],[\"Madonna\",\"Music\",\"2000\"],[\"Britney Spears\",\"Oops!...I Did It Again\",\"2000\"],[\"Toni Braxton\",\"He Wasn't Man Enough\",\"2000\"],[\"Backstreet Boys\",\"Shape of My Heart\",\"2000\"],[\"Fiona Apple\",\"Fast As You Can - Radio Edit\",\"2000\"],[\"Hikaru Utada\",\"For You\",\"2000\"],[\"aiko\",\"Boyfriend\",\"2000\"],[\"Cocco\",\"\\u3051\\u3082\\u306e\\u9053\",\"2000\"],[\"LOVE PSYCHEDELICO\",\"Last Smile\",\"2000\"],[\"Quruli\",\"\\u30ef\\u30f3\\u30c0\\u30fc\\u30d5\\u30a9\\u30fc\\u30b2\\u30eb\",\"2000\"],[\"Kazuyoshi Saito\",\"\\u30a2\\u30b2\\u30cf\",\"2000\"],[\"U2\",\"Beautiful Day\",\"2000\"],[\"Linkin Park\",\"In the End\",\"2000\"],[\"Limp Bizkit\",\"Take A Look Around\",\"2000\"],[\"Bon Jovi\",\"It's My Life\",\"2000\"],[\"Hi-STANDARD\",\"MY FIRST KISS\",\"2000\"],[\"Mondo Grosso\",\"LIFE\",\"2000\"],[\"m-flo\",\"How You Like Me Now?\",\"2000\"],[\"D'Angelo\",\"Spanish Joint\",\"2000\"],[\"Eminem\",\"The Real Slim Shady\",\"2000\"],[\"Cypress Hill\",\"(Rock) Superstar (feat. Chino Moreno & Everlast)\",\"2000\"],[\"Brian McKnight\",\"Back At One\",\"2000\"],[\"KIRINJI\",\"\\u30a8\\u30a4\\u30ea\\u30a2\\u30f3\\u30ba - 2018 Remaster\",\"2000\"],[\"DREAMS COME TRUE\",\"SNOW DANCE\",\"2000\"],[\"Sheena Ringo\",\"\\u7f6a\\u3068\\u7f70\",\"2000\"],[\"PornoGraffitti\",\"\\u30df\\u30e5\\u30fc\\u30b8\\u30c3\\u30af\\u30fb\\u30a2\\u30ef\\u30fc\",\"2000\"],[\"Masaharu Fukuyama\",\"HEAVEN (Original Version)\",\"2000\"],[\"\\u30b5\\u30b6\\u30f3\\u30aa\\u30fc\\u30eb\\u30b9\\u30bf\\u30fc\\u30ba\",\"HOTEL PACIFIC\",\"2000\"],[\"YUZU\",\"Ah Seishun No Hibi\",\"2000\"],[\"Westlife\",\"My Love\",\"2000\"],[\"*NSYNC\",\"It's Gonna Be Me\",\"2000\"],[\"Kylie Minogue\",\"Spinning Around\",\"2000\"],[\"GLAY\",\"MERMAID\",\"2000\"],[\"The Gospellers\",\"\\u6c38\\u9060\\u306b\",\"2000\"],[\"Chihiro Onitsuka\",\"\\u6708\\u5149\",\"2000\"],[\"\\u4e2d\\u5cf6\\u307f\\u3086\\u304d\",\"\\u30d8\\u30c3\\u30c9\\u30e9\\u30a4\\u30c8\\u30fb\\u30c6\\u30fc\\u30eb\\u30e9\\u30a4\\u30c8\",\"2000\"],[\"Kazumasa Oda\",\"woh woh\",\"2000\"],[\"Takako Matsu\",\"\\u685c\\u306e\\u96e8\\u3001\\u3044\\u3064\\u304b\",\"2000\"],[\"hana*hana\",\"\\u3055\\u3088\\u306a\\u3089\\u5927\\u597d\\u304d\\u306a\\u4eba - 2020 Remaster\",\"2000\"],[\"Aaliyah\",\"Try Again\",\"2000\"],[\"Christina Aguilera\",\"What a Girl Wants\",\"2000\"],[\"Sisqo\",\"Thong Song\",\"2000\"],[\"hitomi\",\"LOVE 2000\",\"2000\"],[\"Mr.Children\",\"NOT FOUND\",\"2000\"],[\"SPITZ\",\"\\u30db\\u30bf\\u30eb\",\"2000\"],[\"SUPER BUTTER DOG\",\"\\u30b3\\u30df\\u30e5\\u30cb\\u30b1\\u30fc\\u30b7\\u30e7\\u30f3\\u30fb\\u30d6\\u30ec\\u30a4\\u30af\\u30c0\\u30f3\\u30b9\",\"2000\"],[\"Dragon Ash\",\"Deep Impact feat. Rappagariya\",\"2000\"],[\"RHYMESTER\",\"\\u30d6\\u30e9\\u30b6\\u30fc\\u30ba DJ WATARAI Remix\",\"2000\"],[\"Matchbox Twenty\",\"Bent\",\"2000\"],[\"Creed\",\"Higher\",\"2000\"],[\"MONGOL800\",\"DON'T WORRY BE HAPPY\",\"2000\"],[\"Kazuyoshi Nakamura\",\"\\u541b\\u30ce\\u58f0\",\"2000\"],[\"WINO\",\"\\u592a\\u967d\\u306f\\u591c\\u3082\\u8f1d\\u304f\",\"2000\"],[\"Sunny Day Service\",\"Yoru no Melody\",\"2000\"],[\"\\u5927\\u6cc9\\u9038\\u90ce\",\"\\u5b6b\",\"2000\"]],\"hovertemplate\":\"\\u003cb\\u003e%{hovertext}\\u003c\\u002fb\\u003e\\u003cbr\\u003e\\u003cbr\\u003e\\u5e74\\u4ee3=%{customdata[2]}\\u003cbr\\u003e\\u7b2c\\u4e00\\u4e3b\\u6210\\u5206=%{x}\\u003cbr\\u003e\\u7b2c\\u4e8c\\u4e3b\\u6210\\u5206=%{y}\\u003cbr\\u003e\\u30a2\\u30fc\\u30c6\\u30a3\\u30b9\\u30c8\\u540d=%{customdata[0]}\\u003cbr\\u003e\\u30c8\\u30e9\\u30c3\\u30af\\u540d=%{customdata[1]}\\u003cextra\\u003e\\u003c\\u002fextra\\u003e\",\"hovertext\":[\"Masaharu Fukuyama\",\"\\u30b5\\u30b6\\u30f3\\u30aa\\u30fc\\u30eb\\u30b9\\u30bf\\u30fc\\u30ba\",\"Hikaru Utada\",\"Takashi Fujii\",\"Hitomi Yaida\",\"Janet Jackson\",\"Destiny's Child\",\"Santana\",\"B'z\",\"\\u4e2d\\u5cf6\\u307f\\u3086\\u304d\",\"MISIA\",\"Ayumi Hamasaki\",\"Mai Kuraki\",\"Madonna\",\"Faith Hill\",\"Joe\",\"Vertical Horizon\",\"Sheena Ringo\",\"SPITZ\",\"BUMP OF CHICKEN\",\"Mr.Children\",\"L'Arc-en-Ciel\",\"GLAY\",\"aiko\",\"PornoGraffitti\",\"The Dandy Warhols\",\"Oasis\",\"blink-182\",\"Green Day\",\"Savage Garden\",\"Yuki Koyanagi\",\"DA PUMP\",\"Ayumi Hamasaki\",\"hana*hana\",\"Whiteberry\",\"ARASHI\",\"\\u84ee\\u4e95 \\u6731\\u590f\",\"Bluem of Youth\",\"Ken Hirai\",\"BUMP OF CHICKEN\",\"Radiohead\",\"Coldplay\",\"Tahiti 80\",\"Madonna\",\"Britney Spears\",\"Toni Braxton\",\"Backstreet Boys\",\"Fiona Apple\",\"Hikaru Utada\",\"aiko\",\"Cocco\",\"LOVE PSYCHEDELICO\",\"Quruli\",\"Kazuyoshi Saito\",\"U2\",\"Linkin Park\",\"Limp Bizkit\",\"Bon Jovi\",\"Hi-STANDARD\",\"Mondo Grosso\",\"m-flo\",\"D'Angelo\",\"Eminem\",\"Cypress Hill\",\"Brian McKnight\",\"KIRINJI\",\"DREAMS COME TRUE\",\"Sheena Ringo\",\"PornoGraffitti\",\"Masaharu Fukuyama\",\"\\u30b5\\u30b6\\u30f3\\u30aa\\u30fc\\u30eb\\u30b9\\u30bf\\u30fc\\u30ba\",\"YUZU\",\"Westlife\",\"*NSYNC\",\"Kylie Minogue\",\"GLAY\",\"The Gospellers\",\"Chihiro Onitsuka\",\"\\u4e2d\\u5cf6\\u307f\\u3086\\u304d\",\"Kazumasa Oda\",\"Takako Matsu\",\"hana*hana\",\"Aaliyah\",\"Christina Aguilera\",\"Sisqo\",\"hitomi\",\"Mr.Children\",\"SPITZ\",\"SUPER BUTTER DOG\",\"Dragon Ash\",\"RHYMESTER\",\"Matchbox Twenty\",\"Creed\",\"MONGOL800\",\"Kazuyoshi Nakamura\",\"WINO\",\"Sunny Day Service\",\"\\u5927\\u6cc9\\u9038\\u90ce\"],\"legendgroup\":\"2000\",\"marker\":{\"color\":\"#00cc96\",\"symbol\":\"circle\"},\"mode\":\"markers\",\"name\":\"2000\",\"orientation\":\"v\",\"showlegend\":true,\"x\":[18.85268211364746,11.312848091125488,-19.16754722595215,-8.368401527404785,0.29972347617149353,-16.598230361938477,-15.206748008728027,-5.143515110015869,-24.644428253173828,-14.932167053222656,21.95946502685547,27.131755828857422,-23.942825317382812,-8.406611442565918,21.150094985961914,-21.43523597717285,-15.012382507324219,17.821224212646484,-25.617403030395508,9.927450180053711,11.422724723815918,-6.349536418914795,10.709990501403809,-3.2546164989471436,-17.925403594970703,-27.2950496673584,-8.353009223937988,-11.445423126220703,0.013312899507582188,17.796112060546875,19.25620460510254,-23.653623580932617,-18.082902908325195,12.640682220458984,-16.919130325317383,-0.03962311893701553,6.622446537017822,17.633323669433594,-18.938745498657227,-5.430672645568848,-26.744964599609375,18.692707061767578,2.5641212463378906,-0.004460340365767479,-15.956871032714844,-17.67630958557129,5.530627250671387,15.581953048706055,-17.099594116210938,-6.244534492492676,-27.652069091796875,-3.46547532081604,-20.97007942199707,-5.248176097869873,-5.275807857513428,-14.462422370910645,-22.187170028686523,-16.084375381469727,0.9387397170066833,-9.543757438659668,-6.09242582321167,-2.5526211261749268,-13.266745567321777,-10.6110258102417,24.59193992614746,26.404029846191406,-25.324752807617188,8.081039428710938,-5.922893524169922,-8.596879959106445,-22.62013053894043,28.687023162841797,17.26953125,-23.388511657714844,-11.68299388885498,11.785201072692871,19.643375396728516,26.502342224121094,25.605188369750977,26.519994735717773,23.05691909790039,15.607464790344238,-12.038495063781738,-9.585463523864746,1.4521681070327759,3.381690502166748,28.580312728881836,-3.79236102104187,-7.180530548095703,-11.019342422485352,-14.454934120178223,-13.566073417663574,16.314006805419922,-12.544466972351074,9.150656700134277,15.523452758789062,5.308262348175049,-7.055116176605225],\"xaxis\":\"x\",\"y\":[2.826054096221924,4.733232498168945,-18.80164337158203,9.844246864318848,17.89268684387207,-20.815067291259766,-18.44891357421875,9.682733535766602,-10.661130905151367,-13.406645774841309,8.641341209411621,7.913541793823242,-16.002899169921875,-23.3853816986084,6.608713150024414,-27.498245239257812,-20.137073516845703,19.402616500854492,10.045151710510254,11.842320442199707,5.882862091064453,16.645959854125977,11.000754356384277,8.051191329956055,-27.29306983947754,9.32068920135498,17.451059341430664,18.484577178955078,15.802595138549805,-0.9573256373405457,8.48813533782959,-17.700942993164062,-18.69111442565918,15.653314590454102,-29.253616333007812,10.847821235656738,-3.2718992233276367,14.75522232055664,-22.762062072753906,14.839664459228516,10.625383377075195,13.637548446655273,3.546027898788452,-5.556770324707031,-24.758838653564453,-24.978004455566406,2.495680093765259,1.0582408905029297,-21.481090545654297,8.086079597473145,10.205877304077148,-24.583452224731445,-15.189024925231934,6.427907466888428,16.444894790649414,-28.226686477661133,10.490578651428223,-28.5377254486084,15.787332534790039,-11.957493782043457,0.3445054888725281,-20.67038345336914,-19.669227600097656,-4.015615463256836,4.3400115966796875,10.361968994140625,-12.6683988571167,22.153451919555664,11.276153564453125,14.965373992919922,-15.06252670288086,-13.195605278015137,12.083612442016602,-18.4899959564209,-22.223875045776367,20.462385177612305,15.331531524658203,-3.439304828643799,4.686213970184326,0.732242226600647,0.7907372713088989,13.261414527893066,-5.149170398712158,7.480292320251465,-3.5969271659851074,18.18158721923828,-12.712017059326172,17.10572624206543,13.409016609191895,-3.672740936279297,1.9655870199203491,-29.339107513427734,16.957828521728516,18.574880599975586,9.177056312561035,17.84934425354004,9.628170013427734,-25.231725692749023],\"yaxis\":\"y\",\"type\":\"scatter\"},{\"customdata\":[[\"Def Tech\",\"My Way\",\"2005\"],[\"Ketsumeishi\",\"sakura\",\"2005\"],[\"ORANGE RANGE\",\"\\u82b1\",\"2005\"],[\"DREAMS COME TRUE\",\"\\u4f55\\u5ea6\\u3067\\u3082\",\"2005\"],[\"aiko\",\"Kira Kira\",\"2005\"],[\"SPITZ\",\"\\u6625\\u306e\\u6b4c\",\"2005\"],[\"Daniel Powter\",\"Bad Day\",\"2005\"],[\"O-Zone\",\"Dragostea Din Tei - Original Romanian Version\",\"2005\"],[\"Mariah Carey\",\"We Belong Together\",\"2005\"],[\"Madonna\",\"Hung Up\",\"2005\"],[\"Gwen Stefani\",\"Hollaback Girl\",\"2005\"],[\"Mario\",\"Let Me Love You\",\"2005\"],[\"ORANGE RANGE\",\"\\uff0a\\u301c\\u30a2\\u30b9\\u30bf\\u30ea\\u30b9\\u30af\\u301c\",\"2005\"],[\"GLAY\",\"SCREAM\",\"2005\"],[\"ELLEGARDEN\",\"Space Sonic\",\"2005\"],[\"GING NANG BOYZ\",\"BABY BABY\",\"2005\"],[\"B'z\",\"OCEAN\",\"2005\"],[\"U2\",\"Vertigo\",\"2005\"],[\"Green Day\",\"American Idiot\",\"2005\"],[\"Coldplay\",\"Speed of Sound\",\"2005\"],[\"Maroon 5\",\"Sunday Morning\",\"2005\"],[\"Mr.Children\",\"and I love you\",\"2005\"],[\"Ken Hirai\",\"POP STAR\",\"2005\"],[\"BENNIE K\",\"Dreamland\",\"2005\"],[\"Ai Otsuka\",\"SMILY\",\"2005\"],[\"\\u30b5\\u30b6\\u30f3\\u30aa\\u30fc\\u30eb\\u30b9\\u30bf\\u30fc\\u30ba\",\"\\u96e8\\u4e0a\\u304c\\u308a\\u306b\\u3082\\u3046\\u4e00\\u5ea6\\u30ad\\u30b9\\u3092\\u3057\\u3066\",\"2005\"],[\"Remioromen\",\"\\u5357\\u98a8\",\"2005\"],[\"Sukima Switch\",\"\\u5168\\u529b\\u5c11\\u5e74\",\"2005\"],[\"SINGER SONGER\",\"\\u521d\\u82b1\\u51dc\\u3005\\uff08\\u3057\\u3087\\u304b\\u308a\\u3093\\u308a\\u3093\\uff09\",\"2005\"],[\"BUMP OF CHICKEN\",\"\\u8eca\\u8f2a\\u306e\\u5504 (Single Edit)\",\"2005\"],[\"YUKI\",\"JOY\",\"2005\"],[\"Ayumi Hamasaki\",\"STEP you\",\"2005\"],[\"Black Eyed Peas\",\"Don't Phunk With My Heart\",\"2005\"],[\"50 Cent\",\"Candy Shop\",\"2005\"],[\"The Pussycat Dolls\",\"Don't Cha\",\"2005\"],[\"Craig David\",\"All the Way\",\"2005\"],[\"ORANGE RANGE\",\"\\u304a\\u9858\\u3044\\uff01\\u30bb\\u30cb\\u30e7\\u30ea\\u30fc\\u30bf\",\"2005\"],[\"Group Tamashii\",\"\\u541b\\u306b\\u30b8\\u30e5\\u30fc\\u30b9\\u3092\\u8cb7\\u3063\\u3066\\u3042\\u3052\\u308b\\uff3f\\uff3f\",\"2005\"],[\"Ken Matsudaira\",\"\\u30de\\u30c4\\u30b1\\u30f3\\u30b5\\u30f3\\u30d0\\u2161\",\"2005\"],[\"Yoku Hata\",\"\\u30ae\\u30bf\\u30fc\\u4f8d\\u306e\\u3046\\u305f - \\u6709\\u540d\\u4eba\\u65ac\\u308a\\u30d0\\u30fc\\u30b8\\u30e7\\u30f3\",\"2005\"],[\"Destiny's Child\",\"Lose My Breath\",\"2005\"],[\"Missy Elliott\",\"Lose Control (feat. Ciara & Fat Man Scoop)\",\"2005\"],[\"Rihanna\",\"Pon de Replay\",\"2005\"],[\"Nana\",\"GLAMOROUS SKY\",\"2005\"],[\"L'Arc-en-Ciel\",\"Link\",\"2005\"],[\"ARASHI\",\"WISH\",\"2005\"],[\"D-51\",\"No More Cry\",\"2005\"],[\"Sasuke\",\"\\u9752\\u3044\\u30d9\\u30f3\\u30c1\",\"2005\"],[\"UNDER GRAPH\",\"\\u30c4\\u30d0\\u30b5\",\"2005\"],[\"KOBUKURO\",\"\\u3053\\u3053\\u306b\\u3057\\u304b\\u54b2\\u304b\\u306a\\u3044\\u82b1\",\"2005\"],[\"Janne Da Arc\",\"\\u6708\\u5149\\u82b1\",\"2005\"],[\"Ayaka Hirahara\",\"\\u660e\\u65e5\",\"2005\"],[\"Kumi Koda\",\"Butterfly\",\"2005\"],[\"Oasis\",\"Lyla\",\"2005\"],[\"Franz Ferdinand\",\"Do You Want To\",\"2005\"],[\"Green Day\",\"Boulevard of Broken Dreams\",\"2005\"],[\"Weezer\",\"Beverly Hills\",\"2005\"],[\"The Killers\",\"Mr. Brightside\",\"2005\"],[\"Mr.Children\",\"\\u672a\\u6765\",\"2005\"],[\"Quruli\",\"BIRTHDAY\",\"2005\"],[\"BUMP OF CHICKEN\",\"\\u30d7\\u30e9\\u30cd\\u30bf\\u30ea\\u30a6\\u30e0\",\"2005\"],[\"\\u30b5\\u30b6\\u30f3\\u30aa\\u30fc\\u30eb\\u30b9\\u30bf\\u30fc\\u30ba\",\"BOHBO No.5\",\"2005\"],[\"Sambomaster\",\"\\u4e16\\u754c\\u306f\\u305d\\u308c\\u3092\\u611b\\u3068\\u547c\\u3076\\u3093\\u3060\\u305c\",\"2005\"],[\"Tokyo Incidents\",\"\\u4fee\\u7f85\\u5834 - \\u30b7\\u30f3\\u30b0\\u30eb\",\"2005\"],[\"Ulfuls\",\"\\u66b4\\u308c\\u3060\\u3059 - full version\",\"2005\"],[\"New Order\",\"Krafty - Single Edit; 2015 Remaster\",\"2005\"],[\"B'z\",\"\\u611b\\u306e\\u30d0\\u30af\\u30c0\\u30f3\",\"2005\"],[\"YUI\",\"feel my soul\",\"2005\"],[\"K\",\"over...\",\"2005\"],[\"Kaela Kimura\",\"\\u30ea\\u30eb\\u30e9 \\u30ea\\u30eb\\u30cf\",\"2005\"],[\"Chris Brown\",\"Run It! (feat. Juelz Santana)\",\"2005\"],[\"Kanye West\",\"Gold Digger\",\"2005\"],[\"Kings of Leon\",\"The Bucket\",\"2005\"],[\"John Legend\",\"Used to Love U\",\"2005\"],[\"James Blunt\",\"You're Beautiful\",\"2005\"],[\"Crystal Kay\",\"\\u604b\\u306b\\u304a\\u3061\\u305f\\u3089\",\"2005\"],[\"Yo Hitoto\",\"\\u30cf\\u30ca\\u30df\\u30ba\\u30ad\",\"2005\"],[\"Ai Otsuka\",\"\\u30d7\\u30e9\\u30cd\\u30bf\\u30ea\\u30a6\\u30e0\",\"2005\"],[\"Gorillaz\",\"Feel Good Inc.\",\"2005\"],[\"JAY-Z\",\"Numb \\u002f Encore\",\"2005\"],[\"Eminem\",\"Just Lose It\",\"2005\"],[\"Snoop Dogg\",\"Drop It Like It's Hot\",\"2005\"],[\"KREVA\",\"\\u30a4\\u30c3\\u30b5\\u30a4\\u30ac\\u30c3\\u30b5\\u30a4\",\"2005\"],[\"AI\",\"Story\",\"2005\"],[\"BoA\",\"\\u30e1\\u30ea\\u30af\\u30ea\",\"2005\"],[\"Every Little Thing\",\"\\u604b\\u6587\",\"2005\"],[\"Masaharu Fukuyama\",\"\\u6ce3\\u3044\\u305f\\u308a\\u3057\\u306a\\u3044\\u3067\",\"2005\"],[\"KOBUKURO\",\"\\u685c\",\"2005\"],[\"YUZU\",\"Choutokkyuu\",\"2005\"],[\"REIRA starring Yuna Ito\",\"ENDLESS STORY\",\"2005\"],[\"Hikaru Utada\",\"Be My Last\",\"2005\"],[\"Tristan Prettyman\",\"Love Love Love\",\"2005\"],[\"Kelly Clarkson\",\"Since U Been Gone\",\"2005\"],[\"Lifehouse\",\"You And Me\",\"2005\"],[\"ASIAN KUNG-FU GENERATION\",\"\\u30d6\\u30eb\\u30fc\\u30c8\\u30ec\\u30a4\\u30f3\",\"2005\"],[\"YUI\",\"Tomorrow's way\",\"2005\"],[\"UVERworld\",\"D-tecnoLife\",\"2005\"],[\"Hitomi Takahashi\",\"\\u50d5\\u305f\\u3061\\u306e\\u884c\\u65b9\",\"2005\"]],\"hovertemplate\":\"\\u003cb\\u003e%{hovertext}\\u003c\\u002fb\\u003e\\u003cbr\\u003e\\u003cbr\\u003e\\u5e74\\u4ee3=%{customdata[2]}\\u003cbr\\u003e\\u7b2c\\u4e00\\u4e3b\\u6210\\u5206=%{x}\\u003cbr\\u003e\\u7b2c\\u4e8c\\u4e3b\\u6210\\u5206=%{y}\\u003cbr\\u003e\\u30a2\\u30fc\\u30c6\\u30a3\\u30b9\\u30c8\\u540d=%{customdata[0]}\\u003cbr\\u003e\\u30c8\\u30e9\\u30c3\\u30af\\u540d=%{customdata[1]}\\u003cextra\\u003e\\u003c\\u002fextra\\u003e\",\"hovertext\":[\"Def Tech\",\"Ketsumeishi\",\"ORANGE RANGE\",\"DREAMS COME TRUE\",\"aiko\",\"SPITZ\",\"Daniel Powter\",\"O-Zone\",\"Mariah Carey\",\"Madonna\",\"Gwen Stefani\",\"Mario\",\"ORANGE RANGE\",\"GLAY\",\"ELLEGARDEN\",\"GING NANG BOYZ\",\"B'z\",\"U2\",\"Green Day\",\"Coldplay\",\"Maroon 5\",\"Mr.Children\",\"Ken Hirai\",\"BENNIE K\",\"Ai Otsuka\",\"\\u30b5\\u30b6\\u30f3\\u30aa\\u30fc\\u30eb\\u30b9\\u30bf\\u30fc\\u30ba\",\"Remioromen\",\"Sukima Switch\",\"SINGER SONGER\",\"BUMP OF CHICKEN\",\"YUKI\",\"Ayumi Hamasaki\",\"Black Eyed Peas\",\"50 Cent\",\"The Pussycat Dolls\",\"Craig David\",\"ORANGE RANGE\",\"Group Tamashii\",\"Ken Matsudaira\",\"Yoku Hata\",\"Destiny's Child\",\"Missy Elliott\",\"Rihanna\",\"Nana\",\"L'Arc-en-Ciel\",\"ARASHI\",\"D-51\",\"Sasuke\",\"UNDER GRAPH\",\"KOBUKURO\",\"Janne Da Arc\",\"Ayaka Hirahara\",\"Kumi Koda\",\"Oasis\",\"Franz Ferdinand\",\"Green Day\",\"Weezer\",\"The Killers\",\"Mr.Children\",\"Quruli\",\"BUMP OF CHICKEN\",\"\\u30b5\\u30b6\\u30f3\\u30aa\\u30fc\\u30eb\\u30b9\\u30bf\\u30fc\\u30ba\",\"Sambomaster\",\"Tokyo Incidents\",\"Ulfuls\",\"New Order\",\"B'z\",\"YUI\",\"K\",\"Kaela Kimura\",\"Chris Brown\",\"Kanye West\",\"Kings of Leon\",\"John Legend\",\"James Blunt\",\"Crystal Kay\",\"Yo Hitoto\",\"Ai Otsuka\",\"Gorillaz\",\"JAY-Z\",\"Eminem\",\"Snoop Dogg\",\"KREVA\",\"AI\",\"BoA\",\"Every Little Thing\",\"Masaharu Fukuyama\",\"KOBUKURO\",\"YUZU\",\"REIRA starring Yuna Ito\",\"Hikaru Utada\",\"Tristan Prettyman\",\"Kelly Clarkson\",\"Lifehouse\",\"ASIAN KUNG-FU GENERATION\",\"YUI\",\"UVERworld\",\"Hitomi Takahashi\"],\"legendgroup\":\"2005\",\"marker\":{\"color\":\"#ab63fa\",\"symbol\":\"circle\"},\"mode\":\"markers\",\"name\":\"2005\",\"orientation\":\"v\",\"showlegend\":true,\"x\":[-6.452000141143799,-4.887109279632568,12.098974227905273,5.89463996887207,9.142011642456055,4.864277362823486,11.52784252166748,-2.0374011993408203,-2.220384359359741,-11.006856918334961,-22.368913650512695,-7.8324408531188965,-5.458715915679932,5.267542362213135,-15.432181358337402,9.152915000915527,14.323507308959961,1.1290795803070068,-0.07789547741413116,-15.141683578491211,2.770134687423706,16.198999404907227,-0.429378867149353,-0.8230047225952148,1.9166061878204346,-3.516702651977539,4.64364767074585,-4.041360378265381,3.6169121265411377,6.112648010253906,0.5849860310554504,6.30153226852417,-19.8369140625,-18.702299118041992,-12.665767669677734,2.1801071166992188,-20.874807357788086,-16.35074806213379,7.441402435302734,-11.993988037109375,-1.9384206533432007,-11.762384414672852,-8.775185585021973,-28.07713508605957,2.046654224395752,-4.497430801391602,0.32033848762512207,4.083903789520264,2.8510773181915283,22.707942962646484,-14.230106353759766,28.61775779724121,-24.187902450561523,8.026505470275879,-11.646384239196777,13.928752899169922,-10.995973587036133,11.311518669128418,8.175952911376953,-9.053032875061035,13.402809143066406,-23.237201690673828,7.831061363220215,3.120161294937134,6.775454521179199,-24.23198890686035,5.055220603942871,12.31698989868164,18.04376792907715,2.403895139694214,-11.303252220153809,-12.979194641113281,16.605188369750977,-11.495085716247559,-5.771246910095215,6.004878520965576,25.90163230895996,-26.004241943359375,-13.059500694274902,-13.60864543914795,-3.2838478088378906,-10.36354923248291,-19.81998062133789,15.652365684509277,28.481779098510742,24.829240798950195,23.018203735351562,23.045000076293945,14.800361633300781,17.52113151550293,16.696775436401367,5.400546073913574,1.4707082509994507,29.381916046142578,-25.298158645629883,14.537198066711426,-20.977516174316406,8.465447425842285],\"xaxis\":\"x\",\"y\":[-3.467357635498047,7.556631565093994,16.457338333129883,3.4438765048980713,5.596613883972168,10.079071044921875,-3.013021469116211,1.7462180852890015,-4.773202896118164,-15.047650337219238,-21.437015533447266,-19.2343807220459,13.094165802001953,11.50931167602539,-30.315509796142578,20.629365921020508,6.92124605178833,16.358245849609375,18.57802391052246,-14.45695686340332,-2.3542308807373047,7.191863536834717,10.132160186767578,8.27017879486084,16.345069885253906,10.880718231201172,8.90396499633789,8.090206146240234,6.138143539428711,7.709639549255371,9.12095832824707,6.5978851318359375,-30.02030372619629,-0.33397191762924194,-20.0553035736084,-1.2315616607666016,-12.11805248260498,-2.687035322189331,-3.2555463314056396,-1.3905916213989258,3.337566375732422,-19.018177032470703,-4.322941303253174,10.00750732421875,12.52006721496582,8.694802284240723,11.34012222290039,-2.1886510848999023,-4.03519344329834,0.1487431675195694,-13.904258728027344,2.930490016937256,9.020435333251953,15.787468910217285,18.193702697753906,15.428906440734863,9.709933280944824,19.803403854370117,6.705860614776611,-16.016002655029297,4.286999702453613,-14.366680145263672,18.35872459411621,10.058036804199219,13.529934883117676,9.206692695617676,18.030433654785156,16.896400451660156,14.918469429016113,14.733399391174316,-27.124866485595703,-4.615431785583496,11.482894897460938,9.757272720336914,-22.319467544555664,8.952763557434082,7.392492294311523,-12.514963150024414,5.759528636932373,6.229796886444092,-3.133363962173462,-4.702001094818115,-0.17225927114486694,-1.619315505027771,-12.179097175598145,-0.8878671526908875,5.811947345733643,0.04007910192012787,19.964956283569336,8.862700462341309,-12.942129135131836,2.320117473602295,3.2244913578033447,-12.594388008117676,9.511222839355469,17.223886489868164,-12.033723831176758,11.801383972167969],\"yaxis\":\"y\",\"type\":\"scatter\"},{\"customdata\":[[\"KAN\",\"Yokereba Issyoni\",\"2010\"],[\"Ikimonogakari\",\"\\u3042\\u308a\\u304c\\u3068\\u3046\",\"2010\"],[\"AKB48\",\"Beginner\",\"2010\"],[\"ARASHI\",\"Monster\",\"2010\"],[\"Hikaru Utada\",\"Goodbye Happiness\",\"2010\"],[\"Tokyo Incidents\",\"\\u80fd\\u52d5\\u7684\\u4e09\\u5206\\u9593\",\"2010\"],[\"Katy Perry\",\"California Gurls\",\"2010\"],[\"Lady Gaga\",\"Bad Romance\",\"2010\"],[\"P!nk\",\"Raise Your Glass\",\"2010\"],[\"Shota Shimizu\",\"FOREVER LOVE\",\"2010\"],[\"Kana Nishino\",\"\\u541b\\u3063\\u3066\",\"2010\"],[\"andymori\",\"1984\",\"2010\"],[\"ONE OK ROCK\",\"Wherever you are\",\"2010\"],[\"RADWIMPS\",\"Manifesto\",\"2010\"],[\"Eminem\",\"Love The Way You Lie\",\"2010\"],[\"Bruno Mars\",\"Just the Way You Are\",\"2010\"],[\"Kesha\",\"TiK ToK\",\"2010\"],[\"Keisuke Kuwata\",\"\\u672c\\u5f53\\u306f\\u6016\\u3044\\u611b\\u3068\\u30ed\\u30de\\u30f3\\u30b9\",\"2010\"],[\"Masaharu Fukuyama\",\"\\u306f\\u3064\\u604b\",\"2010\"],[\"AKB48\",\"\\u30d8\\u30d3\\u30fc\\u30ed\\u30fc\\u30c6\\u30fc\\u30b7\\u30e7\\u30f3\",\"2010\"],[\"Kana Nishino\",\"\\u4f1a\\u3044\\u305f\\u304f\\u3066 \\u4f1a\\u3044\\u305f\\u304f\\u3066\",\"2010\"],[\"Superfly\",\"\\u30bf\\u30de\\u30b7\\u30a4\\u30ec\\u30dc\\u30ea\\u30e5\\u30fc\\u30b7\\u30e7\\u30f3\",\"2010\"],[\"K'NAAN\",\"Wavin' Flag - Celebration Mix\",\"2010\"],[\"Taylor Swift\",\"Mine\",\"2010\"],[\"ARASHI\",\"\\u679c\\u3066\\u306a\\u3044\\u7a7a\",\"2010\"],[\"BUMP OF CHICKEN\",\"\\u5b87\\u5b99\\u98db\\u884c\\u58eb\\u3078\\u306e\\u624b\\u7d19\",\"2010\"],[\"YUI\",\"GLORIA\",\"2010\"],[\"Perfume\",\"VOICE\",\"2010\"],[\"Maroon 5\",\"Misery\",\"2010\"],[\"Taio Cruz\",\"Dynamite\",\"2010\"],[\"INFINITY16\",\"\\u4f1d\\u3048\\u305f\\u3044\\u4e8b\\u304c\\u3053\\u3093\\u306a\\u3042\\u308b\\u306e\\u306b\",\"2010\"],[\"Yusuke\",\"\\u30e9\\u30a4\\u30aa\\u30f3\",\"2010\"],[\"SEKAI NO OWARI\",\"\\u8679\\u8272\\u306e\\u6226\\u4e89\",\"2010\"],[\"Toshinobu Kubota\",\"LOVE RAIN \\uff5e\\u604b\\u306e\\u96e8\\uff5e\",\"2010\"],[\"RIP SLYME\",\"Good Times\",\"2010\"],[\"Michael Jackson\",\"This Is It\",\"2010\"],[\"Mark Ronson\",\"Bang Bang Bang (feat. MNDR)\",\"2010\"],[\"KT Tunstall\",\"Fade Like A Shadow\",\"2010\"],[\"Fujifabric\",\"\\u591c\\u660e\\u3051\\u306eBEAT\",\"2010\"],[\"sakanaction\",\"\\u30a2\\u30eb\\u30af\\u30a2\\u30e9\\u30a6\\u30f3\\u30c9\",\"2010\"],[\"ASIAN KUNG-FU GENERATION\",\"\\u30bd\\u30e9\\u30cb\\u30f3\",\"2010\"],[\"ONE OK ROCK\",\"Kanzen kankaku Dreamer\",\"2010\"],[\"L'Arc-en-Ciel\",\"BLESS\",\"2010\"],[\"Kylie Minogue\",\"All the Lovers\",\"2010\"],[\"Jamiroquai\",\"White Knuckle Ride\",\"2010\"],[\"USHER\",\"DJ Got Us Fallin' In Love (feat. Pitbull)\",\"2010\"],[\"KOBUKURO\",\"\\u6d41\\u661f\",\"2010\"],[\"Kazuyoshi Saito\",\"\\u305a\\u3063\\u3068\\u597d\\u304d\\u3060\\u3063\\u305f\",\"2010\"],[\"Justin Bieber\",\"Baby\",\"2010\"],[\"Alicia Keys\",\"Try Sleeping with a Broken Heart\",\"2010\"],[\"Black Eyed Peas\",\"Imma Be\",\"2010\"],[\"J SOUL BROTHERS III\",\"Best Friend's Girl\",\"2010\"],[\"KARA\",\"\\u30df\\u30b9\\u30bf\\u30fc\",\"2010\"],[\"Girls' Generation\",\"Gee\",\"2010\"],[\"Rihanna\",\"Only Girl (In The World)\",\"2010\"],[\"B.o.B\",\"Nothin' on You (feat. Bruno Mars)\",\"2010\"],[\"David Guetta\",\"Memories (feat. Kid Cudi)\",\"2010\"],[\"FUNKY MONKEY BABYS\",\"\\u3042\\u3068\\u3072\\u3068\\u3064\",\"2010\"],[\"Superfly\",\"Wildflower\",\"2010\"],[\"Creep Hyp\",\"He Is Mine\",\"2010\"],[\"Jack Johnson\",\"You And Your Heart\",\"2010\"],[\"Gorillaz\",\"Stylo (feat. Mos Def and Bobby Womack)\",\"2010\"],[\"The Chemical Brothers\",\"Swoon - Radio Edit\",\"2010\"],[\"SPITZ\",\"\\u3064\\u3050\\u307f\",\"2010\"],[\"Ketsumeishi\",\"ofutariSummer\",\"2010\"],[\"JUJU\",\"\\u3053\\u306e\\u591c\\u3092\\u6b62\\u3081\\u3066\\u3088\",\"2010\"],[\"Kanye West\",\"POWER\",\"2010\"],[\"Drake\",\"Over\",\"2010\"],[\"Dr. Dre\",\"Kush - Main\",\"2010\"],[\"Yui Aragaki\",\"\\u5c0f\\u3055\\u306a\\u604b\\u306e\\u3046\\u305f\",\"2010\"],[\"Motohiro Hata\",\"\\u30a2\\u30a4\",\"2010\"],[\"Gen Hoshino\",\"Kuse no Uta\",\"2010\"],[\"Lady Gaga\",\"Telephone\",\"2010\"],[\"Kesha\",\"Blah Blah Blah (feat. 3OH!3)\",\"2010\"],[\"Katy Perry\",\"Teenage Dream\",\"2010\"],[\"Kana Uemura\",\"\\u30c8\\u30a4\\u30ec\\u306e\\u795e\\u69d8\",\"2010\"],[\"Monkey Majik\",\"SAKURA\",\"2010\"],[\"EXILE\",\"I Wish For You\",\"2010\"],[\"Lady A\",\"Need You Now\",\"2010\"],[\"Nelly\",\"Just A Dream\",\"2010\"],[\"Mr.Children\",\"365\\u65e5\",\"2010\"],[\"Tokyo Incidents\",\"\\u52dd\\u3061\\u6226\",\"2010\"],[\"RADWIMPS\",\"Keitaidenwa - Cat Version\",\"2010\"],[\"Train\",\"Hey, Soul Sister\",\"2010\"],[\"USHER\",\"OMG (feat. will.i.am) - Disco Fries Extended Mix\",\"2010\"],[\"Taio Cruz\",\"Break Your Heart\",\"2010\"],[\"Meisa Kuroki\",\"LOL!\",\"2010\"],[\"Momoiro Clover Z\",\"\\u884c\\u304f\\u305c\\u3063!\\u602a\\u76d7\\u5c11\\u5973\",\"2010\"],[\"KREVA\",\"\\u304b\\u3082\",\"2010\"],[\"Kumi Koda\",\"\\u597d\\u304d\\u3067\\u3001\\u597d\\u304d\\u3067\\u3001\\u597d\\u304d\\u3067\\u3002\",\"2010\"],[\"Kaela Kimura\",\"Ring a Ding Dong\",\"2010\"],[\"Jason Derulo\",\"In My Head\",\"2010\"],[\"Mike Posner\",\"Cooler Than Me - Single Mix\",\"2010\"],[\"Mao Abe\",\"\\u3044\\u3064\\u306e\\u65e5\\u3082\",\"2010\"],[\"lecca\",\"TSUBOMI\",\"2010\"],[\"DOES\",\"\\u30d0\\u30af\\u30c1\\u30fb\\u30c0\\u30f3\\u30b5\\u30fc\",\"2010\"],[\"\\u7269\\u8a9e\\u30b7\\u30ea\\u30fc\\u30ba\",\"\\u604b\\u611b\\u30b5\\u30fc\\u30ad\\u30e5\\u30ec\\u30fc\\u30b7\\u30e7\\u30f3\",\"2010\"],[\"GOLDEN BOMBER\",\"\\u5973\\u3005\\u3057\\u304f\\u3066\",\"2010\"],[\"Fuyumi Sakamoto\",\"\\u307e\\u305f\\u541b\\u306b\\u604b\\u3057\\u3066\\u308b\",\"2010\"]],\"hovertemplate\":\"\\u003cb\\u003e%{hovertext}\\u003c\\u002fb\\u003e\\u003cbr\\u003e\\u003cbr\\u003e\\u5e74\\u4ee3=%{customdata[2]}\\u003cbr\\u003e\\u7b2c\\u4e00\\u4e3b\\u6210\\u5206=%{x}\\u003cbr\\u003e\\u7b2c\\u4e8c\\u4e3b\\u6210\\u5206=%{y}\\u003cbr\\u003e\\u30a2\\u30fc\\u30c6\\u30a3\\u30b9\\u30c8\\u540d=%{customdata[0]}\\u003cbr\\u003e\\u30c8\\u30e9\\u30c3\\u30af\\u540d=%{customdata[1]}\\u003cextra\\u003e\\u003c\\u002fextra\\u003e\",\"hovertext\":[\"KAN\",\"Ikimonogakari\",\"AKB48\",\"ARASHI\",\"Hikaru Utada\",\"Tokyo Incidents\",\"Katy Perry\",\"Lady Gaga\",\"P!nk\",\"Shota Shimizu\",\"Kana Nishino\",\"andymori\",\"ONE OK ROCK\",\"RADWIMPS\",\"Eminem\",\"Bruno Mars\",\"Kesha\",\"Keisuke Kuwata\",\"Masaharu Fukuyama\",\"AKB48\",\"Kana Nishino\",\"Superfly\",\"K'NAAN\",\"Taylor Swift\",\"ARASHI\",\"BUMP OF CHICKEN\",\"YUI\",\"Perfume\",\"Maroon 5\",\"Taio Cruz\",\"INFINITY16\",\"Yusuke\",\"SEKAI NO OWARI\",\"Toshinobu Kubota\",\"RIP SLYME\",\"Michael Jackson\",\"Mark Ronson\",\"KT Tunstall\",\"Fujifabric\",\"sakanaction\",\"ASIAN KUNG-FU GENERATION\",\"ONE OK ROCK\",\"L'Arc-en-Ciel\",\"Kylie Minogue\",\"Jamiroquai\",\"USHER\",\"KOBUKURO\",\"Kazuyoshi Saito\",\"Justin Bieber\",\"Alicia Keys\",\"Black Eyed Peas\",\"J SOUL BROTHERS III\",\"KARA\",\"Girls' Generation\",\"Rihanna\",\"B.o.B\",\"David Guetta\",\"FUNKY MONKEY BABYS\",\"Superfly\",\"Creep Hyp\",\"Jack Johnson\",\"Gorillaz\",\"The Chemical Brothers\",\"SPITZ\",\"Ketsumeishi\",\"JUJU\",\"Kanye West\",\"Drake\",\"Dr. Dre\",\"Yui Aragaki\",\"Motohiro Hata\",\"Gen Hoshino\",\"Lady Gaga\",\"Kesha\",\"Katy Perry\",\"Kana Uemura\",\"Monkey Majik\",\"EXILE\",\"Lady A\",\"Nelly\",\"Mr.Children\",\"Tokyo Incidents\",\"RADWIMPS\",\"Train\",\"USHER\",\"Taio Cruz\",\"Meisa Kuroki\",\"Momoiro Clover Z\",\"KREVA\",\"Kumi Koda\",\"Kaela Kimura\",\"Jason Derulo\",\"Mike Posner\",\"Mao Abe\",\"lecca\",\"DOES\",\"\\u7269\\u8a9e\\u30b7\\u30ea\\u30fc\\u30ba\",\"GOLDEN BOMBER\",\"Fuyumi Sakamoto\"],\"legendgroup\":\"2010\",\"marker\":{\"color\":\"#FFA15A\",\"symbol\":\"circle\"},\"mode\":\"markers\",\"name\":\"2010\",\"orientation\":\"v\",\"showlegend\":true,\"x\":[-3.104571580886841,12.593683242797852,10.538004875183105,-18.718034744262695,7.1988115310668945,-15.33418083190918,-0.05293983221054077,1.1154149770736694,-0.6871527433395386,-18.899194717407227,16.976558685302734,3.1159849166870117,17.85389518737793,-9.0145902633667,-14.485410690307617,3.9513027667999268,-13.825613975524902,-9.161541938781738,-11.377616882324219,-24.61174201965332,-8.158646583557129,-16.00646209716797,11.433440208435059,-0.1068858653306961,5.2997965812683105,8.797213554382324,-8.51034164428711,-18.131860733032227,-15.269922256469727,-1.2502561807632446,-9.097599029541016,3.633648633956909,-23.632980346679688,-17.586444854736328,-6.4301438331604,15.534232139587402,-16.997072219848633,0.6812640428543091,-17.755861282348633,-19.601476669311523,17.44628143310547,-17.436073303222656,8.864473342895508,1.412421464920044,-9.664207458496094,-17.086666107177734,25.248973846435547,-11.47138500213623,-14.035651206970215,-20.06847381591797,-13.167577743530273,10.436507225036621,-20.558269500732422,-21.573932647705078,-12.842991828918457,5.246792793273926,-13.924180030822754,11.110769271850586,-17.91187858581543,-16.422155380249023,1.2369025945663452,-15.577224731445312,-27.99296760559082,7.017877101898193,-19.202350616455078,-20.14048194885254,-21.033559799194336,-19.987871170043945,7.4618964195251465,21.691043853759766,24.32404899597168,25.535093307495117,-13.841288566589355,-12.760303497314453,0.5858787894248962,27.56993293762207,-24.37922477722168,-20.071332931518555,16.03680992126465,14.688005447387695,24.610828399658203,2.957979202270508,5.350453853607178,-16.995601654052734,6.695065498352051,-9.25985336303711,-12.342384338378906,-15.675361633300781,-10.17664909362793,15.448684692382812,0.7302486300468445,-15.68236255645752,-19.95846176147461,18.46143913269043,6.947967052459717,28.456098556518555,-15.241120338439941,-17.676332473754883,26.558700561523438],\"xaxis\":\"x\",\"y\":[-24.479440689086914,6.417448043823242,17.274499893188477,-27.453113555908203,-3.5738766193389893,-26.566543579101562,2.160618782043457,9.812315940856934,0.3920707404613495,-23.177000045776367,15.513246536254883,-4.8554511070251465,17.69723129272461,15.998724937438965,5.20370626449585,3.9825997352600098,-24.95614242553711,10.613160133361816,-29.739501953125,-10.361396789550781,-24.2322940826416,-30.783493041992188,-2.787214756011963,3.860369920730591,1.1898969411849976,13.546103477478027,10.416844367980957,-26.565914154052734,-23.68222999572754,-0.17341628670692444,18.53804588317871,-1.5490256547927856,-13.567234992980957,-22.064504623413086,8.666886329650879,-3.5636165142059326,-24.498008728027344,14.515070915222168,-29.800424575805664,-13.867475509643555,17.95500373840332,-18.02510643005371,9.010610580444336,4.132396697998047,-2.843641757965088,-17.364755630493164,8.279500007629395,13.300289154052734,-17.560110092163086,0.37472981214523315,-2.5513601303100586,5.994242191314697,-20.747453689575195,-21.199535369873047,-21.28431510925293,-2.9880309104919434,-3.3825125694274902,4.930865287780762,-28.508607864379883,-2.543656349182129,-2.1386358737945557,-20.565752029418945,9.369744300842285,8.589163780212402,-24.510461807250977,-25.9399471282959,-30.361120223999023,0.3369864821434021,10.125565528869629,-1.9766322374343872,0.5410799980163574,0.11174040287733078,-21.7546443939209,10.373764991760254,2.279435157775879,-10.306853294372559,-15.717598915100098,-28.23227882385254,8.46070384979248,9.383858680725098,8.231406211853027,2.918792963027954,7.996939182281494,-19.86406707763672,-7.359282493591309,11.524859428405762,-20.785303115844727,-4.782220363616943,0.4293118417263031,15.98790168762207,6.662600040435791,-24.933574676513672,-30.633197784423828,15.574881553649902,-4.5186357498168945,-13.9058256149292,-21.565732955932617,-29.216548919677734,-3.907604694366455],\"yaxis\":\"y\",\"type\":\"scatter\"},{\"customdata\":[[\"sakanaction\",\"\\u65b0\\u5b9d\\u5cf6\",\"2015\"],[\"[Alexandros]\",\"\\u30ef\\u30bf\\u30ea\\u30c9\\u30ea\",\"2015\"],[\"Gesu No Kiwami Otome\",\"\\u79c1\\u4ee5\\u5916\\u79c1\\u3058\\u3083\\u306a\\u3044\\u306e\",\"2015\"],[\"back number\",\"\\u30af\\u30ea\\u30b9\\u30de\\u30b9\\u30bd\\u30f3\\u30b0\",\"2015\"],[\"Kana Nishino\",\"\\u30c8\\u30ea\\u30bb\\u30c4\",\"2015\"],[\"Leo Ieiri\",\"\\u541b\\u304c\\u304f\\u308c\\u305f\\u590f\",\"2015\"],[\"Mark Ronson\",\"Uptown Funk (feat. Bruno Mars)\",\"2015\"],[\"Ed Sheeran\",\"Thinking out Loud\",\"2015\"],[\"Justin Bieber\",\"What Do You Mean?\",\"2015\"],[\"Ariana Grande\",\"One Last Time\",\"2015\"],[\"Carly Rae Jepsen\",\"I Really Like You\",\"2015\"],[\"SEKAI NO OWARI\",\"Dragon Night\",\"2015\"],[\"BUMP OF CHICKEN\",\"Hello,world!\",\"2015\"],[\"UNISON SQUARE GARDEN\",\"\\u30b7\\u30e5\\u30ac\\u30fc\\u30bd\\u30f3\\u30b0\\u3068\\u30d3\\u30bf\\u30fc\\u30b9\\u30c6\\u30c3\\u30d7\",\"2015\"],[\"Gen Hoshino\",\"SUN\",\"2015\"],[\"ARASHI\",\"Sakura\",\"2015\"],[\"J SOUL BROTHERS III\",\"Summer Madness\",\"2015\"],[\"Yu Takahashi\",\"\\u660e\\u65e5\\u306f\\u304d\\u3063\\u3068\\u3044\\u3044\\u65e5\\u306b\\u306a\\u308b\",\"2015\"],[\"back number\",\"\\u30d2\\u30ed\\u30a4\\u30f3\",\"2015\"],[\"Adele\",\"Hello\",\"2015\"],[\"Wiz Khalifa\",\"See You Again (feat. Charlie Puth)\",\"2015\"],[\"Justin Bieber\",\"Love Yourself\",\"2015\"],[\"Coldplay\",\"Hymn for the Weekend\",\"2015\"],[\"Zedd\",\"I Want You To Know\",\"2015\"],[\"Kyary Pamyu Pamyu\",\"\\u3082\\u3093\\u3060\\u3044\\u30ac\\u30fc\\u30eb\",\"2015\"],[\"Perfume\",\"STAR TRAIN\",\"2015\"],[\"chay\",\"\\u3042\\u306a\\u305f\\u306b\\u604b\\u3092\\u3057\\u3066\\u307f\\u307e\\u3057\\u305f\",\"2015\"],[\"Che'Nelle\",\"Happiness\",\"2015\"],[\"BTS\",\"For You\",\"2015\"],[\"The Weeknd\",\"Earned It (Fifty Shades Of Grey) - From The \\\"Fifty Shades Of Grey\\\" Soundtrack\",\"2015\"],[\"Shawn Mendes\",\"Stitches\",\"2015\"],[\"Charlie Puth\",\"We Don't Talk Anymore (feat. Selena Gomez)\",\"2015\"],[\"Mr.Children\",\"Starting Over\",\"2015\"],[\"\\u30b5\\u30b6\\u30f3\\u30aa\\u30fc\\u30eb\\u30b9\\u30bf\\u30fc\\u30ba\",\"\\u6804\\u5149\\u306e\\u7537\",\"2015\"],[\"Sheena Ringo\",\"\\u9577\\u304f\\u77ed\\u3044\\u796d\",\"2015\"],[\"SEKAI NO OWARI\",\"ANTI-HERO\",\"2015\"],[\"HIRAIDAI\",\"Slow & Easy\",\"2015\"],[\"Lucky Kilimanjaro\",\"Burning Friday Night\",\"2015\"],[\"Avicii\",\"Waiting For Love\",\"2015\"],[\"Ellie Goulding\",\"Love Me Like You Do - From \\\"Fifty Shades Of Grey\\\"\",\"2015\"],[\"Rachel Platten\",\"Fight Song\",\"2015\"],[\"ONE OK ROCK\",\"Cry Out\",\"2015\"],[\"Suchmos\",\"Miree\",\"2015\"],[\"SHISHAMO\",\"\\u71b1\\u5e2f\\u591c\",\"2015\"],[\"KOBUKURO\",\"\\u672a\\u6765\",\"2015\"],[\"AKB48\",\"\\u50d5\\u305f\\u3061\\u306f\\u6226\\u308f\\u306a\\u3044\",\"2015\"],[\"B'z\",\"\\u6709\\u9802\\u5929\",\"2015\"],[\"Taylor Swift\",\"Blank Space\",\"2015\"],[\"Little Mix\",\"Black Magic\",\"2015\"],[\"One Direction\",\"Perfect\",\"2015\"],[\"J SOUL BROTHERS III\",\"O.R.I.O.N.\",\"2015\"],[\"Superfly\",\"Beautiful\",\"2015\"],[\"Crystal Kay\",\"REVOLUTION\",\"2015\"],[\"Meghan Trainor\",\"Lips Are Movin\",\"2015\"],[\"Justin Bieber\",\"Sorry\",\"2015\"],[\"Avicii\",\"The Nights\",\"2015\"],[\"Kumamushi\",\"\\u3042\\u3063\\u305f\\u304b\\u3044\\u3093\\u3060\\u304b\\u3089\\u3041\\u266a\",\"2015\"],[\"Taro Urashima\",\"\\u6d77\\u306e\\u58f0\",\"2015\"],[\"Naoto Inti Raymi\",\"\\u3044\\u3064\\u304b\\u304d\\u3063\\u3068\",\"2015\"],[\"Kenshi Yonezu\",\"Flowerwall\",\"2015\"],[\"Major Lazer\",\"Lean On\",\"2015\"],[\"Coldplay\",\"Adventure of a Lifetime\",\"2015\"],[\"OMI\",\"Cheerleader - Felix Jaehn Remix Radio Edit\",\"2015\"],[\"Kana Nishino\",\"\\u3082\\u3057\\u3082\\u904b\\u547d\\u306e\\u4eba\\u304c\\u3044\\u308b\\u306e\\u306a\\u3089\",\"2015\"],[\"Chatmonchy\",\"\\u304d\\u307f\\u304c\\u305d\\u306e\\u6c17\\u306a\\u3089\",\"2015\"],[\"The Birthday\",\"I KNOW\",\"2015\"],[\"Olly Alexander (Years & Years)\",\"King\",\"2015\"],[\"Sam Smith\",\"Stay With Me\",\"2015\"],[\"Chris Brown\",\"Ayo\",\"2015\"],[\"Maroon 5\",\"Sugar\",\"2015\"],[\"Flo Rida\",\"My House\",\"2015\"],[\"Nogizaka46\",\"\\u547d\\u306f\\u7f8e\\u3057\\u3044\",\"2015\"],[\"Masaharu Fukuyama\",\"I am a HERO\",\"2015\"],[\"PornoGraffitti\",\"\\u30aa\\u30fc!\\u30ea\\u30d0\\u30eb\",\"2015\"],[\"Hozier\",\"Take Me to Church\",\"2015\"],[\"Muse\",\"Mercy\",\"2015\"],[\"Jonas Blue\",\"Fast Car\",\"2015\"],[\"Troye Sivan\",\"YOUTH\",\"2015\"],[\"YEN TOWN BAND\",\"\\u30a2\\u30a4\\u30ce\\u30cd\",\"2015\"],[\"Kenshi Yonezu\",\"\\u30e1\\u30c8\\u30ed\\u30ce\\u30fc\\u30e0\",\"2015\"],[\"cero\",\"Summer Soul\",\"2015\"],[\"Drake\",\"Right Hand\",\"2015\"],[\"Fetty Wap\",\"My Way (feat. Monty)\",\"2015\"],[\"Rihanna\",\"FourFiveSeconds\",\"2015\"],[\"The Chemical Brothers\",\"Go\",\"2015\"],[\"Gesu No Kiwami Otome\",\"\\u30ed\\u30de\\u30f3\\u30b9\\u304c\\u3042\\u308a\\u3042\\u307e\\u308b\",\"2015\"],[\"MAN WITH A MISSION\",\"Raise your flag\",\"2015\"],[\"04 Limited Sazabys\",\"swim\",\"2015\"],[\"Suchmos\",\"YMM\",\"2015\"],[\"Ykiki Beat\",\"Forever\",\"2015\"],[\"androp\",\"Yeah! Yeah! Yeah!\",\"2015\"],[\"Pharrell Williams\",\"Freedom\",\"2015\"],[\"Jason Derulo\",\"Want to Want Me\",\"2015\"],[\"Tuxedo\",\"Do It\",\"2015\"],[\"Disclosure\",\"Holding On - Radio Edit\",\"2015\"],[\"AFROJACK\",\"SummerThing!\",\"2015\"],[\"BIGBANG\",\"LOSER\",\"2015\"],[\"Aimer\",\"Brave Shine\",\"2015\"],[\"8.6\\u79d2\\u30d0\\u30ba\\u30fc\\u30ab\\u30fc\",\"\\u30e9\\u30c3\\u30b9\\u30f3\\u30b4\\u30ec\\u30e9\\u30a4\",\"2015\"]],\"hovertemplate\":\"\\u003cb\\u003e%{hovertext}\\u003c\\u002fb\\u003e\\u003cbr\\u003e\\u003cbr\\u003e\\u5e74\\u4ee3=%{customdata[2]}\\u003cbr\\u003e\\u7b2c\\u4e00\\u4e3b\\u6210\\u5206=%{x}\\u003cbr\\u003e\\u7b2c\\u4e8c\\u4e3b\\u6210\\u5206=%{y}\\u003cbr\\u003e\\u30a2\\u30fc\\u30c6\\u30a3\\u30b9\\u30c8\\u540d=%{customdata[0]}\\u003cbr\\u003e\\u30c8\\u30e9\\u30c3\\u30af\\u540d=%{customdata[1]}\\u003cextra\\u003e\\u003c\\u002fextra\\u003e\",\"hovertext\":[\"sakanaction\",\"[Alexandros]\",\"Gesu No Kiwami Otome\",\"back number\",\"Kana Nishino\",\"Leo Ieiri\",\"Mark Ronson\",\"Ed Sheeran\",\"Justin Bieber\",\"Ariana Grande\",\"Carly Rae Jepsen\",\"SEKAI NO OWARI\",\"BUMP OF CHICKEN\",\"UNISON SQUARE GARDEN\",\"Gen Hoshino\",\"ARASHI\",\"J SOUL BROTHERS III\",\"Yu Takahashi\",\"back number\",\"Adele\",\"Wiz Khalifa\",\"Justin Bieber\",\"Coldplay\",\"Zedd\",\"Kyary Pamyu Pamyu\",\"Perfume\",\"chay\",\"Che'Nelle\",\"BTS\",\"The Weeknd\",\"Shawn Mendes\",\"Charlie Puth\",\"Mr.Children\",\"\\u30b5\\u30b6\\u30f3\\u30aa\\u30fc\\u30eb\\u30b9\\u30bf\\u30fc\\u30ba\",\"Sheena Ringo\",\"SEKAI NO OWARI\",\"HIRAIDAI\",\"Lucky Kilimanjaro\",\"Avicii\",\"Ellie Goulding\",\"Rachel Platten\",\"ONE OK ROCK\",\"Suchmos\",\"SHISHAMO\",\"KOBUKURO\",\"AKB48\",\"B'z\",\"Taylor Swift\",\"Little Mix\",\"One Direction\",\"J SOUL BROTHERS III\",\"Superfly\",\"Crystal Kay\",\"Meghan Trainor\",\"Justin Bieber\",\"Avicii\",\"Kumamushi\",\"Taro Urashima\",\"Naoto Inti Raymi\",\"Kenshi Yonezu\",\"Major Lazer\",\"Coldplay\",\"OMI\",\"Kana Nishino\",\"Chatmonchy\",\"The Birthday\",\"Olly Alexander (Years & Years)\",\"Sam Smith\",\"Chris Brown\",\"Maroon 5\",\"Flo Rida\",\"Nogizaka46\",\"Masaharu Fukuyama\",\"PornoGraffitti\",\"Hozier\",\"Muse\",\"Jonas Blue\",\"Troye Sivan\",\"YEN TOWN BAND\",\"Kenshi Yonezu\",\"cero\",\"Drake\",\"Fetty Wap\",\"Rihanna\",\"The Chemical Brothers\",\"Gesu No Kiwami Otome\",\"MAN WITH A MISSION\",\"04 Limited Sazabys\",\"Suchmos\",\"Ykiki Beat\",\"androp\",\"Pharrell Williams\",\"Jason Derulo\",\"Tuxedo\",\"Disclosure\",\"AFROJACK\",\"BIGBANG\",\"Aimer\",\"8.6\\u79d2\\u30d0\\u30ba\\u30fc\\u30ab\\u30fc\"],\"legendgroup\":\"2015\",\"marker\":{\"color\":\"#19d3f3\",\"symbol\":\"circle\"},\"mode\":\"markers\",\"name\":\"2015\",\"orientation\":\"v\",\"showlegend\":true,\"x\":[-22.525218963623047,7.0108513832092285,-20.51017189025879,16.06981086730957,-6.060256004333496,14.534774780273438,-1.1273865699768066,18.369478225708008,-7.687352180480957,15.971087455749512,-9.296130180358887,-12.43502426147461,-4.523684501647949,-0.13557691872119904,-0.36368295550346375,-19.57222557067871,11.74006462097168,-0.8264167308807373,12.503743171691895,-5.162228107452393,19.40058135986328,-13.340849876403809,-12.536243438720703,-17.64702033996582,4.429451942443848,6.584376335144043,12.353585243225098,11.414057731628418,-10.62548828125,29.125993728637695,-2.250800132751465,-6.464956283569336,14.851922988891602,11.336180686950684,-16.31876564025879,0.25516414642333984,14.614767074584961,-0.40077340602874756,-10.005675315856934,21.43692398071289,11.865761756896973,11.471199989318848,-13.846606254577637,8.77808666229248,25.680347442626953,-1.997619867324829,-18.853923797607422,1.2298585176467896,-9.19681167602539,4.406714916229248,5.377758979797363,7.956014156341553,-19.497447967529297,-2.257331132888794,-14.011283874511719,-8.790083885192871,12.212076187133789,26.193382263183594,-1.0270718336105347,10.953544616699219,-18.452577590942383,5.494224548339844,1.006606101989746,13.015419960021973,2.9249935150146484,7.796539306640625,-15.54109001159668,27.871789932250977,0.17087343335151672,0.32421737909317017,-14.184911727905273,-15.772272109985352,-23.077360153198242,-19.177927017211914,-7.179539203643799,-4.368494033813477,16.754884719848633,3.0810160636901855,13.870711326599121,15.788206100463867,9.68249225616455,-9.009187698364258,0.07692153006792068,28.30872344970703,-11.82124137878418,11.163938522338867,3.81937313079834,-8.963603019714355,-0.17502328753471375,-16.57838249206543,2.437187910079956,-9.302170753479004,-13.130979537963867,-20.641231536865234,-12.73505687713623,-8.427648544311523,-12.671719551086426,11.64272403717041,-15.70781421661377],\"xaxis\":\"x\",\"y\":[-13.241015434265137,19.457178115844727,-19.330276489257812,16.01025390625,6.403634548187256,13.764801979064941,-4.411827087402344,-3.246258497238159,-21.415340423583984,10.855281829833984,12.10850715637207,10.916053771972656,12.549781799316406,9.180736541748047,-3.451439142227173,-15.901623725891113,-4.579143047332764,12.388622283935547,8.480706214904785,-20.283035278320312,-2.217695951461792,-1.9419201612472534,-29.422616958618164,-15.141833305358887,16.53087043762207,6.720829010009766,-7.369318962097168,-4.884499549865723,0.0610257051885128,-11.498241424560547,-0.9206259846687317,-22.375215530395508,16.257951736450195,12.289395332336426,-17.917858123779297,-0.049048151820898056,-4.130630016326904,-2.526721477508545,-24.54493522644043,12.529704093933105,14.960862159729004,19.809659957885742,-21.287311553955078,-0.04184132069349289,7.723042011260986,12.18942928314209,-14.066344261169434,-0.21513892710208893,8.599690437316895,4.080618858337402,14.076289176940918,14.94706916809082,-17.802268981933594,-1.5606530904769897,-27.600139617919922,12.398765563964844,-4.910772323608398,-1.1314688920974731,12.023418426513672,7.40403413772583,-31.680580139160156,6.986407279968262,0.7910469770431519,4.506815433502197,15.59333610534668,17.30667495727539,-28.979055404663086,-0.45376282930374146,-1.51284658908844,-4.558996200561523,-22.930875778198242,-14.176301956176758,-16.96977424621582,-16.54210090637207,-24.455190658569336,16.812801361083984,-5.665233612060547,1.9010121822357178,5.614635467529297,-3.387820243835449,-8.153361320495605,-5.581035137176514,2.174840211868286,8.568485260009766,13.334547996520996,16.28206443786621,17.095611572265625,14.842867851257324,-3.442614793777466,-27.863018035888672,15.869089126586914,-21.920724868774414,-22.00935935974121,-22.961994171142578,-6.5712056159973145,8.301356315612793,8.892474174499512,18.330188751220703,-4.7907938957214355],\"yaxis\":\"y\",\"type\":\"scatter\"}],                        {\"template\":{\"data\":{\"histogram2dcontour\":[{\"type\":\"histogram2dcontour\",\"colorbar\":{\"outlinewidth\":0,\"ticks\":\"\"},\"colorscale\":[[0.0,\"#0d0887\"],[0.1111111111111111,\"#46039f\"],[0.2222222222222222,\"#7201a8\"],[0.3333333333333333,\"#9c179e\"],[0.4444444444444444,\"#bd3786\"],[0.5555555555555556,\"#d8576b\"],[0.6666666666666666,\"#ed7953\"],[0.7777777777777778,\"#fb9f3a\"],[0.8888888888888888,\"#fdca26\"],[1.0,\"#f0f921\"]]}],\"choropleth\":[{\"type\":\"choropleth\",\"colorbar\":{\"outlinewidth\":0,\"ticks\":\"\"}}],\"histogram2d\":[{\"type\":\"histogram2d\",\"colorbar\":{\"outlinewidth\":0,\"ticks\":\"\"},\"colorscale\":[[0.0,\"#0d0887\"],[0.1111111111111111,\"#46039f\"],[0.2222222222222222,\"#7201a8\"],[0.3333333333333333,\"#9c179e\"],[0.4444444444444444,\"#bd3786\"],[0.5555555555555556,\"#d8576b\"],[0.6666666666666666,\"#ed7953\"],[0.7777777777777778,\"#fb9f3a\"],[0.8888888888888888,\"#fdca26\"],[1.0,\"#f0f921\"]]}],\"heatmap\":[{\"type\":\"heatmap\",\"colorbar\":{\"outlinewidth\":0,\"ticks\":\"\"},\"colorscale\":[[0.0,\"#0d0887\"],[0.1111111111111111,\"#46039f\"],[0.2222222222222222,\"#7201a8\"],[0.3333333333333333,\"#9c179e\"],[0.4444444444444444,\"#bd3786\"],[0.5555555555555556,\"#d8576b\"],[0.6666666666666666,\"#ed7953\"],[0.7777777777777778,\"#fb9f3a\"],[0.8888888888888888,\"#fdca26\"],[1.0,\"#f0f921\"]]}],\"heatmapgl\":[{\"type\":\"heatmapgl\",\"colorbar\":{\"outlinewidth\":0,\"ticks\":\"\"},\"colorscale\":[[0.0,\"#0d0887\"],[0.1111111111111111,\"#46039f\"],[0.2222222222222222,\"#7201a8\"],[0.3333333333333333,\"#9c179e\"],[0.4444444444444444,\"#bd3786\"],[0.5555555555555556,\"#d8576b\"],[0.6666666666666666,\"#ed7953\"],[0.7777777777777778,\"#fb9f3a\"],[0.8888888888888888,\"#fdca26\"],[1.0,\"#f0f921\"]]}],\"contourcarpet\":[{\"type\":\"contourcarpet\",\"colorbar\":{\"outlinewidth\":0,\"ticks\":\"\"}}],\"contour\":[{\"type\":\"contour\",\"colorbar\":{\"outlinewidth\":0,\"ticks\":\"\"},\"colorscale\":[[0.0,\"#0d0887\"],[0.1111111111111111,\"#46039f\"],[0.2222222222222222,\"#7201a8\"],[0.3333333333333333,\"#9c179e\"],[0.4444444444444444,\"#bd3786\"],[0.5555555555555556,\"#d8576b\"],[0.6666666666666666,\"#ed7953\"],[0.7777777777777778,\"#fb9f3a\"],[0.8888888888888888,\"#fdca26\"],[1.0,\"#f0f921\"]]}],\"surface\":[{\"type\":\"surface\",\"colorbar\":{\"outlinewidth\":0,\"ticks\":\"\"},\"colorscale\":[[0.0,\"#0d0887\"],[0.1111111111111111,\"#46039f\"],[0.2222222222222222,\"#7201a8\"],[0.3333333333333333,\"#9c179e\"],[0.4444444444444444,\"#bd3786\"],[0.5555555555555556,\"#d8576b\"],[0.6666666666666666,\"#ed7953\"],[0.7777777777777778,\"#fb9f3a\"],[0.8888888888888888,\"#fdca26\"],[1.0,\"#f0f921\"]]}],\"mesh3d\":[{\"type\":\"mesh3d\",\"colorbar\":{\"outlinewidth\":0,\"ticks\":\"\"}}],\"scatter\":[{\"fillpattern\":{\"fillmode\":\"overlay\",\"size\":10,\"solidity\":0.2},\"type\":\"scatter\"}],\"parcoords\":[{\"type\":\"parcoords\",\"line\":{\"colorbar\":{\"outlinewidth\":0,\"ticks\":\"\"}}}],\"scatterpolargl\":[{\"type\":\"scatterpolargl\",\"marker\":{\"colorbar\":{\"outlinewidth\":0,\"ticks\":\"\"}}}],\"bar\":[{\"error_x\":{\"color\":\"#2a3f5f\"},\"error_y\":{\"color\":\"#2a3f5f\"},\"marker\":{\"line\":{\"color\":\"#E5ECF6\",\"width\":0.5},\"pattern\":{\"fillmode\":\"overlay\",\"size\":10,\"solidity\":0.2}},\"type\":\"bar\"}],\"scattergeo\":[{\"type\":\"scattergeo\",\"marker\":{\"colorbar\":{\"outlinewidth\":0,\"ticks\":\"\"}}}],\"scatterpolar\":[{\"type\":\"scatterpolar\",\"marker\":{\"colorbar\":{\"outlinewidth\":0,\"ticks\":\"\"}}}],\"histogram\":[{\"marker\":{\"pattern\":{\"fillmode\":\"overlay\",\"size\":10,\"solidity\":0.2}},\"type\":\"histogram\"}],\"scattergl\":[{\"type\":\"scattergl\",\"marker\":{\"colorbar\":{\"outlinewidth\":0,\"ticks\":\"\"}}}],\"scatter3d\":[{\"type\":\"scatter3d\",\"line\":{\"colorbar\":{\"outlinewidth\":0,\"ticks\":\"\"}},\"marker\":{\"colorbar\":{\"outlinewidth\":0,\"ticks\":\"\"}}}],\"scattermapbox\":[{\"type\":\"scattermapbox\",\"marker\":{\"colorbar\":{\"outlinewidth\":0,\"ticks\":\"\"}}}],\"scatterternary\":[{\"type\":\"scatterternary\",\"marker\":{\"colorbar\":{\"outlinewidth\":0,\"ticks\":\"\"}}}],\"scattercarpet\":[{\"type\":\"scattercarpet\",\"marker\":{\"colorbar\":{\"outlinewidth\":0,\"ticks\":\"\"}}}],\"carpet\":[{\"aaxis\":{\"endlinecolor\":\"#2a3f5f\",\"gridcolor\":\"white\",\"linecolor\":\"white\",\"minorgridcolor\":\"white\",\"startlinecolor\":\"#2a3f5f\"},\"baxis\":{\"endlinecolor\":\"#2a3f5f\",\"gridcolor\":\"white\",\"linecolor\":\"white\",\"minorgridcolor\":\"white\",\"startlinecolor\":\"#2a3f5f\"},\"type\":\"carpet\"}],\"table\":[{\"cells\":{\"fill\":{\"color\":\"#EBF0F8\"},\"line\":{\"color\":\"white\"}},\"header\":{\"fill\":{\"color\":\"#C8D4E3\"},\"line\":{\"color\":\"white\"}},\"type\":\"table\"}],\"barpolar\":[{\"marker\":{\"line\":{\"color\":\"#E5ECF6\",\"width\":0.5},\"pattern\":{\"fillmode\":\"overlay\",\"size\":10,\"solidity\":0.2}},\"type\":\"barpolar\"}],\"pie\":[{\"automargin\":true,\"type\":\"pie\"}]},\"layout\":{\"autotypenumbers\":\"strict\",\"colorway\":[\"#636efa\",\"#EF553B\",\"#00cc96\",\"#ab63fa\",\"#FFA15A\",\"#19d3f3\",\"#FF6692\",\"#B6E880\",\"#FF97FF\",\"#FECB52\"],\"font\":{\"color\":\"#2a3f5f\"},\"hovermode\":\"closest\",\"hoverlabel\":{\"align\":\"left\"},\"paper_bgcolor\":\"white\",\"plot_bgcolor\":\"#E5ECF6\",\"polar\":{\"bgcolor\":\"#E5ECF6\",\"angularaxis\":{\"gridcolor\":\"white\",\"linecolor\":\"white\",\"ticks\":\"\"},\"radialaxis\":{\"gridcolor\":\"white\",\"linecolor\":\"white\",\"ticks\":\"\"}},\"ternary\":{\"bgcolor\":\"#E5ECF6\",\"aaxis\":{\"gridcolor\":\"white\",\"linecolor\":\"white\",\"ticks\":\"\"},\"baxis\":{\"gridcolor\":\"white\",\"linecolor\":\"white\",\"ticks\":\"\"},\"caxis\":{\"gridcolor\":\"white\",\"linecolor\":\"white\",\"ticks\":\"\"}},\"coloraxis\":{\"colorbar\":{\"outlinewidth\":0,\"ticks\":\"\"}},\"colorscale\":{\"sequential\":[[0.0,\"#0d0887\"],[0.1111111111111111,\"#46039f\"],[0.2222222222222222,\"#7201a8\"],[0.3333333333333333,\"#9c179e\"],[0.4444444444444444,\"#bd3786\"],[0.5555555555555556,\"#d8576b\"],[0.6666666666666666,\"#ed7953\"],[0.7777777777777778,\"#fb9f3a\"],[0.8888888888888888,\"#fdca26\"],[1.0,\"#f0f921\"]],\"sequentialminus\":[[0.0,\"#0d0887\"],[0.1111111111111111,\"#46039f\"],[0.2222222222222222,\"#7201a8\"],[0.3333333333333333,\"#9c179e\"],[0.4444444444444444,\"#bd3786\"],[0.5555555555555556,\"#d8576b\"],[0.6666666666666666,\"#ed7953\"],[0.7777777777777778,\"#fb9f3a\"],[0.8888888888888888,\"#fdca26\"],[1.0,\"#f0f921\"]],\"diverging\":[[0,\"#8e0152\"],[0.1,\"#c51b7d\"],[0.2,\"#de77ae\"],[0.3,\"#f1b6da\"],[0.4,\"#fde0ef\"],[0.5,\"#f7f7f7\"],[0.6,\"#e6f5d0\"],[0.7,\"#b8e186\"],[0.8,\"#7fbc41\"],[0.9,\"#4d9221\"],[1,\"#276419\"]]},\"xaxis\":{\"gridcolor\":\"white\",\"linecolor\":\"white\",\"ticks\":\"\",\"title\":{\"standoff\":15},\"zerolinecolor\":\"white\",\"automargin\":true,\"zerolinewidth\":2},\"yaxis\":{\"gridcolor\":\"white\",\"linecolor\":\"white\",\"ticks\":\"\",\"title\":{\"standoff\":15},\"zerolinecolor\":\"white\",\"automargin\":true,\"zerolinewidth\":2},\"scene\":{\"xaxis\":{\"backgroundcolor\":\"#E5ECF6\",\"gridcolor\":\"white\",\"linecolor\":\"white\",\"showbackground\":true,\"ticks\":\"\",\"zerolinecolor\":\"white\",\"gridwidth\":2},\"yaxis\":{\"backgroundcolor\":\"#E5ECF6\",\"gridcolor\":\"white\",\"linecolor\":\"white\",\"showbackground\":true,\"ticks\":\"\",\"zerolinecolor\":\"white\",\"gridwidth\":2},\"zaxis\":{\"backgroundcolor\":\"#E5ECF6\",\"gridcolor\":\"white\",\"linecolor\":\"white\",\"showbackground\":true,\"ticks\":\"\",\"zerolinecolor\":\"white\",\"gridwidth\":2}},\"shapedefaults\":{\"line\":{\"color\":\"#2a3f5f\"}},\"annotationdefaults\":{\"arrowcolor\":\"#2a3f5f\",\"arrowhead\":0,\"arrowwidth\":1},\"geo\":{\"bgcolor\":\"white\",\"landcolor\":\"#E5ECF6\",\"subunitcolor\":\"white\",\"showland\":true,\"showlakes\":true,\"lakecolor\":\"white\"},\"title\":{\"x\":0.05},\"mapbox\":{\"style\":\"light\"}}},\"xaxis\":{\"anchor\":\"y\",\"domain\":[0.0,1.0],\"title\":{\"text\":\"\\u7b2c\\u4e00\\u4e3b\\u6210\\u5206\"}},\"yaxis\":{\"anchor\":\"x\",\"domain\":[0.0,1.0],\"title\":{\"text\":\"\\u7b2c\\u4e8c\\u4e3b\\u6210\\u5206\"}},\"legend\":{\"title\":{\"text\":\"\\u5e74\\u4ee3\"},\"tracegroupgap\":0},\"margin\":{\"t\":60}},                        {\"responsive\": true}                    ).then(function(){\n",
       "                            \n",
       "var gd = document.getElementById('0d919efd-2b10-4c39-a1fb-b0ff7ae598c9');\n",
       "var x = new MutationObserver(function (mutations, observer) {{\n",
       "        var display = window.getComputedStyle(gd).display;\n",
       "        if (!display || display === 'none') {{\n",
       "            console.log([gd, 'removed!']);\n",
       "            Plotly.purge(gd);\n",
       "            observer.disconnect();\n",
       "        }}\n",
       "}});\n",
       "\n",
       "// Listen for the removal of the full notebook cells\n",
       "var notebookContainer = gd.closest('#notebook-container');\n",
       "if (notebookContainer) {{\n",
       "    x.observe(notebookContainer, {childList: true});\n",
       "}}\n",
       "\n",
       "// Listen for the clearing of the current output cell\n",
       "var outputEl = gd.closest('.output');\n",
       "if (outputEl) {{\n",
       "    x.observe(outputEl, {childList: true});\n",
       "}}\n",
       "\n",
       "                        })                };                });            </script>        </div>"
      ]
     },
     "metadata": {},
     "output_type": "display_data"
    }
   ],
   "source": [
    "px.scatter(\n",
    "    feat_df,\n",
    "    x=\"第一主成分\",\n",
    "    y=\"第二主成分\",\n",
    "    hover_name=\"アーティスト名\",\n",
    "    hover_data=[\"アーティスト名\", \"トラック名\", \"年代\"],\n",
    "    color=\"年代\",\n",
    ")"
   ]
  },
  {
   "cell_type": "code",
   "execution_count": null,
   "id": "036526e1-741f-478a-9933-50ceea4a7fb6",
   "metadata": {},
   "outputs": [],
   "source": []
  }
 ],
 "metadata": {
  "kernelspec": {
   "display_name": "Python 3 (ipykernel)",
   "language": "python",
   "name": "python3"
  },
  "language_info": {
   "codemirror_mode": {
    "name": "ipython",
    "version": 3
   },
   "file_extension": ".py",
   "mimetype": "text/x-python",
   "name": "python",
   "nbconvert_exporter": "python",
   "pygments_lexer": "ipython3",
   "version": "3.10.4"
  }
 },
 "nbformat": 4,
 "nbformat_minor": 5
}
