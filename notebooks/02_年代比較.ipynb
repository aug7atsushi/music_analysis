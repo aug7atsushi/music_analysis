{
 "cells": [
  {
   "cell_type": "code",
   "execution_count": 1,
   "id": "242c2c79-1342-4b77-8846-d3582afd0e74",
   "metadata": {},
   "outputs": [],
   "source": [
    "%load_ext autoreload\n",
    "%autoreload 2"
   ]
  },
  {
   "cell_type": "code",
   "execution_count": 2,
   "id": "4ff2d688-fade-4bde-bb06-f54da28b3054",
   "metadata": {},
   "outputs": [
    {
     "data": {
      "text/plain": [
       "True"
      ]
     },
     "execution_count": 2,
     "metadata": {},
     "output_type": "execute_result"
    }
   ],
   "source": [
    "import os\n",
    "import time\n",
    "\n",
    "import matplotlib as mpl\n",
    "import matplotlib.pyplot as plt\n",
    "import numpy as np\n",
    "import pandas as pd\n",
    "import seaborn as sns\n",
    "import spotipy\n",
    "from dotenv import load_dotenv\n",
    "from sklearn.decomposition import PCA\n",
    "from sklearn.manifold import TSNE\n",
    "from spotipy.oauth2 import SpotifyClientCredentials\n",
    "\n",
    "from music_analysis import REPO_ROOT\n",
    "\n",
    "# 日本語フォントの設定\n",
    "mpl.rcParams[\"font.family\"] = \"Hiragino Sans\"\n",
    "\n",
    "load_dotenv(REPO_ROOT / \".env\")"
   ]
  },
  {
   "cell_type": "code",
   "execution_count": 3,
   "id": "862a6d8e-1e53-457a-b56c-97f9c47bd4d4",
   "metadata": {},
   "outputs": [],
   "source": [
    "from music_analysis.preprocess.retrieve import TrackRetriever\n",
    "from music_analysis.preprocess.tables import TrackInfoTable"
   ]
  },
  {
   "cell_type": "code",
   "execution_count": 4,
   "id": "19fc3f76-2531-48d9-9a87-294824dd05a8",
   "metadata": {},
   "outputs": [],
   "source": [
    "client_credentials_manager = SpotifyClientCredentials(\n",
    "    os.environ[\"SPOTIPY_CLIENT_ID\"], os.environ[\"SPOTIPY_CLIENT_SECRET\"]\n",
    ")\n",
    "sp = spotipy.Spotify(client_credentials_manager=client_credentials_manager)"
   ]
  },
  {
   "cell_type": "code",
   "execution_count": null,
   "id": "55f72b71-4558-48bc-90c3-49205dbb244d",
   "metadata": {},
   "outputs": [],
   "source": []
  },
  {
   "cell_type": "code",
   "execution_count": 5,
   "id": "2c9ae7a1-0825-4194-a516-8591023872cc",
   "metadata": {},
   "outputs": [],
   "source": [
    "from dataclasses import dataclass\n",
    "\n",
    "\n",
    "@dataclass\n",
    "class PlayList:\n",
    "    name: str\n",
    "    id: str\n",
    "\n",
    "\n",
    "pl_ids = [\n",
    "    \"37i9dQZF1DXdYLx5nkfC6h\",  # 1990\n",
    "    \"37i9dQZF1DXe7O2FbHCVV7\",  # 1995\n",
    "    \"37i9dQZF1DXbfiVy8TtVAi\",  # 2000\n",
    "    \"37i9dQZF1DWTJ4WvMdD3FU\",  # 2005\n",
    "    \"37i9dQZF1DX3sNFTJOmXxv\",  # 2010\n",
    "    \"37i9dQZF1DWTMk3G0nyzbA\",  # 2015\n",
    "]\n",
    "pl_names = [\"1990\", \"1995\", \"2000\", \"2005\", \"2010\", \"2015\"]\n",
    "for name, id in zip(pl_names, pl_ids):\n",
    "    play_list = PlayList(name=name, id=id)"
   ]
  },
  {
   "cell_type": "code",
   "execution_count": null,
   "id": "70d63547-1626-4e83-921a-df00e1fa5b1e",
   "metadata": {},
   "outputs": [],
   "source": []
  },
  {
   "cell_type": "code",
   "execution_count": null,
   "id": "5286f2b6-0011-4912-ad76-e04ecf3cfb6f",
   "metadata": {},
   "outputs": [],
   "source": []
  },
  {
   "cell_type": "code",
   "execution_count": 6,
   "id": "9e3a83b8-81a9-42f5-a2fe-59e9c25235a5",
   "metadata": {},
   "outputs": [
    {
     "name": "stdout",
     "output_type": "stream",
     "text": [
      "99\n",
      "98\n",
      "98\n",
      "98\n",
      "99\n",
      "99\n"
     ]
    },
    {
     "data": {
      "text/html": [
       "<div>\n",
       "<style scoped>\n",
       "    .dataframe tbody tr th:only-of-type {\n",
       "        vertical-align: middle;\n",
       "    }\n",
       "\n",
       "    .dataframe tbody tr th {\n",
       "        vertical-align: top;\n",
       "    }\n",
       "\n",
       "    .dataframe thead th {\n",
       "        text-align: right;\n",
       "    }\n",
       "</style>\n",
       "<table border=\"1\" class=\"dataframe\">\n",
       "  <thead>\n",
       "    <tr style=\"text-align: right;\">\n",
       "      <th></th>\n",
       "      <th>トラックID</th>\n",
       "      <th>アーティストID</th>\n",
       "      <th>トラック名</th>\n",
       "      <th>アーティスト名</th>\n",
       "      <th>duration_ms</th>\n",
       "      <th>平均ラウドネス[dB]</th>\n",
       "      <th>テンポ(BPM)</th>\n",
       "      <th>拍子</th>\n",
       "      <th>キー</th>\n",
       "      <th>長短長</th>\n",
       "      <th>danceability</th>\n",
       "      <th>energy</th>\n",
       "      <th>speechiness</th>\n",
       "      <th>acousticness</th>\n",
       "      <th>instrumentalness</th>\n",
       "      <th>liveness</th>\n",
       "      <th>valence</th>\n",
       "      <th>曲長[s]</th>\n",
       "      <th>年代</th>\n",
       "    </tr>\n",
       "  </thead>\n",
       "  <tbody>\n",
       "    <tr>\n",
       "      <th>0</th>\n",
       "      <td>5kdfBuQRbMUhQ6zATCFoTm</td>\n",
       "      <td>7lVG50DbbnbI4i1DgLxrLk</td>\n",
       "      <td>さよなら人類 ～シングルヴァージョン～</td>\n",
       "      <td>Tama</td>\n",
       "      <td>280160</td>\n",
       "      <td>-5.661</td>\n",
       "      <td>120.493</td>\n",
       "      <td>4</td>\n",
       "      <td>C</td>\n",
       "      <td>Major</td>\n",
       "      <td>0.566</td>\n",
       "      <td>0.517</td>\n",
       "      <td>0.0350</td>\n",
       "      <td>0.295000</td>\n",
       "      <td>0.000000</td>\n",
       "      <td>0.0989</td>\n",
       "      <td>0.632</td>\n",
       "      <td>280</td>\n",
       "      <td>1990</td>\n",
       "    </tr>\n",
       "    <tr>\n",
       "      <th>1</th>\n",
       "      <td>4lPEdvGVptFXUMk8DKMLnF</td>\n",
       "      <td>5lTGqFmlTng9jPrs7c2dRA</td>\n",
       "      <td>浪漫飛行</td>\n",
       "      <td>Kome Kome Club</td>\n",
       "      <td>246840</td>\n",
       "      <td>-11.854</td>\n",
       "      <td>137.213</td>\n",
       "      <td>4</td>\n",
       "      <td>B</td>\n",
       "      <td>Major</td>\n",
       "      <td>0.708</td>\n",
       "      <td>0.649</td>\n",
       "      <td>0.0312</td>\n",
       "      <td>0.117000</td>\n",
       "      <td>0.005150</td>\n",
       "      <td>0.1450</td>\n",
       "      <td>0.969</td>\n",
       "      <td>246</td>\n",
       "      <td>1990</td>\n",
       "    </tr>\n",
       "    <tr>\n",
       "      <th>2</th>\n",
       "      <td>0VautPaGJuzwHMo945JvLa</td>\n",
       "      <td>7i9bNUSGORP5MIgrii3cJc</td>\n",
       "      <td>太陽のKomachi Angel</td>\n",
       "      <td>B'z</td>\n",
       "      <td>249273</td>\n",
       "      <td>-4.211</td>\n",
       "      <td>120.820</td>\n",
       "      <td>4</td>\n",
       "      <td>G</td>\n",
       "      <td>Major</td>\n",
       "      <td>0.665</td>\n",
       "      <td>0.964</td>\n",
       "      <td>0.0404</td>\n",
       "      <td>0.000219</td>\n",
       "      <td>0.000002</td>\n",
       "      <td>0.1350</td>\n",
       "      <td>0.790</td>\n",
       "      <td>249</td>\n",
       "      <td>1990</td>\n",
       "    </tr>\n",
       "    <tr>\n",
       "      <th>3</th>\n",
       "      <td>5Nc3OwtzaQdeyEFMb31YCW</td>\n",
       "      <td>1fwyrDSLYLNCWHRv3Siyd7</td>\n",
       "      <td>今すぐＫｉｓｓ　Ｍｅ</td>\n",
       "      <td>LINDBERG</td>\n",
       "      <td>237040</td>\n",
       "      <td>-9.774</td>\n",
       "      <td>170.771</td>\n",
       "      <td>4</td>\n",
       "      <td>E</td>\n",
       "      <td>Major</td>\n",
       "      <td>0.480</td>\n",
       "      <td>0.796</td>\n",
       "      <td>0.0496</td>\n",
       "      <td>0.013000</td>\n",
       "      <td>0.000000</td>\n",
       "      <td>0.1130</td>\n",
       "      <td>0.918</td>\n",
       "      <td>237</td>\n",
       "      <td>1990</td>\n",
       "    </tr>\n",
       "    <tr>\n",
       "      <th>4</th>\n",
       "      <td>4GAAXyEODRSDdtLHwe6A5s</td>\n",
       "      <td>2fpbR8VQWHUivTaeLTR5MJ</td>\n",
       "      <td>OH YEAH !</td>\n",
       "      <td>PRINCESS PRINCESS</td>\n",
       "      <td>249107</td>\n",
       "      <td>-6.438</td>\n",
       "      <td>142.800</td>\n",
       "      <td>4</td>\n",
       "      <td>A</td>\n",
       "      <td>Major</td>\n",
       "      <td>0.636</td>\n",
       "      <td>0.933</td>\n",
       "      <td>0.0459</td>\n",
       "      <td>0.075900</td>\n",
       "      <td>0.000000</td>\n",
       "      <td>0.0800</td>\n",
       "      <td>0.582</td>\n",
       "      <td>249</td>\n",
       "      <td>1990</td>\n",
       "    </tr>\n",
       "    <tr>\n",
       "      <th>...</th>\n",
       "      <td>...</td>\n",
       "      <td>...</td>\n",
       "      <td>...</td>\n",
       "      <td>...</td>\n",
       "      <td>...</td>\n",
       "      <td>...</td>\n",
       "      <td>...</td>\n",
       "      <td>...</td>\n",
       "      <td>...</td>\n",
       "      <td>...</td>\n",
       "      <td>...</td>\n",
       "      <td>...</td>\n",
       "      <td>...</td>\n",
       "      <td>...</td>\n",
       "      <td>...</td>\n",
       "      <td>...</td>\n",
       "      <td>...</td>\n",
       "      <td>...</td>\n",
       "      <td>...</td>\n",
       "    </tr>\n",
       "    <tr>\n",
       "      <th>94</th>\n",
       "      <td>1FV0rV6GEDsQd3sM8risYX</td>\n",
       "      <td>6nS5roXSAGhTGr34W6n7Et</td>\n",
       "      <td>Holding On - Radio Edit</td>\n",
       "      <td>Disclosure</td>\n",
       "      <td>211080</td>\n",
       "      <td>-5.123</td>\n",
       "      <td>124.044</td>\n",
       "      <td>4</td>\n",
       "      <td>D</td>\n",
       "      <td>Minor</td>\n",
       "      <td>0.742</td>\n",
       "      <td>0.820</td>\n",
       "      <td>0.2120</td>\n",
       "      <td>0.114000</td>\n",
       "      <td>0.000124</td>\n",
       "      <td>0.1350</td>\n",
       "      <td>0.854</td>\n",
       "      <td>211</td>\n",
       "      <td>2015</td>\n",
       "    </tr>\n",
       "    <tr>\n",
       "      <th>95</th>\n",
       "      <td>1KcnJTiXJXAqW5bB7zpkBC</td>\n",
       "      <td>4D75GcNG95ebPtNvoNVXhz</td>\n",
       "      <td>SummerThing!</td>\n",
       "      <td>AFROJACK</td>\n",
       "      <td>235344</td>\n",
       "      <td>-5.463</td>\n",
       "      <td>130.036</td>\n",
       "      <td>4</td>\n",
       "      <td>C</td>\n",
       "      <td>Major</td>\n",
       "      <td>0.707</td>\n",
       "      <td>0.782</td>\n",
       "      <td>0.0613</td>\n",
       "      <td>0.054100</td>\n",
       "      <td>0.000000</td>\n",
       "      <td>0.2970</td>\n",
       "      <td>0.790</td>\n",
       "      <td>235</td>\n",
       "      <td>2015</td>\n",
       "    </tr>\n",
       "    <tr>\n",
       "      <th>96</th>\n",
       "      <td>2vzn8usBcuNL93DnTjEK0z</td>\n",
       "      <td>4Kxlr1PRlDKEB0ekOCyHgX</td>\n",
       "      <td>LOSER</td>\n",
       "      <td>BIGBANG</td>\n",
       "      <td>219371</td>\n",
       "      <td>-4.127</td>\n",
       "      <td>89.846</td>\n",
       "      <td>4</td>\n",
       "      <td>D♯/E♭</td>\n",
       "      <td>Major</td>\n",
       "      <td>0.639</td>\n",
       "      <td>0.692</td>\n",
       "      <td>0.1070</td>\n",
       "      <td>0.338000</td>\n",
       "      <td>0.000000</td>\n",
       "      <td>0.3560</td>\n",
       "      <td>0.488</td>\n",
       "      <td>219</td>\n",
       "      <td>2015</td>\n",
       "    </tr>\n",
       "    <tr>\n",
       "      <th>97</th>\n",
       "      <td>5CchV8Rh5s2sJ377bUP52Y</td>\n",
       "      <td>0bAsR2unSRpn6BQPEnNlZm</td>\n",
       "      <td>Brave Shine</td>\n",
       "      <td>Aimer</td>\n",
       "      <td>233973</td>\n",
       "      <td>-5.419</td>\n",
       "      <td>171.123</td>\n",
       "      <td>4</td>\n",
       "      <td>G♯/A♭</td>\n",
       "      <td>Major</td>\n",
       "      <td>0.345</td>\n",
       "      <td>0.881</td>\n",
       "      <td>0.0828</td>\n",
       "      <td>0.000711</td>\n",
       "      <td>0.000003</td>\n",
       "      <td>0.1730</td>\n",
       "      <td>0.525</td>\n",
       "      <td>233</td>\n",
       "      <td>2015</td>\n",
       "    </tr>\n",
       "    <tr>\n",
       "      <th>98</th>\n",
       "      <td>6jKjGOrFbemTuN7GKQnQvt</td>\n",
       "      <td>3Dt9iGDIxkbcHaGYSd4yiU</td>\n",
       "      <td>ラッスンゴレライ</td>\n",
       "      <td>8.6秒バズーカー</td>\n",
       "      <td>243952</td>\n",
       "      <td>-2.274</td>\n",
       "      <td>167.063</td>\n",
       "      <td>4</td>\n",
       "      <td>B</td>\n",
       "      <td>Minor</td>\n",
       "      <td>0.525</td>\n",
       "      <td>0.997</td>\n",
       "      <td>0.3590</td>\n",
       "      <td>0.216000</td>\n",
       "      <td>0.000000</td>\n",
       "      <td>0.3900</td>\n",
       "      <td>0.617</td>\n",
       "      <td>243</td>\n",
       "      <td>2015</td>\n",
       "    </tr>\n",
       "  </tbody>\n",
       "</table>\n",
       "<p>591 rows × 19 columns</p>\n",
       "</div>"
      ],
      "text/plain": [
       "                    トラックID                アーティストID                    トラック名  \\\n",
       "0   5kdfBuQRbMUhQ6zATCFoTm  7lVG50DbbnbI4i1DgLxrLk      さよなら人類 ～シングルヴァージョン～   \n",
       "1   4lPEdvGVptFXUMk8DKMLnF  5lTGqFmlTng9jPrs7c2dRA                     浪漫飛行   \n",
       "2   0VautPaGJuzwHMo945JvLa  7i9bNUSGORP5MIgrii3cJc         太陽のKomachi Angel   \n",
       "3   5Nc3OwtzaQdeyEFMb31YCW  1fwyrDSLYLNCWHRv3Siyd7               今すぐＫｉｓｓ　Ｍｅ   \n",
       "4   4GAAXyEODRSDdtLHwe6A5s  2fpbR8VQWHUivTaeLTR5MJ                OH YEAH !   \n",
       "..                     ...                     ...                      ...   \n",
       "94  1FV0rV6GEDsQd3sM8risYX  6nS5roXSAGhTGr34W6n7Et  Holding On - Radio Edit   \n",
       "95  1KcnJTiXJXAqW5bB7zpkBC  4D75GcNG95ebPtNvoNVXhz             SummerThing!   \n",
       "96  2vzn8usBcuNL93DnTjEK0z  4Kxlr1PRlDKEB0ekOCyHgX                    LOSER   \n",
       "97  5CchV8Rh5s2sJ377bUP52Y  0bAsR2unSRpn6BQPEnNlZm              Brave Shine   \n",
       "98  6jKjGOrFbemTuN7GKQnQvt  3Dt9iGDIxkbcHaGYSd4yiU                 ラッスンゴレライ   \n",
       "\n",
       "              アーティスト名  duration_ms  平均ラウドネス[dB]  テンポ(BPM)  拍子     キー    長短長  \\\n",
       "0                Tama       280160       -5.661   120.493   4      C  Major   \n",
       "1      Kome Kome Club       246840      -11.854   137.213   4      B  Major   \n",
       "2                 B'z       249273       -4.211   120.820   4      G  Major   \n",
       "3            LINDBERG       237040       -9.774   170.771   4      E  Major   \n",
       "4   PRINCESS PRINCESS       249107       -6.438   142.800   4      A  Major   \n",
       "..                ...          ...          ...       ...  ..    ...    ...   \n",
       "94         Disclosure       211080       -5.123   124.044   4      D  Minor   \n",
       "95           AFROJACK       235344       -5.463   130.036   4      C  Major   \n",
       "96            BIGBANG       219371       -4.127    89.846   4  D♯/E♭  Major   \n",
       "97              Aimer       233973       -5.419   171.123   4  G♯/A♭  Major   \n",
       "98          8.6秒バズーカー       243952       -2.274   167.063   4      B  Minor   \n",
       "\n",
       "    danceability  energy  speechiness  acousticness  instrumentalness  \\\n",
       "0          0.566   0.517       0.0350      0.295000          0.000000   \n",
       "1          0.708   0.649       0.0312      0.117000          0.005150   \n",
       "2          0.665   0.964       0.0404      0.000219          0.000002   \n",
       "3          0.480   0.796       0.0496      0.013000          0.000000   \n",
       "4          0.636   0.933       0.0459      0.075900          0.000000   \n",
       "..           ...     ...          ...           ...               ...   \n",
       "94         0.742   0.820       0.2120      0.114000          0.000124   \n",
       "95         0.707   0.782       0.0613      0.054100          0.000000   \n",
       "96         0.639   0.692       0.1070      0.338000          0.000000   \n",
       "97         0.345   0.881       0.0828      0.000711          0.000003   \n",
       "98         0.525   0.997       0.3590      0.216000          0.000000   \n",
       "\n",
       "    liveness  valence  曲長[s]    年代  \n",
       "0     0.0989    0.632    280  1990  \n",
       "1     0.1450    0.969    246  1990  \n",
       "2     0.1350    0.790    249  1990  \n",
       "3     0.1130    0.918    237  1990  \n",
       "4     0.0800    0.582    249  1990  \n",
       "..       ...      ...    ...   ...  \n",
       "94    0.1350    0.854    211  2015  \n",
       "95    0.2970    0.790    235  2015  \n",
       "96    0.3560    0.488    219  2015  \n",
       "97    0.1730    0.525    233  2015  \n",
       "98    0.3900    0.617    243  2015  \n",
       "\n",
       "[591 rows x 19 columns]"
      ]
     },
     "execution_count": 6,
     "metadata": {},
     "output_type": "execute_result"
    }
   ],
   "source": [
    "track_retriever = TrackRetriever(sp)\n",
    "\n",
    "track_info_df = []\n",
    "for name, id in zip(pl_names, pl_ids):\n",
    "    pl = PlayList(name=name, id=id)\n",
    "    pl_trks = track_retriever.glob_playlist_tracks(pl.id)\n",
    "    # NOTE: TEMP\n",
    "    pl_trks = [track for track in pl_trks if track is not None]\n",
    "\n",
    "    track_info_table = TrackInfoTable(sp=sp, tracks=pl_trks)\n",
    "    df = track_info_table.get_track_info_df()\n",
    "    df[\"年代\"] = pl.name\n",
    "    print(len(df))\n",
    "    track_info_df.append(df)\n",
    "\n",
    "track_info_df = pd.concat(track_info_df)\n",
    "track_info_df"
   ]
  },
  {
   "cell_type": "code",
   "execution_count": 8,
   "id": "4d3e062a-25ab-4919-a502-4cf3bc3e6845",
   "metadata": {},
   "outputs": [
    {
     "data": {
      "text/plain": [
       "<Axes: xlabel='年代'>"
      ]
     },
     "execution_count": 8,
     "metadata": {},
     "output_type": "execute_result"
    },
    {
     "data": {
      "image/png": "[encoded data removed]",
      "text/plain": [
       "<Figure size 640x480 with 1 Axes>"
      ]
     },
     "metadata": {},
     "output_type": "display_data"
    }
   ],
   "source": [
    "track_info_df.groupby(\"年代\")[\"曲長[s]\"].mean().plot.bar()"
   ]
  },
  {
   "cell_type": "code",
   "execution_count": 9,
   "id": "1b921045-fe11-47e1-9632-310e08b59457",
   "metadata": {},
   "outputs": [
    {
     "data": {
      "text/plain": [
       "<Axes: xlabel='曲長[s]', ylabel='Count'>"
      ]
     },
     "execution_count": 9,
     "metadata": {},
     "output_type": "execute_result"
    },
    {
     "data": {
      "image/png": "[encoded data removed]",
      "text/plain": [
       "<Figure size 640x480 with 1 Axes>"
      ]
     },
     "metadata": {},
     "output_type": "display_data"
    }
   ],
   "source": [
    "sns.histplot(\n",
    "    track_info_df,\n",
    "    x=\"曲長[s]\",\n",
    "    hue=\"年代\",\n",
    "    multiple=\"stack\",\n",
    ")"
   ]
  },
  {
   "cell_type": "code",
   "execution_count": null,
   "id": "8fc5f790-e3d4-4342-aa5a-7d12ed01d382",
   "metadata": {},
   "outputs": [],
   "source": []
  },
  {
   "cell_type": "code",
   "execution_count": null,
   "id": "0b5df19a-172c-4384-8766-3fd14dbb9507",
   "metadata": {},
   "outputs": [],
   "source": []
  },
  {
   "cell_type": "code",
   "execution_count": null,
   "id": "6036195e-53b0-4c64-af95-579d574e6c79",
   "metadata": {},
   "outputs": [],
   "source": []
  },
  {
   "cell_type": "code",
   "execution_count": null,
   "id": "316b9485-de75-43c7-8835-5a411ee9cda4",
   "metadata": {},
   "outputs": [],
   "source": []
  },
  {
   "cell_type": "code",
   "execution_count": null,
   "id": "b8125acf-7a31-4f6a-88ca-6d954b1aa874",
   "metadata": {},
   "outputs": [],
   "source": []
  },
  {
   "cell_type": "code",
   "execution_count": null,
   "id": "d053b6d1-b1ef-4a4d-bbeb-162f64727698",
   "metadata": {},
   "outputs": [],
   "source": []
  },
  {
   "cell_type": "code",
   "execution_count": 10,
   "id": "bc73bffe-6b42-4cc5-8cca-0df9c1360a40",
   "metadata": {},
   "outputs": [],
   "source": [
    "cols = [\n",
    "    # \"曲長[ms]\",\n",
    "    \"平均ラウドネス[dB]\",\n",
    "    \"テンポ(BPM)\",\n",
    "    \"拍子\",\n",
    "    # \"キー\",\n",
    "    # \"長短長\",\n",
    "    \"danceability\",\n",
    "    \"energy\",\n",
    "    \"speechiness\",\n",
    "    \"acousticness\",\n",
    "    \"instrumentalness\",\n",
    "    \"liveness\",\n",
    "    \"valence\",\n",
    "]"
   ]
  },
  {
   "cell_type": "code",
   "execution_count": 11,
   "id": "28d17765-4be5-4cca-9838-6e7950d398a0",
   "metadata": {},
   "outputs": [
    {
     "name": "stdout",
     "output_type": "stream",
     "text": [
      "(591, 2)\n"
     ]
    }
   ],
   "source": [
    "# X_reduced = PCA(n_components=2).fit_transform(track_info_df[cols].values)\n",
    "X_reduced = TSNE(n_components=2).fit_transform(track_info_df[cols].values)\n",
    "\n",
    "print(X_reduced.shape)"
   ]
  },
  {
   "cell_type": "code",
   "execution_count": 23,
   "id": "9271f86c-1d9c-4e55-83e8-05ffbe1118ac",
   "metadata": {},
   "outputs": [
    {
     "data": {
      "text/html": [
       "<div>\n",
       "<style scoped>\n",
       "    .dataframe tbody tr th:only-of-type {\n",
       "        vertical-align: middle;\n",
       "    }\n",
       "\n",
       "    .dataframe tbody tr th {\n",
       "        vertical-align: top;\n",
       "    }\n",
       "\n",
       "    .dataframe thead th {\n",
       "        text-align: right;\n",
       "    }\n",
       "</style>\n",
       "<table border=\"1\" class=\"dataframe\">\n",
       "  <thead>\n",
       "    <tr style=\"text-align: right;\">\n",
       "      <th></th>\n",
       "      <th>第一主成分</th>\n",
       "      <th>第二主成分</th>\n",
       "      <th>年代</th>\n",
       "      <th>アーティスト名</th>\n",
       "      <th>トラック名</th>\n",
       "    </tr>\n",
       "  </thead>\n",
       "  <tbody>\n",
       "    <tr>\n",
       "      <th>0</th>\n",
       "      <td>-1.443550</td>\n",
       "      <td>-4.076618</td>\n",
       "      <td>1990</td>\n",
       "      <td>Tama</td>\n",
       "      <td>さよなら人類 ～シングルヴァージョン～</td>\n",
       "    </tr>\n",
       "    <tr>\n",
       "      <th>1</th>\n",
       "      <td>25.098665</td>\n",
       "      <td>1.813970</td>\n",
       "      <td>1990</td>\n",
       "      <td>Kome Kome Club</td>\n",
       "      <td>浪漫飛行</td>\n",
       "    </tr>\n",
       "    <tr>\n",
       "      <th>2</th>\n",
       "      <td>-1.497011</td>\n",
       "      <td>-6.930953</td>\n",
       "      <td>1990</td>\n",
       "      <td>B'z</td>\n",
       "      <td>太陽のKomachi Angel</td>\n",
       "    </tr>\n",
       "    <tr>\n",
       "      <th>3</th>\n",
       "      <td>51.917095</td>\n",
       "      <td>1.939525</td>\n",
       "      <td>1990</td>\n",
       "      <td>LINDBERG</td>\n",
       "      <td>今すぐＫｉｓｓ　Ｍｅ</td>\n",
       "    </tr>\n",
       "    <tr>\n",
       "      <th>4</th>\n",
       "      <td>30.315910</td>\n",
       "      <td>0.376845</td>\n",
       "      <td>1990</td>\n",
       "      <td>PRINCESS PRINCESS</td>\n",
       "      <td>OH YEAH !</td>\n",
       "    </tr>\n",
       "    <tr>\n",
       "      <th>...</th>\n",
       "      <td>...</td>\n",
       "      <td>...</td>\n",
       "      <td>...</td>\n",
       "      <td>...</td>\n",
       "      <td>...</td>\n",
       "    </tr>\n",
       "    <tr>\n",
       "      <th>586</th>\n",
       "      <td>6.459719</td>\n",
       "      <td>-5.508314</td>\n",
       "      <td>2015</td>\n",
       "      <td>Disclosure</td>\n",
       "      <td>Holding On - Radio Edit</td>\n",
       "    </tr>\n",
       "    <tr>\n",
       "      <th>587</th>\n",
       "      <td>16.023043</td>\n",
       "      <td>-4.696445</td>\n",
       "      <td>2015</td>\n",
       "      <td>AFROJACK</td>\n",
       "      <td>SummerThing!</td>\n",
       "    </tr>\n",
       "    <tr>\n",
       "      <th>588</th>\n",
       "      <td>-43.577263</td>\n",
       "      <td>3.746330</td>\n",
       "      <td>2015</td>\n",
       "      <td>BIGBANG</td>\n",
       "      <td>LOSER</td>\n",
       "    </tr>\n",
       "    <tr>\n",
       "      <th>589</th>\n",
       "      <td>51.398659</td>\n",
       "      <td>3.480155</td>\n",
       "      <td>2015</td>\n",
       "      <td>Aimer</td>\n",
       "      <td>Brave Shine</td>\n",
       "    </tr>\n",
       "    <tr>\n",
       "      <th>590</th>\n",
       "      <td>48.754852</td>\n",
       "      <td>4.423575</td>\n",
       "      <td>2015</td>\n",
       "      <td>8.6秒バズーカー</td>\n",
       "      <td>ラッスンゴレライ</td>\n",
       "    </tr>\n",
       "  </tbody>\n",
       "</table>\n",
       "<p>591 rows × 5 columns</p>\n",
       "</div>"
      ],
      "text/plain": [
       "         第一主成分     第二主成分    年代            アーティスト名                    トラック名\n",
       "0    -1.443550 -4.076618  1990               Tama      さよなら人類 ～シングルヴァージョン～\n",
       "1    25.098665  1.813970  1990     Kome Kome Club                     浪漫飛行\n",
       "2    -1.497011 -6.930953  1990                B'z         太陽のKomachi Angel\n",
       "3    51.917095  1.939525  1990           LINDBERG               今すぐＫｉｓｓ　Ｍｅ\n",
       "4    30.315910  0.376845  1990  PRINCESS PRINCESS                OH YEAH !\n",
       "..         ...       ...   ...                ...                      ...\n",
       "586   6.459719 -5.508314  2015         Disclosure  Holding On - Radio Edit\n",
       "587  16.023043 -4.696445  2015           AFROJACK             SummerThing!\n",
       "588 -43.577263  3.746330  2015            BIGBANG                    LOSER\n",
       "589  51.398659  3.480155  2015              Aimer              Brave Shine\n",
       "590  48.754852  4.423575  2015          8.6秒バズーカー                 ラッスンゴレライ\n",
       "\n",
       "[591 rows x 5 columns]"
      ]
     },
     "execution_count": 23,
     "metadata": {},
     "output_type": "execute_result"
    }
   ],
   "source": [
    "Y = pd.DataFrame(X_reduced, columns=[\"第一主成分\", \"第二主成分\"])\n",
    "Y[\"年代\"] = track_info_df[\"年代\"].values\n",
    "Y[\"アーティスト名\"] = track_info_df[\"アーティスト名\"].values\n",
    "Y[\"トラック名\"] = track_info_df[\"トラック名\"].values\n",
    "Y"
   ]
  },
  {
   "cell_type": "code",
   "execution_count": 24,
   "id": "9db8a363-b613-4ea5-9ab9-d26e81b9b688",
   "metadata": {},
   "outputs": [
    {
     "data": {
      "text/plain": [
       "<Axes: xlabel='第一主成分', ylabel='第二主成分'>"
      ]
     },
     "execution_count": 24,
     "metadata": {},
     "output_type": "execute_result"
    },
    {
     "data": {
      "image/png": "[encoded data removed]",
      "text/plain": [
       "<Figure size 640x480 with 1 Axes>"
      ]
     },
     "metadata": {},
     "output_type": "display_data"
    }
   ],
   "source": [
    "sns.scatterplot(data=Y, x=\"第一主成分\", y=\"第二主成分\", hue=\"年代\")"
   ]
  },
  {
   "cell_type": "code",
   "execution_count": null,
   "id": "23dd8e33-3e40-4fb6-a51d-472c838f9e01",
   "metadata": {},
   "outputs": [],
   "source": []
  },
  {
   "cell_type": "code",
   "execution_count": 25,
   "id": "103cbf00-c65f-4905-8ad7-c5af97f5429c",
   "metadata": {},
   "outputs": [],
   "source": [
    "import plotly.express as px\n",
    "import plotly.graph_objects as go"
   ]
  },
  {
   "cell_type": "code",
   "execution_count": 26,
   "id": "f773a61b-b008-42ab-9929-7461fee6ff7f",
   "metadata": {},
   "outputs": [
    {
     "data": {
      "application/vnd.plotly.v1+json": {
       "config": {
        "plotlyServerURL": "https://plot.ly"
       },
       "data": [
        {
         "customdata": [
          [
           "Tama",
           "さよなら人類 ～シングルヴァージョン～"
          ],
          [
           "Kome Kome Club",
           "浪漫飛行"
          ],
          [
           "B'z",
           "太陽のKomachi Angel"
          ],
          [
           "LINDBERG",
           "今すぐＫｉｓｓ　Ｍｅ"
          ],
          [
           "PRINCESS PRINCESS",
           "OH YEAH !"
          ],
          [
           "サザンオールスターズ",
           "真夏の果実"
          ],
          [
           "DREAMS COME TRUE",
           "笑顔の行方 (ORIGINAL VERSION)"
          ],
          [
           "B'z",
           "Easy Come, Easy Go!"
          ],
          [
           "Madonna",
           "Vogue"
          ],
          [
           "Wilson Phillips",
           "Hold On"
          ],
          [
           "New Kids On The Block",
           "Step by Step"
          ],
          [
           "Bell Biv DeVoe",
           "Do Me!"
          ],
          [
           "Shizuka Kudo",
           "Kuchibiru Kara Biyaku"
          ],
          [
           "Akina Nakamori",
           "Dear Friend - 2024 Lacquer Master Sound"
          ],
          [
           "Kyoko Koizumi",
           "見逃してくれよ！"
          ],
          [
           "Yosui Inoue",
           "少年時代 - Remastered 2018"
          ],
          [
           "Roxette",
           "It Must Have Been Love - From the Film \"Pretty Woman\""
          ],
          [
           "Sinéad O'Connor",
           "Nothing Compares 2 U"
          ],
          [
           "Diana Ross",
           "If We Hold On Together"
          ],
          [
           "中島みゆき",
           "with"
          ],
          [
           "Kyosuke Himuro",
           "JEALOUSY"
          ],
          [
           "Hideaki Tokunaga",
           "壊れかけのRadio"
          ],
          [
           "PINK SAPPHIRE",
           "P.S. I LOVE YOU - Single Version; 2019 Remaster"
          ],
          [
           "Depeche Mode",
           "Enjoy the Silence - 2006 Remaster"
          ],
          [
           "George Michael",
           "Freedom! '90"
          ],
          [
           "UB40",
           "Kingston Town"
          ],
          [
           "オヨネーズ",
           "麦畑"
          ],
          [
           "Jitterin' Jinn",
           "プレゼント"
          ],
          [
           "牛若丸三郎太",
           "勇気のしるし~リゲインのテーマ~"
          ],
          [
           "Yasuyuki Okamura",
           "カルアミルク"
          ],
          [
           "Mariah Carey",
           "Vision of Love"
          ],
          [
           "Phil Collins",
           "Another Day in Paradise - 2016 Remaster"
          ],
          [
           "Kaoma",
           "Lambada - Original Version 1989"
          ],
          [
           "En Vogue",
           "Hold On"
          ],
          [
           "Technotronic",
           "Pump Up The Jam"
          ],
          [
           "Billy Idol",
           "Cradle Of Love"
          ],
          [
           "Jon Bon Jovi",
           "Blaze Of Glory - From \"Young Guns II\" Soundtrack"
          ],
          [
           "Michael Bolton",
           "How Am I Supposed to Live Without You"
          ],
          [
           "Janet Jackson",
           "Escapade"
          ],
          [
           "PRINCESS PRINCESS",
           "DIAMONDS (ダイアモンド)"
          ],
          [
           "サザンオールスターズ",
           "フリフリ '65"
          ],
          [
           "DREAMS COME TRUE",
           "Ring! Ring! Ring! (S・H・H VERSION)"
          ],
          [
           "GO-BANG'S",
           "Ai ni Kite I Need You!"
          ],
          [
           "B'z",
           "愛しい人よGood Night…"
          ],
          [
           "X JAPAN",
           "ENDLESS RAIN - Remaster"
          ],
          [
           "Tsuyoshi Nagabuchi",
           "しょっぱい三日月の夜"
          ],
          [
           "Wink",
           "Sexy Music"
          ],
          [
           "TM NETWORK",
           "THE POINT OF LOVERS' NIGHT"
          ],
          [
           "Toshinobu Kubota",
           "GIVE YOU MY LOVE"
          ],
          [
           "Hideaki Tokunaga",
           "夢を信じて"
          ],
          [
           "Jitterin' Jinn",
           "夏祭り"
          ],
          [
           "The Rolling Stones",
           "Rock And A Hard Place"
          ],
          [
           "Heart",
           "All I Wanna Do Is Make Love To You"
          ],
          [
           "Quincy Jones",
           "Tomorrow (A Better You, Better Me)"
          ],
          [
           "Boyz II Men",
           "End Of The Road"
          ],
          [
           "Bette Midler",
           "From a Distance"
          ],
          [
           "a-ha",
           "Crying in the Rain"
          ],
          [
           "JUN SKY WALKER(S)",
           "白いクリスマス"
          ],
          [
           "The Checkers",
           "Yoake no Breath"
          ],
          [
           "Hiroshi Takano",
           "虹の都へ"
          ],
          [
           "UNICORN",
           "働く男"
          ],
          [
           "Tsuyoshi Nagabuchi",
           "JEEP"
          ],
          [
           "Maxi Priest",
           "Close To You"
          ],
          [
           "The Charlatans",
           "The Only One I Know"
          ],
          [
           "Misato Watanabe",
           "サマータイム ブルース"
          ],
          [
           "Kyoko Koizumi",
           "学園天国"
          ],
          [
           "TUBE",
           "あー夏休み"
          ],
          [
           "Mariya Takeuchi",
           "シングル・アゲイン - 2022 Remaster"
          ],
          [
           "Midori Karashima",
           "サイレント・イヴ"
          ],
          [
           "C & C Music Factory",
           "Gonna Make You Sweat (Everybody Dance Now) (feat. Freedom Williams)"
          ],
          [
           "LL COOL J",
           "Mama Said Knock You Out"
          ],
          [
           "MC Hammer",
           "U Can't Touch This"
          ],
          [
           "Vanilla Ice",
           "Ice Ice Baby"
          ],
          [
           "COMPLEX",
           "1990"
          ],
          [
           "X JAPAN",
           "WEEK END - Remaster"
          ],
          [
           "BUCK-TICK",
           "悪の華"
          ],
          [
           "Extreme",
           "More Than Words"
          ],
          [
           "The Black Crowes",
           "Hard To Handle"
          ],
          [
           "Flipper's Guitar",
           "恋とマシンガン -Young,Alive,in Love-"
          ],
          [
           "DREAMS COME TRUE",
           "さよならを待ってる"
          ],
          [
           "Hiroshi Takano",
           "ベステン ダンク"
          ],
          [
           "Jitterin' Jinn",
           "にちようび"
          ],
          [
           "BEGIN",
           "恋しくて"
          ],
          [
           "B'z",
           "BE THERE"
          ],
          [
           "Senri Oe",
           "dear"
          ],
          [
           "Noriyuki Makihara",
           "ANSWER - 2012 Remaster"
          ],
          [
           "Bobby Brown",
           "Every Little Step"
          ],
          [
           "Bell Biv DeVoe",
           "Poison"
          ],
          [
           "Billy Joel",
           "We Didn't Start the Fire"
          ],
          [
           "Linda Ronstadt",
           "Don't Know Much (with Aaron Neville)"
          ],
          [
           "Chisato Moritaka",
           "雨 - 2012 Remaster"
          ],
          [
           "Shizuka Kudo",
           "Senryu no Shizuku"
          ],
          [
           "Akina Nakamori",
           "水に挿した花 - 30th anniversary mix"
          ],
          [
           "Miki Imai",
           "瞳がほほえむから"
          ],
          [
           "Mariya Takeuchi",
           "告白 - 2022 Remaster"
          ],
          [
           "Hibari Misora",
           "川の流れのように"
          ],
          [
           "A Tribe Called Quest",
           "Bonita Applebum - includes 'Can I Kick It' Intro"
          ],
          [
           "Deee-Lite",
           "Groove Is in the Heart"
          ],
          [
           "Soul II Soul",
           "Get A Life"
          ]
         ],
         "hovertemplate": "<b>%{hovertext}</b><br><br>年代=1990<br>第一主成分=%{x}<br>第二主成分=%{y}<br>アーティスト名=%{customdata[0]}<br>トラック名=%{customdata[1]}<extra></extra>",
         "hovertext": [
          "1990",
          "1990",
          "1990",
          "1990",
          "1990",
          "1990",
          "1990",
          "1990",
          "1990",
          "1990",
          "1990",
          "1990",
          "1990",
          "1990",
          "1990",
          "1990",
          "1990",
          "1990",
          "1990",
          "1990",
          "1990",
          "1990",
          "1990",
          "1990",
          "1990",
          "1990",
          "1990",
          "1990",
          "1990",
          "1990",
          "1990",
          "1990",
          "1990",
          "1990",
          "1990",
          "1990",
          "1990",
          "1990",
          "1990",
          "1990",
          "1990",
          "1990",
          "1990",
          "1990",
          "1990",
          "1990",
          "1990",
          "1990",
          "1990",
          "1990",
          "1990",
          "1990",
          "1990",
          "1990",
          "1990",
          "1990",
          "1990",
          "1990",
          "1990",
          "1990",
          "1990",
          "1990",
          "1990",
          "1990",
          "1990",
          "1990",
          "1990",
          "1990",
          "1990",
          "1990",
          "1990",
          "1990",
          "1990",
          "1990",
          "1990",
          "1990",
          "1990",
          "1990",
          "1990",
          "1990",
          "1990",
          "1990",
          "1990",
          "1990",
          "1990",
          "1990",
          "1990",
          "1990",
          "1990",
          "1990",
          "1990",
          "1990",
          "1990",
          "1990",
          "1990",
          "1990",
          "1990",
          "1990",
          "1990"
         ],
         "legendgroup": "1990",
         "marker": {
          "color": "#636efa",
          "symbol": "circle"
         },
         "mode": "markers",
         "name": "1990",
         "orientation": "v",
         "showlegend": true,
         "type": "scatter",
         "x": [
          -1.4435497522354126,
          25.098665237426758,
          -1.4970110654830933,
          51.91709518432617,
          30.31591033935547,
          59.03865051269531,
          15.267406463623047,
          -11.357465744018555,
          -9.237314224243164,
          -32.285037994384766,
          9.566248893737793,
          -18.719575881958008,
          39.16790008544922,
          35.821529388427734,
          37.30530548095703,
          -50.81861877441406,
          -52.75909423828125,
          -1.5682628154754639,
          26.25342559814453,
          16.30351448059082,
          37.229618072509766,
          6.022399425506592,
          44.022705078125,
          -11.65418529510498,
          -39.8138542175293,
          -29.601716995239258,
          -1.1063107252120972,
          53.983497619628906,
          -1.4792448282241821,
          -37.38311767578125,
          59.352745056152344,
          -28.65633201599121,
          -4.039932727813721,
          -33.03846740722656,
          8.250740051269531,
          31.740510940551758,
          -53.01140213012695,
          26.12090301513672,
          -9.951451301574707,
          -14.372284889221191,
          23.02275848388672,
          57.77480697631836,
          24.282625198364258,
          -44.79994583129883,
          -54.04024124145508,
          -48.64915084838867,
          7.504556655883789,
          -32.36121368408203,
          -13.867536544799805,
          8.819025039672852,
          26.54758644104004,
          15.134590148925781,
          -28.02222442626953,
          -52.05439758300781,
          35.8635368347168,
          25.443666458129883,
          56.05647277832031,
          -52.5372314453125,
          35.576744079589844,
          20.070430755615234,
          47.991573333740234,
          -36.19054412841797,
          -35.45188903808594,
          -11.298900604248047,
          15.674049377441406,
          53.847145080566406,
          19.74662208557129,
          -15.655749320983887,
          -53.45044708251953,
          -11.20538330078125,
          -28.144208908081055,
          16.929752349853516,
          -10.570709228515625,
          30.239316940307617,
          -45.62519073486328,
          -39.441734313964844,
          56.400325775146484,
          -24.63735580444336,
          -0.5344682335853577,
          -13.47783374786377,
          13.344837188720703,
          45.565589904785156,
          -50.58503723144531,
          -25.12744140625,
          16.359962463378906,
          -55.48243713378906,
          -30.750652313232422,
          -12.537232398986816,
          32.314170837402344,
          15.545159339904785,
          7.502115249633789,
          52.10869598388672,
          -30.913347244262695,
          8.719830513000488,
          -54.286155700683594,
          56.36454391479492,
          -41.22612380981445,
          -0.424775093793869,
          -29.9937744140625
         ],
         "xaxis": "x",
         "y": [
          -4.07661771774292,
          1.8139700889587402,
          -6.930953025817871,
          1.93952476978302,
          0.37684470415115356,
          3.3207128047943115,
          -0.8556779026985168,
          -2.2127387523651123,
          -0.29613804817199707,
          1.245535135269165,
          -0.41628023982048035,
          3.8814287185668945,
          3.0613486766815186,
          2.18890118598938,
          1.9219602346420288,
          0.4821298122406006,
          -0.4924513101577759,
          -2.2507998943328857,
          2.830566883087158,
          -0.6768128871917725,
          1.6229594945907593,
          -4.496335506439209,
          2.2472386360168457,
          4.122096061706543,
          2.049330949783325,
          0.19365975260734558,
          -0.3568212687969208,
          2.1582655906677246,
          -3.364497184753418,
          3.3919262886047363,
          3.2629098892211914,
          3.233159303665161,
          -4.305543422698975,
          0.9158799648284912,
          -1.1998918056488037,
          -0.05255004018545151,
          -2.577382802963257,
          2.2634828090667725,
          0.10456082224845886,
          3.4352617263793945,
          -3.9032480716705322,
          3.1038901805877686,
          -2.9137380123138428,
          2.9184999465942383,
          -1.825339436531067,
          -0.8263481259346008,
          -3.7650253772735596,
          5.205665588378906,
          5.328695774078369,
          -4.163768768310547,
          2.0991389751434326,
          -6.397134780883789,
          1.580379843711853,
          0.1621169149875641,
          3.4099631309509277,
          1.8741462230682373,
          2.9790313243865967,
          -0.667374849319458,
          3.826347827911377,
          -5.1804046630859375,
          3.499650001525879,
          0.6421298384666443,
          0.4741109609603882,
          4.303361415863037,
          -1.9582136869430542,
          3.5980288982391357,
          -5.498650074005127,
          2.5686190128326416,
          -1.6482040882110596,
          3.621753454208374,
          2.7604241371154785,
          0.3623580038547516,
          4.457743167877197,
          0.946044921875,
          3.548424243927002,
          3.3234148025512695,
          2.2251663208007812,
          5.701765060424805,
          -0.2533445358276367,
          4.166607856750488,
          -6.055848121643066,
          5.156749248504639,
          -1.3079348802566528,
          6.6523027420043945,
          -1.2105916738510132,
          -1.942352056503296,
          0.5061149001121521,
          4.161129951477051,
          0.5486108660697937,
          -0.3871622085571289,
          -1.4216909408569336,
          3.3371872901916504,
          1.8020622730255127,
          -2.307709217071533,
          -2.4824657440185547,
          3.0550999641418457,
          3.695077419281006,
          -7.330105781555176,
          0.4489077627658844
         ],
         "yaxis": "y"
        },
        {
         "customdata": [
          [
           "DREAMS COME TRUE",
           "LOVE LOVE LOVE"
          ],
          [
           "H Jungle With t",
           "WOW WAR TONIGHT〜時には起こせよムーヴメント〜 - TWO MILLION MIX"
          ],
          [
           "Mr.Children",
           "Tomorrow never knows"
          ],
          [
           "SPITZ",
           "ロビンソン"
          ],
          [
           "My Little Lover",
           "Man&Woman"
          ],
          [
           "Yumi Matsutoya",
           "春よ、来い"
          ],
          [
           "Masaharu Fukuyama",
           "HELLO"
          ],
          [
           "Alanis Morissette",
           "You Oughta Know - 2015 Remaster"
          ],
          [
           "Oasis",
           "Wonderwall - Remastered"
          ],
          [
           "The Cardigans",
           "Carnival"
          ],
          [
           "Mariah Carey",
           "All I Want for Christmas Is You"
          ],
          [
           "Lenny Kravitz",
           "Rock And Roll Is Dead"
          ],
          [
           "Backstreet Boys",
           "I Want It That Way"
          ],
          [
           "Scatman John",
           "Scatman (ski-ba-bop-ba-dop-bop)"
          ],
          [
           "My Little Lover",
           "Hello,Again~昔からある場所~"
          ],
          [
           "Magokoro Brothers",
           "サマーヌード"
          ],
          [
           "桑田 佳祐 ＆ Mr.Children",
           "奇跡の地球"
          ],
          [
           "B'z",
           "LOVE PHANTOM"
          ],
          [
           "Maki Ohguro",
           "ら・ら・ら (2019 Remastered)"
          ],
          [
           "JUDY AND MARY",
           "Over Drive"
          ],
          [
           "Radiohead",
           "High and Dry"
          ],
          [
           "The Smashing Pumpkins",
           "1979 - Remastered 2012"
          ],
          [
           "The Offspring",
           "Self Esteem"
          ],
          [
           "globe",
           "Feel Like dance - Original Mix"
          ],
          [
           "H Jungle With t",
           "GOING GOING HOME"
          ],
          [
           "Tomomi Kahara",
           "I BELIEVE - Radio Edit"
          ],
          [
           "Red Hot Chili Peppers",
           "My Friends"
          ],
          [
           "Björk",
           "Army of Me"
          ],
          [
           "Mr.Children",
           "everybody goes~秩序のない現代にドロップキック~"
          ],
          [
           "Tamio Okuda",
           "愛のために"
          ],
          [
           "B'z",
           "ねがい"
          ],
          [
           "サザンオールスターズ",
           "あなただけを ~Summer Heartbreak~"
          ],
          [
           "Kyosuke Himuro",
           "Tamashii wo daitekure"
          ],
          [
           "HOTEI",
           "POISON"
          ],
          [
           "TRF",
           "Overnight Sensation 〜時代はあなたに委ねてる〜"
          ],
          [
           "Ryoko Shinohara",
           "Lady Generation (Original Mix)"
          ],
          [
           "DREAMS COME TRUE",
           "サンキュ."
          ],
          [
           "My Little Lover",
           "白いカイト"
          ],
          [
           "中島みゆき",
           "旅人のうた"
          ],
          [
           "SCHA DARA PARR",
           "サマージャム'95"
          ],
          [
           "EAST END",
           "DA.YO.NE"
          ],
          [
           "TLC",
           "Waterfalls"
          ],
          [
           "Mariah Carey",
           "Always Be My Baby"
          ],
          [
           "Boyz II Men",
           "On Bended Knee"
          ],
          [
           "Incognito",
           "Everyday"
          ],
          [
           "Snow",
           "Sexy Girl"
          ],
          [
           "hitomi",
           "CANDY GIRL"
          ],
          [
           "globe",
           "Joy to the love"
          ],
          [
           "TRF",
           "CRAZY GONNA CRAZY"
          ],
          [
           "Ryoko Shinohara",
           "恋しさと せつなさと 心強さと"
          ],
          [
           "FUNK THE PEANUTS",
           "恋の罠しかけましょ 〜FUNK THE PEANUTSのテーマ〜"
          ],
          [
           "Nanase Aikawa",
           "夢見る少女じゃいられない"
          ],
          [
           "Maki Ohguro",
           "いちばん近くにいてね"
          ],
          [
           "Sharam Q",
           "シングルベッド"
          ],
          [
           "Michael Jackson",
           "You Are Not Alone"
          ],
          [
           "Diana King",
           "Shy Guy"
          ],
          [
           "Madonna",
           "Take a Bow"
          ],
          [
           "Noriko Sakai",
           "碧いうさぎ"
          ],
          [
           "Mariya Takeuchi",
           "Konya Ha Hearty Party - Single Mix"
          ],
          [
           "Masayuki Suzuki",
           "もう涙はいらない (Sentimental Version)"
          ],
          [
           "ZARD",
           "あなたを感じていたい"
          ],
          [
           "L⇔R",
           "KNOCKIN' ON YOUR DOOR"
          ],
          [
           "Mayo Okamoto",
           "TOMORROW"
          ],
          [
           "Baha Men",
           "Dancing in the Moonlight"
          ],
          [
           "Montell Jordan",
           "This Is How We Do It"
          ],
          [
           "D'Angelo",
           "Brown Sugar"
          ],
          [
           "Seal",
           "Kiss from a Rose"
          ],
          [
           "Michael Jackson",
           "Scream"
          ],
          [
           "2Pac",
           "Me Against The World"
          ],
          [
           "Mr.Children",
           "シーソーゲーム~勇敢な恋の歌~"
          ],
          [
           "サザンオールスターズ",
           "マンピーのG★SPOT"
          ],
          [
           "Sharam Q",
           "空を見なよ"
          ],
          [
           "B'z",
           "love me, I love you"
          ],
          [
           "TRF",
           "masquerade"
          ],
          [
           "Tomomi Kahara",
           "keep yourself alive - Radio Edit Mix"
          ],
          [
           "hitomi",
           "GO TO THE TOP"
          ],
          [
           "Mariah Carey",
           "Fantasy"
          ],
          [
           "Des'ree",
           "You Gotta Be"
          ],
          [
           "Duran Duran",
           "White Lines (Don't Do It) [feat. Melle Mel & Grandmaster Flash & the Furious Five]"
          ],
          [
           "Jamiroquai",
           "Stillness in Time"
          ],
          [
           "Blur",
           "Country House - 2012 Remaster"
          ],
          [
           "The Smashing Pumpkins",
           "Tonight, Tonight - Remastered 2012"
          ],
          [
           "Oasis",
           "Don't Look Back In Anger - Remastered"
          ],
          [
           "SPITZ",
           "涙がキラリ☆"
          ],
          [
           "Sharam Q",
           "ズルい女"
          ],
          [
           "Kuroyume",
           "BEAMS"
          ],
          [
           "Yoko Takahashi",
           "残酷な天使のテーゼ"
          ],
          [
           "Naomi Tamura",
           "Unyielding Wish - Complete ver"
          ],
          [
           "Mr.Children",
           "【es】~Theme of es~"
          ],
          [
           "Original Love",
           "Yume wo Miru Hito"
          ],
          [
           "Sing Like Talking",
           "Spirit Of Love (Sanctified Version)"
          ],
          [
           "Simply Red",
           "Fairground"
          ],
          [
           "Coolio",
           "Gangsta's Paradise"
          ],
          [
           "DEEN",
           "未来のために"
          ],
          [
           "Hiromi Go",
           "逢いたくてしかたない"
          ],
          [
           "Midori Karashima",
           "愛すること"
          ],
          [
           "Shaggy",
           "Boombastic"
          ],
          [
           "Stevie Wonder",
           "For Your Love"
          ]
         ],
         "hovertemplate": "<b>%{hovertext}</b><br><br>年代=1995<br>第一主成分=%{x}<br>第二主成分=%{y}<br>アーティスト名=%{customdata[0]}<br>トラック名=%{customdata[1]}<extra></extra>",
         "hovertext": [
          "1995",
          "1995",
          "1995",
          "1995",
          "1995",
          "1995",
          "1995",
          "1995",
          "1995",
          "1995",
          "1995",
          "1995",
          "1995",
          "1995",
          "1995",
          "1995",
          "1995",
          "1995",
          "1995",
          "1995",
          "1995",
          "1995",
          "1995",
          "1995",
          "1995",
          "1995",
          "1995",
          "1995",
          "1995",
          "1995",
          "1995",
          "1995",
          "1995",
          "1995",
          "1995",
          "1995",
          "1995",
          "1995",
          "1995",
          "1995",
          "1995",
          "1995",
          "1995",
          "1995",
          "1995",
          "1995",
          "1995",
          "1995",
          "1995",
          "1995",
          "1995",
          "1995",
          "1995",
          "1995",
          "1995",
          "1995",
          "1995",
          "1995",
          "1995",
          "1995",
          "1995",
          "1995",
          "1995",
          "1995",
          "1995",
          "1995",
          "1995",
          "1995",
          "1995",
          "1995",
          "1995",
          "1995",
          "1995",
          "1995",
          "1995",
          "1995",
          "1995",
          "1995",
          "1995",
          "1995",
          "1995",
          "1995",
          "1995",
          "1995",
          "1995",
          "1995",
          "1995",
          "1995",
          "1995",
          "1995",
          "1995",
          "1995",
          "1995",
          "1995",
          "1995",
          "1995",
          "1995",
          "1995"
         ],
         "legendgroup": "1995",
         "marker": {
          "color": "#EF553B",
          "symbol": "circle"
         },
         "mode": "markers",
         "name": "1995",
         "orientation": "v",
         "showlegend": true,
         "type": "scatter",
         "x": [
          -49.735557556152344,
          50.994205474853516,
          -14.02129077911377,
          -16.06821632385254,
          -28.474002838134766,
          -47.93190383911133,
          41.385005950927734,
          -25.259931564331055,
          53.098079681396484,
          -14.419181823730469,
          36.601043701171875,
          56.981605529785156,
          -32.23229217529297,
          24.63566017150879,
          -31.5301456451416,
          -10.59411334991455,
          8.883625984191895,
          21.04590606689453,
          -1.639957070350647,
          35.936866760253906,
          -48.196189880371094,
          9.991484642028809,
          -25.79509162902832,
          7.6213884353637695,
          53.89447021484375,
          27.888355255126953,
          -53.4453125,
          52.5114860534668,
          6.1390180587768555,
          -31.72157859802246,
          -19.47041130065918,
          4.9156575202941895,
          45.469139099121094,
          7.694393634796143,
          -1.080898404121399,
          10.144392967224121,
          -8.597101211547852,
          -31.06842041015625,
          -34.892086029052734,
          -37.14445877075195,
          -14.614130973815918,
          51.988773345947266,
          -53.16572570800781,
          -8.781427383422852,
          -11.381237030029297,
          -35.682708740234375,
          -22.137855529785156,
          44.121726989746094,
          16.81747817993164,
          17.318002700805664,
          -14.986445426940918,
          43.37405776977539,
          -8.94863224029541,
          -51.510196685791016,
          -1.1602882146835327,
          -38.634490966796875,
          -52.40647506713867,
          -25.046401977539062,
          -2.6283419132232666,
          -9.456923484802246,
          6.577967166900635,
          9.775530815124512,
          -22.29237174987793,
          -11.373687744140625,
          -27.85466957092285,
          -50.83356475830078,
          16.96230697631836,
          -21.403440475463867,
          -41.65715026855469,
          23.5988826751709,
          39.224918365478516,
          8.731947898864746,
          57.35359191894531,
          16.33068084716797,
          23.589794158935547,
          15.661352157592773,
          -28.317026138305664,
          -37.54697036743164,
          -9.798121452331543,
          -15.636246681213379,
          53.64838409423828,
          35.35368728637695,
          45.88178634643555,
          -33.66044616699219,
          6.306342601776123,
          -43.11955261230469,
          11.152325630187988,
          21.01947784423828,
          -55.01529312133789,
          -27.864627838134766,
          -19.83162498474121,
          4.4051008224487305,
          -52.0803108215332,
          -15.156862258911133,
          27.847936630249023,
          55.55399703979492,
          44.302921295166016,
          16.994518280029297
         ],
         "xaxis": "x",
         "y": [
          -1.0808143615722656,
          2.813502311706543,
          5.140832424163818,
          1.1043788194656372,
          3.065577983856201,
          -0.40950682759284973,
          3.0724806785583496,
          1.7914484739303589,
          4.466114044189453,
          3.788954257965088,
          3.067678451538086,
          3.2295844554901123,
          4.775026798248291,
          1.4692109823226929,
          2.044931411743164,
          -1.017824649810791,
          -3.2825710773468018,
          -5.450504302978516,
          -9.276443481445312,
          1.184154748916626,
          -0.6316629648208618,
          -1.076670527458191,
          1.9841498136520386,
          -3.6398279666900635,
          4.407101631164551,
          -0.25946125388145447,
          0.8948990702629089,
          2.1663098335266113,
          -5.5357770919799805,
          2.462028741836548,
          2.1541521549224854,
          -5.724581718444824,
          3.7840163707733154,
          -2.3737189769744873,
          -0.9578075408935547,
          -0.986666738986969,
          1.6266249418258667,
          5.837863445281982,
          6.20825719833374,
          4.557285308837891,
          5.321186542510986,
          2.7170820236206055,
          -1.9467509984970093,
          1.0052732229232788,
          3.142728090286255,
          4.084566116333008,
          4.108770370483398,
          4.092787742614746,
          -2.0987439155578613,
          -7.834587097167969,
          3.191091537475586,
          3.1989479064941406,
          -2.6595163345336914,
          -0.2641538679599762,
          -0.3867796063423157,
          4.438627243041992,
          -1.7632461786270142,
          2.069586753845215,
          -5.142984390258789,
          0.16051405668258667,
          -7.266692638397217,
          -6.813564777374268,
          5.326445579528809,
          3.457770347595215,
          0.8790217041969299,
          -0.57468181848526,
          -2.452476978302002,
          4.228896617889404,
          4.5725274085998535,
          -2.9613444805145264,
          1.4497779607772827,
          -2.6200461387634277,
          4.280900478363037,
          -5.739709377288818,
          -2.469773292541504,
          -1.4905365705490112,
          2.573103666305542,
          1.4086108207702637,
          -0.738092839717865,
          3.3136403560638428,
          3.2089803218841553,
          3.1988048553466797,
          3.1957366466522217,
          6.439380645751953,
          -4.7097368240356445,
          3.3027501106262207,
          -0.6999947428703308,
          -6.004673004150391,
          -2.4292867183685303,
          0.6638942956924438,
          3.5580809116363525,
          -3.853828191757202,
          -2.271306276321411,
          1.0249792337417603,
          0.5205168128013611,
          2.8558928966522217,
          5.820218563079834,
          -0.18574286997318268
         ],
         "yaxis": "y"
        },
        {
         "customdata": [
          [
           "Masaharu Fukuyama",
           "桜坂"
          ],
          [
           "サザンオールスターズ",
           "TSUNAMI"
          ],
          [
           "Hikaru Utada",
           "Wait & See ～リスク～"
          ],
          [
           "Takashi Fujii",
           "ナンダカンダ"
          ],
          [
           "Hitomi Yaida",
           "My Sweet Darlin' - Remastered 2004"
          ],
          [
           "Janet Jackson",
           "Doesn't Really Matter"
          ],
          [
           "Destiny's Child",
           "Say My Name"
          ],
          [
           "Santana",
           "Smooth (feat. Rob Thomas)"
          ],
          [
           "B'z",
           "今夜月の見える丘に"
          ],
          [
           "中島みゆき",
           "地上の星"
          ],
          [
           "MISIA",
           "Everything"
          ],
          [
           "Ayumi Hamasaki",
           "SEASONS"
          ],
          [
           "Mai Kuraki",
           "Secret of my heart"
          ],
          [
           "Madonna",
           "American Pie"
          ],
          [
           "Faith Hill",
           "Breathe"
          ],
          [
           "Joe",
           "I Wanna Know"
          ],
          [
           "Vertical Horizon",
           "Everything You Want"
          ],
          [
           "Sheena Ringo",
           "ギブス"
          ],
          [
           "SPITZ",
           "メモリーズ"
          ],
          [
           "BUMP OF CHICKEN",
           "ランプ"
          ],
          [
           "Mr.Children",
           "口笛"
          ],
          [
           "L'Arc-en-Ciel",
           "NEO UNIVERSE"
          ],
          [
           "GLAY",
           "とまどい"
          ],
          [
           "aiko",
           "Sakura no Toki"
          ],
          [
           "PornoGraffitti",
           "サウダージ"
          ],
          [
           "The Dandy Warhols",
           "Bohemian Like You"
          ],
          [
           "Oasis",
           "Go Let It Out"
          ],
          [
           "blink-182",
           "All The Small Things"
          ],
          [
           "Green Day",
           "Minority"
          ],
          [
           "Savage Garden",
           "I Knew I Loved You"
          ],
          [
           "Yuki Koyanagi",
           "あなたのキスを数えましょう 〜You were mine〜"
          ],
          [
           "DA PUMP",
           "if..."
          ],
          [
           "Ayumi Hamasaki",
           "vogue"
          ],
          [
           "hana*hana",
           "あ〜よかった - setagaya-mix"
          ],
          [
           "Whiteberry",
           "夏祭り"
          ],
          [
           "ARASHI",
           "感謝カンゲキ雨嵐"
          ],
          [
           "蓮井 朱夏",
           "ZOO 〜愛をください〜"
          ],
          [
           "Bluem of Youth",
           "ラストツアー〜約束の場所へ〜（ウラジオストックrecording)"
          ],
          [
           "Ken Hirai",
           "楽園"
          ],
          [
           "BUMP OF CHICKEN",
           "ダイヤモンド"
          ],
          [
           "Radiohead",
           "The National Anthem"
          ],
          [
           "Coldplay",
           "Yellow"
          ],
          [
           "Tahiti 80",
           "Heartbeat"
          ],
          [
           "Madonna",
           "Music"
          ],
          [
           "Britney Spears",
           "Oops!...I Did It Again"
          ],
          [
           "Toni Braxton",
           "He Wasn't Man Enough"
          ],
          [
           "Backstreet Boys",
           "Shape of My Heart"
          ],
          [
           "Fiona Apple",
           "Fast As You Can - Radio Edit"
          ],
          [
           "Hikaru Utada",
           "For You"
          ],
          [
           "aiko",
           "Boyfriend"
          ],
          [
           "Cocco",
           "けもの道"
          ],
          [
           "LOVE PSYCHEDELICO",
           "Last Smile"
          ],
          [
           "Quruli",
           "ワンダーフォーゲル"
          ],
          [
           "Kazuyoshi Saito",
           "アゲハ"
          ],
          [
           "U2",
           "Beautiful Day"
          ],
          [
           "Linkin Park",
           "In the End"
          ],
          [
           "Limp Bizkit",
           "Take A Look Around"
          ],
          [
           "Bon Jovi",
           "It's My Life"
          ],
          [
           "Hi-STANDARD",
           "MY FIRST KISS"
          ],
          [
           "Mondo Grosso",
           "LIFE"
          ],
          [
           "m-flo",
           "How You Like Me Now?"
          ],
          [
           "D'Angelo",
           "Spanish Joint"
          ],
          [
           "Eminem",
           "The Real Slim Shady"
          ],
          [
           "Cypress Hill",
           "(Rock) Superstar (feat. Chino Moreno & Everlast)"
          ],
          [
           "Brian McKnight",
           "Back At One"
          ],
          [
           "KIRINJI",
           "エイリアンズ - 2018 Remaster"
          ],
          [
           "DREAMS COME TRUE",
           "SNOW DANCE"
          ],
          [
           "Sheena Ringo",
           "罪と罰"
          ],
          [
           "PornoGraffitti",
           "ミュージック・アワー"
          ],
          [
           "Masaharu Fukuyama",
           "HEAVEN (Original Version)"
          ],
          [
           "サザンオールスターズ",
           "HOTEL PACIFIC"
          ],
          [
           "YUZU",
           "Ah Seishun No Hibi"
          ],
          [
           "Westlife",
           "My Love"
          ],
          [
           "*NSYNC",
           "It's Gonna Be Me"
          ],
          [
           "Kylie Minogue",
           "Spinning Around"
          ],
          [
           "GLAY",
           "MERMAID"
          ],
          [
           "The Gospellers",
           "永遠に"
          ],
          [
           "Chihiro Onitsuka",
           "月光"
          ],
          [
           "中島みゆき",
           "ヘッドライト・テールライト"
          ],
          [
           "Kazumasa Oda",
           "woh woh"
          ],
          [
           "Takako Matsu",
           "桜の雨、いつか"
          ],
          [
           "hana*hana",
           "さよなら大好きな人 - 2020 Remaster"
          ],
          [
           "Aaliyah",
           "Try Again"
          ],
          [
           "Christina Aguilera",
           "What a Girl Wants"
          ],
          [
           "Sisqo",
           "Thong Song"
          ],
          [
           "hitomi",
           "LOVE 2000"
          ],
          [
           "Mr.Children",
           "NOT FOUND"
          ],
          [
           "SPITZ",
           "ホタル"
          ],
          [
           "SUPER BUTTER DOG",
           "コミュニケーション・ブレイクダンス"
          ],
          [
           "Dragon Ash",
           "Deep Impact feat. Rappagariya"
          ],
          [
           "RHYMESTER",
           "ブラザーズ DJ WATARAI Remix"
          ],
          [
           "Matchbox Twenty",
           "Bent"
          ],
          [
           "Creed",
           "Higher"
          ],
          [
           "MONGOL800",
           "DON'T WORRY BE HAPPY"
          ],
          [
           "Kazuyoshi Nakamura",
           "君ノ声"
          ],
          [
           "WINO",
           "太陽は夜も輝く"
          ],
          [
           "Sunny Day Service",
           "Yoru no Melody"
          ],
          [
           "大泉逸郎",
           "孫"
          ]
         ],
         "hovertemplate": "<b>%{hovertext}</b><br><br>年代=2000<br>第一主成分=%{x}<br>第二主成分=%{y}<br>アーティスト名=%{customdata[0]}<br>トラック名=%{customdata[1]}<extra></extra>",
         "hovertext": [
          "2000",
          "2000",
          "2000",
          "2000",
          "2000",
          "2000",
          "2000",
          "2000",
          "2000",
          "2000",
          "2000",
          "2000",
          "2000",
          "2000",
          "2000",
          "2000",
          "2000",
          "2000",
          "2000",
          "2000",
          "2000",
          "2000",
          "2000",
          "2000",
          "2000",
          "2000",
          "2000",
          "2000",
          "2000",
          "2000",
          "2000",
          "2000",
          "2000",
          "2000",
          "2000",
          "2000",
          "2000",
          "2000",
          "2000",
          "2000",
          "2000",
          "2000",
          "2000",
          "2000",
          "2000",
          "2000",
          "2000",
          "2000",
          "2000",
          "2000",
          "2000",
          "2000",
          "2000",
          "2000",
          "2000",
          "2000",
          "2000",
          "2000",
          "2000",
          "2000",
          "2000",
          "2000",
          "2000",
          "2000",
          "2000",
          "2000",
          "2000",
          "2000",
          "2000",
          "2000",
          "2000",
          "2000",
          "2000",
          "2000",
          "2000",
          "2000",
          "2000",
          "2000",
          "2000",
          "2000",
          "2000",
          "2000",
          "2000",
          "2000",
          "2000",
          "2000",
          "2000",
          "2000",
          "2000",
          "2000",
          "2000",
          "2000",
          "2000",
          "2000",
          "2000",
          "2000",
          "2000",
          "2000"
         ],
         "legendgroup": "2000",
         "marker": {
          "color": "#00cc96",
          "symbol": "circle"
         },
         "mode": "markers",
         "name": "2000",
         "orientation": "v",
         "showlegend": true,
         "type": "scatter",
         "x": [
          -27.704620361328125,
          -42.844635009765625,
          -15.890196800231934,
          11.971757888793945,
          42.2986946105957,
          -32.41817092895508,
          26.782550811767578,
          -10.206690788269043,
          54.675777435302734,
          -31.21733856201172,
          18.143362045288086,
          46.567867279052734,
          50.37232971191406,
          6.871944904327393,
          25.132061004638672,
          24.443416595458984,
          -38.550907135009766,
          40.22499465942383,
          39.022247314453125,
          17.168222427368164,
          -35.213279724121094,
          -10.361185073852539,
          -14.799785614013672,
          19.663097381591797,
          -3.003542423248291,
          16.983184814453125,
          -50.84808349609375,
          36.446903228759766,
          26.804964065551758,
          -49.380523681640625,
          8.738445281982422,
          51.90740966796875,
          -31.582672119140625,
          51.963951110839844,
          29.10420799255371,
          16.530630111694336,
          -8.494705200195312,
          36.80423355102539,
          26.319499969482422,
          16.281831741333008,
          -39.523399353027344,
          52.819637298583984,
          -16.836275100708008,
          -1.1658873558044434,
          -37.54770278930664,
          -44.969032287597656,
          -35.97725296020508,
          25.661170959472656,
          -25.406517028808594,
          -2.441032886505127,
          41.44266891479492,
          -44.076847076416016,
          23.92200469970703,
          -20.035436630249023,
          24.59814453125,
          -24.01825714111328,
          -27.966184616088867,
          -2.8696110248565674,
          32.21232223510742,
          8.61376953125,
          -26.906078338623047,
          -13.25444221496582,
          -24.054805755615234,
          -38.095340728759766,
          15.28457260131836,
          50.72873306274414,
          57.38584899902344,
          -54.714717864990234,
          24.015335083007812,
          -28.25748634338379,
          40.67402648925781,
          7.261378288269043,
          31.38010025024414,
          47.30366516113281,
          -2.080737590789795,
          50.89973068237305,
          30.04339599609375,
          -55.199214935302734,
          26.47736930847168,
          -54.3533935546875,
          -52.318111419677734,
          38.102874755859375,
          -40.076416015625,
          29.612834930419922,
          1.0191941261291504,
          50.2266845703125,
          1.7577310800552368,
          26.341569900512695,
          23.362133026123047,
          -25.074790954589844,
          -43.1626091003418,
          -36.86644744873047,
          41.07065963745117,
          58.38959503173828,
          -44.89249801635742,
          46.66746520996094,
          -2.046818971633911,
          17.69908905029297
         ],
         "xaxis": "x",
         "y": [
          0.7856695652008057,
          3.6911747455596924,
          -0.14728930592536926,
          -7.1393585205078125,
          2.447829484939575,
          6.92491340637207,
          -3.3313100337982178,
          -2.263437032699585,
          4.219722747802734,
          5.993322372436523,
          -3.986732244491577,
          3.8439793586730957,
          4.042172431945801,
          -2.63029408454895,
          0.6607795357704163,
          -2.27384614944458,
          3.6755685806274414,
          1.872803807258606,
          3.514539957046509,
          -3.9028220176696777,
          4.980074882507324,
          -0.24176988005638123,
          0.26041901111602783,
          -5.807884693145752,
          -5.913065433502197,
          -3.4119887351989746,
          1.0367655754089355,
          1.560261607170105,
          -3.905264139175415,
          -0.6300099492073059,
          -5.035516262054443,
          3.8786303997039795,
          6.443253040313721,
          3.838890314102173,
          -0.9701077938079834,
          -6.862016677856445,
          -1.0064142942428589,
          2.580669403076172,
          -1.3343911170959473,
          -6.507607460021973,
          1.5984277725219727,
          2.932286262512207,
          3.6809799671173096,
          -0.9629904627799988,
          4.943100929260254,
          4.453990459442139,
          5.860946178436279,
          0.9800329208374023,
          5.962805271148682,
          -4.223952770233154,
          2.9679393768310547,
          2.96331524848938,
          -4.830977439880371,
          3.73150372505188,
          -1.792931079864502,
          2.9986023902893066,
          4.565110206604004,
          -6.82327127456665,
          -0.8061708807945251,
          -1.0139766931533813,
          5.924104690551758,
          3.724820375442505,
          4.873610973358154,
          3.30062198638916,
          -1.1669988632202148,
          2.80269193649292,
          3.2789649963378906,
          0.8458185791969299,
          -5.896302700042725,
          4.7140960693359375,
          2.4261081218719482,
          -5.633667945861816,
          0.5666419267654419,
          3.83364200592041,
          -3.887221336364746,
          4.783133506774902,
          -0.6498590707778931,
          -2.3212625980377197,
          1.5350514650344849,
          -3.350071668624878,
          -1.8033630847930908,
          2.1892752647399902,
          4.383991241455078,
          0.471497505903244,
          -3.209719181060791,
          5.132021427154541,
          -4.200503349304199,
          -2.1225979328155518,
          -5.157486438751221,
          3.853874683380127,
          2.7013168334960938,
          3.7742903232574463,
          3.548456907272339,
          4.033558368682861,
          3.897785186767578,
          3.5499086380004883,
          -3.924682855606079,
          -3.4526662826538086
         ],
         "yaxis": "y"
        },
        {
         "customdata": [
          [
           "Def Tech",
           "My Way"
          ],
          [
           "Ketsumeishi",
           "sakura"
          ],
          [
           "ORANGE RANGE",
           "花"
          ],
          [
           "DREAMS COME TRUE",
           "何度でも"
          ],
          [
           "aiko",
           "Kira Kira"
          ],
          [
           "SPITZ",
           "春の歌"
          ],
          [
           "Daniel Powter",
           "Bad Day"
          ],
          [
           "O-Zone",
           "Dragostea Din Tei - Original Romanian Version"
          ],
          [
           "Mariah Carey",
           "We Belong Together"
          ],
          [
           "Madonna",
           "Hung Up"
          ],
          [
           "Gwen Stefani",
           "Hollaback Girl"
          ],
          [
           "Mario",
           "Let Me Love You"
          ],
          [
           "ORANGE RANGE",
           "＊〜アスタリスク〜"
          ],
          [
           "GLAY",
           "SCREAM"
          ],
          [
           "ELLEGARDEN",
           "Space Sonic"
          ],
          [
           "GING NANG BOYZ",
           "BABY BABY"
          ],
          [
           "B'z",
           "OCEAN"
          ],
          [
           "U2",
           "Vertigo"
          ],
          [
           "Green Day",
           "American Idiot"
          ],
          [
           "Coldplay",
           "Speed of Sound"
          ],
          [
           "Maroon 5",
           "Sunday Morning"
          ],
          [
           "Mr.Children",
           "and I love you"
          ],
          [
           "Ken Hirai",
           "POP STAR"
          ],
          [
           "BENNIE K",
           "Dreamland"
          ],
          [
           "Ai Otsuka",
           "SMILY"
          ],
          [
           "サザンオールスターズ",
           "雨上がりにもう一度キスをして"
          ],
          [
           "Remioromen",
           "南風"
          ],
          [
           "Sukima Switch",
           "全力少年"
          ],
          [
           "SINGER SONGER",
           "初花凜々（しょかりんりん）"
          ],
          [
           "BUMP OF CHICKEN",
           "車輪の唄 (Single Edit)"
          ],
          [
           "YUKI",
           "JOY"
          ],
          [
           "Ayumi Hamasaki",
           "STEP you"
          ],
          [
           "Black Eyed Peas",
           "Don't Phunk With My Heart"
          ],
          [
           "50 Cent",
           "Candy Shop"
          ],
          [
           "The Pussycat Dolls",
           "Don't Cha"
          ],
          [
           "Craig David",
           "All the Way"
          ],
          [
           "ORANGE RANGE",
           "お願い！セニョリータ"
          ],
          [
           "Group Tamashii",
           "君にジュースを買ってあげる＿＿"
          ],
          [
           "Ken Matsudaira",
           "マツケンサンバⅡ"
          ],
          [
           "Yoku Hata",
           "ギター侍のうた - 有名人斬りバージョン"
          ],
          [
           "Destiny's Child",
           "Lose My Breath"
          ],
          [
           "Missy Elliott",
           "Lose Control (feat. Ciara & Fat Man Scoop)"
          ],
          [
           "Rihanna",
           "Pon de Replay"
          ],
          [
           "Nana",
           "GLAMOROUS SKY"
          ],
          [
           "L'Arc-en-Ciel",
           "Link"
          ],
          [
           "ARASHI",
           "WISH"
          ],
          [
           "D-51",
           "No More Cry"
          ],
          [
           "Sasuke",
           "青いベンチ"
          ],
          [
           "UNDER GRAPH",
           "ツバサ"
          ],
          [
           "KOBUKURO",
           "ここにしか咲かない花"
          ],
          [
           "Janne Da Arc",
           "月光花"
          ],
          [
           "Ayaka Hirahara",
           "明日"
          ],
          [
           "Kumi Koda",
           "Butterfly"
          ],
          [
           "Oasis",
           "Lyla"
          ],
          [
           "Franz Ferdinand",
           "Do You Want To"
          ],
          [
           "Green Day",
           "Boulevard of Broken Dreams"
          ],
          [
           "Weezer",
           "Beverly Hills"
          ],
          [
           "The Killers",
           "Mr. Brightside"
          ],
          [
           "Mr.Children",
           "未来"
          ],
          [
           "Quruli",
           "BIRTHDAY"
          ],
          [
           "BUMP OF CHICKEN",
           "プラネタリウム"
          ],
          [
           "サザンオールスターズ",
           "BOHBO No.5"
          ],
          [
           "Sambomaster",
           "世界はそれを愛と呼ぶんだぜ"
          ],
          [
           "Tokyo Incidents",
           "修羅場 - シングル"
          ],
          [
           "Ulfuls",
           "暴れだす - full version"
          ],
          [
           "New Order",
           "Krafty - Single Edit; 2015 Remaster"
          ],
          [
           "B'z",
           "愛のバクダン"
          ],
          [
           "YUI",
           "feel my soul"
          ],
          [
           "K",
           "over..."
          ],
          [
           "Kaela Kimura",
           "リルラ リルハ"
          ],
          [
           "Chris Brown",
           "Run It! (feat. Juelz Santana)"
          ],
          [
           "Kanye West",
           "Gold Digger"
          ],
          [
           "Kings of Leon",
           "The Bucket"
          ],
          [
           "John Legend",
           "Used to Love U"
          ],
          [
           "James Blunt",
           "You're Beautiful"
          ],
          [
           "Crystal Kay",
           "恋におちたら"
          ],
          [
           "Yo Hitoto",
           "ハナミズキ"
          ],
          [
           "Ai Otsuka",
           "プラネタリウム"
          ],
          [
           "Gorillaz",
           "Feel Good Inc."
          ],
          [
           "JAY-Z",
           "Numb / Encore"
          ],
          [
           "Eminem",
           "Just Lose It"
          ],
          [
           "Snoop Dogg",
           "Drop It Like It's Hot"
          ],
          [
           "KREVA",
           "イッサイガッサイ"
          ],
          [
           "AI",
           "Story"
          ],
          [
           "BoA",
           "メリクリ"
          ],
          [
           "Every Little Thing",
           "恋文"
          ],
          [
           "Masaharu Fukuyama",
           "泣いたりしないで"
          ],
          [
           "KOBUKURO",
           "桜"
          ],
          [
           "YUZU",
           "Choutokkyuu"
          ],
          [
           "REIRA starring Yuna Ito",
           "ENDLESS STORY"
          ],
          [
           "Hikaru Utada",
           "Be My Last"
          ],
          [
           "Tristan Prettyman",
           "Love Love Love"
          ],
          [
           "Kelly Clarkson",
           "Since U Been Gone"
          ],
          [
           "Lifehouse",
           "You And Me"
          ],
          [
           "ASIAN KUNG-FU GENERATION",
           "ブルートレイン"
          ],
          [
           "YUI",
           "Tomorrow's way"
          ],
          [
           "UVERworld",
           "D-tecnoLife"
          ],
          [
           "Hitomi Takahashi",
           "僕たちの行方"
          ]
         ],
         "hovertemplate": "<b>%{hovertext}</b><br><br>年代=2005<br>第一主成分=%{x}<br>第二主成分=%{y}<br>アーティスト名=%{customdata[0]}<br>トラック名=%{customdata[1]}<extra></extra>",
         "hovertext": [
          "2005",
          "2005",
          "2005",
          "2005",
          "2005",
          "2005",
          "2005",
          "2005",
          "2005",
          "2005",
          "2005",
          "2005",
          "2005",
          "2005",
          "2005",
          "2005",
          "2005",
          "2005",
          "2005",
          "2005",
          "2005",
          "2005",
          "2005",
          "2005",
          "2005",
          "2005",
          "2005",
          "2005",
          "2005",
          "2005",
          "2005",
          "2005",
          "2005",
          "2005",
          "2005",
          "2005",
          "2005",
          "2005",
          "2005",
          "2005",
          "2005",
          "2005",
          "2005",
          "2005",
          "2005",
          "2005",
          "2005",
          "2005",
          "2005",
          "2005",
          "2005",
          "2005",
          "2005",
          "2005",
          "2005",
          "2005",
          "2005",
          "2005",
          "2005",
          "2005",
          "2005",
          "2005",
          "2005",
          "2005",
          "2005",
          "2005",
          "2005",
          "2005",
          "2005",
          "2005",
          "2005",
          "2005",
          "2005",
          "2005",
          "2005",
          "2005",
          "2005",
          "2005",
          "2005",
          "2005",
          "2005",
          "2005",
          "2005",
          "2005",
          "2005",
          "2005",
          "2005",
          "2005",
          "2005",
          "2005",
          "2005",
          "2005",
          "2005",
          "2005",
          "2005",
          "2005",
          "2005",
          "2005"
         ],
         "legendgroup": "2005",
         "marker": {
          "color": "#ab63fa",
          "symbol": "circle"
         },
         "mode": "markers",
         "name": "2005",
         "orientation": "v",
         "showlegend": true,
         "type": "scatter",
         "x": [
          -30.76522445678711,
          -2.563072919845581,
          56.449195861816406,
          -31.382139205932617,
          -25.042123794555664,
          -10.01382064819336,
          28.56369972229004,
          16.847816467285156,
          27.3859920501709,
          7.809599876403809,
          -17.648897171020508,
          -37.7884635925293,
          13.702929496765137,
          -19.28183937072754,
          -23.78266143798828,
          28.514162063598633,
          -53.17538833618164,
          28.787036895751953,
          57.10251235961914,
          4.873276710510254,
          -44.688575744628906,
          -27.404752731323242,
          28.834369659423828,
          28.605749130249023,
          39.49896240234375,
          -24.25779151916504,
          13.449655532836914,
          22.224809646606445,
          -8.767772674560547,
          -17.741397857666016,
          -1.2386771440505981,
          -25.506528854370117,
          18.452571868896484,
          8.261861801147461,
          -3.418410301208496,
          -26.0483455657959,
          44.289363861083984,
          52.17043685913086,
          12.501340866088867,
          31.279953002929688,
          -3.4978771209716797,
          8.18231201171875,
          -31.527965545654297,
          38.027992248535156,
          38.57939147949219,
          19.843280792236328,
          25.531417846679688,
          -22.8393497467041,
          -23.761911392211914,
          -54.10538101196289,
          -27.778303146362305,
          -1.2831506729125977,
          26.115942001342773,
          -2.0708060264587402,
          5.612603664398193,
          48.72883605957031,
          -45.099876403808594,
          35.78705596923828,
          -16.469524383544922,
          -37.63617706298828,
          -9.466329574584961,
          48.02116775512695,
          29.761381149291992,
          -2.5718469619750977,
          22.21782875061035,
          28.055740356445312,
          51.230262756347656,
          56.56069564819336,
          45.21499252319336,
          26.399736404418945,
          -29.65645408630371,
          -39.74799346923828,
          28.173471450805664,
          -45.13839340209961,
          -51.0645866394043,
          -27.449382781982422,
          28.98456382751465,
          58.7072639465332,
          26.744747161865234,
          -20.70745849609375,
          -1.4302829504013062,
          -41.54216384887695,
          -3.2770984172821045,
          8.85191535949707,
          0.8988939523696899,
          -54.81602096557617,
          30.90501594543457,
          -50.863975524902344,
          58.78068923950195,
          -2.4195570945739746,
          50.8094596862793,
          -40.513824462890625,
          17.09134292602539,
          27.37467384338379,
          43.296512603759766,
          43.780418395996094,
          49.34453582763672,
          -26.291610717773438
         ],
         "xaxis": "x",
         "y": [
          3.345611095428467,
          -6.714221000671387,
          3.9909474849700928,
          5.5524001121521,
          3.960859775543213,
          -1.8216348886489868,
          -2.1102182865142822,
          -6.573601245880127,
          0.5578484535217285,
          -2.5504982471466064,
          0.6372113823890686,
          2.3490350246429443,
          -6.8973259925842285,
          2.577667713165283,
          6.509499549865723,
          -3.9629852771759033,
          0.3729335367679596,
          -2.1067869663238525,
          4.379174709320068,
          -3.8414602279663086,
          2.4559452533721924,
          3.039445161819458,
          -2.939962387084961,
          -3.4324655532836914,
          1.8237789869308472,
          4.041033744812012,
          -5.490357875823975,
          -4.650085926055908,
          -1.9272420406341553,
          2.564997673034668,
          -7.569981098175049,
          6.138693332672119,
          -6.988763332366943,
          -2.05246639251709,
          -7.910695552825928,
          5.259641170501709,
          2.8317487239837646,
          4.797855854034424,
          -6.580730438232422,
          1.1481016874313354,
          -3.256638765335083,
          -3.1650876998901367,
          2.1096270084381104,
          0.9847880601882935,
          2.5463850498199463,
          -5.53913688659668,
          -3.125530958175659,
          2.773033618927002,
          3.684342622756958,
          -1.336472749710083,
          4.986588001251221,
          -0.0028635687194764614,
          -0.49735113978385925,
          -9.183467864990234,
          -7.661201000213623,
          3.6796746253967285,
          3.6204895973205566,
          1.5162235498428345,
          2.769120454788208,
          1.1114064455032349,
          -1.0668842792510986,
          4.041501998901367,
          -2.169725179672241,
          -5.68572998046875,
          -4.619853973388672,
          -0.6543809175491333,
          4.460142135620117,
          4.072683334350586,
          4.12545108795166,
          -4.047235012054443,
          3.6167407035827637,
          3.9261505603790283,
          -0.6210393905639648,
          2.9115283489227295,
          -1.4971554279327393,
          5.353102684020996,
          0.09056326746940613,
          3.497102737426758,
          -0.6198856830596924,
          3.5477523803710938,
          -8.012018203735352,
          4.511064529418945,
          -5.043539524078369,
          -5.537994384765625,
          -3.5632715225219727,
          -1.8765496015548706,
          1.6928461790084839,
          -0.011011115275323391,
          3.9593682289123535,
          -3.3830344676971436,
          3.870421886444092,
          4.86881160736084,
          -4.346386432647705,
          0.49250781536102295,
          3.75756573677063,
          2.889397144317627,
          4.112030506134033,
          6.436703205108643
         ],
         "yaxis": "y"
        },
        {
         "customdata": [
          [
           "KAN",
           "Yokereba Issyoni"
          ],
          [
           "Ikimonogakari",
           "ありがとう"
          ],
          [
           "AKB48",
           "Beginner"
          ],
          [
           "ARASHI",
           "Monster"
          ],
          [
           "Hikaru Utada",
           "Goodbye Happiness"
          ],
          [
           "Tokyo Incidents",
           "能動的三分間"
          ],
          [
           "Katy Perry",
           "California Gurls"
          ],
          [
           "Lady Gaga",
           "Bad Romance"
          ],
          [
           "P!nk",
           "Raise Your Glass"
          ],
          [
           "Shota Shimizu",
           "FOREVER LOVE"
          ],
          [
           "Kana Nishino",
           "君って"
          ],
          [
           "andymori",
           "1984"
          ],
          [
           "ONE OK ROCK",
           "Wherever you are"
          ],
          [
           "RADWIMPS",
           "Manifesto"
          ],
          [
           "Eminem",
           "Love The Way You Lie"
          ],
          [
           "Bruno Mars",
           "Just the Way You Are"
          ],
          [
           "Kesha",
           "TiK ToK"
          ],
          [
           "Keisuke Kuwata",
           "本当は怖い愛とロマンス"
          ],
          [
           "Masaharu Fukuyama",
           "はつ恋"
          ],
          [
           "AKB48",
           "ヘビーローテーション"
          ],
          [
           "Kana Nishino",
           "会いたくて 会いたくて"
          ],
          [
           "Superfly",
           "タマシイレボリューション"
          ],
          [
           "K'NAAN",
           "Wavin' Flag - Celebration Mix"
          ],
          [
           "Taylor Swift",
           "Mine"
          ],
          [
           "ARASHI",
           "果てない空"
          ],
          [
           "BUMP OF CHICKEN",
           "宇宙飛行士への手紙"
          ],
          [
           "YUI",
           "GLORIA"
          ],
          [
           "Perfume",
           "VOICE"
          ],
          [
           "Maroon 5",
           "Misery"
          ],
          [
           "Taio Cruz",
           "Dynamite"
          ],
          [
           "INFINITY16",
           "伝えたい事がこんなあるのに"
          ],
          [
           "Yusuke",
           "ライオン"
          ],
          [
           "SEKAI NO OWARI",
           "虹色の戦争"
          ],
          [
           "Toshinobu Kubota",
           "LOVE RAIN ～恋の雨～"
          ],
          [
           "RIP SLYME",
           "Good Times"
          ],
          [
           "Michael Jackson",
           "This Is It"
          ],
          [
           "Mark Ronson",
           "Bang Bang Bang (feat. MNDR)"
          ],
          [
           "KT Tunstall",
           "Fade Like A Shadow"
          ],
          [
           "Fujifabric",
           "夜明けのBEAT"
          ],
          [
           "sakanaction",
           "アルクアラウンド"
          ],
          [
           "ASIAN KUNG-FU GENERATION",
           "ソラニン"
          ],
          [
           "ONE OK ROCK",
           "Kanzen kankaku Dreamer"
          ],
          [
           "L'Arc-en-Ciel",
           "BLESS"
          ],
          [
           "Kylie Minogue",
           "All the Lovers"
          ],
          [
           "Jamiroquai",
           "White Knuckle Ride"
          ],
          [
           "USHER",
           "DJ Got Us Fallin' In Love (feat. Pitbull)"
          ],
          [
           "KOBUKURO",
           "流星"
          ],
          [
           "Kazuyoshi Saito",
           "ずっと好きだった"
          ],
          [
           "Justin Bieber",
           "Baby"
          ],
          [
           "Alicia Keys",
           "Try Sleeping with a Broken Heart"
          ],
          [
           "Black Eyed Peas",
           "Imma Be"
          ],
          [
           "J SOUL BROTHERS III",
           "Best Friend's Girl"
          ],
          [
           "KARA",
           "ミスター"
          ],
          [
           "Girls' Generation",
           "Gee"
          ],
          [
           "Rihanna",
           "Only Girl (In The World)"
          ],
          [
           "B.o.B",
           "Nothin' on You (feat. Bruno Mars)"
          ],
          [
           "David Guetta",
           "Memories (feat. Kid Cudi)"
          ],
          [
           "FUNKY MONKEY BABYS",
           "あとひとつ"
          ],
          [
           "Superfly",
           "Wildflower"
          ],
          [
           "Creep Hyp",
           "He Is Mine"
          ],
          [
           "Jack Johnson",
           "You And Your Heart"
          ],
          [
           "Gorillaz",
           "Stylo (feat. Mos Def and Bobby Womack)"
          ],
          [
           "The Chemical Brothers",
           "Swoon - Radio Edit"
          ],
          [
           "SPITZ",
           "つぐみ"
          ],
          [
           "Ketsumeishi",
           "ofutariSummer"
          ],
          [
           "JUJU",
           "この夜を止めてよ"
          ],
          [
           "Kanye West",
           "POWER"
          ],
          [
           "Drake",
           "Over"
          ],
          [
           "Dr. Dre",
           "Kush - Main"
          ],
          [
           "Yui Aragaki",
           "小さな恋のうた"
          ],
          [
           "Motohiro Hata",
           "アイ"
          ],
          [
           "Gen Hoshino",
           "Kuse no Uta"
          ],
          [
           "Lady Gaga",
           "Telephone"
          ],
          [
           "Kesha",
           "Blah Blah Blah (feat. 3OH!3)"
          ],
          [
           "Katy Perry",
           "Teenage Dream"
          ],
          [
           "Kana Uemura",
           "トイレの神様"
          ],
          [
           "Monkey Majik",
           "SAKURA"
          ],
          [
           "EXILE",
           "I Wish For You"
          ],
          [
           "Lady A",
           "Need You Now"
          ],
          [
           "Nelly",
           "Just A Dream"
          ],
          [
           "Mr.Children",
           "365日"
          ],
          [
           "Tokyo Incidents",
           "勝ち戦"
          ],
          [
           "RADWIMPS",
           "Keitaidenwa - Cat Version"
          ],
          [
           "Train",
           "Hey, Soul Sister"
          ],
          [
           "USHER",
           "OMG (feat. will.i.am) - Disco Fries Extended Mix"
          ],
          [
           "Taio Cruz",
           "Break Your Heart"
          ],
          [
           "Meisa Kuroki",
           "LOL!"
          ],
          [
           "Momoiro Clover Z",
           "行くぜっ!怪盗少女"
          ],
          [
           "KREVA",
           "かも"
          ],
          [
           "Kumi Koda",
           "好きで、好きで、好きで。"
          ],
          [
           "Kaela Kimura",
           "Ring a Ding Dong"
          ],
          [
           "Jason Derulo",
           "In My Head"
          ],
          [
           "Mike Posner",
           "Cooler Than Me - Single Mix"
          ],
          [
           "Mao Abe",
           "いつの日も"
          ],
          [
           "lecca",
           "TSUBOMI"
          ],
          [
           "DOES",
           "バクチ・ダンサー"
          ],
          [
           "物語シリーズ",
           "恋愛サーキュレーション"
          ],
          [
           "GOLDEN BOMBER",
           "女々しくて"
          ],
          [
           "Fuyumi Sakamoto",
           "また君に恋してる"
          ]
         ],
         "hovertemplate": "<b>%{hovertext}</b><br><br>年代=2010<br>第一主成分=%{x}<br>第二主成分=%{y}<br>アーティスト名=%{customdata[0]}<br>トラック名=%{customdata[1]}<extra></extra>",
         "hovertext": [
          "2010",
          "2010",
          "2010",
          "2010",
          "2010",
          "2010",
          "2010",
          "2010",
          "2010",
          "2010",
          "2010",
          "2010",
          "2010",
          "2010",
          "2010",
          "2010",
          "2010",
          "2010",
          "2010",
          "2010",
          "2010",
          "2010",
          "2010",
          "2010",
          "2010",
          "2010",
          "2010",
          "2010",
          "2010",
          "2010",
          "2010",
          "2010",
          "2010",
          "2010",
          "2010",
          "2010",
          "2010",
          "2010",
          "2010",
          "2010",
          "2010",
          "2010",
          "2010",
          "2010",
          "2010",
          "2010",
          "2010",
          "2010",
          "2010",
          "2010",
          "2010",
          "2010",
          "2010",
          "2010",
          "2010",
          "2010",
          "2010",
          "2010",
          "2010",
          "2010",
          "2010",
          "2010",
          "2010",
          "2010",
          "2010",
          "2010",
          "2010",
          "2010",
          "2010",
          "2010",
          "2010",
          "2010",
          "2010",
          "2010",
          "2010",
          "2010",
          "2010",
          "2010",
          "2010",
          "2010",
          "2010",
          "2010",
          "2010",
          "2010",
          "2010",
          "2010",
          "2010",
          "2010",
          "2010",
          "2010",
          "2010",
          "2010",
          "2010",
          "2010",
          "2010",
          "2010",
          "2010",
          "2010",
          "2010"
         ],
         "legendgroup": "2010",
         "marker": {
          "color": "#FFA15A",
          "symbol": "circle"
         },
         "mode": "markers",
         "name": "2010",
         "orientation": "v",
         "showlegend": true,
         "type": "scatter",
         "x": [
          -8.811222076416016,
          -54.444305419921875,
          44.184818267822266,
          23.394296646118164,
          -2.3153834342956543,
          -2.593285083770752,
          8.035805702209473,
          -4.274691581726074,
          2.0060243606567383,
          -1.1802318096160889,
          31.55307388305664,
          -9.443004608154297,
          52.77199172973633,
          -35.689598083496094,
          -45.75654983520508,
          -17.585914611816406,
          -2.913515090942383,
          -17.223594665527344,
          -55.11836624145508,
          54.745296478271484,
          -17.02069854736328,
          19.556413650512695,
          38.77981185913086,
          -1.641758918762207,
          -23.199800491333008,
          7.842044830322266,
          -11.021463394165039,
          19.92368507385254,
          -26.256332397460938,
          -2.9280049800872803,
          -53.43471908569336,
          -42.344818115234375,
          50.704280853271484,
          -16.8819580078125,
          14.890281677246094,
          -35.308387756347656,
          -41.43277359008789,
          28.668922424316406,
          37.43965148925781,
          19.88800621032715,
          55.07048034667969,
          -37.35139846801758,
          -42.51820373535156,
          -1.8375787734985352,
          8.33498764038086,
          -3.1949360370635986,
          39.801692962646484,
          13.393607139587402,
          -56.34441375732422,
          -15.846172332763672,
          -40.04312515258789,
          -39.24734115600586,
          10.226951599121094,
          -31.979217529296875,
          9.081235885620117,
          -25.18527603149414,
          15.982468605041504,
          -54.18299102783203,
          15.392881393432617,
          43.00579071044922,
          -19.5800838470459,
          -30.70992660522461,
          6.322842597961426,
          -33.61335754394531,
          -2.560868501663208,
          -52.52264404296875,
          40.04693603515625,
          -31.54935073852539,
          -37.528831481933594,
          -41.31513214111328,
          -50.273677825927734,
          -56.17424011230469,
          2.2609198093414307,
          -2.859384059906006,
          -2.544398307800293,
          -14.254687309265137,
          52.84131622314453,
          -4.273628234863281,
          -18.85102653503418,
          -43.17938232421875,
          23.999555587768555,
          -23.643230438232422,
          -23.806711196899414,
          -34.877201080322266,
          16.332914352416992,
          1.8434052467346191,
          21.00918960571289,
          43.95598220825195,
          44.08590316772461,
          38.507232666015625,
          53.36671829223633,
          -17.107059478759766,
          15.983659744262695,
          33.303714752197266,
          -44.80647659301758,
          -12.28269100189209,
          -2.5723462104797363,
          31.373592376708984,
          -38.842742919921875
         ],
         "xaxis": "x",
         "y": [
          -1.7313616275787354,
          0.3188057839870453,
          3.752704620361328,
          -4.138477325439453,
          -4.618597984313965,
          -7.559831619262695,
          -6.946832180023193,
          -6.9539313316345215,
          -5.396605014801025,
          -7.078257083892822,
          -0.5640510320663452,
          -0.7503674030303955,
          3.917660713195801,
          6.906234264373779,
          2.670646905899048,
          2.9994139671325684,
          -8.864378929138184,
          1.471616268157959,
          -1.2288130521774292,
          4.570181846618652,
          2.026092290878296,
          -6.849071979522705,
          1.8847955465316772,
          -8.688672065734863,
          5.205623149871826,
          -6.253151893615723,
          -1.9956680536270142,
          -7.099895477294922,
          4.873326301574707,
          -7.391422748565674,
          1.0182024240493774,
          3.7736685276031494,
          3.41812801361084,
          1.8100800514221191,
          -6.246549606323242,
          4.851603031158447,
          5.140681743621826,
          -2.1305956840515137,
          1.7205348014831543,
          -6.3266215324401855,
          3.8517887592315674,
          6.234278202056885,
          4.2911248207092285,
          -3.1133131980895996,
          -4.245647430419922,
          -8.059671401977539,
          3.05622935295105,
          -7.3393473625183105,
          -3.00956130027771,
          1.7642168998718262,
          2.5502889156341553,
          5.146533966064453,
          -7.530599594116211,
          7.821784496307373,
          -6.5193986892700195,
          3.483882188796997,
          -4.062366008758545,
          -0.0950312465429306,
          -7.519421100616455,
          2.5984914302825928,
          4.032988548278809,
          4.811172008514404,
          -5.871694564819336,
          5.759963035583496,
          -7.886162757873535,
          0.6635344624519348,
          2.8188929557800293,
          4.830310821533203,
          4.071913242340088,
          3.539614677429199,
          -0.7973770499229431,
          -3.148123264312744,
          -4.591898441314697,
          -8.379999160766602,
          -5.904754638671875,
          5.525775909423828,
          4.497487545013428,
          -5.587875843048096,
          3.4399824142456055,
          2.3696858882904053,
          -2.0030548572540283,
          3.569242477416992,
          3.688887119293213,
          5.818007469177246,
          -6.552820682525635,
          -5.71080207824707,
          -4.843360900878906,
          2.5264391899108887,
          3.2127623558044434,
          2.259847640991211,
          3.812584638595581,
          1.4519765377044678,
          -5.732701301574707,
          0.6005622148513794,
          3.3658809661865234,
          -0.6469501256942749,
          -3.913278818130493,
          -1.1118816137313843,
          1.9630025625228882
         ],
         "yaxis": "y"
        },
        {
         "customdata": [
          [
           "sakanaction",
           "新宝島"
          ],
          [
           "[Alexandros]",
           "ワタリドリ"
          ],
          [
           "Gesu No Kiwami Otome",
           "私以外私じゃないの"
          ],
          [
           "back number",
           "クリスマスソング"
          ],
          [
           "Kana Nishino",
           "トリセツ"
          ],
          [
           "Leo Ieiri",
           "君がくれた夏"
          ],
          [
           "Mark Ronson",
           "Uptown Funk (feat. Bruno Mars)"
          ],
          [
           "Ed Sheeran",
           "Thinking out Loud"
          ],
          [
           "Justin Bieber",
           "What Do You Mean?"
          ],
          [
           "Ariana Grande",
           "One Last Time"
          ],
          [
           "Carly Rae Jepsen",
           "I Really Like You"
          ],
          [
           "SEKAI NO OWARI",
           "Dragon Night"
          ],
          [
           "BUMP OF CHICKEN",
           "Hello,world!"
          ],
          [
           "UNISON SQUARE GARDEN",
           "シュガーソングとビターステップ"
          ],
          [
           "Gen Hoshino",
           "SUN"
          ],
          [
           "ARASHI",
           "Sakura"
          ],
          [
           "J SOUL BROTHERS III",
           "Summer Madness"
          ],
          [
           "Yu Takahashi",
           "明日はきっといい日になる"
          ],
          [
           "back number",
           "ヒロイン"
          ],
          [
           "Adele",
           "Hello"
          ],
          [
           "Wiz Khalifa",
           "See You Again (feat. Charlie Puth)"
          ],
          [
           "Justin Bieber",
           "Love Yourself"
          ],
          [
           "Coldplay",
           "Hymn for the Weekend"
          ],
          [
           "Zedd",
           "I Want You To Know"
          ],
          [
           "Kyary Pamyu Pamyu",
           "もんだいガール"
          ],
          [
           "Perfume",
           "STAR TRAIN"
          ],
          [
           "chay",
           "あなたに恋をしてみました"
          ],
          [
           "Che'Nelle",
           "Happiness"
          ],
          [
           "BTS",
           "For You"
          ],
          [
           "The Weeknd",
           "Earned It (Fifty Shades Of Grey) - From The \"Fifty Shades Of Grey\" Soundtrack"
          ],
          [
           "Shawn Mendes",
           "Stitches"
          ],
          [
           "Charlie Puth",
           "We Don't Talk Anymore (feat. Selena Gomez)"
          ],
          [
           "Mr.Children",
           "Starting Over"
          ],
          [
           "サザンオールスターズ",
           "栄光の男"
          ],
          [
           "Sheena Ringo",
           "長く短い祭"
          ],
          [
           "SEKAI NO OWARI",
           "ANTI-HERO"
          ],
          [
           "HIRAIDAI",
           "Slow & Easy"
          ],
          [
           "Lucky Kilimanjaro",
           "Burning Friday Night"
          ],
          [
           "Avicii",
           "Waiting For Love"
          ],
          [
           "Ellie Goulding",
           "Love Me Like You Do - From \"Fifty Shades Of Grey\""
          ],
          [
           "Rachel Platten",
           "Fight Song"
          ],
          [
           "ONE OK ROCK",
           "Cry Out"
          ],
          [
           "Suchmos",
           "Miree"
          ],
          [
           "SHISHAMO",
           "熱帯夜"
          ],
          [
           "KOBUKURO",
           "未来"
          ],
          [
           "AKB48",
           "僕たちは戦わない"
          ],
          [
           "B'z",
           "有頂天"
          ],
          [
           "Taylor Swift",
           "Blank Space"
          ],
          [
           "Little Mix",
           "Black Magic"
          ],
          [
           "One Direction",
           "Perfect"
          ],
          [
           "J SOUL BROTHERS III",
           "O.R.I.O.N."
          ],
          [
           "Superfly",
           "Beautiful"
          ],
          [
           "Crystal Kay",
           "REVOLUTION"
          ],
          [
           "Meghan Trainor",
           "Lips Are Movin"
          ],
          [
           "Justin Bieber",
           "Sorry"
          ],
          [
           "Avicii",
           "The Nights"
          ],
          [
           "Kumamushi",
           "あったかいんだからぁ♪"
          ],
          [
           "Taro Urashima",
           "海の声"
          ],
          [
           "Naoto Inti Raymi",
           "いつかきっと"
          ],
          [
           "Kenshi Yonezu",
           "Flowerwall"
          ],
          [
           "Major Lazer",
           "Lean On"
          ],
          [
           "Coldplay",
           "Adventure of a Lifetime"
          ],
          [
           "OMI",
           "Cheerleader - Felix Jaehn Remix Radio Edit"
          ],
          [
           "Kana Nishino",
           "もしも運命の人がいるのなら"
          ],
          [
           "Chatmonchy",
           "きみがその気なら"
          ],
          [
           "The Birthday",
           "I KNOW"
          ],
          [
           "Olly Alexander (Years & Years)",
           "King"
          ],
          [
           "Sam Smith",
           "Stay With Me"
          ],
          [
           "Chris Brown",
           "Ayo"
          ],
          [
           "Maroon 5",
           "Sugar"
          ],
          [
           "Flo Rida",
           "My House"
          ],
          [
           "Nogizaka46",
           "命は美しい"
          ],
          [
           "Masaharu Fukuyama",
           "I am a HERO"
          ],
          [
           "PornoGraffitti",
           "オー!リバル"
          ],
          [
           "Hozier",
           "Take Me to Church"
          ],
          [
           "Muse",
           "Mercy"
          ],
          [
           "Jonas Blue",
           "Fast Car"
          ],
          [
           "Troye Sivan",
           "YOUTH"
          ],
          [
           "YEN TOWN BAND",
           "アイノネ"
          ],
          [
           "Kenshi Yonezu",
           "メトロノーム"
          ],
          [
           "cero",
           "Summer Soul"
          ],
          [
           "Drake",
           "Right Hand"
          ],
          [
           "Fetty Wap",
           "My Way (feat. Monty)"
          ],
          [
           "Rihanna",
           "FourFiveSeconds"
          ],
          [
           "The Chemical Brothers",
           "Go"
          ],
          [
           "Gesu No Kiwami Otome",
           "ロマンスがありあまる"
          ],
          [
           "MAN WITH A MISSION",
           "Raise your flag"
          ],
          [
           "04 Limited Sazabys",
           "swim"
          ],
          [
           "Suchmos",
           "YMM"
          ],
          [
           "Ykiki Beat",
           "Forever"
          ],
          [
           "androp",
           "Yeah! Yeah! Yeah!"
          ],
          [
           "Pharrell Williams",
           "Freedom"
          ],
          [
           "Jason Derulo",
           "Want to Want Me"
          ],
          [
           "Tuxedo",
           "Do It"
          ],
          [
           "Disclosure",
           "Holding On - Radio Edit"
          ],
          [
           "AFROJACK",
           "SummerThing!"
          ],
          [
           "BIGBANG",
           "LOSER"
          ],
          [
           "Aimer",
           "Brave Shine"
          ],
          [
           "8.6秒バズーカー",
           "ラッスンゴレライ"
          ]
         ],
         "hovertemplate": "<b>%{hovertext}</b><br><br>年代=2015<br>第一主成分=%{x}<br>第二主成分=%{y}<br>アーティスト名=%{customdata[0]}<br>トラック名=%{customdata[1]}<extra></extra>",
         "hovertext": [
          "2015",
          "2015",
          "2015",
          "2015",
          "2015",
          "2015",
          "2015",
          "2015",
          "2015",
          "2015",
          "2015",
          "2015",
          "2015",
          "2015",
          "2015",
          "2015",
          "2015",
          "2015",
          "2015",
          "2015",
          "2015",
          "2015",
          "2015",
          "2015",
          "2015",
          "2015",
          "2015",
          "2015",
          "2015",
          "2015",
          "2015",
          "2015",
          "2015",
          "2015",
          "2015",
          "2015",
          "2015",
          "2015",
          "2015",
          "2015",
          "2015",
          "2015",
          "2015",
          "2015",
          "2015",
          "2015",
          "2015",
          "2015",
          "2015",
          "2015",
          "2015",
          "2015",
          "2015",
          "2015",
          "2015",
          "2015",
          "2015",
          "2015",
          "2015",
          "2015",
          "2015",
          "2015",
          "2015",
          "2015",
          "2015",
          "2015",
          "2015",
          "2015",
          "2015",
          "2015",
          "2015",
          "2015",
          "2015",
          "2015",
          "2015",
          "2015",
          "2015",
          "2015",
          "2015",
          "2015",
          "2015",
          "2015",
          "2015",
          "2015",
          "2015",
          "2015",
          "2015",
          "2015",
          "2015",
          "2015",
          "2015",
          "2015",
          "2015",
          "2015",
          "2015",
          "2015",
          "2015",
          "2015",
          "2015"
         ],
         "legendgroup": "2015",
         "marker": {
          "color": "#19d3f3",
          "symbol": "circle"
         },
         "mode": "markers",
         "name": "2015",
         "orientation": "v",
         "showlegend": true,
         "type": "scatter",
         "x": [
          42.738929748535156,
          23.507793426513672,
          24.792879104614258,
          40.09564971923828,
          -36.34626388549805,
          50.32957458496094,
          -10.033823013305664,
          -53.783897399902344,
          7.935535430908203,
          7.782834529876709,
          2.2451796531677246,
          6.596364974975586,
          -22.544174194335938,
          20.04581069946289,
          -18.360153198242188,
          21.166128158569336,
          17.40377426147461,
          -22.336490631103516,
          -55.52180480957031,
          -53.75471496582031,
          -52.81101989746094,
          -30.568645477294922,
          -42.8537712097168,
          17.01457405090332,
          38.326499938964844,
          -23.27029800415039,
          25.867198944091797,
          28.625551223754883,
          47.85966491699219,
          -2.523057222366333,
          36.514808654785156,
          -30.754962921142578,
          39.979434967041016,
          28.318208694458008,
          7.675807952880859,
          -23.413055419921875,
          -54.78535842895508,
          -11.064618110656738,
          13.764113426208496,
          57.736106872558594,
          53.92303466796875,
          49.370933532714844,
          6.401745796203613,
          56.9901123046875,
          35.414791107177734,
          -11.318709373474121,
          -18.39876365661621,
          -36.328189849853516,
          -14.932854652404785,
          -31.2225399017334,
          17.752601623535156,
          32.5238151550293,
          14.01871395111084,
          27.431386947631836,
          -31.665822982788086,
          8.938003540039062,
          -23.07372283935547,
          -55.23044204711914,
          -2.900763750076294,
          -43.72519302368164,
          -33.67495346069336,
          -15.470457077026367,
          -7.233293056488037,
          -16.693281173706055,
          25.84821891784668,
          -7.757070064544678,
          -3.073521614074707,
          -50.697872161865234,
          -33.663333892822266,
          -1.218612790107727,
          -38.97893524169922,
          16.091812133789062,
          42.68338394165039,
          15.20175838470459,
          14.720024108886719,
          16.218717575073242,
          -10.941312789916992,
          -41.90221405029297,
          -45.03276062011719,
          -44.87921905517578,
          -37.570167541503906,
          -30.226213455200195,
          14.165337562561035,
          59.3761100769043,
          -3.3687586784362793,
          50.35059356689453,
          32.74041748046875,
          -34.27723693847656,
          -33.85398864746094,
          -20.89692497253418,
          32.672630310058594,
          -46.26755142211914,
          -11.304349899291992,
          -3.589134454727173,
          6.459718704223633,
          16.023042678833008,
          -43.57726287841797,
          51.398658752441406,
          48.754852294921875
         ],
         "xaxis": "x",
         "y": [
          3.0962424278259277,
          -4.609911918640137,
          -4.492730617523193,
          2.126000165939331,
          4.825045108795166,
          3.6199679374694824,
          0.5685577988624573,
          -0.7597606182098389,
          -1.9432144165039062,
          -5.6330108642578125,
          -4.894870758056641,
          -6.472986698150635,
          6.024819374084473,
          -6.125430107116699,
          3.543940782546997,
          -5.634591102600098,
          -7.447658538818359,
          5.746375560760498,
          -0.5760633945465088,
          -0.8115599751472473,
          -1.1681251525878906,
          1.2677289247512817,
          2.2597978115081787,
          -7.470769882202148,
          0.5978963971138,
          5.0076904296875,
          -4.3509202003479,
          -3.6168603897094727,
          3.776838541030884,
          -2.865463972091675,
          2.54103946685791,
          2.438504695892334,
          2.9433257579803467,
          -1.96842360496521,
          -6.916574001312256,
          4.260060787200928,
          -0.3290977478027344,
          -1.7365422248840332,
          -7.030713081359863,
          3.6736888885498047,
          4.009937286376953,
          3.5638434886932373,
          -4.616808891296387,
          3.490124225616455,
          2.154099464416504,
          -2.3602960109710693,
          1.481711983680725,
          5.028756141662598,
          1.4818662405014038,
          5.272603511810303,
          -7.916841506958008,
          -0.2690815329551697,
          -7.484424114227295,
          -1.3997750282287598,
          6.634496212005615,
          -5.346270561218262,
          6.000142574310303,
          -1.362082839012146,
          -9.147682189941406,
          4.640832424163818,
          6.937627792358398,
          0.4943675100803375,
          -1.7853120565414429,
          2.282233238220215,
          -4.144543647766113,
          -3.178933620452881,
          -6.676292419433594,
          0.5942448377609253,
          5.370784282684326,
          -2.3434863090515137,
          4.861670017242432,
          -5.0235724449157715,
          3.3931617736816406,
          -6.978511810302734,
          -5.427330493927002,
          -5.462909698486328,
          0.3949989378452301,
          3.946526050567627,
          1.9241876602172852,
          2.5080296993255615,
          4.378617763519287,
          2.7738823890686035,
          -7.742879867553711,
          3.679213047027588,
          -7.570821762084961,
          4.259237289428711,
          -0.5892332792282104,
          7.026335716247559,
          5.0397515296936035,
          3.763561725616455,
          -0.3377602994441986,
          1.9725393056869507,
          -0.37148013710975647,
          -6.403613567352295,
          -5.5083136558532715,
          -4.696444988250732,
          3.746330499649048,
          3.4801552295684814,
          4.423574924468994
         ],
         "yaxis": "y"
        }
       ],
       "layout": {
        "autosize": true,
        "legend": {
         "title": {
          "text": "年代"
         },
         "tracegroupgap": 0
        },
        "margin": {
         "t": 60
        },
        "template": {
         "data": {
          "bar": [
           {
            "error_x": {
             "color": "#2a3f5f"
            },
            "error_y": {
             "color": "#2a3f5f"
            },
            "marker": {
             "line": {
              "color": "#E5ECF6",
              "width": 0.5
             },
             "pattern": {
              "fillmode": "overlay",
              "size": 10,
              "solidity": 0.2
             }
            },
            "type": "bar"
           }
          ],
          "barpolar": [
           {
            "marker": {
             "line": {
              "color": "#E5ECF6",
              "width": 0.5
             },
             "pattern": {
              "fillmode": "overlay",
              "size": 10,
              "solidity": 0.2
             }
            },
            "type": "barpolar"
           }
          ],
          "carpet": [
           {
            "aaxis": {
             "endlinecolor": "#2a3f5f",
             "gridcolor": "white",
             "linecolor": "white",
             "minorgridcolor": "white",
             "startlinecolor": "#2a3f5f"
            },
            "baxis": {
             "endlinecolor": "#2a3f5f",
             "gridcolor": "white",
             "linecolor": "white",
             "minorgridcolor": "white",
             "startlinecolor": "#2a3f5f"
            },
            "type": "carpet"
           }
          ],
          "choropleth": [
           {
            "colorbar": {
             "outlinewidth": 0,
             "ticks": ""
            },
            "type": "choropleth"
           }
          ],
          "contour": [
           {
            "colorbar": {
             "outlinewidth": 0,
             "ticks": ""
            },
            "colorscale": [
             [
              0,
              "#0d0887"
             ],
             [
              0.1111111111111111,
              "#46039f"
             ],
             [
              0.2222222222222222,
              "#7201a8"
             ],
             [
              0.3333333333333333,
              "#9c179e"
             ],
             [
              0.4444444444444444,
              "#bd3786"
             ],
             [
              0.5555555555555556,
              "#d8576b"
             ],
             [
              0.6666666666666666,
              "#ed7953"
             ],
             [
              0.7777777777777778,
              "#fb9f3a"
             ],
             [
              0.8888888888888888,
              "#fdca26"
             ],
             [
              1,
              "#f0f921"
             ]
            ],
            "type": "contour"
           }
          ],
          "contourcarpet": [
           {
            "colorbar": {
             "outlinewidth": 0,
             "ticks": ""
            },
            "type": "contourcarpet"
           }
          ],
          "heatmap": [
           {
            "colorbar": {
             "outlinewidth": 0,
             "ticks": ""
            },
            "colorscale": [
             [
              0,
              "#0d0887"
             ],
             [
              0.1111111111111111,
              "#46039f"
             ],
             [
              0.2222222222222222,
              "#7201a8"
             ],
             [
              0.3333333333333333,
              "#9c179e"
             ],
             [
              0.4444444444444444,
              "#bd3786"
             ],
             [
              0.5555555555555556,
              "#d8576b"
             ],
             [
              0.6666666666666666,
              "#ed7953"
             ],
             [
              0.7777777777777778,
              "#fb9f3a"
             ],
             [
              0.8888888888888888,
              "#fdca26"
             ],
             [
              1,
              "#f0f921"
             ]
            ],
            "type": "heatmap"
           }
          ],
          "heatmapgl": [
           {
            "colorbar": {
             "outlinewidth": 0,
             "ticks": ""
            },
            "colorscale": [
             [
              0,
              "#0d0887"
             ],
             [
              0.1111111111111111,
              "#46039f"
             ],
             [
              0.2222222222222222,
              "#7201a8"
             ],
             [
              0.3333333333333333,
              "#9c179e"
             ],
             [
              0.4444444444444444,
              "#bd3786"
             ],
             [
              0.5555555555555556,
              "#d8576b"
             ],
             [
              0.6666666666666666,
              "#ed7953"
             ],
             [
              0.7777777777777778,
              "#fb9f3a"
             ],
             [
              0.8888888888888888,
              "#fdca26"
             ],
             [
              1,
              "#f0f921"
             ]
            ],
            "type": "heatmapgl"
           }
          ],
          "histogram": [
           {
            "marker": {
             "pattern": {
              "fillmode": "overlay",
              "size": 10,
              "solidity": 0.2
             }
            },
            "type": "histogram"
           }
          ],
          "histogram2d": [
           {
            "colorbar": {
             "outlinewidth": 0,
             "ticks": ""
            },
            "colorscale": [
             [
              0,
              "#0d0887"
             ],
             [
              0.1111111111111111,
              "#46039f"
             ],
             [
              0.2222222222222222,
              "#7201a8"
             ],
             [
              0.3333333333333333,
              "#9c179e"
             ],
             [
              0.4444444444444444,
              "#bd3786"
             ],
             [
              0.5555555555555556,
              "#d8576b"
             ],
             [
              0.6666666666666666,
              "#ed7953"
             ],
             [
              0.7777777777777778,
              "#fb9f3a"
             ],
             [
              0.8888888888888888,
              "#fdca26"
             ],
             [
              1,
              "#f0f921"
             ]
            ],
            "type": "histogram2d"
           }
          ],
          "histogram2dcontour": [
           {
            "colorbar": {
             "outlinewidth": 0,
             "ticks": ""
            },
            "colorscale": [
             [
              0,
              "#0d0887"
             ],
             [
              0.1111111111111111,
              "#46039f"
             ],
             [
              0.2222222222222222,
              "#7201a8"
             ],
             [
              0.3333333333333333,
              "#9c179e"
             ],
             [
              0.4444444444444444,
              "#bd3786"
             ],
             [
              0.5555555555555556,
              "#d8576b"
             ],
             [
              0.6666666666666666,
              "#ed7953"
             ],
             [
              0.7777777777777778,
              "#fb9f3a"
             ],
             [
              0.8888888888888888,
              "#fdca26"
             ],
             [
              1,
              "#f0f921"
             ]
            ],
            "type": "histogram2dcontour"
           }
          ],
          "mesh3d": [
           {
            "colorbar": {
             "outlinewidth": 0,
             "ticks": ""
            },
            "type": "mesh3d"
           }
          ],
          "parcoords": [
           {
            "line": {
             "colorbar": {
              "outlinewidth": 0,
              "ticks": ""
             }
            },
            "type": "parcoords"
           }
          ],
          "pie": [
           {
            "automargin": true,
            "type": "pie"
           }
          ],
          "scatter": [
           {
            "fillpattern": {
             "fillmode": "overlay",
             "size": 10,
             "solidity": 0.2
            },
            "type": "scatter"
           }
          ],
          "scatter3d": [
           {
            "line": {
             "colorbar": {
              "outlinewidth": 0,
              "ticks": ""
             }
            },
            "marker": {
             "colorbar": {
              "outlinewidth": 0,
              "ticks": ""
             }
            },
            "type": "scatter3d"
           }
          ],
          "scattercarpet": [
           {
            "marker": {
             "colorbar": {
              "outlinewidth": 0,
              "ticks": ""
             }
            },
            "type": "scattercarpet"
           }
          ],
          "scattergeo": [
           {
            "marker": {
             "colorbar": {
              "outlinewidth": 0,
              "ticks": ""
             }
            },
            "type": "scattergeo"
           }
          ],
          "scattergl": [
           {
            "marker": {
             "colorbar": {
              "outlinewidth": 0,
              "ticks": ""
             }
            },
            "type": "scattergl"
           }
          ],
          "scattermapbox": [
           {
            "marker": {
             "colorbar": {
              "outlinewidth": 0,
              "ticks": ""
             }
            },
            "type": "scattermapbox"
           }
          ],
          "scatterpolar": [
           {
            "marker": {
             "colorbar": {
              "outlinewidth": 0,
              "ticks": ""
             }
            },
            "type": "scatterpolar"
           }
          ],
          "scatterpolargl": [
           {
            "marker": {
             "colorbar": {
              "outlinewidth": 0,
              "ticks": ""
             }
            },
            "type": "scatterpolargl"
           }
          ],
          "scatterternary": [
           {
            "marker": {
             "colorbar": {
              "outlinewidth": 0,
              "ticks": ""
             }
            },
            "type": "scatterternary"
           }
          ],
          "surface": [
           {
            "colorbar": {
             "outlinewidth": 0,
             "ticks": ""
            },
            "colorscale": [
             [
              0,
              "#0d0887"
             ],
             [
              0.1111111111111111,
              "#46039f"
             ],
             [
              0.2222222222222222,
              "#7201a8"
             ],
             [
              0.3333333333333333,
              "#9c179e"
             ],
             [
              0.4444444444444444,
              "#bd3786"
             ],
             [
              0.5555555555555556,
              "#d8576b"
             ],
             [
              0.6666666666666666,
              "#ed7953"
             ],
             [
              0.7777777777777778,
              "#fb9f3a"
             ],
             [
              0.8888888888888888,
              "#fdca26"
             ],
             [
              1,
              "#f0f921"
             ]
            ],
            "type": "surface"
           }
          ],
          "table": [
           {
            "cells": {
             "fill": {
              "color": "#EBF0F8"
             },
             "line": {
              "color": "white"
             }
            },
            "header": {
             "fill": {
              "color": "#C8D4E3"
             },
             "line": {
              "color": "white"
             }
            },
            "type": "table"
           }
          ]
         },
         "layout": {
          "annotationdefaults": {
           "arrowcolor": "#2a3f5f",
           "arrowhead": 0,
           "arrowwidth": 1
          },
          "autotypenumbers": "strict",
          "coloraxis": {
           "colorbar": {
            "outlinewidth": 0,
            "ticks": ""
           }
          },
          "colorscale": {
           "diverging": [
            [
             0,
             "#8e0152"
            ],
            [
             0.1,
             "#c51b7d"
            ],
            [
             0.2,
             "#de77ae"
            ],
            [
             0.3,
             "#f1b6da"
            ],
            [
             0.4,
             "#fde0ef"
            ],
            [
             0.5,
             "#f7f7f7"
            ],
            [
             0.6,
             "#e6f5d0"
            ],
            [
             0.7,
             "#b8e186"
            ],
            [
             0.8,
             "#7fbc41"
            ],
            [
             0.9,
             "#4d9221"
            ],
            [
             1,
             "#276419"
            ]
           ],
           "sequential": [
            [
             0,
             "#0d0887"
            ],
            [
             0.1111111111111111,
             "#46039f"
            ],
            [
             0.2222222222222222,
             "#7201a8"
            ],
            [
             0.3333333333333333,
             "#9c179e"
            ],
            [
             0.4444444444444444,
             "#bd3786"
            ],
            [
             0.5555555555555556,
             "#d8576b"
            ],
            [
             0.6666666666666666,
             "#ed7953"
            ],
            [
             0.7777777777777778,
             "#fb9f3a"
            ],
            [
             0.8888888888888888,
             "#fdca26"
            ],
            [
             1,
             "#f0f921"
            ]
           ],
           "sequentialminus": [
            [
             0,
             "#0d0887"
            ],
            [
             0.1111111111111111,
             "#46039f"
            ],
            [
             0.2222222222222222,
             "#7201a8"
            ],
            [
             0.3333333333333333,
             "#9c179e"
            ],
            [
             0.4444444444444444,
             "#bd3786"
            ],
            [
             0.5555555555555556,
             "#d8576b"
            ],
            [
             0.6666666666666666,
             "#ed7953"
            ],
            [
             0.7777777777777778,
             "#fb9f3a"
            ],
            [
             0.8888888888888888,
             "#fdca26"
            ],
            [
             1,
             "#f0f921"
            ]
           ]
          },
          "colorway": [
           "#636efa",
           "#EF553B",
           "#00cc96",
           "#ab63fa",
           "#FFA15A",
           "#19d3f3",
           "#FF6692",
           "#B6E880",
           "#FF97FF",
           "#FECB52"
          ],
          "font": {
           "color": "#2a3f5f"
          },
          "geo": {
           "bgcolor": "white",
           "lakecolor": "white",
           "landcolor": "#E5ECF6",
           "showlakes": true,
           "showland": true,
           "subunitcolor": "white"
          },
          "hoverlabel": {
           "align": "left"
          },
          "hovermode": "closest",
          "mapbox": {
           "style": "light"
          },
          "paper_bgcolor": "white",
          "plot_bgcolor": "#E5ECF6",
          "polar": {
           "angularaxis": {
            "gridcolor": "white",
            "linecolor": "white",
            "ticks": ""
           },
           "bgcolor": "#E5ECF6",
           "radialaxis": {
            "gridcolor": "white",
            "linecolor": "white",
            "ticks": ""
           }
          },
          "scene": {
           "xaxis": {
            "backgroundcolor": "#E5ECF6",
            "gridcolor": "white",
            "gridwidth": 2,
            "linecolor": "white",
            "showbackground": true,
            "ticks": "",
            "zerolinecolor": "white"
           },
           "yaxis": {
            "backgroundcolor": "#E5ECF6",
            "gridcolor": "white",
            "gridwidth": 2,
            "linecolor": "white",
            "showbackground": true,
            "ticks": "",
            "zerolinecolor": "white"
           },
           "zaxis": {
            "backgroundcolor": "#E5ECF6",
            "gridcolor": "white",
            "gridwidth": 2,
            "linecolor": "white",
            "showbackground": true,
            "ticks": "",
            "zerolinecolor": "white"
           }
          },
          "shapedefaults": {
           "line": {
            "color": "#2a3f5f"
           }
          },
          "ternary": {
           "aaxis": {
            "gridcolor": "white",
            "linecolor": "white",
            "ticks": ""
           },
           "baxis": {
            "gridcolor": "white",
            "linecolor": "white",
            "ticks": ""
           },
           "bgcolor": "#E5ECF6",
           "caxis": {
            "gridcolor": "white",
            "linecolor": "white",
            "ticks": ""
           }
          },
          "title": {
           "x": 0.05
          },
          "xaxis": {
           "automargin": true,
           "gridcolor": "white",
           "linecolor": "white",
           "ticks": "",
           "title": {
            "standoff": 15
           },
           "zerolinecolor": "white",
           "zerolinewidth": 2
          },
          "yaxis": {
           "automargin": true,
           "gridcolor": "white",
           "linecolor": "white",
           "ticks": "",
           "title": {
            "standoff": 15
           },
           "zerolinecolor": "white",
           "zerolinewidth": 2
          }
         }
        },
        "xaxis": {
         "anchor": "y",
         "autorange": true,
         "domain": [
          0,
          1
         ],
         "range": [
          -63.539043752734806,
          66.57074007231488
         ],
         "title": {
          "text": "第一主成分"
         },
         "type": "linear"
        },
        "yaxis": {
         "anchor": "x",
         "autorange": true,
         "domain": [
          0,
          1
         ],
         "range": [
          -10.60032202565451,
          9.14566304051657
         ],
         "title": {
          "text": "第二主成分"
         },
         "type": "linear"
        }
       }
      },
      "image/png": "[encoded data removed]",
      "text/html": [
       "<div>                            <div id=\"28028bfd-7b99-4acb-b692-6d02743d13e6\" class=\"plotly-graph-div\" style=\"height:525px; width:100%;\"></div>            <script type=\"text/javascript\">                require([\"plotly\"], function(Plotly) {                    window.PLOTLYENV=window.PLOTLYENV || {};                                    if (document.getElementById(\"28028bfd-7b99-4acb-b692-6d02743d13e6\")) {                    Plotly.newPlot(                        \"28028bfd-7b99-4acb-b692-6d02743d13e6\",                        [{\"customdata\":[[\"Tama\",\"\\u3055\\u3088\\u306a\\u3089\\u4eba\\u985e\\u00a0\\uff5e\\u30b7\\u30f3\\u30b0\\u30eb\\u30f4\\u30a1\\u30fc\\u30b8\\u30e7\\u30f3\\uff5e\"],[\"Kome Kome Club\",\"\\u6d6a\\u6f2b\\u98db\\u884c\"],[\"B'z\",\"\\u592a\\u967d\\u306eKomachi Angel\"],[\"LINDBERG\",\"\\u4eca\\u3059\\u3050\\uff2b\\uff49\\uff53\\uff53\\u3000\\uff2d\\uff45\"],[\"PRINCESS PRINCESS\",\"OH YEAH !\"],[\"\\u30b5\\u30b6\\u30f3\\u30aa\\u30fc\\u30eb\\u30b9\\u30bf\\u30fc\\u30ba\",\"\\u771f\\u590f\\u306e\\u679c\\u5b9f\"],[\"DREAMS COME TRUE\",\"\\u7b11\\u9854\\u306e\\u884c\\u65b9 (ORIGINAL VERSION)\"],[\"B'z\",\"Easy Come, Easy Go!\"],[\"Madonna\",\"Vogue\"],[\"Wilson Phillips\",\"Hold On\"],[\"New Kids On The Block\",\"Step by Step\"],[\"Bell Biv DeVoe\",\"Do Me!\"],[\"Shizuka Kudo\",\"Kuchibiru Kara Biyaku\"],[\"Akina Nakamori\",\"Dear Friend - 2024 Lacquer Master Sound\"],[\"Kyoko Koizumi\",\"\\u898b\\u9003\\u3057\\u3066\\u304f\\u308c\\u3088\\uff01\"],[\"Yosui Inoue\",\"\\u5c11\\u5e74\\u6642\\u4ee3 - Remastered 2018\"],[\"Roxette\",\"It Must Have Been Love - From the Film \\\"Pretty Woman\\\"\"],[\"Sin\\u00e9ad O'Connor\",\"Nothing Compares 2 U\"],[\"Diana Ross\",\"If We Hold On Together\"],[\"\\u4e2d\\u5cf6\\u307f\\u3086\\u304d\",\"with\"],[\"Kyosuke Himuro\",\"JEALOUSY\"],[\"Hideaki Tokunaga\",\"\\u58ca\\u308c\\u304b\\u3051\\u306eRadio\"],[\"PINK SAPPHIRE\",\"P.S. I LOVE YOU - Single Version; 2019 Remaster\"],[\"Depeche Mode\",\"Enjoy the Silence - 2006 Remaster\"],[\"George Michael\",\"Freedom! '90\"],[\"UB40\",\"Kingston Town\"],[\"\\u30aa\\u30e8\\u30cd\\u30fc\\u30ba\",\"\\u9ea6\\u7551\"],[\"Jitterin' Jinn\",\"\\u30d7\\u30ec\\u30bc\\u30f3\\u30c8\"],[\"\\u725b\\u82e5\\u4e38\\u4e09\\u90ce\\u592a\",\"\\u52c7\\u6c17\\u306e\\u3057\\u308b\\u3057~\\u30ea\\u30b2\\u30a4\\u30f3\\u306e\\u30c6\\u30fc\\u30de~\"],[\"Yasuyuki Okamura\",\"\\u30ab\\u30eb\\u30a2\\u30df\\u30eb\\u30af\"],[\"Mariah Carey\",\"Vision of Love\"],[\"Phil Collins\",\"Another Day in Paradise - 2016 Remaster\"],[\"Kaoma\",\"Lambada - Original Version 1989\"],[\"En Vogue\",\"Hold On\"],[\"Technotronic\",\"Pump Up The Jam\"],[\"Billy Idol\",\"Cradle Of Love\"],[\"Jon Bon Jovi\",\"Blaze Of Glory - From \\\"Young Guns II\\\" Soundtrack\"],[\"Michael Bolton\",\"How Am I Supposed to Live Without You\"],[\"Janet Jackson\",\"Escapade\"],[\"PRINCESS PRINCESS\",\"DIAMONDS (\\u30c0\\u30a4\\u30a2\\u30e2\\u30f3\\u30c9)\"],[\"\\u30b5\\u30b6\\u30f3\\u30aa\\u30fc\\u30eb\\u30b9\\u30bf\\u30fc\\u30ba\",\"\\u30d5\\u30ea\\u30d5\\u30ea '65\"],[\"DREAMS COME TRUE\",\"Ring! Ring! Ring! (S\\u30fbH\\u30fbH VERSION)\"],[\"GO-BANG'S\",\"Ai ni Kite I Need You!\"],[\"B'z\",\"\\u611b\\u3057\\u3044\\u4eba\\u3088Good Night\\u2026\"],[\"X JAPAN\",\"ENDLESS RAIN - Remaster\"],[\"Tsuyoshi Nagabuchi\",\"\\u3057\\u3087\\u3063\\u3071\\u3044\\u4e09\\u65e5\\u6708\\u306e\\u591c\"],[\"Wink\",\"Sexy Music\"],[\"TM NETWORK\",\"THE POINT OF LOVERS' NIGHT\"],[\"Toshinobu Kubota\",\"GIVE YOU MY LOVE\"],[\"Hideaki Tokunaga\",\"\\u5922\\u3092\\u4fe1\\u3058\\u3066\"],[\"Jitterin' Jinn\",\"\\u590f\\u796d\\u308a\"],[\"The Rolling Stones\",\"Rock And A Hard Place\"],[\"Heart\",\"All I Wanna Do Is Make Love To You\"],[\"Quincy Jones\",\"Tomorrow (A Better You, Better Me)\"],[\"Boyz II Men\",\"End Of The Road\"],[\"Bette Midler\",\"From a Distance\"],[\"a-ha\",\"Crying in the Rain\"],[\"JUN SKY WALKER(S)\",\"\\u767d\\u3044\\u30af\\u30ea\\u30b9\\u30de\\u30b9\"],[\"The Checkers\",\"Yoake no Breath\"],[\"Hiroshi Takano\",\"\\u8679\\u306e\\u90fd\\u3078\"],[\"UNICORN\",\"\\u50cd\\u304f\\u7537\"],[\"Tsuyoshi Nagabuchi\",\"JEEP\"],[\"Maxi Priest\",\"Close To You\"],[\"The Charlatans\",\"The Only One I Know\"],[\"Misato Watanabe\",\"\\u30b5\\u30de\\u30fc\\u30bf\\u30a4\\u30e0 \\u30d6\\u30eb\\u30fc\\u30b9\"],[\"Kyoko Koizumi\",\"\\u5b66\\u5712\\u5929\\u56fd\"],[\"TUBE\",\"\\u3042\\u30fc\\u590f\\u4f11\\u307f\"],[\"Mariya Takeuchi\",\"\\u30b7\\u30f3\\u30b0\\u30eb\\u30fb\\u30a2\\u30b2\\u30a4\\u30f3 - 2022 Remaster\"],[\"Midori Karashima\",\"\\u30b5\\u30a4\\u30ec\\u30f3\\u30c8\\u30fb\\u30a4\\u30f4\"],[\"C & C Music Factory\",\"Gonna Make You Sweat (Everybody Dance Now) (feat. Freedom Williams)\"],[\"LL COOL J\",\"Mama Said Knock You Out\"],[\"MC Hammer\",\"U Can't Touch This\"],[\"Vanilla Ice\",\"Ice Ice Baby\"],[\"COMPLEX\",\"1990\"],[\"X JAPAN\",\"WEEK END - Remaster\"],[\"BUCK-TICK\",\"\\u60aa\\u306e\\u83ef\"],[\"Extreme\",\"More Than Words\"],[\"The Black Crowes\",\"Hard To Handle\"],[\"Flipper's Guitar\",\"\\u604b\\u3068\\u30de\\u30b7\\u30f3\\u30ac\\u30f3 -Young,Alive,in Love-\"],[\"DREAMS COME TRUE\",\"\\u3055\\u3088\\u306a\\u3089\\u3092\\u5f85\\u3063\\u3066\\u308b\"],[\"Hiroshi Takano\",\"\\u30d9\\u30b9\\u30c6\\u30f3 \\u30c0\\u30f3\\u30af\"],[\"Jitterin' Jinn\",\"\\u306b\\u3061\\u3088\\u3046\\u3073\"],[\"BEGIN\",\"\\u604b\\u3057\\u304f\\u3066\"],[\"B'z\",\"BE THERE\"],[\"Senri Oe\",\"dear\"],[\"Noriyuki Makihara\",\"ANSWER - 2012 Remaster\"],[\"Bobby Brown\",\"Every Little Step\"],[\"Bell Biv DeVoe\",\"Poison\"],[\"Billy Joel\",\"We Didn't Start the Fire\"],[\"Linda Ronstadt\",\"Don't Know Much (with Aaron Neville)\"],[\"Chisato Moritaka\",\"\\u96e8 - 2012 Remaster\"],[\"Shizuka Kudo\",\"Senryu no Shizuku\"],[\"Akina Nakamori\",\"\\u6c34\\u306b\\u633f\\u3057\\u305f\\u82b1 - 30th anniversary mix\"],[\"Miki Imai\",\"\\u77b3\\u304c\\u307b\\u307b\\u3048\\u3080\\u304b\\u3089\"],[\"Mariya Takeuchi\",\"\\u544a\\u767d - 2022 Remaster\"],[\"Hibari Misora\",\"\\u5ddd\\u306e\\u6d41\\u308c\\u306e\\u3088\\u3046\\u306b\"],[\"A Tribe Called Quest\",\"Bonita Applebum - includes 'Can I Kick It' Intro\"],[\"Deee-Lite\",\"Groove Is in the Heart\"],[\"Soul II Soul\",\"Get A Life\"]],\"hovertemplate\":\"\\u003cb\\u003e%{hovertext}\\u003c\\u002fb\\u003e\\u003cbr\\u003e\\u003cbr\\u003e\\u5e74\\u4ee3=1990\\u003cbr\\u003e\\u7b2c\\u4e00\\u4e3b\\u6210\\u5206=%{x}\\u003cbr\\u003e\\u7b2c\\u4e8c\\u4e3b\\u6210\\u5206=%{y}\\u003cbr\\u003e\\u30a2\\u30fc\\u30c6\\u30a3\\u30b9\\u30c8\\u540d=%{customdata[0]}\\u003cbr\\u003e\\u30c8\\u30e9\\u30c3\\u30af\\u540d=%{customdata[1]}\\u003cextra\\u003e\\u003c\\u002fextra\\u003e\",\"hovertext\":[\"1990\",\"1990\",\"1990\",\"1990\",\"1990\",\"1990\",\"1990\",\"1990\",\"1990\",\"1990\",\"1990\",\"1990\",\"1990\",\"1990\",\"1990\",\"1990\",\"1990\",\"1990\",\"1990\",\"1990\",\"1990\",\"1990\",\"1990\",\"1990\",\"1990\",\"1990\",\"1990\",\"1990\",\"1990\",\"1990\",\"1990\",\"1990\",\"1990\",\"1990\",\"1990\",\"1990\",\"1990\",\"1990\",\"1990\",\"1990\",\"1990\",\"1990\",\"1990\",\"1990\",\"1990\",\"1990\",\"1990\",\"1990\",\"1990\",\"1990\",\"1990\",\"1990\",\"1990\",\"1990\",\"1990\",\"1990\",\"1990\",\"1990\",\"1990\",\"1990\",\"1990\",\"1990\",\"1990\",\"1990\",\"1990\",\"1990\",\"1990\",\"1990\",\"1990\",\"1990\",\"1990\",\"1990\",\"1990\",\"1990\",\"1990\",\"1990\",\"1990\",\"1990\",\"1990\",\"1990\",\"1990\",\"1990\",\"1990\",\"1990\",\"1990\",\"1990\",\"1990\",\"1990\",\"1990\",\"1990\",\"1990\",\"1990\",\"1990\",\"1990\",\"1990\",\"1990\",\"1990\",\"1990\",\"1990\"],\"legendgroup\":\"1990\",\"marker\":{\"color\":\"#636efa\",\"symbol\":\"circle\"},\"mode\":\"markers\",\"name\":\"1990\",\"orientation\":\"v\",\"showlegend\":true,\"x\":[-1.4435497522354126,25.098665237426758,-1.4970110654830933,51.91709518432617,30.31591033935547,59.03865051269531,15.267406463623047,-11.357465744018555,-9.237314224243164,-32.285037994384766,9.566248893737793,-18.719575881958008,39.16790008544922,35.821529388427734,37.30530548095703,-50.81861877441406,-52.75909423828125,-1.5682628154754639,26.25342559814453,16.30351448059082,37.229618072509766,6.022399425506592,44.022705078125,-11.65418529510498,-39.8138542175293,-29.601716995239258,-1.1063107252120972,53.983497619628906,-1.4792448282241821,-37.38311767578125,59.352745056152344,-28.65633201599121,-4.039932727813721,-33.03846740722656,8.250740051269531,31.740510940551758,-53.01140213012695,26.12090301513672,-9.951451301574707,-14.372284889221191,23.02275848388672,57.77480697631836,24.282625198364258,-44.79994583129883,-54.04024124145508,-48.64915084838867,7.504556655883789,-32.36121368408203,-13.867536544799805,8.819025039672852,26.54758644104004,15.134590148925781,-28.02222442626953,-52.05439758300781,35.8635368347168,25.443666458129883,56.05647277832031,-52.5372314453125,35.576744079589844,20.070430755615234,47.991573333740234,-36.19054412841797,-35.45188903808594,-11.298900604248047,15.674049377441406,53.847145080566406,19.74662208557129,-15.655749320983887,-53.45044708251953,-11.20538330078125,-28.144208908081055,16.929752349853516,-10.570709228515625,30.239316940307617,-45.62519073486328,-39.441734313964844,56.400325775146484,-24.63735580444336,-0.5344682335853577,-13.47783374786377,13.344837188720703,45.565589904785156,-50.58503723144531,-25.12744140625,16.359962463378906,-55.48243713378906,-30.750652313232422,-12.537232398986816,32.314170837402344,15.545159339904785,7.502115249633789,52.10869598388672,-30.913347244262695,8.719830513000488,-54.286155700683594,56.36454391479492,-41.22612380981445,-0.424775093793869,-29.9937744140625],\"xaxis\":\"x\",\"y\":[-4.07661771774292,1.8139700889587402,-6.930953025817871,1.93952476978302,0.37684470415115356,3.3207128047943115,-0.8556779026985168,-2.2127387523651123,-0.29613804817199707,1.245535135269165,-0.41628023982048035,3.8814287185668945,3.0613486766815186,2.18890118598938,1.9219602346420288,0.4821298122406006,-0.4924513101577759,-2.2507998943328857,2.830566883087158,-0.6768128871917725,1.6229594945907593,-4.496335506439209,2.2472386360168457,4.122096061706543,2.049330949783325,0.19365975260734558,-0.3568212687969208,2.1582655906677246,-3.364497184753418,3.3919262886047363,3.2629098892211914,3.233159303665161,-4.305543422698975,0.9158799648284912,-1.1998918056488037,-0.05255004018545151,-2.577382802963257,2.2634828090667725,0.10456082224845886,3.4352617263793945,-3.9032480716705322,3.1038901805877686,-2.9137380123138428,2.9184999465942383,-1.825339436531067,-0.8263481259346008,-3.7650253772735596,5.205665588378906,5.328695774078369,-4.163768768310547,2.0991389751434326,-6.397134780883789,1.580379843711853,0.1621169149875641,3.4099631309509277,1.8741462230682373,2.9790313243865967,-0.667374849319458,3.826347827911377,-5.1804046630859375,3.499650001525879,0.6421298384666443,0.4741109609603882,4.303361415863037,-1.9582136869430542,3.5980288982391357,-5.498650074005127,2.5686190128326416,-1.6482040882110596,3.621753454208374,2.7604241371154785,0.3623580038547516,4.457743167877197,0.946044921875,3.548424243927002,3.3234148025512695,2.2251663208007812,5.701765060424805,-0.2533445358276367,4.166607856750488,-6.055848121643066,5.156749248504639,-1.3079348802566528,6.6523027420043945,-1.2105916738510132,-1.942352056503296,0.5061149001121521,4.161129951477051,0.5486108660697937,-0.3871622085571289,-1.4216909408569336,3.3371872901916504,1.8020622730255127,-2.307709217071533,-2.4824657440185547,3.0550999641418457,3.695077419281006,-7.330105781555176,0.4489077627658844],\"yaxis\":\"y\",\"type\":\"scatter\"},{\"customdata\":[[\"DREAMS COME TRUE\",\"LOVE LOVE LOVE\"],[\"H Jungle With t\",\"WOW WAR TONIGHT\\u301c\\u6642\\u306b\\u306f\\u8d77\\u3053\\u305b\\u3088\\u30e0\\u30fc\\u30f4\\u30e1\\u30f3\\u30c8\\u301c - TWO MILLION MIX\"],[\"Mr.Children\",\"Tomorrow never knows\"],[\"SPITZ\",\"\\u30ed\\u30d3\\u30f3\\u30bd\\u30f3\"],[\"My Little Lover\",\"Man&Woman\"],[\"Yumi Matsutoya\",\"\\u6625\\u3088\\u3001\\u6765\\u3044\"],[\"Masaharu Fukuyama\",\"HELLO\"],[\"Alanis Morissette\",\"You Oughta Know - 2015 Remaster\"],[\"Oasis\",\"Wonderwall - Remastered\"],[\"The Cardigans\",\"Carnival\"],[\"Mariah Carey\",\"All I Want for Christmas Is You\"],[\"Lenny Kravitz\",\"Rock And Roll Is Dead\"],[\"Backstreet Boys\",\"I Want It That Way\"],[\"Scatman John\",\"Scatman (ski-ba-bop-ba-dop-bop)\"],[\"My Little Lover\",\"Hello,Again~\\u6614\\u304b\\u3089\\u3042\\u308b\\u5834\\u6240~\"],[\"Magokoro Brothers\",\"\\u30b5\\u30de\\u30fc\\u30cc\\u30fc\\u30c9\"],[\"\\u6851\\u7530 \\u4f73\\u7950 \\uff06 Mr.Children\",\"\\u5947\\u8de1\\u306e\\u5730\\u7403\"],[\"B'z\",\"LOVE PHANTOM\"],[\"Maki Ohguro\",\"\\u3089\\u30fb\\u3089\\u30fb\\u3089 (2019 Remastered)\"],[\"JUDY AND MARY\",\"Over Drive\"],[\"Radiohead\",\"High and Dry\"],[\"The Smashing Pumpkins\",\"1979 - Remastered 2012\"],[\"The Offspring\",\"Self Esteem\"],[\"globe\",\"Feel Like dance - Original Mix\"],[\"H Jungle With t\",\"GOING GOING HOME\"],[\"Tomomi Kahara\",\"I BELIEVE - Radio Edit\"],[\"Red Hot Chili Peppers\",\"My Friends\"],[\"Bj\\u00f6rk\",\"Army of Me\"],[\"Mr.Children\",\"everybody goes~\\u79e9\\u5e8f\\u306e\\u306a\\u3044\\u73fe\\u4ee3\\u306b\\u30c8\\u3099\\u30ed\\u30c3\\u30d5\\u309a\\u30ad\\u30c3\\u30af~\"],[\"Tamio Okuda\",\"\\u611b\\u306e\\u305f\\u3081\\u306b\"],[\"B'z\",\"\\u306d\\u304c\\u3044\"],[\"\\u30b5\\u30b6\\u30f3\\u30aa\\u30fc\\u30eb\\u30b9\\u30bf\\u30fc\\u30ba\",\"\\u3042\\u306a\\u305f\\u305f\\u3099\\u3051\\u3092 ~Summer Heartbreak~\"],[\"Kyosuke Himuro\",\"Tamashii wo daitekure\"],[\"HOTEI\",\"POISON\"],[\"TRF\",\"Overnight Sensation \\u301c\\u6642\\u4ee3\\u306f\\u3042\\u306a\\u305f\\u306b\\u59d4\\u306d\\u3066\\u308b\\u301c\"],[\"Ryoko Shinohara\",\"Lady Generation (Original Mix)\"],[\"DREAMS COME TRUE\",\"\\u30b5\\u30f3\\u30ad\\u30e5.\"],[\"My Little Lover\",\"\\u767d\\u3044\\u30ab\\u30a4\\u30c8\"],[\"\\u4e2d\\u5cf6\\u307f\\u3086\\u304d\",\"\\u65c5\\u4eba\\u306e\\u3046\\u305f\"],[\"SCHA DARA PARR\",\"\\u30b5\\u30de\\u30fc\\u30b8\\u30e3\\u30e0'95\"],[\"EAST END\",\"DA.YO.NE\"],[\"TLC\",\"Waterfalls\"],[\"Mariah Carey\",\"Always Be My Baby\"],[\"Boyz II Men\",\"On Bended Knee\"],[\"Incognito\",\"Everyday\"],[\"Snow\",\"Sexy Girl\"],[\"hitomi\",\"CANDY GIRL\"],[\"globe\",\"Joy to the love\"],[\"TRF\",\"CRAZY GONNA CRAZY\"],[\"Ryoko Shinohara\",\"\\u604b\\u3057\\u3055\\u3068 \\u305b\\u3064\\u306a\\u3055\\u3068 \\u5fc3\\u5f37\\u3055\\u3068\"],[\"FUNK THE PEANUTS\",\"\\u604b\\u306e\\u7f60\\u3057\\u304b\\u3051\\u307e\\u3057\\u3087 \\u301cFUNK THE PEANUTS\\u306e\\u30c6\\u30fc\\u30de\\u301c\"],[\"Nanase Aikawa\",\"\\u5922\\u898b\\u308b\\u5c11\\u5973\\u3058\\u3083\\u3044\\u3089\\u308c\\u306a\\u3044\"],[\"Maki Ohguro\",\"\\u3044\\u3061\\u3070\\u3093\\u8fd1\\u304f\\u306b\\u3044\\u3066\\u306d\"],[\"Sharam Q\",\"\\u30b7\\u30f3\\u30b0\\u30eb\\u30d9\\u30c3\\u30c9\"],[\"Michael Jackson\",\"You Are Not Alone\"],[\"Diana King\",\"Shy Guy\"],[\"Madonna\",\"Take a Bow\"],[\"Noriko Sakai\",\"\\u78a7\\u3044\\u3046\\u3055\\u304e\"],[\"Mariya Takeuchi\",\"Konya Ha Hearty Party - Single Mix\"],[\"Masayuki Suzuki\",\"\\u3082\\u3046\\u6d99\\u306f\\u3044\\u3089\\u306a\\u3044 (Sentimental Version)\"],[\"ZARD\",\"\\u3042\\u306a\\u305f\\u3092\\u611f\\u3058\\u3066\\u3044\\u305f\\u3044\"],[\"L\\u21d4R\",\"KNOCKIN' ON YOUR DOOR\"],[\"Mayo Okamoto\",\"TOMORROW\"],[\"Baha Men\",\"Dancing in the Moonlight\"],[\"Montell Jordan\",\"This Is How We Do It\"],[\"D'Angelo\",\"Brown Sugar\"],[\"Seal\",\"Kiss from a Rose\"],[\"Michael Jackson\",\"Scream\"],[\"2Pac\",\"Me Against The World\"],[\"Mr.Children\",\"\\u30b7\\u30fc\\u30bd\\u30fc\\u30b1\\u3099\\u30fc\\u30e0~\\u52c7\\u6562\\u306a\\u604b\\u306e\\u6b4c~\"],[\"\\u30b5\\u30b6\\u30f3\\u30aa\\u30fc\\u30eb\\u30b9\\u30bf\\u30fc\\u30ba\",\"\\u30de\\u30f3\\u30d4\\u30fc\\u306eG\\u2605SPOT\"],[\"Sharam Q\",\"\\u7a7a\\u3092\\u898b\\u306a\\u3088\"],[\"B'z\",\"love me, I love you\"],[\"TRF\",\"masquerade\"],[\"Tomomi Kahara\",\"keep yourself alive - Radio Edit Mix\"],[\"hitomi\",\"GO TO THE TOP\"],[\"Mariah Carey\",\"Fantasy\"],[\"Des'ree\",\"You Gotta Be\"],[\"Duran Duran\",\"White Lines (Don't Do It) [feat. Melle Mel & Grandmaster Flash & the Furious Five]\"],[\"Jamiroquai\",\"Stillness in Time\"],[\"Blur\",\"Country House - 2012 Remaster\"],[\"The Smashing Pumpkins\",\"Tonight, Tonight - Remastered 2012\"],[\"Oasis\",\"Don't Look Back In Anger - Remastered\"],[\"SPITZ\",\"\\u6d99\\u304c\\u30ad\\u30e9\\u30ea\\u2606\"],[\"Sharam Q\",\"\\u30ba\\u30eb\\u3044\\u5973\"],[\"Kuroyume\",\"BEAMS\"],[\"Yoko Takahashi\",\"\\u6b8b\\u9177\\u306a\\u5929\\u4f7f\\u306e\\u30c6\\u30fc\\u30bc\"],[\"Naomi Tamura\",\"Unyielding Wish - Complete ver\"],[\"Mr.Children\",\"\\u3010es\\u3011~Theme of es~\"],[\"Original Love\",\"Yume wo Miru Hito\"],[\"Sing Like Talking\",\"Spirit Of Love (Sanctified Version)\"],[\"Simply Red\",\"Fairground\"],[\"Coolio\",\"Gangsta's Paradise\"],[\"DEEN\",\"\\u672a\\u6765\\u306e\\u305f\\u3081\\u306b\"],[\"Hiromi Go\",\"\\u9022\\u3044\\u305f\\u304f\\u3066\\u3057\\u304b\\u305f\\u306a\\u3044\"],[\"Midori Karashima\",\"\\u611b\\u3059\\u308b\\u3053\\u3068\"],[\"Shaggy\",\"Boombastic\"],[\"Stevie Wonder\",\"For Your Love\"]],\"hovertemplate\":\"\\u003cb\\u003e%{hovertext}\\u003c\\u002fb\\u003e\\u003cbr\\u003e\\u003cbr\\u003e\\u5e74\\u4ee3=1995\\u003cbr\\u003e\\u7b2c\\u4e00\\u4e3b\\u6210\\u5206=%{x}\\u003cbr\\u003e\\u7b2c\\u4e8c\\u4e3b\\u6210\\u5206=%{y}\\u003cbr\\u003e\\u30a2\\u30fc\\u30c6\\u30a3\\u30b9\\u30c8\\u540d=%{customdata[0]}\\u003cbr\\u003e\\u30c8\\u30e9\\u30c3\\u30af\\u540d=%{customdata[1]}\\u003cextra\\u003e\\u003c\\u002fextra\\u003e\",\"hovertext\":[\"1995\",\"1995\",\"1995\",\"1995\",\"1995\",\"1995\",\"1995\",\"1995\",\"1995\",\"1995\",\"1995\",\"1995\",\"1995\",\"1995\",\"1995\",\"1995\",\"1995\",\"1995\",\"1995\",\"1995\",\"1995\",\"1995\",\"1995\",\"1995\",\"1995\",\"1995\",\"1995\",\"1995\",\"1995\",\"1995\",\"1995\",\"1995\",\"1995\",\"1995\",\"1995\",\"1995\",\"1995\",\"1995\",\"1995\",\"1995\",\"1995\",\"1995\",\"1995\",\"1995\",\"1995\",\"1995\",\"1995\",\"1995\",\"1995\",\"1995\",\"1995\",\"1995\",\"1995\",\"1995\",\"1995\",\"1995\",\"1995\",\"1995\",\"1995\",\"1995\",\"1995\",\"1995\",\"1995\",\"1995\",\"1995\",\"1995\",\"1995\",\"1995\",\"1995\",\"1995\",\"1995\",\"1995\",\"1995\",\"1995\",\"1995\",\"1995\",\"1995\",\"1995\",\"1995\",\"1995\",\"1995\",\"1995\",\"1995\",\"1995\",\"1995\",\"1995\",\"1995\",\"1995\",\"1995\",\"1995\",\"1995\",\"1995\",\"1995\",\"1995\",\"1995\",\"1995\",\"1995\",\"1995\"],\"legendgroup\":\"1995\",\"marker\":{\"color\":\"#EF553B\",\"symbol\":\"circle\"},\"mode\":\"markers\",\"name\":\"1995\",\"orientation\":\"v\",\"showlegend\":true,\"x\":[-49.735557556152344,50.994205474853516,-14.02129077911377,-16.06821632385254,-28.474002838134766,-47.93190383911133,41.385005950927734,-25.259931564331055,53.098079681396484,-14.419181823730469,36.601043701171875,56.981605529785156,-32.23229217529297,24.63566017150879,-31.5301456451416,-10.59411334991455,8.883625984191895,21.04590606689453,-1.639957070350647,35.936866760253906,-48.196189880371094,9.991484642028809,-25.79509162902832,7.6213884353637695,53.89447021484375,27.888355255126953,-53.4453125,52.5114860534668,6.1390180587768555,-31.72157859802246,-19.47041130065918,4.9156575202941895,45.469139099121094,7.694393634796143,-1.080898404121399,10.144392967224121,-8.597101211547852,-31.06842041015625,-34.892086029052734,-37.14445877075195,-14.614130973815918,51.988773345947266,-53.16572570800781,-8.781427383422852,-11.381237030029297,-35.682708740234375,-22.137855529785156,44.121726989746094,16.81747817993164,17.318002700805664,-14.986445426940918,43.37405776977539,-8.94863224029541,-51.510196685791016,-1.1602882146835327,-38.634490966796875,-52.40647506713867,-25.046401977539062,-2.6283419132232666,-9.456923484802246,6.577967166900635,9.775530815124512,-22.29237174987793,-11.373687744140625,-27.85466957092285,-50.83356475830078,16.96230697631836,-21.403440475463867,-41.65715026855469,23.5988826751709,39.224918365478516,8.731947898864746,57.35359191894531,16.33068084716797,23.589794158935547,15.661352157592773,-28.317026138305664,-37.54697036743164,-9.798121452331543,-15.636246681213379,53.64838409423828,35.35368728637695,45.88178634643555,-33.66044616699219,6.306342601776123,-43.11955261230469,11.152325630187988,21.01947784423828,-55.01529312133789,-27.864627838134766,-19.83162498474121,4.4051008224487305,-52.0803108215332,-15.156862258911133,27.847936630249023,55.55399703979492,44.302921295166016,16.994518280029297],\"xaxis\":\"x\",\"y\":[-1.0808143615722656,2.813502311706543,5.140832424163818,1.1043788194656372,3.065577983856201,-0.40950682759284973,3.0724806785583496,1.7914484739303589,4.466114044189453,3.788954257965088,3.067678451538086,3.2295844554901123,4.775026798248291,1.4692109823226929,2.044931411743164,-1.017824649810791,-3.2825710773468018,-5.450504302978516,-9.276443481445312,1.184154748916626,-0.6316629648208618,-1.076670527458191,1.9841498136520386,-3.6398279666900635,4.407101631164551,-0.25946125388145447,0.8948990702629089,2.1663098335266113,-5.5357770919799805,2.462028741836548,2.1541521549224854,-5.724581718444824,3.7840163707733154,-2.3737189769744873,-0.9578075408935547,-0.986666738986969,1.6266249418258667,5.837863445281982,6.20825719833374,4.557285308837891,5.321186542510986,2.7170820236206055,-1.9467509984970093,1.0052732229232788,3.142728090286255,4.084566116333008,4.108770370483398,4.092787742614746,-2.0987439155578613,-7.834587097167969,3.191091537475586,3.1989479064941406,-2.6595163345336914,-0.2641538679599762,-0.3867796063423157,4.438627243041992,-1.7632461786270142,2.069586753845215,-5.142984390258789,0.16051405668258667,-7.266692638397217,-6.813564777374268,5.326445579528809,3.457770347595215,0.8790217041969299,-0.57468181848526,-2.452476978302002,4.228896617889404,4.5725274085998535,-2.9613444805145264,1.4497779607772827,-2.6200461387634277,4.280900478363037,-5.739709377288818,-2.469773292541504,-1.4905365705490112,2.573103666305542,1.4086108207702637,-0.738092839717865,3.3136403560638428,3.2089803218841553,3.1988048553466797,3.1957366466522217,6.439380645751953,-4.7097368240356445,3.3027501106262207,-0.6999947428703308,-6.004673004150391,-2.4292867183685303,0.6638942956924438,3.5580809116363525,-3.853828191757202,-2.271306276321411,1.0249792337417603,0.5205168128013611,2.8558928966522217,5.820218563079834,-0.18574286997318268],\"yaxis\":\"y\",\"type\":\"scatter\"},{\"customdata\":[[\"Masaharu Fukuyama\",\"\\u685c\\u5742\"],[\"\\u30b5\\u30b6\\u30f3\\u30aa\\u30fc\\u30eb\\u30b9\\u30bf\\u30fc\\u30ba\",\"TSUNAMI\"],[\"Hikaru Utada\",\"Wait & See \\uff5e\\u30ea\\u30b9\\u30af\\uff5e\"],[\"Takashi Fujii\",\"\\u30ca\\u30f3\\u30c0\\u30ab\\u30f3\\u30c0\"],[\"Hitomi Yaida\",\"My Sweet Darlin' - Remastered 2004\"],[\"Janet Jackson\",\"Doesn't Really Matter\"],[\"Destiny's Child\",\"Say My Name\"],[\"Santana\",\"Smooth (feat. Rob Thomas)\"],[\"B'z\",\"\\u4eca\\u591c\\u6708\\u306e\\u898b\\u3048\\u308b\\u4e18\\u306b\"],[\"\\u4e2d\\u5cf6\\u307f\\u3086\\u304d\",\"\\u5730\\u4e0a\\u306e\\u661f\"],[\"MISIA\",\"Everything\"],[\"Ayumi Hamasaki\",\"SEASONS\"],[\"Mai Kuraki\",\"Secret of my heart\"],[\"Madonna\",\"American Pie\"],[\"Faith Hill\",\"Breathe\"],[\"Joe\",\"I Wanna Know\"],[\"Vertical Horizon\",\"Everything You Want\"],[\"Sheena Ringo\",\"\\u30ae\\u30d6\\u30b9\"],[\"SPITZ\",\"\\u30e1\\u30e2\\u30ea\\u30fc\\u30ba\"],[\"BUMP OF CHICKEN\",\"\\u30e9\\u30f3\\u30d7\"],[\"Mr.Children\",\"\\u53e3\\u7b1b\"],[\"L'Arc-en-Ciel\",\"NEO UNIVERSE\"],[\"GLAY\",\"\\u3068\\u307e\\u3069\\u3044\"],[\"aiko\",\"Sakura no Toki\"],[\"PornoGraffitti\",\"\\u30b5\\u30a6\\u30c0\\u30fc\\u30b8\"],[\"The Dandy Warhols\",\"Bohemian Like You\"],[\"Oasis\",\"Go Let It Out\"],[\"blink-182\",\"All The Small Things\"],[\"Green Day\",\"Minority\"],[\"Savage Garden\",\"I Knew I Loved You\"],[\"Yuki Koyanagi\",\"\\u3042\\u306a\\u305f\\u306e\\u30ad\\u30b9\\u3092\\u6570\\u3048\\u307e\\u3057\\u3087\\u3046 \\u301cYou were mine\\u301c\"],[\"DA PUMP\",\"if...\"],[\"Ayumi Hamasaki\",\"vogue\"],[\"hana*hana\",\"\\u3042\\u301c\\u3088\\u304b\\u3063\\u305f - setagaya-mix\"],[\"Whiteberry\",\"\\u590f\\u796d\\u308a\"],[\"ARASHI\",\"\\u611f\\u8b1d\\u30ab\\u30f3\\u30b2\\u30ad\\u96e8\\u5d50\"],[\"\\u84ee\\u4e95 \\u6731\\u590f\",\"ZOO \\u301c\\u611b\\u3092\\u304f\\u3060\\u3055\\u3044\\u301c\"],[\"Bluem of Youth\",\"\\u30e9\\u30b9\\u30c8\\u30c4\\u30a2\\u30fc\\u301c\\u7d04\\u675f\\u306e\\u5834\\u6240\\u3078\\u301c\\uff08\\u30a6\\u30e9\\u30b8\\u30aa\\u30b9\\u30c8\\u30c3\\u30afrecording)\"],[\"Ken Hirai\",\"\\u697d\\u5712\"],[\"BUMP OF CHICKEN\",\"\\u30c0\\u30a4\\u30e4\\u30e2\\u30f3\\u30c9\"],[\"Radiohead\",\"The National Anthem\"],[\"Coldplay\",\"Yellow\"],[\"Tahiti 80\",\"Heartbeat\"],[\"Madonna\",\"Music\"],[\"Britney Spears\",\"Oops!...I Did It Again\"],[\"Toni Braxton\",\"He Wasn't Man Enough\"],[\"Backstreet Boys\",\"Shape of My Heart\"],[\"Fiona Apple\",\"Fast As You Can - Radio Edit\"],[\"Hikaru Utada\",\"For You\"],[\"aiko\",\"Boyfriend\"],[\"Cocco\",\"\\u3051\\u3082\\u306e\\u9053\"],[\"LOVE PSYCHEDELICO\",\"Last Smile\"],[\"Quruli\",\"\\u30ef\\u30f3\\u30c0\\u30fc\\u30d5\\u30a9\\u30fc\\u30b2\\u30eb\"],[\"Kazuyoshi Saito\",\"\\u30a2\\u30b2\\u30cf\"],[\"U2\",\"Beautiful Day\"],[\"Linkin Park\",\"In the End\"],[\"Limp Bizkit\",\"Take A Look Around\"],[\"Bon Jovi\",\"It's My Life\"],[\"Hi-STANDARD\",\"MY FIRST KISS\"],[\"Mondo Grosso\",\"LIFE\"],[\"m-flo\",\"How You Like Me Now?\"],[\"D'Angelo\",\"Spanish Joint\"],[\"Eminem\",\"The Real Slim Shady\"],[\"Cypress Hill\",\"(Rock) Superstar (feat. Chino Moreno & Everlast)\"],[\"Brian McKnight\",\"Back At One\"],[\"KIRINJI\",\"\\u30a8\\u30a4\\u30ea\\u30a2\\u30f3\\u30ba - 2018 Remaster\"],[\"DREAMS COME TRUE\",\"SNOW DANCE\"],[\"Sheena Ringo\",\"\\u7f6a\\u3068\\u7f70\"],[\"PornoGraffitti\",\"\\u30df\\u30e5\\u30fc\\u30b8\\u30c3\\u30af\\u30fb\\u30a2\\u30ef\\u30fc\"],[\"Masaharu Fukuyama\",\"HEAVEN (Original Version)\"],[\"\\u30b5\\u30b6\\u30f3\\u30aa\\u30fc\\u30eb\\u30b9\\u30bf\\u30fc\\u30ba\",\"HOTEL PACIFIC\"],[\"YUZU\",\"Ah Seishun No Hibi\"],[\"Westlife\",\"My Love\"],[\"*NSYNC\",\"It's Gonna Be Me\"],[\"Kylie Minogue\",\"Spinning Around\"],[\"GLAY\",\"MERMAID\"],[\"The Gospellers\",\"\\u6c38\\u9060\\u306b\"],[\"Chihiro Onitsuka\",\"\\u6708\\u5149\"],[\"\\u4e2d\\u5cf6\\u307f\\u3086\\u304d\",\"\\u30d8\\u30c3\\u30c9\\u30e9\\u30a4\\u30c8\\u30fb\\u30c6\\u30fc\\u30eb\\u30e9\\u30a4\\u30c8\"],[\"Kazumasa Oda\",\"woh woh\"],[\"Takako Matsu\",\"\\u685c\\u306e\\u96e8\\u3001\\u3044\\u3064\\u304b\"],[\"hana*hana\",\"\\u3055\\u3088\\u306a\\u3089\\u5927\\u597d\\u304d\\u306a\\u4eba - 2020 Remaster\"],[\"Aaliyah\",\"Try Again\"],[\"Christina Aguilera\",\"What a Girl Wants\"],[\"Sisqo\",\"Thong Song\"],[\"hitomi\",\"LOVE 2000\"],[\"Mr.Children\",\"NOT FOUND\"],[\"SPITZ\",\"\\u30db\\u30bf\\u30eb\"],[\"SUPER BUTTER DOG\",\"\\u30b3\\u30df\\u30e5\\u30cb\\u30b1\\u30fc\\u30b7\\u30e7\\u30f3\\u30fb\\u30d6\\u30ec\\u30a4\\u30af\\u30c0\\u30f3\\u30b9\"],[\"Dragon Ash\",\"Deep Impact feat. Rappagariya\"],[\"RHYMESTER\",\"\\u30d6\\u30e9\\u30b6\\u30fc\\u30ba DJ WATARAI Remix\"],[\"Matchbox Twenty\",\"Bent\"],[\"Creed\",\"Higher\"],[\"MONGOL800\",\"DON'T WORRY BE HAPPY\"],[\"Kazuyoshi Nakamura\",\"\\u541b\\u30ce\\u58f0\"],[\"WINO\",\"\\u592a\\u967d\\u306f\\u591c\\u3082\\u8f1d\\u304f\"],[\"Sunny Day Service\",\"Yoru no Melody\"],[\"\\u5927\\u6cc9\\u9038\\u90ce\",\"\\u5b6b\"]],\"hovertemplate\":\"\\u003cb\\u003e%{hovertext}\\u003c\\u002fb\\u003e\\u003cbr\\u003e\\u003cbr\\u003e\\u5e74\\u4ee3=2000\\u003cbr\\u003e\\u7b2c\\u4e00\\u4e3b\\u6210\\u5206=%{x}\\u003cbr\\u003e\\u7b2c\\u4e8c\\u4e3b\\u6210\\u5206=%{y}\\u003cbr\\u003e\\u30a2\\u30fc\\u30c6\\u30a3\\u30b9\\u30c8\\u540d=%{customdata[0]}\\u003cbr\\u003e\\u30c8\\u30e9\\u30c3\\u30af\\u540d=%{customdata[1]}\\u003cextra\\u003e\\u003c\\u002fextra\\u003e\",\"hovertext\":[\"2000\",\"2000\",\"2000\",\"2000\",\"2000\",\"2000\",\"2000\",\"2000\",\"2000\",\"2000\",\"2000\",\"2000\",\"2000\",\"2000\",\"2000\",\"2000\",\"2000\",\"2000\",\"2000\",\"2000\",\"2000\",\"2000\",\"2000\",\"2000\",\"2000\",\"2000\",\"2000\",\"2000\",\"2000\",\"2000\",\"2000\",\"2000\",\"2000\",\"2000\",\"2000\",\"2000\",\"2000\",\"2000\",\"2000\",\"2000\",\"2000\",\"2000\",\"2000\",\"2000\",\"2000\",\"2000\",\"2000\",\"2000\",\"2000\",\"2000\",\"2000\",\"2000\",\"2000\",\"2000\",\"2000\",\"2000\",\"2000\",\"2000\",\"2000\",\"2000\",\"2000\",\"2000\",\"2000\",\"2000\",\"2000\",\"2000\",\"2000\",\"2000\",\"2000\",\"2000\",\"2000\",\"2000\",\"2000\",\"2000\",\"2000\",\"2000\",\"2000\",\"2000\",\"2000\",\"2000\",\"2000\",\"2000\",\"2000\",\"2000\",\"2000\",\"2000\",\"2000\",\"2000\",\"2000\",\"2000\",\"2000\",\"2000\",\"2000\",\"2000\",\"2000\",\"2000\",\"2000\",\"2000\"],\"legendgroup\":\"2000\",\"marker\":{\"color\":\"#00cc96\",\"symbol\":\"circle\"},\"mode\":\"markers\",\"name\":\"2000\",\"orientation\":\"v\",\"showlegend\":true,\"x\":[-27.704620361328125,-42.844635009765625,-15.890196800231934,11.971757888793945,42.2986946105957,-32.41817092895508,26.782550811767578,-10.206690788269043,54.675777435302734,-31.21733856201172,18.143362045288086,46.567867279052734,50.37232971191406,6.871944904327393,25.132061004638672,24.443416595458984,-38.550907135009766,40.22499465942383,39.022247314453125,17.168222427368164,-35.213279724121094,-10.361185073852539,-14.799785614013672,19.663097381591797,-3.003542423248291,16.983184814453125,-50.84808349609375,36.446903228759766,26.804964065551758,-49.380523681640625,8.738445281982422,51.90740966796875,-31.582672119140625,51.963951110839844,29.10420799255371,16.530630111694336,-8.494705200195312,36.80423355102539,26.319499969482422,16.281831741333008,-39.523399353027344,52.819637298583984,-16.836275100708008,-1.1658873558044434,-37.54770278930664,-44.969032287597656,-35.97725296020508,25.661170959472656,-25.406517028808594,-2.441032886505127,41.44266891479492,-44.076847076416016,23.92200469970703,-20.035436630249023,24.59814453125,-24.01825714111328,-27.966184616088867,-2.8696110248565674,32.21232223510742,8.61376953125,-26.906078338623047,-13.25444221496582,-24.054805755615234,-38.095340728759766,15.28457260131836,50.72873306274414,57.38584899902344,-54.714717864990234,24.015335083007812,-28.25748634338379,40.67402648925781,7.261378288269043,31.38010025024414,47.30366516113281,-2.080737590789795,50.89973068237305,30.04339599609375,-55.199214935302734,26.47736930847168,-54.3533935546875,-52.318111419677734,38.102874755859375,-40.076416015625,29.612834930419922,1.0191941261291504,50.2266845703125,1.7577310800552368,26.341569900512695,23.362133026123047,-25.074790954589844,-43.1626091003418,-36.86644744873047,41.07065963745117,58.38959503173828,-44.89249801635742,46.66746520996094,-2.046818971633911,17.69908905029297],\"xaxis\":\"x\",\"y\":[0.7856695652008057,3.6911747455596924,-0.14728930592536926,-7.1393585205078125,2.447829484939575,6.92491340637207,-3.3313100337982178,-2.263437032699585,4.219722747802734,5.993322372436523,-3.986732244491577,3.8439793586730957,4.042172431945801,-2.63029408454895,0.6607795357704163,-2.27384614944458,3.6755685806274414,1.872803807258606,3.514539957046509,-3.9028220176696777,4.980074882507324,-0.24176988005638123,0.26041901111602783,-5.807884693145752,-5.913065433502197,-3.4119887351989746,1.0367655754089355,1.560261607170105,-3.905264139175415,-0.6300099492073059,-5.035516262054443,3.8786303997039795,6.443253040313721,3.838890314102173,-0.9701077938079834,-6.862016677856445,-1.0064142942428589,2.580669403076172,-1.3343911170959473,-6.507607460021973,1.5984277725219727,2.932286262512207,3.6809799671173096,-0.9629904627799988,4.943100929260254,4.453990459442139,5.860946178436279,0.9800329208374023,5.962805271148682,-4.223952770233154,2.9679393768310547,2.96331524848938,-4.830977439880371,3.73150372505188,-1.792931079864502,2.9986023902893066,4.565110206604004,-6.82327127456665,-0.8061708807945251,-1.0139766931533813,5.924104690551758,3.724820375442505,4.873610973358154,3.30062198638916,-1.1669988632202148,2.80269193649292,3.2789649963378906,0.8458185791969299,-5.896302700042725,4.7140960693359375,2.4261081218719482,-5.633667945861816,0.5666419267654419,3.83364200592041,-3.887221336364746,4.783133506774902,-0.6498590707778931,-2.3212625980377197,1.5350514650344849,-3.350071668624878,-1.8033630847930908,2.1892752647399902,4.383991241455078,0.471497505903244,-3.209719181060791,5.132021427154541,-4.200503349304199,-2.1225979328155518,-5.157486438751221,3.853874683380127,2.7013168334960938,3.7742903232574463,3.548456907272339,4.033558368682861,3.897785186767578,3.5499086380004883,-3.924682855606079,-3.4526662826538086],\"yaxis\":\"y\",\"type\":\"scatter\"},{\"customdata\":[[\"Def Tech\",\"My Way\"],[\"Ketsumeishi\",\"sakura\"],[\"ORANGE RANGE\",\"\\u82b1\"],[\"DREAMS COME TRUE\",\"\\u4f55\\u5ea6\\u3067\\u3082\"],[\"aiko\",\"Kira Kira\"],[\"SPITZ\",\"\\u6625\\u306e\\u6b4c\"],[\"Daniel Powter\",\"Bad Day\"],[\"O-Zone\",\"Dragostea Din Tei - Original Romanian Version\"],[\"Mariah Carey\",\"We Belong Together\"],[\"Madonna\",\"Hung Up\"],[\"Gwen Stefani\",\"Hollaback Girl\"],[\"Mario\",\"Let Me Love You\"],[\"ORANGE RANGE\",\"\\uff0a\\u301c\\u30a2\\u30b9\\u30bf\\u30ea\\u30b9\\u30af\\u301c\"],[\"GLAY\",\"SCREAM\"],[\"ELLEGARDEN\",\"Space Sonic\"],[\"GING NANG BOYZ\",\"BABY BABY\"],[\"B'z\",\"OCEAN\"],[\"U2\",\"Vertigo\"],[\"Green Day\",\"American Idiot\"],[\"Coldplay\",\"Speed of Sound\"],[\"Maroon 5\",\"Sunday Morning\"],[\"Mr.Children\",\"and I love you\"],[\"Ken Hirai\",\"POP STAR\"],[\"BENNIE K\",\"Dreamland\"],[\"Ai Otsuka\",\"SMILY\"],[\"\\u30b5\\u30b6\\u30f3\\u30aa\\u30fc\\u30eb\\u30b9\\u30bf\\u30fc\\u30ba\",\"\\u96e8\\u4e0a\\u304c\\u308a\\u306b\\u3082\\u3046\\u4e00\\u5ea6\\u30ad\\u30b9\\u3092\\u3057\\u3066\"],[\"Remioromen\",\"\\u5357\\u98a8\"],[\"Sukima Switch\",\"\\u5168\\u529b\\u5c11\\u5e74\"],[\"SINGER SONGER\",\"\\u521d\\u82b1\\u51dc\\u3005\\uff08\\u3057\\u3087\\u304b\\u308a\\u3093\\u308a\\u3093\\uff09\"],[\"BUMP OF CHICKEN\",\"\\u8eca\\u8f2a\\u306e\\u5504 (Single Edit)\"],[\"YUKI\",\"JOY\"],[\"Ayumi Hamasaki\",\"STEP you\"],[\"Black Eyed Peas\",\"Don't Phunk With My Heart\"],[\"50 Cent\",\"Candy Shop\"],[\"The Pussycat Dolls\",\"Don't Cha\"],[\"Craig David\",\"All the Way\"],[\"ORANGE RANGE\",\"\\u304a\\u9858\\u3044\\uff01\\u30bb\\u30cb\\u30e7\\u30ea\\u30fc\\u30bf\"],[\"Group Tamashii\",\"\\u541b\\u306b\\u30b8\\u30e5\\u30fc\\u30b9\\u3092\\u8cb7\\u3063\\u3066\\u3042\\u3052\\u308b\\uff3f\\uff3f\"],[\"Ken Matsudaira\",\"\\u30de\\u30c4\\u30b1\\u30f3\\u30b5\\u30f3\\u30d0\\u2161\"],[\"Yoku Hata\",\"\\u30ae\\u30bf\\u30fc\\u4f8d\\u306e\\u3046\\u305f - \\u6709\\u540d\\u4eba\\u65ac\\u308a\\u30d0\\u30fc\\u30b8\\u30e7\\u30f3\"],[\"Destiny's Child\",\"Lose My Breath\"],[\"Missy Elliott\",\"Lose Control (feat. Ciara & Fat Man Scoop)\"],[\"Rihanna\",\"Pon de Replay\"],[\"Nana\",\"GLAMOROUS SKY\"],[\"L'Arc-en-Ciel\",\"Link\"],[\"ARASHI\",\"WISH\"],[\"D-51\",\"No More Cry\"],[\"Sasuke\",\"\\u9752\\u3044\\u30d9\\u30f3\\u30c1\"],[\"UNDER GRAPH\",\"\\u30c4\\u30d0\\u30b5\"],[\"KOBUKURO\",\"\\u3053\\u3053\\u306b\\u3057\\u304b\\u54b2\\u304b\\u306a\\u3044\\u82b1\"],[\"Janne Da Arc\",\"\\u6708\\u5149\\u82b1\"],[\"Ayaka Hirahara\",\"\\u660e\\u65e5\"],[\"Kumi Koda\",\"Butterfly\"],[\"Oasis\",\"Lyla\"],[\"Franz Ferdinand\",\"Do You Want To\"],[\"Green Day\",\"Boulevard of Broken Dreams\"],[\"Weezer\",\"Beverly Hills\"],[\"The Killers\",\"Mr. Brightside\"],[\"Mr.Children\",\"\\u672a\\u6765\"],[\"Quruli\",\"BIRTHDAY\"],[\"BUMP OF CHICKEN\",\"\\u30d7\\u30e9\\u30cd\\u30bf\\u30ea\\u30a6\\u30e0\"],[\"\\u30b5\\u30b6\\u30f3\\u30aa\\u30fc\\u30eb\\u30b9\\u30bf\\u30fc\\u30ba\",\"BOHBO No.5\"],[\"Sambomaster\",\"\\u4e16\\u754c\\u306f\\u305d\\u308c\\u3092\\u611b\\u3068\\u547c\\u3076\\u3093\\u3060\\u305c\"],[\"Tokyo Incidents\",\"\\u4fee\\u7f85\\u5834 - \\u30b7\\u30f3\\u30b0\\u30eb\"],[\"Ulfuls\",\"\\u66b4\\u308c\\u3060\\u3059 - full version\"],[\"New Order\",\"Krafty - Single Edit; 2015 Remaster\"],[\"B'z\",\"\\u611b\\u306e\\u30d0\\u30af\\u30c0\\u30f3\"],[\"YUI\",\"feel my soul\"],[\"K\",\"over...\"],[\"Kaela Kimura\",\"\\u30ea\\u30eb\\u30e9 \\u30ea\\u30eb\\u30cf\"],[\"Chris Brown\",\"Run It! (feat. Juelz Santana)\"],[\"Kanye West\",\"Gold Digger\"],[\"Kings of Leon\",\"The Bucket\"],[\"John Legend\",\"Used to Love U\"],[\"James Blunt\",\"You're Beautiful\"],[\"Crystal Kay\",\"\\u604b\\u306b\\u304a\\u3061\\u305f\\u3089\"],[\"Yo Hitoto\",\"\\u30cf\\u30ca\\u30df\\u30ba\\u30ad\"],[\"Ai Otsuka\",\"\\u30d7\\u30e9\\u30cd\\u30bf\\u30ea\\u30a6\\u30e0\"],[\"Gorillaz\",\"Feel Good Inc.\"],[\"JAY-Z\",\"Numb \\u002f Encore\"],[\"Eminem\",\"Just Lose It\"],[\"Snoop Dogg\",\"Drop It Like It's Hot\"],[\"KREVA\",\"\\u30a4\\u30c3\\u30b5\\u30a4\\u30ac\\u30c3\\u30b5\\u30a4\"],[\"AI\",\"Story\"],[\"BoA\",\"\\u30e1\\u30ea\\u30af\\u30ea\"],[\"Every Little Thing\",\"\\u604b\\u6587\"],[\"Masaharu Fukuyama\",\"\\u6ce3\\u3044\\u305f\\u308a\\u3057\\u306a\\u3044\\u3067\"],[\"KOBUKURO\",\"\\u685c\"],[\"YUZU\",\"Choutokkyuu\"],[\"REIRA starring Yuna Ito\",\"ENDLESS STORY\"],[\"Hikaru Utada\",\"Be My Last\"],[\"Tristan Prettyman\",\"Love Love Love\"],[\"Kelly Clarkson\",\"Since U Been Gone\"],[\"Lifehouse\",\"You And Me\"],[\"ASIAN KUNG-FU GENERATION\",\"\\u30d6\\u30eb\\u30fc\\u30c8\\u30ec\\u30a4\\u30f3\"],[\"YUI\",\"Tomorrow's way\"],[\"UVERworld\",\"D-tecnoLife\"],[\"Hitomi Takahashi\",\"\\u50d5\\u305f\\u3061\\u306e\\u884c\\u65b9\"]],\"hovertemplate\":\"\\u003cb\\u003e%{hovertext}\\u003c\\u002fb\\u003e\\u003cbr\\u003e\\u003cbr\\u003e\\u5e74\\u4ee3=2005\\u003cbr\\u003e\\u7b2c\\u4e00\\u4e3b\\u6210\\u5206=%{x}\\u003cbr\\u003e\\u7b2c\\u4e8c\\u4e3b\\u6210\\u5206=%{y}\\u003cbr\\u003e\\u30a2\\u30fc\\u30c6\\u30a3\\u30b9\\u30c8\\u540d=%{customdata[0]}\\u003cbr\\u003e\\u30c8\\u30e9\\u30c3\\u30af\\u540d=%{customdata[1]}\\u003cextra\\u003e\\u003c\\u002fextra\\u003e\",\"hovertext\":[\"2005\",\"2005\",\"2005\",\"2005\",\"2005\",\"2005\",\"2005\",\"2005\",\"2005\",\"2005\",\"2005\",\"2005\",\"2005\",\"2005\",\"2005\",\"2005\",\"2005\",\"2005\",\"2005\",\"2005\",\"2005\",\"2005\",\"2005\",\"2005\",\"2005\",\"2005\",\"2005\",\"2005\",\"2005\",\"2005\",\"2005\",\"2005\",\"2005\",\"2005\",\"2005\",\"2005\",\"2005\",\"2005\",\"2005\",\"2005\",\"2005\",\"2005\",\"2005\",\"2005\",\"2005\",\"2005\",\"2005\",\"2005\",\"2005\",\"2005\",\"2005\",\"2005\",\"2005\",\"2005\",\"2005\",\"2005\",\"2005\",\"2005\",\"2005\",\"2005\",\"2005\",\"2005\",\"2005\",\"2005\",\"2005\",\"2005\",\"2005\",\"2005\",\"2005\",\"2005\",\"2005\",\"2005\",\"2005\",\"2005\",\"2005\",\"2005\",\"2005\",\"2005\",\"2005\",\"2005\",\"2005\",\"2005\",\"2005\",\"2005\",\"2005\",\"2005\",\"2005\",\"2005\",\"2005\",\"2005\",\"2005\",\"2005\",\"2005\",\"2005\",\"2005\",\"2005\",\"2005\",\"2005\"],\"legendgroup\":\"2005\",\"marker\":{\"color\":\"#ab63fa\",\"symbol\":\"circle\"},\"mode\":\"markers\",\"name\":\"2005\",\"orientation\":\"v\",\"showlegend\":true,\"x\":[-30.76522445678711,-2.563072919845581,56.449195861816406,-31.382139205932617,-25.042123794555664,-10.01382064819336,28.56369972229004,16.847816467285156,27.3859920501709,7.809599876403809,-17.648897171020508,-37.7884635925293,13.702929496765137,-19.28183937072754,-23.78266143798828,28.514162063598633,-53.17538833618164,28.787036895751953,57.10251235961914,4.873276710510254,-44.688575744628906,-27.404752731323242,28.834369659423828,28.605749130249023,39.49896240234375,-24.25779151916504,13.449655532836914,22.224809646606445,-8.767772674560547,-17.741397857666016,-1.2386771440505981,-25.506528854370117,18.452571868896484,8.261861801147461,-3.418410301208496,-26.0483455657959,44.289363861083984,52.17043685913086,12.501340866088867,31.279953002929688,-3.4978771209716797,8.18231201171875,-31.527965545654297,38.027992248535156,38.57939147949219,19.843280792236328,25.531417846679688,-22.8393497467041,-23.761911392211914,-54.10538101196289,-27.778303146362305,-1.2831506729125977,26.115942001342773,-2.0708060264587402,5.612603664398193,48.72883605957031,-45.099876403808594,35.78705596923828,-16.469524383544922,-37.63617706298828,-9.466329574584961,48.02116775512695,29.761381149291992,-2.5718469619750977,22.21782875061035,28.055740356445312,51.230262756347656,56.56069564819336,45.21499252319336,26.399736404418945,-29.65645408630371,-39.74799346923828,28.173471450805664,-45.13839340209961,-51.0645866394043,-27.449382781982422,28.98456382751465,58.7072639465332,26.744747161865234,-20.70745849609375,-1.4302829504013062,-41.54216384887695,-3.2770984172821045,8.85191535949707,0.8988939523696899,-54.81602096557617,30.90501594543457,-50.863975524902344,58.78068923950195,-2.4195570945739746,50.8094596862793,-40.513824462890625,17.09134292602539,27.37467384338379,43.296512603759766,43.780418395996094,49.34453582763672,-26.291610717773438],\"xaxis\":\"x\",\"y\":[3.345611095428467,-6.714221000671387,3.9909474849700928,5.5524001121521,3.960859775543213,-1.8216348886489868,-2.1102182865142822,-6.573601245880127,0.5578484535217285,-2.5504982471466064,0.6372113823890686,2.3490350246429443,-6.8973259925842285,2.577667713165283,6.509499549865723,-3.9629852771759033,0.3729335367679596,-2.1067869663238525,4.379174709320068,-3.8414602279663086,2.4559452533721924,3.039445161819458,-2.939962387084961,-3.4324655532836914,1.8237789869308472,4.041033744812012,-5.490357875823975,-4.650085926055908,-1.9272420406341553,2.564997673034668,-7.569981098175049,6.138693332672119,-6.988763332366943,-2.05246639251709,-7.910695552825928,5.259641170501709,2.8317487239837646,4.797855854034424,-6.580730438232422,1.1481016874313354,-3.256638765335083,-3.1650876998901367,2.1096270084381104,0.9847880601882935,2.5463850498199463,-5.53913688659668,-3.125530958175659,2.773033618927002,3.684342622756958,-1.336472749710083,4.986588001251221,-0.0028635687194764614,-0.49735113978385925,-9.183467864990234,-7.661201000213623,3.6796746253967285,3.6204895973205566,1.5162235498428345,2.769120454788208,1.1114064455032349,-1.0668842792510986,4.041501998901367,-2.169725179672241,-5.68572998046875,-4.619853973388672,-0.6543809175491333,4.460142135620117,4.072683334350586,4.12545108795166,-4.047235012054443,3.6167407035827637,3.9261505603790283,-0.6210393905639648,2.9115283489227295,-1.4971554279327393,5.353102684020996,0.09056326746940613,3.497102737426758,-0.6198856830596924,3.5477523803710938,-8.012018203735352,4.511064529418945,-5.043539524078369,-5.537994384765625,-3.5632715225219727,-1.8765496015548706,1.6928461790084839,-0.011011115275323391,3.9593682289123535,-3.3830344676971436,3.870421886444092,4.86881160736084,-4.346386432647705,0.49250781536102295,3.75756573677063,2.889397144317627,4.112030506134033,6.436703205108643],\"yaxis\":\"y\",\"type\":\"scatter\"},{\"customdata\":[[\"KAN\",\"Yokereba Issyoni\"],[\"Ikimonogakari\",\"\\u3042\\u308a\\u304c\\u3068\\u3046\"],[\"AKB48\",\"Beginner\"],[\"ARASHI\",\"Monster\"],[\"Hikaru Utada\",\"Goodbye Happiness\"],[\"Tokyo Incidents\",\"\\u80fd\\u52d5\\u7684\\u4e09\\u5206\\u9593\"],[\"Katy Perry\",\"California Gurls\"],[\"Lady Gaga\",\"Bad Romance\"],[\"P!nk\",\"Raise Your Glass\"],[\"Shota Shimizu\",\"FOREVER LOVE\"],[\"Kana Nishino\",\"\\u541b\\u3063\\u3066\"],[\"andymori\",\"1984\"],[\"ONE OK ROCK\",\"Wherever you are\"],[\"RADWIMPS\",\"Manifesto\"],[\"Eminem\",\"Love The Way You Lie\"],[\"Bruno Mars\",\"Just the Way You Are\"],[\"Kesha\",\"TiK ToK\"],[\"Keisuke Kuwata\",\"\\u672c\\u5f53\\u306f\\u6016\\u3044\\u611b\\u3068\\u30ed\\u30de\\u30f3\\u30b9\"],[\"Masaharu Fukuyama\",\"\\u306f\\u3064\\u604b\"],[\"AKB48\",\"\\u30d8\\u30d3\\u30fc\\u30ed\\u30fc\\u30c6\\u30fc\\u30b7\\u30e7\\u30f3\"],[\"Kana Nishino\",\"\\u4f1a\\u3044\\u305f\\u304f\\u3066 \\u4f1a\\u3044\\u305f\\u304f\\u3066\"],[\"Superfly\",\"\\u30bf\\u30de\\u30b7\\u30a4\\u30ec\\u30dc\\u30ea\\u30e5\\u30fc\\u30b7\\u30e7\\u30f3\"],[\"K'NAAN\",\"Wavin' Flag - Celebration Mix\"],[\"Taylor Swift\",\"Mine\"],[\"ARASHI\",\"\\u679c\\u3066\\u306a\\u3044\\u7a7a\"],[\"BUMP OF CHICKEN\",\"\\u5b87\\u5b99\\u98db\\u884c\\u58eb\\u3078\\u306e\\u624b\\u7d19\"],[\"YUI\",\"GLORIA\"],[\"Perfume\",\"VOICE\"],[\"Maroon 5\",\"Misery\"],[\"Taio Cruz\",\"Dynamite\"],[\"INFINITY16\",\"\\u4f1d\\u3048\\u305f\\u3044\\u4e8b\\u304c\\u3053\\u3093\\u306a\\u3042\\u308b\\u306e\\u306b\"],[\"Yusuke\",\"\\u30e9\\u30a4\\u30aa\\u30f3\"],[\"SEKAI NO OWARI\",\"\\u8679\\u8272\\u306e\\u6226\\u4e89\"],[\"Toshinobu Kubota\",\"LOVE RAIN \\uff5e\\u604b\\u306e\\u96e8\\uff5e\"],[\"RIP SLYME\",\"Good Times\"],[\"Michael Jackson\",\"This Is It\"],[\"Mark Ronson\",\"Bang Bang Bang (feat. MNDR)\"],[\"KT Tunstall\",\"Fade Like A Shadow\"],[\"Fujifabric\",\"\\u591c\\u660e\\u3051\\u306eBEAT\"],[\"sakanaction\",\"\\u30a2\\u30eb\\u30af\\u30a2\\u30e9\\u30a6\\u30f3\\u30c9\"],[\"ASIAN KUNG-FU GENERATION\",\"\\u30bd\\u30e9\\u30cb\\u30f3\"],[\"ONE OK ROCK\",\"Kanzen kankaku Dreamer\"],[\"L'Arc-en-Ciel\",\"BLESS\"],[\"Kylie Minogue\",\"All the Lovers\"],[\"Jamiroquai\",\"White Knuckle Ride\"],[\"USHER\",\"DJ Got Us Fallin' In Love (feat. Pitbull)\"],[\"KOBUKURO\",\"\\u6d41\\u661f\"],[\"Kazuyoshi Saito\",\"\\u305a\\u3063\\u3068\\u597d\\u304d\\u3060\\u3063\\u305f\"],[\"Justin Bieber\",\"Baby\"],[\"Alicia Keys\",\"Try Sleeping with a Broken Heart\"],[\"Black Eyed Peas\",\"Imma Be\"],[\"J SOUL BROTHERS III\",\"Best Friend's Girl\"],[\"KARA\",\"\\u30df\\u30b9\\u30bf\\u30fc\"],[\"Girls' Generation\",\"Gee\"],[\"Rihanna\",\"Only Girl (In The World)\"],[\"B.o.B\",\"Nothin' on You (feat. Bruno Mars)\"],[\"David Guetta\",\"Memories (feat. Kid Cudi)\"],[\"FUNKY MONKEY BABYS\",\"\\u3042\\u3068\\u3072\\u3068\\u3064\"],[\"Superfly\",\"Wildflower\"],[\"Creep Hyp\",\"He Is Mine\"],[\"Jack Johnson\",\"You And Your Heart\"],[\"Gorillaz\",\"Stylo (feat. Mos Def and Bobby Womack)\"],[\"The Chemical Brothers\",\"Swoon - Radio Edit\"],[\"SPITZ\",\"\\u3064\\u3050\\u307f\"],[\"Ketsumeishi\",\"ofutariSummer\"],[\"JUJU\",\"\\u3053\\u306e\\u591c\\u3092\\u6b62\\u3081\\u3066\\u3088\"],[\"Kanye West\",\"POWER\"],[\"Drake\",\"Over\"],[\"Dr. Dre\",\"Kush - Main\"],[\"Yui Aragaki\",\"\\u5c0f\\u3055\\u306a\\u604b\\u306e\\u3046\\u305f\"],[\"Motohiro Hata\",\"\\u30a2\\u30a4\"],[\"Gen Hoshino\",\"Kuse no Uta\"],[\"Lady Gaga\",\"Telephone\"],[\"Kesha\",\"Blah Blah Blah (feat. 3OH!3)\"],[\"Katy Perry\",\"Teenage Dream\"],[\"Kana Uemura\",\"\\u30c8\\u30a4\\u30ec\\u306e\\u795e\\u69d8\"],[\"Monkey Majik\",\"SAKURA\"],[\"EXILE\",\"I Wish For You\"],[\"Lady A\",\"Need You Now\"],[\"Nelly\",\"Just A Dream\"],[\"Mr.Children\",\"365\\u65e5\"],[\"Tokyo Incidents\",\"\\u52dd\\u3061\\u6226\"],[\"RADWIMPS\",\"Keitaidenwa - Cat Version\"],[\"Train\",\"Hey, Soul Sister\"],[\"USHER\",\"OMG (feat. will.i.am) - Disco Fries Extended Mix\"],[\"Taio Cruz\",\"Break Your Heart\"],[\"Meisa Kuroki\",\"LOL!\"],[\"Momoiro Clover Z\",\"\\u884c\\u304f\\u305c\\u3063!\\u602a\\u76d7\\u5c11\\u5973\"],[\"KREVA\",\"\\u304b\\u3082\"],[\"Kumi Koda\",\"\\u597d\\u304d\\u3067\\u3001\\u597d\\u304d\\u3067\\u3001\\u597d\\u304d\\u3067\\u3002\"],[\"Kaela Kimura\",\"Ring a Ding Dong\"],[\"Jason Derulo\",\"In My Head\"],[\"Mike Posner\",\"Cooler Than Me - Single Mix\"],[\"Mao Abe\",\"\\u3044\\u3064\\u306e\\u65e5\\u3082\"],[\"lecca\",\"TSUBOMI\"],[\"DOES\",\"\\u30d0\\u30af\\u30c1\\u30fb\\u30c0\\u30f3\\u30b5\\u30fc\"],[\"\\u7269\\u8a9e\\u30b7\\u30ea\\u30fc\\u30ba\",\"\\u604b\\u611b\\u30b5\\u30fc\\u30ad\\u30e5\\u30ec\\u30fc\\u30b7\\u30e7\\u30f3\"],[\"GOLDEN BOMBER\",\"\\u5973\\u3005\\u3057\\u304f\\u3066\"],[\"Fuyumi Sakamoto\",\"\\u307e\\u305f\\u541b\\u306b\\u604b\\u3057\\u3066\\u308b\"]],\"hovertemplate\":\"\\u003cb\\u003e%{hovertext}\\u003c\\u002fb\\u003e\\u003cbr\\u003e\\u003cbr\\u003e\\u5e74\\u4ee3=2010\\u003cbr\\u003e\\u7b2c\\u4e00\\u4e3b\\u6210\\u5206=%{x}\\u003cbr\\u003e\\u7b2c\\u4e8c\\u4e3b\\u6210\\u5206=%{y}\\u003cbr\\u003e\\u30a2\\u30fc\\u30c6\\u30a3\\u30b9\\u30c8\\u540d=%{customdata[0]}\\u003cbr\\u003e\\u30c8\\u30e9\\u30c3\\u30af\\u540d=%{customdata[1]}\\u003cextra\\u003e\\u003c\\u002fextra\\u003e\",\"hovertext\":[\"2010\",\"2010\",\"2010\",\"2010\",\"2010\",\"2010\",\"2010\",\"2010\",\"2010\",\"2010\",\"2010\",\"2010\",\"2010\",\"2010\",\"2010\",\"2010\",\"2010\",\"2010\",\"2010\",\"2010\",\"2010\",\"2010\",\"2010\",\"2010\",\"2010\",\"2010\",\"2010\",\"2010\",\"2010\",\"2010\",\"2010\",\"2010\",\"2010\",\"2010\",\"2010\",\"2010\",\"2010\",\"2010\",\"2010\",\"2010\",\"2010\",\"2010\",\"2010\",\"2010\",\"2010\",\"2010\",\"2010\",\"2010\",\"2010\",\"2010\",\"2010\",\"2010\",\"2010\",\"2010\",\"2010\",\"2010\",\"2010\",\"2010\",\"2010\",\"2010\",\"2010\",\"2010\",\"2010\",\"2010\",\"2010\",\"2010\",\"2010\",\"2010\",\"2010\",\"2010\",\"2010\",\"2010\",\"2010\",\"2010\",\"2010\",\"2010\",\"2010\",\"2010\",\"2010\",\"2010\",\"2010\",\"2010\",\"2010\",\"2010\",\"2010\",\"2010\",\"2010\",\"2010\",\"2010\",\"2010\",\"2010\",\"2010\",\"2010\",\"2010\",\"2010\",\"2010\",\"2010\",\"2010\",\"2010\"],\"legendgroup\":\"2010\",\"marker\":{\"color\":\"#FFA15A\",\"symbol\":\"circle\"},\"mode\":\"markers\",\"name\":\"2010\",\"orientation\":\"v\",\"showlegend\":true,\"x\":[-8.811222076416016,-54.444305419921875,44.184818267822266,23.394296646118164,-2.3153834342956543,-2.593285083770752,8.035805702209473,-4.274691581726074,2.0060243606567383,-1.1802318096160889,31.55307388305664,-9.443004608154297,52.77199172973633,-35.689598083496094,-45.75654983520508,-17.585914611816406,-2.913515090942383,-17.223594665527344,-55.11836624145508,54.745296478271484,-17.02069854736328,19.556413650512695,38.77981185913086,-1.641758918762207,-23.199800491333008,7.842044830322266,-11.021463394165039,19.92368507385254,-26.256332397460938,-2.9280049800872803,-53.43471908569336,-42.344818115234375,50.704280853271484,-16.8819580078125,14.890281677246094,-35.308387756347656,-41.43277359008789,28.668922424316406,37.43965148925781,19.88800621032715,55.07048034667969,-37.35139846801758,-42.51820373535156,-1.8375787734985352,8.33498764038086,-3.1949360370635986,39.801692962646484,13.393607139587402,-56.34441375732422,-15.846172332763672,-40.04312515258789,-39.24734115600586,10.226951599121094,-31.979217529296875,9.081235885620117,-25.18527603149414,15.982468605041504,-54.18299102783203,15.392881393432617,43.00579071044922,-19.5800838470459,-30.70992660522461,6.322842597961426,-33.61335754394531,-2.560868501663208,-52.52264404296875,40.04693603515625,-31.54935073852539,-37.528831481933594,-41.31513214111328,-50.273677825927734,-56.17424011230469,2.2609198093414307,-2.859384059906006,-2.544398307800293,-14.254687309265137,52.84131622314453,-4.273628234863281,-18.85102653503418,-43.17938232421875,23.999555587768555,-23.643230438232422,-23.806711196899414,-34.877201080322266,16.332914352416992,1.8434052467346191,21.00918960571289,43.95598220825195,44.08590316772461,38.507232666015625,53.36671829223633,-17.107059478759766,15.983659744262695,33.303714752197266,-44.80647659301758,-12.28269100189209,-2.5723462104797363,31.373592376708984,-38.842742919921875],\"xaxis\":\"x\",\"y\":[-1.7313616275787354,0.3188057839870453,3.752704620361328,-4.138477325439453,-4.618597984313965,-7.559831619262695,-6.946832180023193,-6.9539313316345215,-5.396605014801025,-7.078257083892822,-0.5640510320663452,-0.7503674030303955,3.917660713195801,6.906234264373779,2.670646905899048,2.9994139671325684,-8.864378929138184,1.471616268157959,-1.2288130521774292,4.570181846618652,2.026092290878296,-6.849071979522705,1.8847955465316772,-8.688672065734863,5.205623149871826,-6.253151893615723,-1.9956680536270142,-7.099895477294922,4.873326301574707,-7.391422748565674,1.0182024240493774,3.7736685276031494,3.41812801361084,1.8100800514221191,-6.246549606323242,4.851603031158447,5.140681743621826,-2.1305956840515137,1.7205348014831543,-6.3266215324401855,3.8517887592315674,6.234278202056885,4.2911248207092285,-3.1133131980895996,-4.245647430419922,-8.059671401977539,3.05622935295105,-7.3393473625183105,-3.00956130027771,1.7642168998718262,2.5502889156341553,5.146533966064453,-7.530599594116211,7.821784496307373,-6.5193986892700195,3.483882188796997,-4.062366008758545,-0.0950312465429306,-7.519421100616455,2.5984914302825928,4.032988548278809,4.811172008514404,-5.871694564819336,5.759963035583496,-7.886162757873535,0.6635344624519348,2.8188929557800293,4.830310821533203,4.071913242340088,3.539614677429199,-0.7973770499229431,-3.148123264312744,-4.591898441314697,-8.379999160766602,-5.904754638671875,5.525775909423828,4.497487545013428,-5.587875843048096,3.4399824142456055,2.3696858882904053,-2.0030548572540283,3.569242477416992,3.688887119293213,5.818007469177246,-6.552820682525635,-5.71080207824707,-4.843360900878906,2.5264391899108887,3.2127623558044434,2.259847640991211,3.812584638595581,1.4519765377044678,-5.732701301574707,0.6005622148513794,3.3658809661865234,-0.6469501256942749,-3.913278818130493,-1.1118816137313843,1.9630025625228882],\"yaxis\":\"y\",\"type\":\"scatter\"},{\"customdata\":[[\"sakanaction\",\"\\u65b0\\u5b9d\\u5cf6\"],[\"[Alexandros]\",\"\\u30ef\\u30bf\\u30ea\\u30c9\\u30ea\"],[\"Gesu No Kiwami Otome\",\"\\u79c1\\u4ee5\\u5916\\u79c1\\u3058\\u3083\\u306a\\u3044\\u306e\"],[\"back number\",\"\\u30af\\u30ea\\u30b9\\u30de\\u30b9\\u30bd\\u30f3\\u30b0\"],[\"Kana Nishino\",\"\\u30c8\\u30ea\\u30bb\\u30c4\"],[\"Leo Ieiri\",\"\\u541b\\u304c\\u304f\\u308c\\u305f\\u590f\"],[\"Mark Ronson\",\"Uptown Funk (feat. Bruno Mars)\"],[\"Ed Sheeran\",\"Thinking out Loud\"],[\"Justin Bieber\",\"What Do You Mean?\"],[\"Ariana Grande\",\"One Last Time\"],[\"Carly Rae Jepsen\",\"I Really Like You\"],[\"SEKAI NO OWARI\",\"Dragon Night\"],[\"BUMP OF CHICKEN\",\"Hello,world!\"],[\"UNISON SQUARE GARDEN\",\"\\u30b7\\u30e5\\u30ac\\u30fc\\u30bd\\u30f3\\u30b0\\u3068\\u30d3\\u30bf\\u30fc\\u30b9\\u30c6\\u30c3\\u30d7\"],[\"Gen Hoshino\",\"SUN\"],[\"ARASHI\",\"Sakura\"],[\"J SOUL BROTHERS III\",\"Summer Madness\"],[\"Yu Takahashi\",\"\\u660e\\u65e5\\u306f\\u304d\\u3063\\u3068\\u3044\\u3044\\u65e5\\u306b\\u306a\\u308b\"],[\"back number\",\"\\u30d2\\u30ed\\u30a4\\u30f3\"],[\"Adele\",\"Hello\"],[\"Wiz Khalifa\",\"See You Again (feat. Charlie Puth)\"],[\"Justin Bieber\",\"Love Yourself\"],[\"Coldplay\",\"Hymn for the Weekend\"],[\"Zedd\",\"I Want You To Know\"],[\"Kyary Pamyu Pamyu\",\"\\u3082\\u3093\\u3060\\u3044\\u30ac\\u30fc\\u30eb\"],[\"Perfume\",\"STAR TRAIN\"],[\"chay\",\"\\u3042\\u306a\\u305f\\u306b\\u604b\\u3092\\u3057\\u3066\\u307f\\u307e\\u3057\\u305f\"],[\"Che'Nelle\",\"Happiness\"],[\"BTS\",\"For You\"],[\"The Weeknd\",\"Earned It (Fifty Shades Of Grey) - From The \\\"Fifty Shades Of Grey\\\" Soundtrack\"],[\"Shawn Mendes\",\"Stitches\"],[\"Charlie Puth\",\"We Don't Talk Anymore (feat. Selena Gomez)\"],[\"Mr.Children\",\"Starting Over\"],[\"\\u30b5\\u30b6\\u30f3\\u30aa\\u30fc\\u30eb\\u30b9\\u30bf\\u30fc\\u30ba\",\"\\u6804\\u5149\\u306e\\u7537\"],[\"Sheena Ringo\",\"\\u9577\\u304f\\u77ed\\u3044\\u796d\"],[\"SEKAI NO OWARI\",\"ANTI-HERO\"],[\"HIRAIDAI\",\"Slow & Easy\"],[\"Lucky Kilimanjaro\",\"Burning Friday Night\"],[\"Avicii\",\"Waiting For Love\"],[\"Ellie Goulding\",\"Love Me Like You Do - From \\\"Fifty Shades Of Grey\\\"\"],[\"Rachel Platten\",\"Fight Song\"],[\"ONE OK ROCK\",\"Cry Out\"],[\"Suchmos\",\"Miree\"],[\"SHISHAMO\",\"\\u71b1\\u5e2f\\u591c\"],[\"KOBUKURO\",\"\\u672a\\u6765\"],[\"AKB48\",\"\\u50d5\\u305f\\u3061\\u306f\\u6226\\u308f\\u306a\\u3044\"],[\"B'z\",\"\\u6709\\u9802\\u5929\"],[\"Taylor Swift\",\"Blank Space\"],[\"Little Mix\",\"Black Magic\"],[\"One Direction\",\"Perfect\"],[\"J SOUL BROTHERS III\",\"O.R.I.O.N.\"],[\"Superfly\",\"Beautiful\"],[\"Crystal Kay\",\"REVOLUTION\"],[\"Meghan Trainor\",\"Lips Are Movin\"],[\"Justin Bieber\",\"Sorry\"],[\"Avicii\",\"The Nights\"],[\"Kumamushi\",\"\\u3042\\u3063\\u305f\\u304b\\u3044\\u3093\\u3060\\u304b\\u3089\\u3041\\u266a\"],[\"Taro Urashima\",\"\\u6d77\\u306e\\u58f0\"],[\"Naoto Inti Raymi\",\"\\u3044\\u3064\\u304b\\u304d\\u3063\\u3068\"],[\"Kenshi Yonezu\",\"Flowerwall\"],[\"Major Lazer\",\"Lean On\"],[\"Coldplay\",\"Adventure of a Lifetime\"],[\"OMI\",\"Cheerleader - Felix Jaehn Remix Radio Edit\"],[\"Kana Nishino\",\"\\u3082\\u3057\\u3082\\u904b\\u547d\\u306e\\u4eba\\u304c\\u3044\\u308b\\u306e\\u306a\\u3089\"],[\"Chatmonchy\",\"\\u304d\\u307f\\u304c\\u305d\\u306e\\u6c17\\u306a\\u3089\"],[\"The Birthday\",\"I KNOW\"],[\"Olly Alexander (Years & Years)\",\"King\"],[\"Sam Smith\",\"Stay With Me\"],[\"Chris Brown\",\"Ayo\"],[\"Maroon 5\",\"Sugar\"],[\"Flo Rida\",\"My House\"],[\"Nogizaka46\",\"\\u547d\\u306f\\u7f8e\\u3057\\u3044\"],[\"Masaharu Fukuyama\",\"I am a HERO\"],[\"PornoGraffitti\",\"\\u30aa\\u30fc!\\u30ea\\u30d0\\u30eb\"],[\"Hozier\",\"Take Me to Church\"],[\"Muse\",\"Mercy\"],[\"Jonas Blue\",\"Fast Car\"],[\"Troye Sivan\",\"YOUTH\"],[\"YEN TOWN BAND\",\"\\u30a2\\u30a4\\u30ce\\u30cd\"],[\"Kenshi Yonezu\",\"\\u30e1\\u30c8\\u30ed\\u30ce\\u30fc\\u30e0\"],[\"cero\",\"Summer Soul\"],[\"Drake\",\"Right Hand\"],[\"Fetty Wap\",\"My Way (feat. Monty)\"],[\"Rihanna\",\"FourFiveSeconds\"],[\"The Chemical Brothers\",\"Go\"],[\"Gesu No Kiwami Otome\",\"\\u30ed\\u30de\\u30f3\\u30b9\\u304c\\u3042\\u308a\\u3042\\u307e\\u308b\"],[\"MAN WITH A MISSION\",\"Raise your flag\"],[\"04 Limited Sazabys\",\"swim\"],[\"Suchmos\",\"YMM\"],[\"Ykiki Beat\",\"Forever\"],[\"androp\",\"Yeah! Yeah! Yeah!\"],[\"Pharrell Williams\",\"Freedom\"],[\"Jason Derulo\",\"Want to Want Me\"],[\"Tuxedo\",\"Do It\"],[\"Disclosure\",\"Holding On - Radio Edit\"],[\"AFROJACK\",\"SummerThing!\"],[\"BIGBANG\",\"LOSER\"],[\"Aimer\",\"Brave Shine\"],[\"8.6\\u79d2\\u30d0\\u30ba\\u30fc\\u30ab\\u30fc\",\"\\u30e9\\u30c3\\u30b9\\u30f3\\u30b4\\u30ec\\u30e9\\u30a4\"]],\"hovertemplate\":\"\\u003cb\\u003e%{hovertext}\\u003c\\u002fb\\u003e\\u003cbr\\u003e\\u003cbr\\u003e\\u5e74\\u4ee3=2015\\u003cbr\\u003e\\u7b2c\\u4e00\\u4e3b\\u6210\\u5206=%{x}\\u003cbr\\u003e\\u7b2c\\u4e8c\\u4e3b\\u6210\\u5206=%{y}\\u003cbr\\u003e\\u30a2\\u30fc\\u30c6\\u30a3\\u30b9\\u30c8\\u540d=%{customdata[0]}\\u003cbr\\u003e\\u30c8\\u30e9\\u30c3\\u30af\\u540d=%{customdata[1]}\\u003cextra\\u003e\\u003c\\u002fextra\\u003e\",\"hovertext\":[\"2015\",\"2015\",\"2015\",\"2015\",\"2015\",\"2015\",\"2015\",\"2015\",\"2015\",\"2015\",\"2015\",\"2015\",\"2015\",\"2015\",\"2015\",\"2015\",\"2015\",\"2015\",\"2015\",\"2015\",\"2015\",\"2015\",\"2015\",\"2015\",\"2015\",\"2015\",\"2015\",\"2015\",\"2015\",\"2015\",\"2015\",\"2015\",\"2015\",\"2015\",\"2015\",\"2015\",\"2015\",\"2015\",\"2015\",\"2015\",\"2015\",\"2015\",\"2015\",\"2015\",\"2015\",\"2015\",\"2015\",\"2015\",\"2015\",\"2015\",\"2015\",\"2015\",\"2015\",\"2015\",\"2015\",\"2015\",\"2015\",\"2015\",\"2015\",\"2015\",\"2015\",\"2015\",\"2015\",\"2015\",\"2015\",\"2015\",\"2015\",\"2015\",\"2015\",\"2015\",\"2015\",\"2015\",\"2015\",\"2015\",\"2015\",\"2015\",\"2015\",\"2015\",\"2015\",\"2015\",\"2015\",\"2015\",\"2015\",\"2015\",\"2015\",\"2015\",\"2015\",\"2015\",\"2015\",\"2015\",\"2015\",\"2015\",\"2015\",\"2015\",\"2015\",\"2015\",\"2015\",\"2015\",\"2015\"],\"legendgroup\":\"2015\",\"marker\":{\"color\":\"#19d3f3\",\"symbol\":\"circle\"},\"mode\":\"markers\",\"name\":\"2015\",\"orientation\":\"v\",\"showlegend\":true,\"x\":[42.738929748535156,23.507793426513672,24.792879104614258,40.09564971923828,-36.34626388549805,50.32957458496094,-10.033823013305664,-53.783897399902344,7.935535430908203,7.782834529876709,2.2451796531677246,6.596364974975586,-22.544174194335938,20.04581069946289,-18.360153198242188,21.166128158569336,17.40377426147461,-22.336490631103516,-55.52180480957031,-53.75471496582031,-52.81101989746094,-30.568645477294922,-42.8537712097168,17.01457405090332,38.326499938964844,-23.27029800415039,25.867198944091797,28.625551223754883,47.85966491699219,-2.523057222366333,36.514808654785156,-30.754962921142578,39.979434967041016,28.318208694458008,7.675807952880859,-23.413055419921875,-54.78535842895508,-11.064618110656738,13.764113426208496,57.736106872558594,53.92303466796875,49.370933532714844,6.401745796203613,56.9901123046875,35.414791107177734,-11.318709373474121,-18.39876365661621,-36.328189849853516,-14.932854652404785,-31.2225399017334,17.752601623535156,32.5238151550293,14.01871395111084,27.431386947631836,-31.665822982788086,8.938003540039062,-23.07372283935547,-55.23044204711914,-2.900763750076294,-43.72519302368164,-33.67495346069336,-15.470457077026367,-7.233293056488037,-16.693281173706055,25.84821891784668,-7.757070064544678,-3.073521614074707,-50.697872161865234,-33.663333892822266,-1.218612790107727,-38.97893524169922,16.091812133789062,42.68338394165039,15.20175838470459,14.720024108886719,16.218717575073242,-10.941312789916992,-41.90221405029297,-45.03276062011719,-44.87921905517578,-37.570167541503906,-30.226213455200195,14.165337562561035,59.3761100769043,-3.3687586784362793,50.35059356689453,32.74041748046875,-34.27723693847656,-33.85398864746094,-20.89692497253418,32.672630310058594,-46.26755142211914,-11.304349899291992,-3.589134454727173,6.459718704223633,16.023042678833008,-43.57726287841797,51.398658752441406,48.754852294921875],\"xaxis\":\"x\",\"y\":[3.0962424278259277,-4.609911918640137,-4.492730617523193,2.126000165939331,4.825045108795166,3.6199679374694824,0.5685577988624573,-0.7597606182098389,-1.9432144165039062,-5.6330108642578125,-4.894870758056641,-6.472986698150635,6.024819374084473,-6.125430107116699,3.543940782546997,-5.634591102600098,-7.447658538818359,5.746375560760498,-0.5760633945465088,-0.8115599751472473,-1.1681251525878906,1.2677289247512817,2.2597978115081787,-7.470769882202148,0.5978963971138,5.0076904296875,-4.3509202003479,-3.6168603897094727,3.776838541030884,-2.865463972091675,2.54103946685791,2.438504695892334,2.9433257579803467,-1.96842360496521,-6.916574001312256,4.260060787200928,-0.3290977478027344,-1.7365422248840332,-7.030713081359863,3.6736888885498047,4.009937286376953,3.5638434886932373,-4.616808891296387,3.490124225616455,2.154099464416504,-2.3602960109710693,1.481711983680725,5.028756141662598,1.4818662405014038,5.272603511810303,-7.916841506958008,-0.2690815329551697,-7.484424114227295,-1.3997750282287598,6.634496212005615,-5.346270561218262,6.000142574310303,-1.362082839012146,-9.147682189941406,4.640832424163818,6.937627792358398,0.4943675100803375,-1.7853120565414429,2.282233238220215,-4.144543647766113,-3.178933620452881,-6.676292419433594,0.5942448377609253,5.370784282684326,-2.3434863090515137,4.861670017242432,-5.0235724449157715,3.3931617736816406,-6.978511810302734,-5.427330493927002,-5.462909698486328,0.3949989378452301,3.946526050567627,1.9241876602172852,2.5080296993255615,4.378617763519287,2.7738823890686035,-7.742879867553711,3.679213047027588,-7.570821762084961,4.259237289428711,-0.5892332792282104,7.026335716247559,5.0397515296936035,3.763561725616455,-0.3377602994441986,1.9725393056869507,-0.37148013710975647,-6.403613567352295,-5.5083136558532715,-4.696444988250732,3.746330499649048,3.4801552295684814,4.423574924468994],\"yaxis\":\"y\",\"type\":\"scatter\"}],                        {\"template\":{\"data\":{\"histogram2dcontour\":[{\"type\":\"histogram2dcontour\",\"colorbar\":{\"outlinewidth\":0,\"ticks\":\"\"},\"colorscale\":[[0.0,\"#0d0887\"],[0.1111111111111111,\"#46039f\"],[0.2222222222222222,\"#7201a8\"],[0.3333333333333333,\"#9c179e\"],[0.4444444444444444,\"#bd3786\"],[0.5555555555555556,\"#d8576b\"],[0.6666666666666666,\"#ed7953\"],[0.7777777777777778,\"#fb9f3a\"],[0.8888888888888888,\"#fdca26\"],[1.0,\"#f0f921\"]]}],\"choropleth\":[{\"type\":\"choropleth\",\"colorbar\":{\"outlinewidth\":0,\"ticks\":\"\"}}],\"histogram2d\":[{\"type\":\"histogram2d\",\"colorbar\":{\"outlinewidth\":0,\"ticks\":\"\"},\"colorscale\":[[0.0,\"#0d0887\"],[0.1111111111111111,\"#46039f\"],[0.2222222222222222,\"#7201a8\"],[0.3333333333333333,\"#9c179e\"],[0.4444444444444444,\"#bd3786\"],[0.5555555555555556,\"#d8576b\"],[0.6666666666666666,\"#ed7953\"],[0.7777777777777778,\"#fb9f3a\"],[0.8888888888888888,\"#fdca26\"],[1.0,\"#f0f921\"]]}],\"heatmap\":[{\"type\":\"heatmap\",\"colorbar\":{\"outlinewidth\":0,\"ticks\":\"\"},\"colorscale\":[[0.0,\"#0d0887\"],[0.1111111111111111,\"#46039f\"],[0.2222222222222222,\"#7201a8\"],[0.3333333333333333,\"#9c179e\"],[0.4444444444444444,\"#bd3786\"],[0.5555555555555556,\"#d8576b\"],[0.6666666666666666,\"#ed7953\"],[0.7777777777777778,\"#fb9f3a\"],[0.8888888888888888,\"#fdca26\"],[1.0,\"#f0f921\"]]}],\"heatmapgl\":[{\"type\":\"heatmapgl\",\"colorbar\":{\"outlinewidth\":0,\"ticks\":\"\"},\"colorscale\":[[0.0,\"#0d0887\"],[0.1111111111111111,\"#46039f\"],[0.2222222222222222,\"#7201a8\"],[0.3333333333333333,\"#9c179e\"],[0.4444444444444444,\"#bd3786\"],[0.5555555555555556,\"#d8576b\"],[0.6666666666666666,\"#ed7953\"],[0.7777777777777778,\"#fb9f3a\"],[0.8888888888888888,\"#fdca26\"],[1.0,\"#f0f921\"]]}],\"contourcarpet\":[{\"type\":\"contourcarpet\",\"colorbar\":{\"outlinewidth\":0,\"ticks\":\"\"}}],\"contour\":[{\"type\":\"contour\",\"colorbar\":{\"outlinewidth\":0,\"ticks\":\"\"},\"colorscale\":[[0.0,\"#0d0887\"],[0.1111111111111111,\"#46039f\"],[0.2222222222222222,\"#7201a8\"],[0.3333333333333333,\"#9c179e\"],[0.4444444444444444,\"#bd3786\"],[0.5555555555555556,\"#d8576b\"],[0.6666666666666666,\"#ed7953\"],[0.7777777777777778,\"#fb9f3a\"],[0.8888888888888888,\"#fdca26\"],[1.0,\"#f0f921\"]]}],\"surface\":[{\"type\":\"surface\",\"colorbar\":{\"outlinewidth\":0,\"ticks\":\"\"},\"colorscale\":[[0.0,\"#0d0887\"],[0.1111111111111111,\"#46039f\"],[0.2222222222222222,\"#7201a8\"],[0.3333333333333333,\"#9c179e\"],[0.4444444444444444,\"#bd3786\"],[0.5555555555555556,\"#d8576b\"],[0.6666666666666666,\"#ed7953\"],[0.7777777777777778,\"#fb9f3a\"],[0.8888888888888888,\"#fdca26\"],[1.0,\"#f0f921\"]]}],\"mesh3d\":[{\"type\":\"mesh3d\",\"colorbar\":{\"outlinewidth\":0,\"ticks\":\"\"}}],\"scatter\":[{\"fillpattern\":{\"fillmode\":\"overlay\",\"size\":10,\"solidity\":0.2},\"type\":\"scatter\"}],\"parcoords\":[{\"type\":\"parcoords\",\"line\":{\"colorbar\":{\"outlinewidth\":0,\"ticks\":\"\"}}}],\"scatterpolargl\":[{\"type\":\"scatterpolargl\",\"marker\":{\"colorbar\":{\"outlinewidth\":0,\"ticks\":\"\"}}}],\"bar\":[{\"error_x\":{\"color\":\"#2a3f5f\"},\"error_y\":{\"color\":\"#2a3f5f\"},\"marker\":{\"line\":{\"color\":\"#E5ECF6\",\"width\":0.5},\"pattern\":{\"fillmode\":\"overlay\",\"size\":10,\"solidity\":0.2}},\"type\":\"bar\"}],\"scattergeo\":[{\"type\":\"scattergeo\",\"marker\":{\"colorbar\":{\"outlinewidth\":0,\"ticks\":\"\"}}}],\"scatterpolar\":[{\"type\":\"scatterpolar\",\"marker\":{\"colorbar\":{\"outlinewidth\":0,\"ticks\":\"\"}}}],\"histogram\":[{\"marker\":{\"pattern\":{\"fillmode\":\"overlay\",\"size\":10,\"solidity\":0.2}},\"type\":\"histogram\"}],\"scattergl\":[{\"type\":\"scattergl\",\"marker\":{\"colorbar\":{\"outlinewidth\":0,\"ticks\":\"\"}}}],\"scatter3d\":[{\"type\":\"scatter3d\",\"line\":{\"colorbar\":{\"outlinewidth\":0,\"ticks\":\"\"}},\"marker\":{\"colorbar\":{\"outlinewidth\":0,\"ticks\":\"\"}}}],\"scattermapbox\":[{\"type\":\"scattermapbox\",\"marker\":{\"colorbar\":{\"outlinewidth\":0,\"ticks\":\"\"}}}],\"scatterternary\":[{\"type\":\"scatterternary\",\"marker\":{\"colorbar\":{\"outlinewidth\":0,\"ticks\":\"\"}}}],\"scattercarpet\":[{\"type\":\"scattercarpet\",\"marker\":{\"colorbar\":{\"outlinewidth\":0,\"ticks\":\"\"}}}],\"carpet\":[{\"aaxis\":{\"endlinecolor\":\"#2a3f5f\",\"gridcolor\":\"white\",\"linecolor\":\"white\",\"minorgridcolor\":\"white\",\"startlinecolor\":\"#2a3f5f\"},\"baxis\":{\"endlinecolor\":\"#2a3f5f\",\"gridcolor\":\"white\",\"linecolor\":\"white\",\"minorgridcolor\":\"white\",\"startlinecolor\":\"#2a3f5f\"},\"type\":\"carpet\"}],\"table\":[{\"cells\":{\"fill\":{\"color\":\"#EBF0F8\"},\"line\":{\"color\":\"white\"}},\"header\":{\"fill\":{\"color\":\"#C8D4E3\"},\"line\":{\"color\":\"white\"}},\"type\":\"table\"}],\"barpolar\":[{\"marker\":{\"line\":{\"color\":\"#E5ECF6\",\"width\":0.5},\"pattern\":{\"fillmode\":\"overlay\",\"size\":10,\"solidity\":0.2}},\"type\":\"barpolar\"}],\"pie\":[{\"automargin\":true,\"type\":\"pie\"}]},\"layout\":{\"autotypenumbers\":\"strict\",\"colorway\":[\"#636efa\",\"#EF553B\",\"#00cc96\",\"#ab63fa\",\"#FFA15A\",\"#19d3f3\",\"#FF6692\",\"#B6E880\",\"#FF97FF\",\"#FECB52\"],\"font\":{\"color\":\"#2a3f5f\"},\"hovermode\":\"closest\",\"hoverlabel\":{\"align\":\"left\"},\"paper_bgcolor\":\"white\",\"plot_bgcolor\":\"#E5ECF6\",\"polar\":{\"bgcolor\":\"#E5ECF6\",\"angularaxis\":{\"gridcolor\":\"white\",\"linecolor\":\"white\",\"ticks\":\"\"},\"radialaxis\":{\"gridcolor\":\"white\",\"linecolor\":\"white\",\"ticks\":\"\"}},\"ternary\":{\"bgcolor\":\"#E5ECF6\",\"aaxis\":{\"gridcolor\":\"white\",\"linecolor\":\"white\",\"ticks\":\"\"},\"baxis\":{\"gridcolor\":\"white\",\"linecolor\":\"white\",\"ticks\":\"\"},\"caxis\":{\"gridcolor\":\"white\",\"linecolor\":\"white\",\"ticks\":\"\"}},\"coloraxis\":{\"colorbar\":{\"outlinewidth\":0,\"ticks\":\"\"}},\"colorscale\":{\"sequential\":[[0.0,\"#0d0887\"],[0.1111111111111111,\"#46039f\"],[0.2222222222222222,\"#7201a8\"],[0.3333333333333333,\"#9c179e\"],[0.4444444444444444,\"#bd3786\"],[0.5555555555555556,\"#d8576b\"],[0.6666666666666666,\"#ed7953\"],[0.7777777777777778,\"#fb9f3a\"],[0.8888888888888888,\"#fdca26\"],[1.0,\"#f0f921\"]],\"sequentialminus\":[[0.0,\"#0d0887\"],[0.1111111111111111,\"#46039f\"],[0.2222222222222222,\"#7201a8\"],[0.3333333333333333,\"#9c179e\"],[0.4444444444444444,\"#bd3786\"],[0.5555555555555556,\"#d8576b\"],[0.6666666666666666,\"#ed7953\"],[0.7777777777777778,\"#fb9f3a\"],[0.8888888888888888,\"#fdca26\"],[1.0,\"#f0f921\"]],\"diverging\":[[0,\"#8e0152\"],[0.1,\"#c51b7d\"],[0.2,\"#de77ae\"],[0.3,\"#f1b6da\"],[0.4,\"#fde0ef\"],[0.5,\"#f7f7f7\"],[0.6,\"#e6f5d0\"],[0.7,\"#b8e186\"],[0.8,\"#7fbc41\"],[0.9,\"#4d9221\"],[1,\"#276419\"]]},\"xaxis\":{\"gridcolor\":\"white\",\"linecolor\":\"white\",\"ticks\":\"\",\"title\":{\"standoff\":15},\"zerolinecolor\":\"white\",\"automargin\":true,\"zerolinewidth\":2},\"yaxis\":{\"gridcolor\":\"white\",\"linecolor\":\"white\",\"ticks\":\"\",\"title\":{\"standoff\":15},\"zerolinecolor\":\"white\",\"automargin\":true,\"zerolinewidth\":2},\"scene\":{\"xaxis\":{\"backgroundcolor\":\"#E5ECF6\",\"gridcolor\":\"white\",\"linecolor\":\"white\",\"showbackground\":true,\"ticks\":\"\",\"zerolinecolor\":\"white\",\"gridwidth\":2},\"yaxis\":{\"backgroundcolor\":\"#E5ECF6\",\"gridcolor\":\"white\",\"linecolor\":\"white\",\"showbackground\":true,\"ticks\":\"\",\"zerolinecolor\":\"white\",\"gridwidth\":2},\"zaxis\":{\"backgroundcolor\":\"#E5ECF6\",\"gridcolor\":\"white\",\"linecolor\":\"white\",\"showbackground\":true,\"ticks\":\"\",\"zerolinecolor\":\"white\",\"gridwidth\":2}},\"shapedefaults\":{\"line\":{\"color\":\"#2a3f5f\"}},\"annotationdefaults\":{\"arrowcolor\":\"#2a3f5f\",\"arrowhead\":0,\"arrowwidth\":1},\"geo\":{\"bgcolor\":\"white\",\"landcolor\":\"#E5ECF6\",\"subunitcolor\":\"white\",\"showland\":true,\"showlakes\":true,\"lakecolor\":\"white\"},\"title\":{\"x\":0.05},\"mapbox\":{\"style\":\"light\"}}},\"xaxis\":{\"anchor\":\"y\",\"domain\":[0.0,1.0],\"title\":{\"text\":\"\\u7b2c\\u4e00\\u4e3b\\u6210\\u5206\"}},\"yaxis\":{\"anchor\":\"x\",\"domain\":[0.0,1.0],\"title\":{\"text\":\"\\u7b2c\\u4e8c\\u4e3b\\u6210\\u5206\"}},\"legend\":{\"title\":{\"text\":\"\\u5e74\\u4ee3\"},\"tracegroupgap\":0},\"margin\":{\"t\":60}},                        {\"responsive\": true}                    ).then(function(){\n",
       "                            \n",
       "var gd = document.getElementById('28028bfd-7b99-4acb-b692-6d02743d13e6');\n",
       "var x = new MutationObserver(function (mutations, observer) {{\n",
       "        var display = window.getComputedStyle(gd).display;\n",
       "        if (!display || display === 'none') {{\n",
       "            console.log([gd, 'removed!']);\n",
       "            Plotly.purge(gd);\n",
       "            observer.disconnect();\n",
       "        }}\n",
       "}});\n",
       "\n",
       "// Listen for the removal of the full notebook cells\n",
       "var notebookContainer = gd.closest('#notebook-container');\n",
       "if (notebookContainer) {{\n",
       "    x.observe(notebookContainer, {childList: true});\n",
       "}}\n",
       "\n",
       "// Listen for the clearing of the current output cell\n",
       "var outputEl = gd.closest('.output');\n",
       "if (outputEl) {{\n",
       "    x.observe(outputEl, {childList: true});\n",
       "}}\n",
       "\n",
       "                        })                };                });            </script>        </div>"
      ]
     },
     "metadata": {},
     "output_type": "display_data"
    }
   ],
   "source": [
    "px.scatter(\n",
    "    Y,\n",
    "    x=\"第一主成分\",\n",
    "    y=\"第二主成分\",\n",
    "    hover_name=\"年代\",\n",
    "    hover_data=[\"アーティスト名\", \"トラック名\"],\n",
    "    color=\"年代\",\n",
    ")"
   ]
  },
  {
   "cell_type": "code",
   "execution_count": null,
   "id": "036526e1-741f-478a-9933-50ceea4a7fb6",
   "metadata": {},
   "outputs": [],
   "source": []
  }
 ],
 "metadata": {
  "kernelspec": {
   "display_name": "Python 3 (ipykernel)",
   "language": "python",
   "name": "python3"
  },
  "language_info": {
   "codemirror_mode": {
    "name": "ipython",
    "version": 3
   },
   "file_extension": ".py",
   "mimetype": "text/x-python",
   "name": "python",
   "nbconvert_exporter": "python",
   "pygments_lexer": "ipython3",
   "version": "3.10.4"
  }
 },
 "nbformat": 4,
 "nbformat_minor": 5
}
